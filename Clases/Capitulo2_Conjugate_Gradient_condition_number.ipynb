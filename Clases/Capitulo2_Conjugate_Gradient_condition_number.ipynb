{
 "cells": [
  {
   "cell_type": "markdown",
   "id": "2169bb5e",
   "metadata": {},
   "source": [
    "<hr style=\"border:2px solid #808080\"> </hr>\n",
    "<center><h1 style=\"color:#03122E;\"> Álgebra Lineal Numérica IMT2111</h1></center>\n",
    "<center><h1 style=\"color:#173F8A;\"> Capítulo 2</h3></center>\n",
    "<center><h1 style=\"color:#0176DE;\"> Prof. Manuel A. Sánchez</h3></center>\n",
    "<hr style=\"border:2px solid #808080\"> </hr>"
   ]
  },
  {
   "cell_type": "code",
   "execution_count": 1,
   "id": "354fd000",
   "metadata": {},
   "outputs": [],
   "source": [
    "from ngsolve import *\n",
    "from ngsolve.webgui import Draw\n",
    "from ngsolve.la import EigenValues_Preconditioner\n",
    "import matplotlib.pyplot as plt\n",
    "import numpy as np"
   ]
  },
  {
   "cell_type": "markdown",
   "id": "daa76ec1",
   "metadata": {},
   "source": [
    "## TEST 1: Model Problem the $L^2$ projection\n",
    "\n",
    "We will test the algorithm with the solution of $L^2$ projection onto the space of continuous piecewise linear functions in $(0,1)^2$ of a function\n",
    "$$ f= \\sin(\\pi(x-y)) $$ "
   ]
  },
  {
   "cell_type": "code",
   "execution_count": 10,
   "id": "b0d367d2",
   "metadata": {},
   "outputs": [
    {
     "data": {
      "application/vnd.jupyter.widget-view+json": {
       "model_id": "70b839bbd67a4261aba495ed6d460e2e",
       "version_major": 2,
       "version_minor": 0
      },
      "text/plain": [
       "WebGuiWidget(layout=Layout(height='50vh', width='100%'), value={'gui_settings': {}, 'ngsolve_version': '6.2.23…"
      ]
     },
     "metadata": {},
     "output_type": "display_data"
    },
    {
     "data": {
      "text/plain": [
       "BaseWebGuiScene"
      ]
     },
     "execution_count": 10,
     "metadata": {},
     "output_type": "execute_result"
    }
   ],
   "source": [
    "# Solution\n",
    "mesh = Mesh(unit_square.GenerateMesh(maxh=0.05))\n",
    "fes = H1(mesh, order=1)\n",
    "u, v = fes.TnT()\n",
    "a = BilinearForm(u*v*dx).Assemble()\n",
    "f = sin(2*pi*(x-y))*cos(2*pi*(x+y))\n",
    "b = LinearForm(f*v*dx).Assemble()\n",
    "gfu = GridFunction(fes)\n",
    "gfu.vec.data = a.mat.Inverse(freedofs=fes.FreeDofs())*b.vec\n",
    "Draw(gfu)"
   ]
  },
  {
   "cell_type": "code",
   "execution_count": 3,
   "id": "52bc5ce9",
   "metadata": {},
   "outputs": [],
   "source": [
    "def SetL2Proj(mesh, fun=1,p=1, condense=False):\n",
    "    # H1-conforming Finite Element Space\n",
    "    fes = H1(mesh, order=p)\n",
    "    # Trial and Test Functions\n",
    "    u, v = fes.TnT()\n",
    "    # Bilinear form \n",
    "    a = BilinearForm(fes, symmetric=True, condense=condense)\n",
    "    a += (u*v)*dx \n",
    "    # Linear form\n",
    "    b = LinearForm(fun*v*dx)\n",
    "    # Gridfunction\n",
    "    gfu = GridFunction(fes)\n",
    "    return fes, a, b, gfu"
   ]
  },
  {
   "cell_type": "code",
   "execution_count": 4,
   "id": "3ab97439",
   "metadata": {},
   "outputs": [],
   "source": [
    "def SolveL2ProjDirect(a, b, gfu, fes, condense=False):\n",
    "    a.Assemble()\n",
    "    b.Assemble()\n",
    "    # Direct solver\n",
    "    inv = a.mat.Inverse(freedofs=fes.FreeDofs(coupling=condense))\n",
    "    # Solve steps depend on condense\n",
    "    if condense:\n",
    "        b.vec.data += a.harmonic_extension_trans * b.vec\n",
    "        gfu.vec.data = inv * b.vec\n",
    "        gfu.vec.data += a.harmonic_extension * gfu.vec\n",
    "        gfu.vec.data += a.inner_solve * b.vec\n",
    "    else: \n",
    "        gfu.vec.data = inv * b.vec\n",
    "    return gfu, fes.ndof"
   ]
  },
  {
   "cell_type": "code",
   "execution_count": 5,
   "id": "1dcd9c78",
   "metadata": {},
   "outputs": [],
   "source": [
    "def SolveL2ProjIterativeCG(a, b, gfu, fes, condense=False, compute_condnum=False):\n",
    "    a.Assemble()\n",
    "    b.Assemble()\n",
    "    preI = Projector(mask=fes.FreeDofs(coupling=condense), range=True)\n",
    "    inv = CGSolver(a.mat, pre=preI, maxsteps=10000)\n",
    "    \n",
    "    # Solve steps depend on condense\n",
    "    if condense:\n",
    "        b.vec.data += a.harmonic_extension_trans * b.vec\n",
    "        gfu.vec.data = inv * b.vec\n",
    "        gfu.vec.data += a.harmonic_extension * gfu.vec\n",
    "        gfu.vec.data += a.inner_solve * b.vec\n",
    "    else: \n",
    "        gfu.vec.data = inv * b.vec\n",
    "    if compute_condnum is False:\n",
    "        return gfu, inv.GetSteps()\n",
    "    else:\n",
    "        lams = EigenValues_Preconditioner(mat=a.mat, pre=preI)\n",
    "        kappa = max(lams)/min(lams)\n",
    "        return gfu, ((inv.GetSteps(), kappa))"
   ]
  },
  {
   "cell_type": "markdown",
   "id": "6787b8fc",
   "metadata": {},
   "source": [
    "### Test 1: parameters"
   ]
  },
  {
   "cell_type": "code",
   "execution_count": 6,
   "id": "29cf3838",
   "metadata": {},
   "outputs": [],
   "source": [
    "# parametros\n",
    "paramt1 = dict()\n",
    "paramt1['h'] = 0.05\n",
    "paramt1['f'] = sin(2*pi*(x-y))*cos(2*pi*(x+y))\n",
    "paramt1['p'] = 1\n",
    "paramt1['levels'] = 7 # <=8 for p=1\n",
    "paramt1['h0'] = 0.05\n",
    "paramt1['condense'] = False"
   ]
  },
  {
   "cell_type": "code",
   "execution_count": 7,
   "id": "a77e1fd3",
   "metadata": {},
   "outputs": [
    {
     "name": "stdout",
     "output_type": "stream",
     "text": [
      "number steps of CG iteration: (28, 18.397677306712737)\n"
     ]
    }
   ],
   "source": [
    "mesh = Mesh(unit_square.GenerateMesh(maxh=paramt1['h']))\n",
    "fes, a, b, gfu = SetL2Proj(mesh, p=paramt1['p'], fun=paramt1['f'], condense=paramt1['condense'])\n",
    "gfu_direct, steps = SolveL2ProjDirect(a, b, gfu, fes, condense=paramt1['condense'])\n",
    "gfu_cg, steps = SolveL2ProjIterativeCG(a, b, gfu, fes, condense=paramt1['condense'], compute_condnum=True)\n",
    "print(f\"number steps of CG iteration: {steps}\")"
   ]
  },
  {
   "cell_type": "code",
   "execution_count": 8,
   "id": "63f6e69c",
   "metadata": {},
   "outputs": [
    {
     "data": {
      "application/vnd.jupyter.widget-view+json": {
       "model_id": "17e7abb4bcdd4ebabb1a44f2f72d9e69",
       "version_major": 2,
       "version_minor": 0
      },
      "text/plain": [
       "WebGuiWidget(layout=Layout(height='50vh', width='100%'), value={'gui_settings': {}, 'ngsolve_version': '6.2.23…"
      ]
     },
     "metadata": {},
     "output_type": "display_data"
    },
    {
     "data": {
      "application/vnd.jupyter.widget-view+json": {
       "model_id": "b4f0c872ca2b483d89dd1c1ffad0cea9",
       "version_major": 2,
       "version_minor": 0
      },
      "text/plain": [
       "WebGuiWidget(layout=Layout(height='50vh', width='100%'), value={'gui_settings': {}, 'ngsolve_version': '6.2.23…"
      ]
     },
     "metadata": {},
     "output_type": "display_data"
    },
    {
     "data": {
      "text/plain": [
       "BaseWebGuiScene"
      ]
     },
     "execution_count": 8,
     "metadata": {},
     "output_type": "execute_result"
    }
   ],
   "source": [
    "Draw(gfu_direct)\n",
    "Draw(gfu_cg)"
   ]
  },
  {
   "cell_type": "code",
   "execution_count": 9,
   "id": "1769ceb7",
   "metadata": {},
   "outputs": [
    {
     "name": "stdout",
     "output_type": "stream",
     "text": [
      "ndof = 508, time = 0.015578508377075195\n",
      "ndof = 1949, time = 0.04075264930725098\n",
      "ndof = 7633, time = 0.031242847442626953\n",
      "ndof = 30209, time = 0.1412520408630371\n",
      "ndof = 120193, time = 0.456770658493042\n",
      "ndof = 479489, time = 2.773268938064575\n",
      "ndof = 1915393, time = 24.603032112121582\n"
     ]
    }
   ],
   "source": [
    "from time import time\n",
    "\n",
    "def SolveL2ProjDirect_levels(h, levels, condense=False):\n",
    "    mesh = Mesh(unit_square.GenerateMesh(maxh=h))\n",
    "    fes, a, b, gfu = SetL2Proj(mesh, p=paramt1['p'], fun=paramt1['f'], condense=condense)\n",
    "    steps = []\n",
    "    for l in range(levels):\n",
    "        if l > 0: mesh.Refine()\n",
    "        fes.Update()\n",
    "        gfu.Update()\n",
    "        with TaskManager():\n",
    "            start = time()\n",
    "            SolveL2ProjDirect(a, b, gfu, fes, condense=condense)\n",
    "        print (f\"ndof = {fes.ndof}, time = {time()-start}\")\n",
    "        steps.append ( (fes.ndof, time()-start) )\n",
    "    return gfu, steps\n",
    "\n",
    "_, time_direct = SolveL2ProjDirect_levels(h=paramt1['h0'], levels=paramt1['levels'], condense=paramt1['condense'])"
   ]
  },
  {
   "cell_type": "code",
   "execution_count": 10,
   "id": "4fcaf11c",
   "metadata": {},
   "outputs": [
    {
     "name": "stdout",
     "output_type": "stream",
     "text": [
      "ndof = 508, time = 0.0, steps = 28\n",
      "ndof = 1949, time = 0.0, steps = 32\n",
      "ndof = 7633, time = 0.0, steps = 35\n",
      "ndof = 30209, time = 0.03124260902404785, steps = 38\n",
      "ndof = 120193, time = 0.17829203605651855, steps = 38\n",
      "ndof = 479489, time = 0.9352214336395264, steps = 39\n",
      "ndof = 1915393, time = 2.951247453689575, steps = 39\n"
     ]
    }
   ],
   "source": [
    "def SolveL2ProjIterativeCG_levels(h, levels, condense=False, compute_condnum=False):\n",
    "    mesh = Mesh(unit_square.GenerateMesh(maxh=h))\n",
    "    fes, a, b, gfu = SetL2Proj(mesh, p=paramt1['p'], fun=paramt1['f'], condense=condense)\n",
    "    tiempo = []\n",
    "    steps = []\n",
    "    for l in range(levels):\n",
    "        if l > 0: mesh.Refine()\n",
    "        fes.Update()\n",
    "        gfu.Update()\n",
    "        with TaskManager():\n",
    "            start = time()\n",
    "            \n",
    "            gfu, invsteps = SolveL2ProjIterativeCG(a, b, gfu, fes, condense=condense, compute_condnum=compute_condnum)\n",
    "            print (f\"ndof = {fes.ndof}, time = {time()-start}, steps = {invsteps}\")\n",
    "            tiempo.append ( (fes.ndof, time()-start ))\n",
    "        steps.append ( (fes.ndof, invsteps ))\n",
    "    return gfu, tiempo, steps\n",
    "\n",
    "_, time_cg, steps = SolveL2ProjIterativeCG_levels(h=paramt1['h0'], levels=paramt1['levels'], condense=paramt1['condense'], compute_condnum=False)"
   ]
  },
  {
   "cell_type": "code",
   "execution_count": 11,
   "id": "c02b6e35",
   "metadata": {},
   "outputs": [
    {
     "data": {
      "image/png": "[encoded data removed]",
      "text/plain": [
       "<Figure size 640x480 with 1 Axes>"
      ]
     },
     "metadata": {},
     "output_type": "display_data"
    }
   ],
   "source": [
    "plt.xscale(\"log\")\n",
    "plt.yscale(\"log\")\n",
    "plt.plot(*zip(*time_direct), \"-*\")\n",
    "plt.plot(*zip(*time_cg), \"-+\")\n",
    "plt.legend(['Direct', 'Iterative CG'])\n",
    "plt.xlabel('N. dof')\n",
    "plt.ylabel('time exec.')\n",
    "# plt.savefig('03_Module_Test1.png')\n",
    "plt.show()\n",
    "\n",
    "# from IPython.display import Image\n",
    "# Image(filename='03_Module_Test1.png') "
   ]
  },
  {
   "cell_type": "code",
   "execution_count": 31,
   "id": "ab17c547",
   "metadata": {},
   "outputs": [
    {
     "name": "stdout",
     "output_type": "stream",
     "text": [
      "ndof = 508, time = 0.013055086135864258, steps = (28, 18.748877194835003)\n",
      "ndof = 1949, time = 0.004985332489013672, steps = (32, 19.323509186693443)\n",
      "ndof = 7633, time = 0.013057231903076172, steps = (35, 22.16554856051253)\n",
      "ndof = 30209, time = 0.0402529239654541, steps = (38, 20.939352467609535)\n",
      "ndof = 120193, time = 0.18178057670593262, steps = (38, 21.844111646744263)\n",
      "ndof = 479489, time = 0.8869023323059082, steps = (39, 19.92026571866541)\n",
      "ndof = 1915393, time = 4.408447980880737, steps = (39, 20.181013162883062)\n"
     ]
    },
    {
     "data": {
      "text/html": [
       "<div>\n",
       "<style scoped>\n",
       "    .dataframe tbody tr th:only-of-type {\n",
       "        vertical-align: middle;\n",
       "    }\n",
       "\n",
       "    .dataframe tbody tr th {\n",
       "        vertical-align: top;\n",
       "    }\n",
       "\n",
       "    .dataframe thead th {\n",
       "        text-align: right;\n",
       "    }\n",
       "</style>\n",
       "<table border=\"1\" class=\"dataframe\">\n",
       "  <thead>\n",
       "    <tr style=\"text-align: right;\">\n",
       "      <th></th>\n",
       "      <th>ndof</th>\n",
       "      <th>time</th>\n",
       "      <th>Condition number</th>\n",
       "      <th>number of CG iterations</th>\n",
       "    </tr>\n",
       "  </thead>\n",
       "  <tbody>\n",
       "    <tr>\n",
       "      <th>0</th>\n",
       "      <td>508</td>\n",
       "      <td>0.036627</td>\n",
       "      <td>18.748877</td>\n",
       "      <td>28</td>\n",
       "    </tr>\n",
       "    <tr>\n",
       "      <th>1</th>\n",
       "      <td>1949</td>\n",
       "      <td>0.002993</td>\n",
       "      <td>19.323509</td>\n",
       "      <td>32</td>\n",
       "    </tr>\n",
       "    <tr>\n",
       "      <th>2</th>\n",
       "      <td>7633</td>\n",
       "      <td>0.008974</td>\n",
       "      <td>22.165549</td>\n",
       "      <td>35</td>\n",
       "    </tr>\n",
       "    <tr>\n",
       "      <th>3</th>\n",
       "      <td>30209</td>\n",
       "      <td>0.034086</td>\n",
       "      <td>20.939352</td>\n",
       "      <td>38</td>\n",
       "    </tr>\n",
       "    <tr>\n",
       "      <th>4</th>\n",
       "      <td>120193</td>\n",
       "      <td>0.251893</td>\n",
       "      <td>21.844112</td>\n",
       "      <td>38</td>\n",
       "    </tr>\n",
       "    <tr>\n",
       "      <th>5</th>\n",
       "      <td>479489</td>\n",
       "      <td>0.660736</td>\n",
       "      <td>19.920266</td>\n",
       "      <td>39</td>\n",
       "    </tr>\n",
       "    <tr>\n",
       "      <th>6</th>\n",
       "      <td>1915393</td>\n",
       "      <td>3.202524</td>\n",
       "      <td>20.181013</td>\n",
       "      <td>39</td>\n",
       "    </tr>\n",
       "  </tbody>\n",
       "</table>\n",
       "</div>"
      ],
      "text/plain": [
       "      ndof      time  Condition number  number of CG iterations\n",
       "0      508  0.036627         18.748877                       28\n",
       "1     1949  0.002993         19.323509                       32\n",
       "2     7633  0.008974         22.165549                       35\n",
       "3    30209  0.034086         20.939352                       38\n",
       "4   120193  0.251893         21.844112                       38\n",
       "5   479489  0.660736         19.920266                       39\n",
       "6  1915393  3.202524         20.181013                       39"
      ]
     },
     "execution_count": 31,
     "metadata": {},
     "output_type": "execute_result"
    }
   ],
   "source": [
    "_, _, steps = SolveL2ProjIterativeCG_levels(h=paramt1['h0'], levels=paramt1['levels'], condense=paramt1['condense'], compute_condnum=True)\n",
    "ndofs = [steps[j][0] for j in range(len(steps))]\n",
    "nsteps = [steps[j][1][0] for j in range(len(steps))]\n",
    "kappas = [steps[j][1][1] for j in range(len(steps))]\n",
    "import pandas as pd\n",
    "tab = pd.DataFrame({'ndof':ndofs, 'time':np.asarray(time_cg)[:,1], 'Condition number':kappas, 'number of CG iterations': nsteps})\n",
    "tab     "
   ]
  },
  {
   "cell_type": "code",
   "execution_count": 12,
   "id": "f40f8e28",
   "metadata": {},
   "outputs": [
    {
     "data": {
      "text/html": [
       "<style type=\"text/css\">\n",
       "</style>\n",
       "<table id=\"T_ad34b_\">\n",
       "  <caption>Example, increasing condition number</caption>\n",
       "  <thead>\n",
       "    <tr>\n",
       "      <th class=\"blank level0\" >&nbsp;</th>\n",
       "      <th class=\"col_heading level0 col0\" >m</th>\n",
       "      <th class=\"col_heading level0 col1\" >Matrix dim</th>\n",
       "      <th class=\"col_heading level0 col2\" >Condition number</th>\n",
       "      <th class=\"col_heading level0 col3\" >number of CG iterations</th>\n",
       "    </tr>\n",
       "  </thead>\n",
       "  <tbody>\n",
       "    <tr>\n",
       "      <th id=\"T_ad34b_level0_row0\" class=\"row_heading level0 row0\" >0</th>\n",
       "      <td id=\"T_ad34b_row0_col0\" class=\"data row0 col0\" >5</td>\n",
       "      <td id=\"T_ad34b_row0_col1\" class=\"data row0 col1\" >25</td>\n",
       "      <td id=\"T_ad34b_row0_col2\" class=\"data row0 col2\" >13.928203</td>\n",
       "      <td id=\"T_ad34b_row0_col3\" class=\"data row0 col3\" >13</td>\n",
       "    </tr>\n",
       "    <tr>\n",
       "      <th id=\"T_ad34b_level0_row1\" class=\"row_heading level0 row1\" >1</th>\n",
       "      <td id=\"T_ad34b_row1_col0\" class=\"data row1 col0\" >10</td>\n",
       "      <td id=\"T_ad34b_row1_col1\" class=\"data row1 col1\" >100</td>\n",
       "      <td id=\"T_ad34b_row1_col2\" class=\"data row1 col2\" >48.374150</td>\n",
       "      <td id=\"T_ad34b_row1_col3\" class=\"data row1 col3\" >32</td>\n",
       "    </tr>\n",
       "    <tr>\n",
       "      <th id=\"T_ad34b_level0_row2\" class=\"row_heading level0 row2\" >2</th>\n",
       "      <td id=\"T_ad34b_row2_col0\" class=\"data row2 col0\" >20</td>\n",
       "      <td id=\"T_ad34b_row2_col1\" class=\"data row2 col1\" >400</td>\n",
       "      <td id=\"T_ad34b_row2_col2\" class=\"data row2 col2\" >178.064275</td>\n",
       "      <td id=\"T_ad34b_row2_col3\" class=\"data row2 col3\" >63</td>\n",
       "    </tr>\n",
       "    <tr>\n",
       "      <th id=\"T_ad34b_level0_row3\" class=\"row_heading level0 row3\" >3</th>\n",
       "      <td id=\"T_ad34b_row3_col0\" class=\"data row3 col0\" >40</td>\n",
       "      <td id=\"T_ad34b_row3_col1\" class=\"data row3 col1\" >1600</td>\n",
       "      <td id=\"T_ad34b_row3_col2\" class=\"data row3 col2\" >680.617070</td>\n",
       "      <td id=\"T_ad34b_row3_col3\" class=\"data row3 col3\" >124</td>\n",
       "    </tr>\n",
       "    <tr>\n",
       "      <th id=\"T_ad34b_level0_row4\" class=\"row_heading level0 row4\" >4</th>\n",
       "      <td id=\"T_ad34b_row4_col0\" class=\"data row4 col0\" >80</td>\n",
       "      <td id=\"T_ad34b_row4_col1\" class=\"data row4 col1\" >6400</td>\n",
       "      <td id=\"T_ad34b_row4_col2\" class=\"data row4 col2\" >2658.406502</td>\n",
       "      <td id=\"T_ad34b_row4_col3\" class=\"data row4 col3\" >200</td>\n",
       "    </tr>\n",
       "  </tbody>\n",
       "</table>\n"
      ],
      "text/plain": [
       "<pandas.io.formats.style.Styler at 0x207001a3308>"
      ]
     },
     "execution_count": 12,
     "metadata": {},
     "output_type": "execute_result"
    }
   ],
   "source": [
    "tab2 = Test_scipyCG_example(examplenumber=2, mm=5)\n",
    "tab2 = tab2.style.set_caption('Example, increasing condition number')\n",
    "tab2"
   ]
  },
  {
   "cell_type": "markdown",
   "id": "c0c5893a",
   "metadata": {},
   "source": [
    "## TEST 2: Model Problem the $L^2$ projection on surface\n",
    "\n",
    "We will test the algorithm with the solution of $L^2$ projection onto the space of continuous piecewise linear functions in a surface of a function\n",
    "$$ f= \\sin(\\pi(x-y)) $$ "
   ]
  },
  {
   "cell_type": "code",
   "execution_count": 2,
   "id": "3ffff644",
   "metadata": {},
   "outputs": [
    {
     "ename": "NgException",
     "evalue": "Error opening file spot_from_gmsh.stl",
     "output_type": "error",
     "traceback": [
      "\u001b[1;31m---------------------------------------------------------------------------\u001b[0m",
      "\u001b[1;31mNgException\u001b[0m                               Traceback (most recent call last)",
      "\u001b[1;32m~\\AppData\\Local\\Temp\\ipykernel_27244\\2367857399.py\u001b[0m in \u001b[0;36m<module>\u001b[1;34m\u001b[0m\n\u001b[0;32m      6\u001b[0m \u001b[1;31m# geo = stl.LoadSTLGeometry(\"blub_triangulated.stl\")\u001b[0m\u001b[1;33m\u001b[0m\u001b[1;33m\u001b[0m\u001b[1;33m\u001b[0m\u001b[0m\n\u001b[0;32m      7\u001b[0m \u001b[1;31m# geo = stl.LoadSTLGeometry(\"spot_from_gmsh.stl\")\u001b[0m\u001b[1;33m\u001b[0m\u001b[1;33m\u001b[0m\u001b[1;33m\u001b[0m\u001b[0m\n\u001b[1;32m----> 8\u001b[1;33m \u001b[0mmesh\u001b[0m \u001b[1;33m=\u001b[0m \u001b[0mMesh\u001b[0m\u001b[1;33m(\u001b[0m\u001b[1;34m'spot_from_gmsh.stl'\u001b[0m\u001b[1;33m)\u001b[0m\u001b[1;33m\u001b[0m\u001b[1;33m\u001b[0m\u001b[0m\n\u001b[0m\u001b[0;32m      9\u001b[0m \u001b[1;31m# mesh_blub = Mesh(geo.GenerateMesh(maxh=1,  perfstepsend=MeshingStep.MESHSURFACE))\u001b[0m\u001b[1;33m\u001b[0m\u001b[1;33m\u001b[0m\u001b[1;33m\u001b[0m\u001b[0m\n",
      "\u001b[1;31mNgException\u001b[0m: Error opening file spot_from_gmsh.stl"
     ]
    }
   ],
   "source": [
    "# from netgen.meshing import MeshingStep\n",
    "# import netgen.stl as stl\n",
    "# from netgen.webgui import Draw as DrawGeo\n",
    "\n",
    "# geo = stl.LoadSTLGeometry(\"spot_triangulated.stl\")\n",
    "# geo = stl.LoadSTLGeometry(\"blub_triangulated.stl\")\n",
    "# geo = stl.LoadSTLGeometry(\"spot_from_gmsh.stl\")\n",
    "mesh = Mesh('spot_from_gmsh.stl')\n",
    "# mesh_blub = Mesh(geo.GenerateMesh(maxh=1,  perfstepsend=MeshingStep.MESHSURFACE))"
   ]
  },
  {
   "cell_type": "code",
   "execution_count": 17,
   "id": "fdf5daa5",
   "metadata": {},
   "outputs": [
    {
     "data": {
      "application/vnd.jupyter.widget-view+json": {
       "model_id": "85959309a58d4dcd8bf9f26bd4ba0884",
       "version_major": 2,
       "version_minor": 0
      },
      "text/plain": [
       "WebGuiWidget(layout=Layout(height='50vh', width='100%'), value={'gui_settings': {}, 'ngsolve_version': '6.2.23…"
      ]
     },
     "metadata": {},
     "output_type": "display_data"
    },
    {
     "data": {
      "text/plain": [
       "BaseWebGuiScene"
      ]
     },
     "execution_count": 17,
     "metadata": {},
     "output_type": "execute_result"
    }
   ],
   "source": [
    "from ngsolve import *\n",
    "from ngsolve.webgui import Draw\n",
    "\n",
    "V = H1(mesh_blub, order=1)\n",
    "u = sin(pi*x)*sin(pi*y)*sin(pi*z)\n",
    "gf = GridFunction(V)\n",
    "gf.Set(u)\n",
    "\n",
    "Draw(gf)"
   ]
  },
  {
   "cell_type": "markdown",
   "id": "7da07dd0",
   "metadata": {},
   "source": [
    "## TEST32: Model problem the Poisson equation\n",
    "We will test the algorithm in this notebook with the solution of the following Poisson problem\n",
    "\n",
    "\\begin{equation}\n",
    "-\\Delta u = 1, \\quad \\text{in } (0,1)^{2}, \\qquad u=0, \\quad \\text{sobre } x=0 \\text{ e }y=0.\n",
    "\\end{equation}"
   ]
  },
  {
   "cell_type": "code",
   "execution_count": 2,
   "id": "d5bb4798",
   "metadata": {},
   "outputs": [
    {
     "data": {
      "application/vnd.jupyter.widget-view+json": {
       "model_id": "1aa4a6675a474fa6bda4a5e77de4c3a8",
       "version_major": 2,
       "version_minor": 0
      },
      "text/plain": [
       "WebGuiWidget(layout=Layout(height='50vh', width='100%'), value={'gui_settings': {}, 'ngsolve_version': '6.2.23…"
      ]
     },
     "metadata": {},
     "output_type": "display_data"
    },
    {
     "data": {
      "text/plain": [
       "BaseWebGuiScene"
      ]
     },
     "execution_count": 2,
     "metadata": {},
     "output_type": "execute_result"
    }
   ],
   "source": [
    "# Solution\n",
    "mesh = Mesh(unit_square.GenerateMesh(maxh=0.05))\n",
    "fes = H1(mesh, order=1, dirichlet='left|bottom')\n",
    "u, v = fes.TnT()\n",
    "a = BilinearForm(InnerProduct(grad(u), grad(v))*dx).Assemble()\n",
    "b = LinearForm(1*v*dx).Assemble()\n",
    "gfu = GridFunction(fes)\n",
    "gfu.vec.data = a.mat.Inverse(freedofs=fes.FreeDofs())*b.vec\n",
    "Draw(gfu)"
   ]
  },
  {
   "cell_type": "markdown",
   "id": "ccf81a48",
   "metadata": {},
   "source": [
    "### Set Poisson problem "
   ]
  },
  {
   "cell_type": "code",
   "execution_count": 3,
   "id": "3338fa3f",
   "metadata": {},
   "outputs": [],
   "source": [
    "def SetPoisson(mesh, f=1, p=1, dirichlet_bndry=None, condense=False):\n",
    "    # H1-conforming Finite Element Space\n",
    "    fes = H1(mesh, order=p, dirichlet=dirichlet_bndry)\n",
    "    # Trial and Test Functions\n",
    "    u, v = fes.TnT()\n",
    "    # Bilinear form \n",
    "    a = BilinearForm(fes, symmetric=True, condense=condense)\n",
    "    a += (grad(u)*grad(v))*dx \n",
    "    # Linear form\n",
    "    b = LinearForm(f*v*dx)\n",
    "    # Gridfunction\n",
    "    gfu = GridFunction(fes)\n",
    "    return fes, a, b, gfu"
   ]
  },
  {
   "cell_type": "markdown",
   "id": "914a46ce",
   "metadata": {},
   "source": [
    "### Direct solver"
   ]
  },
  {
   "cell_type": "code",
   "execution_count": 4,
   "id": "d4437796",
   "metadata": {},
   "outputs": [],
   "source": [
    "def SolvePoissonDirect(a, b, gfu, fes, condense=False):\n",
    "    a.Assemble()\n",
    "    b.Assemble()\n",
    "    # Direct solver\n",
    "    inv = a.mat.Inverse(freedofs=fes.FreeDofs(coupling=condense))\n",
    "    # Solve steps depend on condense\n",
    "    if condense:\n",
    "        b.vec.data += a.harmonic_extension_trans * b.vec\n",
    "        gfu.vec.data = inv * b.vec\n",
    "        gfu.vec.data += a.harmonic_extension * gfu.vec\n",
    "        gfu.vec.data += a.inner_solve * b.vec\n",
    "    else: \n",
    "        gfu.vec.data = inv * b.vec\n",
    "    return gfu, fes.ndof"
   ]
  },
  {
   "cell_type": "markdown",
   "id": "d775055b",
   "metadata": {},
   "source": [
    "### Iterative method : Conjugate Gradient solver (no preconditioner)"
   ]
  },
  {
   "cell_type": "code",
   "execution_count": 5,
   "id": "7f1e564c",
   "metadata": {},
   "outputs": [],
   "source": [
    "def SolvePoissonIterativeCG(a, b, gfu, fes, condense=False, compute_condnum=False):\n",
    "    a.Assemble()\n",
    "    b.Assemble()\n",
    "#     inv = CGSolver(a.mat, pre=NoPrec(a,fes), maxsteps=10000)\n",
    "    preI = Projector(mask=fes.FreeDofs(coupling=condense), range=True)\n",
    "    inv = CGSolver(a.mat, pre=preI, maxsteps=10000)\n",
    "    \n",
    "    # Solve steps depend on condense\n",
    "    if condense:\n",
    "        b.vec.data += a.harmonic_extension_trans * b.vec\n",
    "        gfu.vec.data = inv * b.vec\n",
    "        gfu.vec.data += a.harmonic_extension * gfu.vec\n",
    "        gfu.vec.data += a.inner_solve * b.vec\n",
    "    else: \n",
    "        gfu.vec.data = inv * b.vec\n",
    "    if compute_condnum is False:\n",
    "        return gfu, inv.GetSteps()\n",
    "    else:\n",
    "        lams = EigenValues_Preconditioner(mat=a.mat, pre=preI)\n",
    "        kappa = max(lams)/min(lams)\n",
    "        return gfu, ((inv.GetSteps(), kappa))"
   ]
  },
  {
   "cell_type": "code",
   "execution_count": 6,
   "id": "6cf58bd9",
   "metadata": {},
   "outputs": [],
   "source": [
    "# class Preconditioner identity\n",
    "class NoPrec(BaseMatrix):\n",
    "    def __init__ (self, a, fes):\n",
    "        super(NoPrec, self).__init__()\n",
    "        self.a = a\n",
    "        self.fes = fes\n",
    "    def Mult (self, x, y):\n",
    "        y[:] = 0.0\n",
    "        FreeDofsindex = np.where(self.fes.FreeDofs())[0]\n",
    "        y.FV().NumPy()[FreeDofsindex] = x.FV().NumPy()[FreeDofsindex]\n",
    "    def Height (self):\n",
    "        return self.a.mat.shape[0]\n",
    "    def Width (self):\n",
    "        return self.a.mat.shape[1]"
   ]
  },
  {
   "cell_type": "markdown",
   "id": "c3a3214c",
   "metadata": {},
   "source": [
    "### TEST 3 parameters "
   ]
  },
  {
   "cell_type": "code",
   "execution_count": 17,
   "id": "112ab5c6",
   "metadata": {},
   "outputs": [],
   "source": [
    "# parameters\n",
    "paramt2 = dict()\n",
    "paramt2['h'] = 0.05\n",
    "paramt2['f'] = 1\n",
    "paramt2['p'] = 1 # p = 6 try h0=0.25\n",
    "paramt2['h0'] = 0.05\n",
    "paramt2['levels'] = 6 # <=6 if p=1\n",
    "paramt2['condense'] = False # True does not work"
   ]
  },
  {
   "cell_type": "code",
   "execution_count": 18,
   "id": "9abcc737",
   "metadata": {},
   "outputs": [
    {
     "name": "stdout",
     "output_type": "stream",
     "text": [
      "number steps of CG iteration: (86, 547.3116903613196)\n"
     ]
    }
   ],
   "source": [
    "# Mesh\n",
    "mesh = Mesh(unit_square.GenerateMesh(maxh=paramt2['h']))\n",
    "# Set Poisson\n",
    "fes, a, b, gfu = SetPoisson(mesh, p=paramt2['p'], f=paramt2['f'], dirichlet_bndry='bottom|left', condense=paramt2['condense'])\n",
    "# Solve direct method\n",
    "gfu_direct, steps = SolvePoissonDirect(a, b, gfu, fes, condense=paramt2['condense'])\n",
    "# Solve iterative method\n",
    "gfu_cg, steps = SolvePoissonIterativeCG(a, b, gfu, fes, condense=paramt2['condense'], compute_condnum=True)\n",
    "print(f\"number steps of CG iteration: {steps}\")"
   ]
  },
  {
   "cell_type": "code",
   "execution_count": 19,
   "id": "dbdd6b46",
   "metadata": {},
   "outputs": [
    {
     "data": {
      "application/vnd.jupyter.widget-view+json": {
       "model_id": "87e89baaca644f40ae4ef53857520fd7",
       "version_major": 2,
       "version_minor": 0
      },
      "text/plain": [
       "WebGuiWidget(layout=Layout(height='50vh', width='100%'), value={'gui_settings': {}, 'ngsolve_version': '6.2.23…"
      ]
     },
     "metadata": {},
     "output_type": "display_data"
    },
    {
     "data": {
      "application/vnd.jupyter.widget-view+json": {
       "model_id": "8f4f607303ad43928e3ec961bf145b88",
       "version_major": 2,
       "version_minor": 0
      },
      "text/plain": [
       "WebGuiWidget(layout=Layout(height='50vh', width='100%'), value={'gui_settings': {}, 'ngsolve_version': '6.2.23…"
      ]
     },
     "metadata": {},
     "output_type": "display_data"
    },
    {
     "data": {
      "text/plain": [
       "BaseWebGuiScene"
      ]
     },
     "execution_count": 19,
     "metadata": {},
     "output_type": "execute_result"
    }
   ],
   "source": [
    "Draw(gfu_direct)\n",
    "Draw(gfu_cg)"
   ]
  },
  {
   "cell_type": "markdown",
   "id": "c684a8ee",
   "metadata": {},
   "source": [
    "### Solving for a sequence of meshes"
   ]
  },
  {
   "cell_type": "code",
   "execution_count": 20,
   "id": "8c3e51a9",
   "metadata": {},
   "outputs": [
    {
     "name": "stdout",
     "output_type": "stream",
     "text": [
      "ndof = 508, time = 0.014960527420043945\n",
      "ndof = 1949, time = 0.024097204208374023\n",
      "ndof = 7633, time = 0.028087139129638672\n",
      "ndof = 30209, time = 0.14237451553344727\n",
      "ndof = 120193, time = 0.39797544479370117\n",
      "ndof = 479489, time = 1.8170368671417236\n"
     ]
    }
   ],
   "source": [
    "from time import time\n",
    "def SolvePoissonDirect_levels(h, levels, condense=False):\n",
    "    mesh = Mesh(unit_square.GenerateMesh(maxh=h))\n",
    "    fes, a, b, gfu = SetPoisson(mesh, p =paramt2['p'], dirichlet_bndry='bottom|left', condense=condense)\n",
    "    steps = []\n",
    "    for l in range(levels):\n",
    "        if l > 0: mesh.Refine()\n",
    "        fes.Update()\n",
    "        gfu.Update()\n",
    "        with TaskManager():\n",
    "            start = time()\n",
    "            gfu,_ = SolvePoissonDirect(a, b, gfu, fes, condense=condense)\n",
    "        print (f\"ndof = {fes.ndof}, time = {time()-start}\")\n",
    "        steps.append ( (fes.ndof, time()-start) )\n",
    "    return gfu, steps\n",
    "\n",
    "_, time_direct = SolvePoissonDirect_levels(h=paramt2['h0'], levels=paramt2['levels'], condense=paramt2['condense'])"
   ]
  },
  {
   "cell_type": "code",
   "execution_count": 21,
   "id": "b139e747",
   "metadata": {
    "scrolled": true
   },
   "outputs": [
    {
     "name": "stdout",
     "output_type": "stream",
     "text": [
      "ndof = 508, time = 0.002925395965576172, steps = 86\n",
      "ndof = 1949, time = 0.008060455322265625, steps = 224\n",
      "ndof = 7633, time = 0.02601313591003418, steps = 442\n",
      "ndof = 30209, time = 0.15779495239257812, steps = 885\n",
      "ndof = 120193, time = 1.6199548244476318, steps = 1780\n",
      "ndof = 479489, time = 21.66693425178528, steps = 3595\n"
     ]
    }
   ],
   "source": [
    "def SolvePoissonIterativeCG_levels(h, levels, condense=False, compute_condnum=False):\n",
    "    mesh = Mesh(unit_square.GenerateMesh(maxh=h))\n",
    "    fes, a, b, gfu = SetPoisson(mesh, p=paramt2['p'], dirichlet_bndry='bottom|left', condense=condense)\n",
    "    tiempo = []\n",
    "    steps = []\n",
    "    for l in range(levels):\n",
    "        if l > 0: mesh.Refine()\n",
    "        fes.Update()\n",
    "        gfu.Update()\n",
    "        with TaskManager():\n",
    "            start = time()\n",
    "            gfu, invsteps = SolvePoissonIterativeCG(a, b, gfu, fes, condense=condense, compute_condnum=compute_condnum)\n",
    "            print (f\"ndof = {fes.ndof}, time = {time()-start}, steps = {invsteps}\")\n",
    "            tiempo.append ( (fes.ndof, time()-start ))\n",
    "        steps.append ( (fes.ndof, invsteps ))\n",
    "    return gfu, tiempo, steps\n",
    "\n",
    "_, time_cg, steps = SolvePoissonIterativeCG_levels(h=paramt2['h0'], levels=paramt2['levels'], condense=paramt2['condense'], compute_condnum=False)"
   ]
  },
  {
   "cell_type": "markdown",
   "id": "12e968a3",
   "metadata": {},
   "source": [
    "### Comparison plot of execution times"
   ]
  },
  {
   "cell_type": "code",
   "execution_count": 22,
   "id": "c5ce7594",
   "metadata": {},
   "outputs": [
    {
     "data": {
      "image/png": "[encoded data removed]",
      "text/plain": [
       "<Figure size 640x480 with 1 Axes>"
      ]
     },
     "metadata": {},
     "output_type": "display_data"
    }
   ],
   "source": [
    "plt.xscale(\"log\")\n",
    "plt.yscale(\"log\")\n",
    "plt.plot(*zip(*time_direct), \"-*\")\n",
    "plt.plot(*zip(*time_cg), \"-+\")\n",
    "plt.legend(['Direct', 'Iterative CG'])\n",
    "plt.xlabel('N. dof')\n",
    "plt.ylabel('time exec.')\n",
    "# plt.savefig('03_Module_Test2.png')\n",
    "plt.show()\n",
    "\n",
    "# from IPython.display import Image\n",
    "# Image(filename='03_Module_Test2.png') "
   ]
  },
  {
   "cell_type": "code",
   "execution_count": 23,
   "id": "30bf0654",
   "metadata": {},
   "outputs": [
    {
     "name": "stdout",
     "output_type": "stream",
     "text": [
      "ndof = 508, time = 0.0049860477447509766, steps = (86, 547.2917463908642)\n",
      "ndof = 1949, time = 0.009973526000976562, steps = (224, 3101.5724956743215)\n",
      "ndof = 7633, time = 0.03091716766357422, steps = (442, 7299.6003124745275)\n",
      "ndof = 30209, time = 0.17390108108520508, steps = (885, 15872.951056792755)\n",
      "ndof = 120193, time = 1.5676984786987305, steps = (1780, 31204.531571852516)\n",
      "ndof = 479489, time = 21.66908574104309, steps = (3595, 62074.9629803932)\n"
     ]
    },
    {
     "data": {
      "text/html": [
       "<div>\n",
       "<style scoped>\n",
       "    .dataframe tbody tr th:only-of-type {\n",
       "        vertical-align: middle;\n",
       "    }\n",
       "\n",
       "    .dataframe tbody tr th {\n",
       "        vertical-align: top;\n",
       "    }\n",
       "\n",
       "    .dataframe thead th {\n",
       "        text-align: right;\n",
       "    }\n",
       "</style>\n",
       "<table border=\"1\" class=\"dataframe\">\n",
       "  <thead>\n",
       "    <tr style=\"text-align: right;\">\n",
       "      <th></th>\n",
       "      <th>ndof</th>\n",
       "      <th>time</th>\n",
       "      <th>Condition number</th>\n",
       "      <th>number of CG iterations</th>\n",
       "    </tr>\n",
       "  </thead>\n",
       "  <tbody>\n",
       "    <tr>\n",
       "      <th>0</th>\n",
       "      <td>508</td>\n",
       "      <td>0.002925</td>\n",
       "      <td>547.291746</td>\n",
       "      <td>86</td>\n",
       "    </tr>\n",
       "    <tr>\n",
       "      <th>1</th>\n",
       "      <td>1949</td>\n",
       "      <td>0.008060</td>\n",
       "      <td>3101.572496</td>\n",
       "      <td>224</td>\n",
       "    </tr>\n",
       "    <tr>\n",
       "      <th>2</th>\n",
       "      <td>7633</td>\n",
       "      <td>0.026013</td>\n",
       "      <td>7299.600312</td>\n",
       "      <td>442</td>\n",
       "    </tr>\n",
       "    <tr>\n",
       "      <th>3</th>\n",
       "      <td>30209</td>\n",
       "      <td>0.158722</td>\n",
       "      <td>15872.951057</td>\n",
       "      <td>885</td>\n",
       "    </tr>\n",
       "    <tr>\n",
       "      <th>4</th>\n",
       "      <td>120193</td>\n",
       "      <td>1.621935</td>\n",
       "      <td>31204.531572</td>\n",
       "      <td>1780</td>\n",
       "    </tr>\n",
       "    <tr>\n",
       "      <th>5</th>\n",
       "      <td>479489</td>\n",
       "      <td>21.667932</td>\n",
       "      <td>62074.962980</td>\n",
       "      <td>3595</td>\n",
       "    </tr>\n",
       "  </tbody>\n",
       "</table>\n",
       "</div>"
      ],
      "text/plain": [
       "     ndof       time  Condition number  number of CG iterations\n",
       "0     508   0.002925        547.291746                       86\n",
       "1    1949   0.008060       3101.572496                      224\n",
       "2    7633   0.026013       7299.600312                      442\n",
       "3   30209   0.158722      15872.951057                      885\n",
       "4  120193   1.621935      31204.531572                     1780\n",
       "5  479489  21.667932      62074.962980                     3595"
      ]
     },
     "execution_count": 23,
     "metadata": {},
     "output_type": "execute_result"
    }
   ],
   "source": [
    "_, _, steps = SolvePoissonIterativeCG_levels(h=paramt2['h0'], levels=paramt2['levels'], condense=False, compute_condnum=True)\n",
    "ndofs = [steps[j][0] for j in range(len(steps))]\n",
    "nsteps = [steps[j][1][0] for j in range(len(steps))]\n",
    "kappas = [steps[j][1][1] for j in range(len(steps))]\n",
    "import pandas as pd\n",
    "tab = pd.DataFrame({'ndof':ndofs, 'time':np.asarray(time_cg)[:,1], 'Condition number':kappas, 'number of CG iterations': nsteps})\n",
    "tab     "
   ]
  },
  {
   "cell_type": "code",
   "execution_count": 25,
   "id": "430893e8",
   "metadata": {},
   "outputs": [],
   "source": [
    "class Jacobi(BaseMatrix):\n",
    "    def __init__ (self, smoother):\n",
    "        super(Jacobi, self).__init__()\n",
    "        self.smoother = smoother\n",
    "    def Mult (self, x, y):\n",
    "        y[:] = 0.0\n",
    "        self.smoother.Mult(x, y)\n",
    "    def Height (self):\n",
    "        return self.smoother.height\n",
    "    def Width (self):\n",
    "        return self.smoother.height\n",
    "class GaussSeidelSym(BaseMatrix):\n",
    "    def __init__ (self, smoother, steps=1):\n",
    "        super(GaussSeidelSym, self).__init__()\n",
    "        self.smoother = smoother\n",
    "        self.steps = steps\n",
    "    def Mult (self, x, y):\n",
    "        y[:] = 0.0\n",
    "        self.smoother.Smooth(y, x)\n",
    "        self.smoother.SmoothBack(y, x)\n",
    "    def Height (self):\n",
    "        return self.smoother.height\n",
    "    def Width (self):\n",
    "        return self.smoother.height"
   ]
  },
  {
   "cell_type": "code",
   "execution_count": 33,
   "id": "ee65f399",
   "metadata": {},
   "outputs": [
    {
     "name": "stdout",
     "output_type": "stream",
     "text": [
      "CG iteration 1, residual = 0.04638237630773287     \r",
      "CG iteration 2, residual = 0.10802093839469117     \r",
      "CG iteration 3, residual = 0.08669960326817315     \r",
      "CG iteration 4, residual = 0.07184891474698885     \r",
      "CG iteration 5, residual = 0.06530543395999867     \r",
      "CG iteration 6, residual = 0.0504288838822396     \r",
      "CG iteration 7, residual = 0.03961459029569686     \r",
      "CG iteration 8, residual = 0.029663433167389435     \r",
      "CG iteration 9, residual = 0.02336884579432019     \r",
      "CG iteration 10, residual = 0.01433554064664027     \r",
      "CG iteration 11, residual = 0.007971384763146657     \r",
      "CG iteration 12, residual = 0.003532920997242924     \r",
      "CG iteration 13, residual = 0.0016828296585060765     \r",
      "CG iteration 14, residual = 0.001191105704279101     \r",
      "CG iteration 15, residual = 0.0006083783401937157     \r",
      "CG iteration 16, residual = 0.00034760200935234466     \r",
      "CG iteration 17, residual = 0.0002067072023121726     \r",
      "CG iteration 18, residual = 0.00011073357887186669     \r",
      "CG iteration 19, residual = 5.304803248838089e-05     \r",
      "CG iteration 20, residual = 2.176489035522308e-05     \r",
      "CG iteration 21, residual = 8.013893435193875e-06     \r",
      "CG iteration 22, residual = 3.5046667496515166e-06     \r",
      "CG iteration 23, residual = 2.902198851279104e-06     \r",
      "CG iteration 24, residual = 2.6755885001131764e-06     \r",
      "CG iteration 25, residual = 1.702436945690604e-06     \r",
      "CG iteration 26, residual = 7.320711062363448e-07     \r",
      "CG iteration 27, residual = 3.386851190946942e-07     \r",
      "CG iteration 28, residual = 1.7587729851527534e-07     \r",
      "CG iteration 29, residual = 9.656423202149707e-08     \r",
      "CG iteration 30, residual = 4.715369142517985e-08     \r",
      "CG iteration 31, residual = 2.180955884613421e-08     \r",
      "CG converged in 31 iterations to residual 2.180955884613421e-08\n",
      "CG iteration 1, residual = 0.01892822601411247     \r",
      "CG iteration 2, residual = 0.029274359923140116     \r",
      "CG iteration 3, residual = 0.05735299568820701     \r",
      "CG iteration 4, residual = 0.06165131415879969     \r",
      "CG iteration 5, residual = 0.05564915635275034     \r",
      "CG iteration 6, residual = 0.04964277673155804     \r",
      "CG iteration 7, residual = 0.045528317448004375     \r",
      "CG iteration 8, residual = 0.04237667146328556     \r",
      "CG iteration 9, residual = 0.04342325969907405     \r",
      "CG iteration 10, residual = 0.043414968836369944     \r",
      "CG iteration 11, residual = 0.040119976630766684     \r",
      "CG iteration 12, residual = 0.03751856315491012     \r",
      "CG iteration 13, residual = 0.03628820439767259     \r",
      "CG iteration 14, residual = 0.034021148132769116     \r",
      "CG iteration 15, residual = 0.03327230038461574     \r",
      "CG iteration 16, residual = 0.032367108462072865     \r",
      "CG iteration 17, residual = 0.028314755376081108     \r",
      "CG iteration 18, residual = 0.024162127650659372     \r",
      "CG iteration 19, residual = 0.021627807682345457     \r",
      "CG iteration 20, residual = 0.019505234531085595     \r",
      "CG iteration 21, residual = 0.018252349160767897     \r",
      "CG iteration 22, residual = 0.015434615826151594     \r",
      "CG iteration 23, residual = 0.014948065023583658     \r",
      "CG iteration 24, residual = 0.014164286594675505     \r",
      "CG iteration 25, residual = 0.011893550921177281     \r",
      "CG iteration 26, residual = 0.00962086907913478     \r",
      "CG iteration 27, residual = 0.00818277492869365     \r",
      "CG iteration 28, residual = 0.006319024798849346     \r",
      "CG iteration 29, residual = 0.004772780594642033     \r",
      "CG iteration 30, residual = 0.0036598694935862036     \r",
      "CG iteration 31, residual = 0.002759768727367076     \r",
      "CG iteration 32, residual = 0.0021205791769125927     \r",
      "CG iteration 33, residual = 0.0018252750397695493     \r",
      "CG iteration 34, residual = 0.0017756408528979382     \r",
      "CG iteration 35, residual = 0.001545316137831674     \r",
      "CG iteration 36, residual = 0.0013426655064957768     \r",
      "CG iteration 37, residual = 0.0011756238913178541     \r",
      "CG iteration 38, residual = 0.0010439229836640277     \r",
      "CG iteration 39, residual = 0.0007831190981885574     \r",
      "CG iteration 40, residual = 0.0005720139885704716     \r",
      "CG iteration 41, residual = 0.00044236766231327046     \r",
      "CG iteration 42, residual = 0.0003553956337134609     \r",
      "CG iteration 43, residual = 0.0002536326335809446     \r",
      "CG iteration 44, residual = 0.00018632930871975126     \r",
      "CG iteration 45, residual = 0.00014553394149152915     \r",
      "CG iteration 46, residual = 0.00010723127404845644     \r",
      "CG iteration 47, residual = 8.141344448389632e-05     \r",
      "CG iteration 48, residual = 6.534778087587187e-05     \r",
      "CG iteration 49, residual = 5.416984825329296e-05     \r",
      "CG iteration 50, residual = 4.575799608452792e-05     \r",
      "CG iteration 51, residual = 3.4034053210490416e-05     \r",
      "CG iteration 52, residual = 2.6542635395872172e-05     \r",
      "CG iteration 53, residual = 1.910669274978366e-05     \r",
      "CG iteration 54, residual = 1.3416500424864636e-05     \r",
      "CG iteration 55, residual = 9.988357293457146e-06     \r",
      "CG iteration 56, residual = 7.96640182800354e-06     \r",
      "CG iteration 57, residual = 5.298170681063221e-06     \r",
      "CG iteration 58, residual = 3.322480978396785e-06     \r",
      "CG iteration 59, residual = 2.4753035804234315e-06     \r",
      "CG iteration 60, residual = 2.1225035881193566e-06     \r",
      "CG iteration 61, residual = 1.868288702303746e-06     \r",
      "CG iteration 62, residual = 1.5879954368365503e-06     \r",
      "CG iteration 63, residual = 1.3506775396378723e-06     \r",
      "CG iteration 64, residual = 1.1243694534248669e-06     \r",
      "CG iteration 65, residual = 1.1135344725157096e-06     \r",
      "CG iteration 66, residual = 1.2426003559891294e-06     \r",
      "CG iteration 67, residual = 1.1439723334791105e-06     \r",
      "CG iteration 68, residual = 8.66331396344378e-07     \r",
      "CG iteration 69, residual = 7.175811259394681e-07     \r",
      "CG iteration 70, residual = 5.925513148369425e-07     \r",
      "CG iteration 71, residual = 5.732088043277003e-07     \r",
      "CG iteration 72, residual = 5.922980149193999e-07     \r",
      "CG iteration 73, residual = 4.904212819322849e-07     \r",
      "CG iteration 74, residual = 3.808059234901414e-07     \r",
      "CG iteration 75, residual = 3.184070319631352e-07     \r",
      "CG iteration 76, residual = 2.702711490889931e-07     \r",
      "CG iteration 77, residual = 2.698382377827305e-07     \r",
      "CG iteration 78, residual = 2.0971864842764406e-07     \r",
      "CG iteration 79, residual = 1.4375258410139056e-07     \r",
      "CG iteration 80, residual = 1.1308471336161938e-07     \r",
      "CG iteration 81, residual = 8.006452016415471e-08     \r",
      "CG iteration 82, residual = 5.697174380610855e-08     \r",
      "CG iteration 83, residual = 4.362498100564788e-08     \r",
      "CG iteration 84, residual = 3.651378820677696e-08     \r",
      "CG iteration 85, residual = 2.8625314804899713e-08     \r",
      "CG iteration 86, residual = 2.0070579169666304e-08     \r",
      "CG iteration 87, residual = 1.59754619915152e-08     \r",
      "CG converged in 87 iterations to residual 1.59754619915152e-08\n",
      "CG iteration 1, residual = 0.009439304844232051     \r",
      "CG iteration 2, residual = 0.014463036576193494     \r",
      "CG iteration 3, residual = 0.037028655385780346     \r",
      "CG iteration 4, residual = 0.04234286323305023     \r",
      "CG iteration 5, residual = 0.04288851874257482     \r",
      "CG iteration 6, residual = 0.04263982496347962     \r",
      "CG iteration 7, residual = 0.042028417400553145     \r",
      "CG iteration 8, residual = 0.04033327978792451     \r",
      "CG iteration 9, residual = 0.03825438003246907     \r",
      "CG iteration 10, residual = 0.03670633772698234     \r",
      "CG iteration 11, residual = 0.034705682280215915     \r",
      "CG iteration 12, residual = 0.03360729048261985     \r",
      "CG iteration 13, residual = 0.03203000871074133     \r",
      "CG iteration 14, residual = 0.03009839227145526     \r",
      "CG iteration 15, residual = 0.030381177822142176     \r",
      "CG iteration 16, residual = 0.030415497312177263     \r",
      "CG iteration 17, residual = 0.03074977016467217     \r",
      "CG iteration 18, residual = 0.030803732662358467     \r",
      "CG iteration 19, residual = 0.030489557619653787     \r",
      "CG iteration 20, residual = 0.029937834118002025     \r",
      "CG iteration 21, residual = 0.028731829484493078     \r",
      "CG iteration 22, residual = 0.027024682923094706     \r",
      "CG iteration 23, residual = 0.02632188543754432     \r",
      "CG iteration 24, residual = 0.02595352483421793     \r",
      "CG iteration 25, residual = 0.02550635947059567     \r",
      "CG iteration 26, residual = 0.02418963652381344     \r",
      "CG iteration 27, residual = 0.023796927404997056     \r",
      "CG iteration 28, residual = 0.023451708667395096     \r",
      "CG iteration 29, residual = 0.022662802589748274     \r",
      "CG iteration 30, residual = 0.0219233293153376     \r",
      "CG iteration 31, residual = 0.02208939489738896     \r",
      "CG iteration 32, residual = 0.020642214623726597     \r",
      "CG iteration 33, residual = 0.019002279998261273     \r",
      "CG iteration 34, residual = 0.0175482240607967     \r",
      "CG iteration 35, residual = 0.01666493864457428     \r",
      "CG iteration 36, residual = 0.015560492553438358     \r",
      "CG iteration 37, residual = 0.014573788291508976     \r",
      "CG iteration 38, residual = 0.014185110725579618     \r",
      "CG iteration 39, residual = 0.013904763272244021     \r",
      "CG iteration 40, residual = 0.013695002516980618     \r",
      "CG iteration 41, residual = 0.012911665715204912     \r",
      "CG iteration 42, residual = 0.012005339128323612     \r",
      "CG iteration 43, residual = 0.010900903312979928     \r",
      "CG iteration 44, residual = 0.010655184748841254     \r",
      "CG iteration 45, residual = 0.010749376638453264     \r",
      "CG iteration 46, residual = 0.010468821998322553     \r",
      "CG iteration 47, residual = 0.010200496183900601     \r",
      "CG iteration 48, residual = 0.00942360010829552     \r",
      "CG iteration 49, residual = 0.00852393217278529     \r",
      "CG iteration 50, residual = 0.007704544567028717     \r",
      "CG iteration 51, residual = 0.006921107856733106     \r",
      "CG iteration 52, residual = 0.006561921690203033     \r",
      "CG iteration 53, residual = 0.006150401964912147     \r",
      "CG iteration 54, residual = 0.005615566003386491     \r",
      "CG iteration 55, residual = 0.004787593601777893     \r",
      "CG iteration 56, residual = 0.004201740904743523     \r",
      "CG iteration 57, residual = 0.003747877033425406     \r",
      "CG iteration 58, residual = 0.0032898240910965424     \r",
      "CG iteration 59, residual = 0.0028484524507988284     \r",
      "CG iteration 60, residual = 0.0024280996334196127     \r",
      "CG iteration 61, residual = 0.0020739593482387493     \r",
      "CG iteration 62, residual = 0.0017259508194568704     \r",
      "CG iteration 63, residual = 0.0014386576067317927     \r",
      "CG iteration 64, residual = 0.0012788084322078405     \r",
      "CG iteration 65, residual = 0.001241134916415382     \r",
      "CG iteration 66, residual = 0.001220961017383857     \r",
      "CG iteration 67, residual = 0.0011717978994711326     \r",
      "CG iteration 68, residual = 0.001141128019579336     \r",
      "CG iteration 69, residual = 0.001071042771942475     \r",
      "CG iteration 70, residual = 0.0009960648842581362     \r",
      "CG iteration 71, residual = 0.0009251607485783484     \r",
      "CG iteration 72, residual = 0.0008501460449155664     \r",
      "CG iteration 73, residual = 0.0007918394295006583     \r",
      "CG iteration 74, residual = 0.0007376890203875011     \r",
      "CG iteration 75, residual = 0.0007023608756245689     \r",
      "CG iteration 76, residual = 0.0006682127711706054     \r",
      "CG iteration 77, residual = 0.0005891355691315122     \r",
      "CG iteration 78, residual = 0.0005276097641515078     \r",
      "CG iteration 79, residual = 0.00045223075502279355     \r",
      "CG iteration 80, residual = 0.0003955821599099002     \r",
      "CG iteration 81, residual = 0.00036104721649367463     \r",
      "CG iteration 82, residual = 0.00033184205689399055     \r",
      "CG iteration 83, residual = 0.00028939902831253577     \r",
      "CG iteration 84, residual = 0.0002593338057805711     \r",
      "CG iteration 85, residual = 0.00022610601818917104     \r",
      "CG iteration 86, residual = 0.00018916892353287718     \r",
      "CG iteration 87, residual = 0.0001635455134314779     \r",
      "CG iteration 88, residual = 0.00014536401672009914     \r",
      "CG iteration 89, residual = 0.00013016603174366821     \r",
      "CG iteration 90, residual = 0.00011497151725688143     \r",
      "CG iteration 91, residual = 9.76034162781059e-05     \r",
      "CG iteration 92, residual = 8.471830500563307e-05     \r",
      "CG iteration 93, residual = 7.332073798996315e-05     \r",
      "CG iteration 94, residual = 6.717881596912045e-05     \r",
      "CG iteration 95, residual = 5.972133521714978e-05     \r",
      "CG iteration 96, residual = 5.249642757846873e-05     \r",
      "CG iteration 97, residual = 4.704720340270679e-05     \r",
      "CG iteration 98, residual = 4.2466107880936257e-05     \r",
      "CG iteration 99, residual = 3.892256058824974e-05     \r",
      "CG iteration 100, residual = 3.65129889166739e-05     \r",
      "CG iteration 101, residual = 3.26075478969115e-05     \r",
      "CG iteration 102, residual = 2.9120505252598842e-05     \r",
      "CG iteration 103, residual = 2.6457677091032148e-05     \r",
      "CG iteration 104, residual = 2.253028945314183e-05     \r",
      "CG iteration 105, residual = 1.869892511912057e-05     \r",
      "CG iteration 106, residual = 1.5379981740571314e-05     \r",
      "CG iteration 107, residual = 1.2376757568822998e-05     \r",
      "CG iteration 108, residual = 1.0420549148545009e-05     \r",
      "CG iteration 109, residual = 9.009446081261664e-06     \r",
      "CG iteration 110, residual = 8.078201792721877e-06     \r",
      "CG iteration 111, residual = 7.252595174517632e-06     \r",
      "CG iteration 112, residual = 6.324611005123279e-06     \r",
      "CG iteration 113, residual = 5.555846723028476e-06     \r",
      "CG iteration 114, residual = 4.641560734163556e-06     \r",
      "CG iteration 115, residual = 3.6802882691392563e-06     \r",
      "CG iteration 116, residual = 3.055997108217694e-06     \r",
      "CG iteration 117, residual = 2.53563813704833e-06     \r",
      "CG iteration 118, residual = 2.1567512299724784e-06     \r",
      "CG iteration 119, residual = 1.9755232337321713e-06     \r",
      "CG iteration 120, residual = 1.9014277105619749e-06     \r",
      "CG iteration 121, residual = 1.883735258453462e-06     \r",
      "CG iteration 122, residual = 1.872750351509186e-06     \r",
      "CG iteration 123, residual = 1.9126665033969748e-06     \r",
      "CG iteration 124, residual = 1.966266633727737e-06     \r",
      "CG iteration 125, residual = 1.9116623995048633e-06     \r",
      "CG iteration 126, residual = 1.744615981068154e-06     \r",
      "CG iteration 127, residual = 1.6434967089229853e-06     \r",
      "CG iteration 128, residual = 1.5960368725420172e-06     \r",
      "CG iteration 129, residual = 1.5678841157444218e-06     \r",
      "CG iteration 130, residual = 1.5639423193817186e-06     \r",
      "CG iteration 131, residual = 1.7057487862007788e-06     \r",
      "CG iteration 132, residual = 1.8211669277835178e-06     \r",
      "CG iteration 133, residual = 1.813179396000143e-06     \r",
      "CG iteration 134, residual = 1.6459566689101229e-06     \r",
      "CG iteration 135, residual = 1.4355464514150814e-06     \r",
      "CG iteration 136, residual = 1.1264744420000809e-06     \r",
      "CG iteration 137, residual = 9.387336565589546e-07     \r",
      "CG iteration 138, residual = 8.280864126277889e-07     \r",
      "CG iteration 139, residual = 7.308853838502931e-07     \r",
      "CG iteration 140, residual = 6.208958713578605e-07     \r",
      "CG iteration 141, residual = 5.297913683146569e-07     \r",
      "CG iteration 142, residual = 4.989994065303197e-07     \r",
      "CG iteration 143, residual = 4.62380503470854e-07     \r",
      "CG iteration 144, residual = 4.3156463211498806e-07     \r",
      "CG iteration 145, residual = 3.939605042071138e-07     \r",
      "CG iteration 146, residual = 3.546426691656546e-07     \r",
      "CG iteration 147, residual = 3.0882201331786095e-07     \r",
      "CG iteration 148, residual = 2.643482007409283e-07     \r",
      "CG iteration 149, residual = 2.288778701828515e-07     \r",
      "CG iteration 150, residual = 1.8966003064252803e-07     \r",
      "CG iteration 151, residual = 1.6156634413524118e-07     \r",
      "CG iteration 152, residual = 1.391987308196457e-07     \r",
      "CG iteration 153, residual = 1.2953909337745974e-07     \r",
      "CG iteration 154, residual = 1.2885433682750132e-07     \r",
      "CG iteration 155, residual = 1.3167912665517906e-07     \r",
      "CG iteration 156, residual = 1.265333086890352e-07     \r",
      "CG iteration 157, residual = 1.145102526024271e-07     \r",
      "CG iteration 158, residual = 9.994779994432405e-08     \r",
      "CG iteration 159, residual = 9.000306765631267e-08     \r",
      "CG iteration 160, residual = 7.911821999680036e-08     \r",
      "CG iteration 161, residual = 7.041679272562263e-08     \r",
      "CG iteration 162, residual = 6.089968774163677e-08     \r",
      "CG iteration 163, residual = 5.497556012166055e-08     \r",
      "CG iteration 164, residual = 4.8374963674501156e-08     \r",
      "CG iteration 165, residual = 4.106423377836163e-08     \r",
      "CG iteration 166, residual = 3.552461320743937e-08     \r",
      "CG iteration 167, residual = 3.0833865754526127e-08     \r",
      "CG iteration 168, residual = 2.80354578600022e-08     \r",
      "CG iteration 169, residual = 2.7276073788719446e-08     \r",
      "CG iteration 170, residual = 2.413706256745246e-08     \r",
      "CG iteration 171, residual = 2.0100152460186952e-08     \r",
      "CG iteration 172, residual = 1.6319107412345843e-08     \r",
      "CG iteration 173, residual = 1.2615437448397503e-08     \r",
      "CG iteration 174, residual = 9.582664508892348e-09     \r",
      "CG iteration 175, residual = 7.642953486809177e-09     \r",
      "CG converged in 175 iterations to residual 7.642953486809177e-09\n"
     ]
    },
    {
     "name": "stdout",
     "output_type": "stream",
     "text": [
      "CG converged in 354 iterations to residual 4.541612084409411e-09\n",
      "CG converged in 721 iterations to residual 2.244318828892774e-09\n",
      "CG converged in 1465 iterations to residual 1.1751201935552332e-09\n"
     ]
    }
   ],
   "source": [
    "def SolvePoissonIterativePCG_levels(h, levels,condense=False, compute_condnum=False):\n",
    "    mesh = Mesh(unit_square.GenerateMesh(maxh=h))\n",
    "    fes, a, b, gfu = SetPoisson(mesh, p=paramt2['p'], dirichlet_bndry='bottom|left', condense=condense)\n",
    "    \n",
    "    tiempo = []\n",
    "    steps = []\n",
    "    for l in range(levels):\n",
    "        if l > 0: mesh.Refine()\n",
    "        fes.Update()\n",
    "        gfu.Update()\n",
    "        a.Assemble()\n",
    "        b.Assemble()\n",
    "        preJpoint = a.mat.CreateSmoother(fes.FreeDofs())\n",
    "#         preJ = Jacobi(preJpoint)\n",
    "        preJ = GaussSeidelSym(preJpoint)\n",
    "        with TaskManager():\n",
    "            start = time()\n",
    "            solvers.CG(mat=a.mat, pre=preJ, rhs=b.vec, sol=gfu.vec, printrates='\\r', tol=1e-6, maxsteps=5000)\n",
    "#             tiempo.append ( (fes.ndof, time()-start ))\n",
    "#         steps.append ( (fes.ndof, invsteps ))\n",
    "    return gfu#, tiempo, steps\n",
    "\n",
    "_ = SolvePoissonIterativePCG_levels(h=paramt2['h0'], levels=paramt2['levels'], condense=paramt2['condense'], compute_condnum=False)"
   ]
  },
  {
   "cell_type": "code",
   "execution_count": null,
   "id": "ee9d8d65",
   "metadata": {},
   "outputs": [],
   "source": []
  }
 ],
 "metadata": {
  "kernelspec": {
   "display_name": "Python 3 (ipykernel)",
   "language": "python",
   "name": "python3"
  },
  "language_info": {
   "codemirror_mode": {
    "name": "ipython",
    "version": 3
   },
   "file_extension": ".py",
   "mimetype": "text/x-python",
   "name": "python",
   "nbconvert_exporter": "python",
   "pygments_lexer": "ipython3",
   "version": "3.7.9"
  },
  "varInspector": {
   "cols": {
    "lenName": 16,
    "lenType": 16,
    "lenVar": 40
   },
   "kernels_config": {
    "python": {
     "delete_cmd_postfix": "",
     "delete_cmd_prefix": "del ",
     "library": "var_list.py",
     "varRefreshCmd": "print(var_dic_list())"
    },
    "r": {
     "delete_cmd_postfix": ") ",
     "delete_cmd_prefix": "rm(",
     "library": "var_list.r",
     "varRefreshCmd": "cat(var_dic_list()) "
    }
   },
   "types_to_exclude": [
    "module",
    "function",
    "builtin_function_or_method",
    "instance",
    "_Feature"
   ],
   "window_display": false
  }
 },
 "nbformat": 4,
 "nbformat_minor": 5
}
