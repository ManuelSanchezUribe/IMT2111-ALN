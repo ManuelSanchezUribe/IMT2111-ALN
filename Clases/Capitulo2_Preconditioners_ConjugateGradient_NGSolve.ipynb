{
 "cells": [
  {
   "cell_type": "markdown",
   "id": "fd86e3fb-7ab6-4216-8327-03c67ad7da64",
   "metadata": {},
   "source": [
    "<hr style=\"border:2px solid #808080\"> </hr>\n",
    "<center><h1 style=\"color:#03122E;\"> Álgebra Lineal Numérica IMT2111</h1></center>\n",
    "<center><h1 style=\"color:#173F8A;\"> Capítulo 2</h3></center>\n",
    "<center><h1 style=\"color:#0176DE;\"> Prof. Manuel A. Sánchez</h3></center>\n",
    "<hr style=\"border:2px solid #808080\"> </hr>"
   ]
  },
  {
   "cell_type": "code",
   "execution_count": 1,
   "id": "e4adc79d-d784-4947-9d72-a7c6cd8887bf",
   "metadata": {},
   "outputs": [],
   "source": [
    "from ngsolve import *\n",
    "from ngsolve.webgui import Draw\n",
    "from ngsolve.la import EigenValues_Preconditioner\n",
    "import matplotlib.pyplot as plt\n",
    "import numpy as np"
   ]
  },
  {
   "cell_type": "code",
   "execution_count": 3,
   "id": "28a13e88-d002-4024-b087-3ff044dde804",
   "metadata": {},
   "outputs": [],
   "source": [
    "# Solution\n",
    "mesh = Mesh(unit_square.GenerateMesh(maxh=0.05))\n",
    "fes = H1(mesh, order=1, dirichlet='left|bottom')\n",
    "u, v = fes.TnT()\n",
    "a = BilinearForm(InnerProduct(grad(u), grad(v))*dx).Assemble()\n",
    "b = LinearForm(1*v*dx).Assemble()\n",
    "gfu = GridFunction(fes)\n",
    "gfu.vec.data = a.mat.Inverse(freedofs=fes.FreeDofs())*b.vec\n",
    "# Draw(gfu)"
   ]
  },
  {
   "cell_type": "markdown",
   "id": "3a5ef5f3-5ed1-423a-9f05-327ae7385a73",
   "metadata": {},
   "source": [
    "### Set Poisson problem "
   ]
  },
  {
   "cell_type": "code",
   "execution_count": null,
   "id": "82c33a08-a196-4d09-9899-02944cd09861",
   "metadata": {},
   "outputs": [],
   "source": [
    "def SetPoisson(mesh, f=1, p=1, dirichlet_bndry=None, condense=False):\n",
    "    # H1-conforming Finite Element Space\n",
    "    fes = H1(mesh, order=p, dirichlet=dirichlet_bndry)\n",
    "    # Trial and Test Functions\n",
    "    u, v = fes.TnT()\n",
    "    # Bilinear form \n",
    "    a = BilinearForm(fes, symmetric=True, condense=condense)\n",
    "    a += (grad(u)*grad(v))*dx \n",
    "    # Linear form\n",
    "    b = LinearForm(f*v*dx)\n",
    "    # Gridfunction\n",
    "    gfu = GridFunction(fes)\n",
    "    return fes, a, b, gfu"
   ]
  },
  {
   "cell_type": "markdown",
   "id": "8de10ce3-70f0-47f9-8b52-7f76d90b21b4",
   "metadata": {},
   "source": [
    "### Direct solver"
   ]
  },
  {
   "cell_type": "code",
   "execution_count": 4,
   "id": "23ca68c3-9ace-40db-a72b-49ef25d5ddbc",
   "metadata": {},
   "outputs": [],
   "source": [
    "def SolvePoissonDirect(a, b, gfu, fes, condense=False):\n",
    "    a.Assemble()\n",
    "    b.Assemble()\n",
    "    # Direct solver\n",
    "    inv = a.mat.Inverse(freedofs=fes.FreeDofs(coupling=condense))\n",
    "    # Solve steps depend on condense\n",
    "    if condense:\n",
    "        b.vec.data += a.harmonic_extension_trans * b.vec\n",
    "        gfu.vec.data = inv * b.vec\n",
    "        gfu.vec.data += a.harmonic_extension * gfu.vec\n",
    "        gfu.vec.data += a.inner_solve * b.vec\n",
    "    else: \n",
    "        gfu.vec.data = inv * b.vec\n",
    "    return gfu, fes.ndof"
   ]
  },
  {
   "cell_type": "markdown",
   "id": "a125dc15-5493-43cb-a143-cae0767983a8",
   "metadata": {},
   "source": [
    "### Iterative method : Conjugate Gradient solver (no preconditioner)"
   ]
  },
  {
   "cell_type": "code",
   "execution_count": 5,
   "id": "50c0dbf6-ee9a-4267-af3d-c5cb7c23be2f",
   "metadata": {},
   "outputs": [],
   "source": [
    "def SolvePoissonIterativeCG(a, b, gfu, fes, condense=False, compute_condnum=False):\n",
    "    a.Assemble()\n",
    "    b.Assemble()\n",
    "#     inv = CGSolver(a.mat, pre=NoPrec(a,fes), maxsteps=10000)\n",
    "    preI = Projector(mask=fes.FreeDofs(coupling=condense), range=True)\n",
    "    inv = CGSolver(a.mat, pre=preI, maxsteps=10000)\n",
    "    \n",
    "    # Solve steps depend on condense\n",
    "    if condense:\n",
    "        b.vec.data += a.harmonic_extension_trans * b.vec\n",
    "        gfu.vec.data = inv * b.vec\n",
    "        gfu.vec.data += a.harmonic_extension * gfu.vec\n",
    "        gfu.vec.data += a.inner_solve * b.vec\n",
    "    else: \n",
    "        gfu.vec.data = inv * b.vec\n",
    "    if compute_condnum is False:\n",
    "        return gfu, inv.GetSteps()\n",
    "    else:\n",
    "        lams = EigenValues_Preconditioner(mat=a.mat, pre=preI)\n",
    "        kappa = max(lams)/min(lams)\n",
    "        return gfu, ((inv.GetSteps(), kappa))"
   ]
  },
  {
   "cell_type": "code",
   "execution_count": null,
   "id": "8882b4a5-4b6b-4328-ab60-94481ca0dd09",
   "metadata": {},
   "outputs": [],
   "source": [
    "# class Preconditioner identity\n",
    "class NoPrec(BaseMatrix):\n",
    "    def __init__ (self, a, fes):\n",
    "        super(NoPrec, self).__init__()\n",
    "        self.a = a\n",
    "        self.fes = fes\n",
    "    def Mult (self, x, y):\n",
    "        y[:] = 0.0\n",
    "        FreeDofsindex = np.where(self.fes.FreeDofs())[0]\n",
    "        y.FV().NumPy()[FreeDofsindex] = x.FV().NumPy()[FreeDofsindex]\n",
    "    def Height (self):\n",
    "        return self.a.mat.shape[0]\n",
    "    def Width (self):\n",
    "        return self.a.mat.shape[1]"
   ]
  },
  {
   "cell_type": "code",
   "execution_count": null,
   "id": "83360429-5b80-47a8-ad1e-a649e719debb",
   "metadata": {},
   "outputs": [],
   "source": [
    "class Jacobi(BaseMatrix):\n",
    "    def __init__ (self, smoother):\n",
    "        super(Jacobi, self).__init__()\n",
    "        self.smoother = smoother\n",
    "    def Mult (self, x, y):\n",
    "        y[:] = 0.0\n",
    "        self.smoother.Mult(x, y)\n",
    "    def Height (self):\n",
    "        return self.smoother.height\n",
    "    def Width (self):\n",
    "        return self.smoother.height\n"
   ]
  },
  {
   "cell_type": "code",
   "execution_count": null,
   "id": "10af4a6b-24e6-47b3-ab2e-00e94ff4449f",
   "metadata": {},
   "outputs": [],
   "source": [
    "class GaussSeidelL(BaseMatrix):\n",
    "    def __init__ (self, smoother):\n",
    "        super(GaussSeidelL, self).__init__()\n",
    "        self.smoother = smoother\n",
    "    def Mult (self, x, y):\n",
    "        y[:] = 0.0\n",
    "        self.smoother.Smooth(y, x)\n",
    "    def Height (self):\n",
    "        return self.smoother.height\n",
    "    def Width (self):\n",
    "        return self.smoother.height"
   ]
  },
  {
   "cell_type": "code",
   "execution_count": null,
   "id": "221c2b72-1e1b-4751-98cb-14fab23d4962",
   "metadata": {},
   "outputs": [],
   "source": [
    "class GaussSeidelU(BaseMatrix):\n",
    "    def __init__ (self, smoother, steps=1):\n",
    "        super(GaussSeidelU, self).__init__()\n",
    "        self.smoother = smoother\n",
    "        self.steps = steps\n",
    "    def Mult (self, x, y):\n",
    "        y[:] = 0.0\n",
    "        self.smoother.SmoothBack(y, x)\n",
    "    def Height (self):\n",
    "        return self.smoother.height\n",
    "    def Width (self):\n",
    "        return self.smoother.height"
   ]
  },
  {
   "cell_type": "code",
   "execution_count": null,
   "id": "dfb89e51-6da5-4b49-a91e-3c83df46a8cf",
   "metadata": {},
   "outputs": [],
   "source": [
    "class GaussSeidelSym(BaseMatrix):\n",
    "    def __init__ (self, smoother, steps=1):\n",
    "        super(GaussSeidelSym, self).__init__()\n",
    "        self.smoother = smoother\n",
    "        self.steps = steps\n",
    "    def Mult (self, x, y):\n",
    "        y[:] = 0.0\n",
    "        self.smoother.Smooth(y, x)\n",
    "        self.smoother.SmoothBack(y, x)\n",
    "    def Height (self):\n",
    "        return self.smoother.height\n",
    "    def Width (self):\n",
    "        return self.smoother.height"
   ]
  },
  {
   "cell_type": "code",
   "execution_count": null,
   "id": "7bbee975-3768-4aa4-8287-ad240b20b36c",
   "metadata": {},
   "outputs": [],
   "source": [
    "class ILU(BaseMatrix):\n",
    "    # Give a scipy.sparse mat\n",
    "    def __init__ (self, a):\n",
    "        super(ILU, self).__init__()\n",
    "        rows,cols,vals = a.mat.COO()\n",
    "        A = sp.csr_matrix((vals,(rows,cols))) # NGSolve mat to scipy.sparse\n",
    "        self.A = A\n",
    "        self.ilu = spilu(A)\n",
    "    def Mult (self, x, y):\n",
    "        x_vec = x.FV().NumPy()\n",
    "        y_vec = self.ilu.solve(x_vec)\n",
    "        y.FV()[:] = y_vec\n",
    "    def Height (self):\n",
    "        return self.A.shape[0]\n",
    "    def Width (self):\n",
    "        return self.A.shape[1]"
   ]
  }
 ],
 "metadata": {
  "kernelspec": {
   "display_name": "Python 3",
   "language": "python",
   "name": "python3"
  },
  "language_info": {
   "codemirror_mode": {
    "name": "ipython",
    "version": 3
   },
   "file_extension": ".py",
   "mimetype": "text/x-python",
   "name": "python",
   "nbconvert_exporter": "python",
   "pygments_lexer": "ipython3",
   "version": "3.8.5"
  }
 },
 "nbformat": 4,
 "nbformat_minor": 5
}
