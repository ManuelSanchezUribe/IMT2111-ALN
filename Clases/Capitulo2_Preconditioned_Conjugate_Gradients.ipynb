{
 "cells": [
  {
   "cell_type": "markdown",
   "id": "53e77dd8-090d-4306-8701-ae227f6188ec",
   "metadata": {},
   "source": [
    "<hr style=\"border:2px solid #808080\"> </hr>\n",
    "<center><h1 style=\"color:#03122E;\"> Álgebra Lineal Numérica IMT2111</h1></center>\n",
    "<center><h1 style=\"color:#173F8A;\"> Capítulo 2</h3></center>\n",
    "<center><h1 style=\"color:#0176DE;\"> Prof. Manuel A. Sánchez</h3></center>\n",
    "<hr style=\"border:2px solid #808080\"> </hr>"
   ]
  },
  {
   "cell_type": "code",
   "execution_count": 3,
   "id": "8d90ae07-a39c-4822-b2ea-e1779e43c7cd",
   "metadata": {},
   "outputs": [],
   "source": [
    "import numpy as np\n",
    "from numpy.linalg import norm\n",
    "import matplotlib.pyplot as plt\n",
    "import pandas as pd\n",
    "import scipy.sparse as sp\n",
    "from scipy.sparse import csr_matrix, diags, tril, triu\n",
    "from scipy.sparse.linalg import spsolve\n",
    "from scipy.sparse.linalg import splu"
   ]
  },
  {
   "cell_type": "code",
   "execution_count": 17,
   "id": "62b7819e-bf87-4d93-b032-31104814d7d4",
   "metadata": {},
   "outputs": [],
   "source": [
    "def ConjugateGradient(A, b, x0=None, TOL=1e-8, MAXIT=100, print_iter=True):\n",
    "    '''\n",
    "    Conjugate Gradient Method: Hestenes-Stiefel Version\n",
    "    \n",
    "    Solves the linear system Ax = b for x, where A is a symmetric, positive-definite matrix.\n",
    "    \n",
    "    Parameters:\n",
    "    A : numpy.ndarray\n",
    "        Symmetric, positive-definite matrix.\n",
    "    b : numpy.ndarray\n",
    "        Right-hand side vector.\n",
    "    x0 : numpy.ndarray, optional\n",
    "        Initial guess for the solution. If None, a zero vector is used.\n",
    "    TOL : float, optional\n",
    "        Tolerance for the stopping criterion. Default is 1e-8.\n",
    "    MAXIT : int, optional\n",
    "        Maximum number of iterations. Default is 100.\n",
    "    print_iter : bool, optional\n",
    "        If True, prints the norm of the residual at each iteration. Default is True.\n",
    "        \n",
    "    Returns:\n",
    "    x : numpy.ndarray\n",
    "        Approximate solution to the system Ax = b.\n",
    "    k : int\n",
    "        Number of iterations performed.\n",
    "    '''\n",
    "    if x0 is None:\n",
    "        x0 = np.zeros(b.size)\n",
    "        \n",
    "    k = 0\n",
    "    r0 = b - A.dot(x0)\n",
    "    pk = r0.copy()\n",
    "    x = x0.copy()\n",
    "    \n",
    "    for k in range(MAXIT):\n",
    "        rk = r0.dot(r0)\n",
    "        Apk = A.dot(pk)\n",
    "        alphak = rk / pk.dot(Apk)\n",
    "        x += alphak * pk\n",
    "        r0 -= alphak * Apk\n",
    "        if print_iter:\n",
    "            print(f\"Iteration {k}: Residual norm = {np.linalg.norm(r0)}\")\n",
    "        if np.linalg.norm(r0) < TOL:\n",
    "            break\n",
    "        betak = r0.dot(r0) / rk\n",
    "        pk = r0 + betak * pk\n",
    "        \n",
    "    return x, k\n",
    "\n",
    "# Example usage:\n",
    "# A = np.array([[4, 1], [1, 3]])\n",
    "# b = np.array([1, 2])\n",
    "# x0 = np.zeros(2)\n",
    "# x, num_iters = ConjugateGradient(A, b, x0)\n",
    "# print(\"Solution:\", x)\n",
    "# print(\"Number of iterations:\", num_iters)\n"
   ]
  },
  {
   "cell_type": "code",
   "execution_count": 18,
   "id": "00b1f7d2-4490-468e-8e74-60fced4b749b",
   "metadata": {},
   "outputs": [],
   "source": [
    "def PreconditionedConjugateGradient(A, b, M_func, x0=None, TOL=1e-8, MAXIT=100, print_iter=True):\n",
    "    '''\n",
    "    Preconditioned Conjugate Gradient Method\n",
    "    \n",
    "    Solves the linear system Ax = b for x, where A is a symmetric, positive-definite matrix,\n",
    "    using a preconditioner function M_func.\n",
    "    \n",
    "    Parameters:\n",
    "    A : numpy.ndarray\n",
    "        Symmetric, positive-definite matrix.\n",
    "    b : numpy.ndarray\n",
    "        Right-hand side vector.\n",
    "    M_func : function\n",
    "        Function that applies the preconditioner.\n",
    "    x0 : numpy.ndarray, optional\n",
    "        Initial guess for the solution. If None, a zero vector is used.\n",
    "    TOL : float, optional\n",
    "        Tolerance for the stopping criterion. Default is 1e-8.\n",
    "    MAXIT : int, optional\n",
    "        Maximum number of iterations. Default is 100.\n",
    "    print_iter : bool, optional\n",
    "        If True, prints the norm of the residual at each iteration. Default is True.\n",
    "        \n",
    "    Returns:\n",
    "    x : numpy.ndarray\n",
    "        Approximate solution to the system Ax = b.\n",
    "    k : int\n",
    "        Number of iterations performed.\n",
    "    '''\n",
    "    if x0 is None:\n",
    "        x0 = np.zeros(b.size)\n",
    "    \n",
    "    k = 0\n",
    "    r0 = b - A.dot(x0)\n",
    "    z0 = M_func(r0)\n",
    "    pk = z0.copy()\n",
    "    x = x0.copy()\n",
    "    \n",
    "    for k in range(MAXIT):\n",
    "        rk = r0.dot(z0)\n",
    "        Apk = A.dot(pk)\n",
    "        alphak = rk / pk.dot(Apk)\n",
    "        x += alphak * pk\n",
    "        r0 -= alphak * Apk\n",
    "        if print_iter:\n",
    "            print(f\"Iteration {k}: Residual norm = {np.linalg.norm(r0)}\")\n",
    "        if np.linalg.norm(r0) < TOL:\n",
    "            break\n",
    "        z0 = M_func(r0)\n",
    "        betak = r0.dot(z0) / rk\n",
    "        pk = z0 + betak * pk\n",
    "    \n",
    "    return x, k"
   ]
  },
  {
   "cell_type": "code",
   "execution_count": 19,
   "id": "3e925fd5-912e-4014-ad01-43b5b6588ab7",
   "metadata": {},
   "outputs": [],
   "source": [
    "def jacobi_preconditioner(A):\n",
    "    \"\"\"\n",
    "    Jacobi preconditioner function.\n",
    "    \n",
    "    Parameters:\n",
    "    A : numpy.ndarray\n",
    "        Symmetric, positive-definite matrix.\n",
    "        \n",
    "    Returns:\n",
    "    M_func : function\n",
    "        Function that applies the Jacobi preconditioner.\n",
    "    \"\"\"\n",
    "    # Extract the diagonal elements of A\n",
    "    # D_inv = 1.0 / np.diag(A)\n",
    "    D_inv = 1.0 /  A.diagonal()\n",
    "    \n",
    "    def M_func(r):\n",
    "        return D_inv * r\n",
    "    \n",
    "    return M_func"
   ]
  },
  {
   "cell_type": "code",
   "execution_count": 29,
   "id": "daa92a62-38c6-45c5-8ff2-4e85fd546e43",
   "metadata": {},
   "outputs": [],
   "source": [
    "def gauss_seidel_preconditioner(A):\n",
    "    \"\"\"\n",
    "    Gauss-Seidel preconditioner function.\n",
    "    \n",
    "    Parameters:\n",
    "    A : numpy.ndarray\n",
    "        Symmetric, positive-definite matrix.\n",
    "        \n",
    "    Returns:\n",
    "    M_func : function\n",
    "        Function that applies the Gauss-Seidel preconditioner.\n",
    "    \"\"\"\n",
    "    L = tril(A)  # Lower triangular part of A including the diagonal\n",
    "\n",
    "    def M_func(r):\n",
    "        # Solve Lz = r using forward substitution\n",
    "        z = spsolve(L, r)\n",
    "        return z\n",
    "\n",
    "    return M_func"
   ]
  },
  {
   "cell_type": "code",
   "execution_count": 35,
   "id": "24f573bd-05c7-4490-ac22-f908cb91ea46",
   "metadata": {},
   "outputs": [],
   "source": [
    "def gauss_seidel_symmetric_preconditioner(A):\n",
    "    \"\"\"\n",
    "    Gauss-Seidel symmetric preconditioner function for sparse matrices.\n",
    "    \n",
    "    Parameters:\n",
    "    A : scipy.sparse.csr_matrix\n",
    "        Sparse, symmetric, positive-definite matrix.\n",
    "        \n",
    "    Returns:\n",
    "    M_func : function\n",
    "        Function that applies the Gauss-Seidel symmetric preconditioner.\n",
    "    \"\"\"\n",
    "    L = tril(A)  # Lower triangular part of A including the diagonal\n",
    "    U = triu(A)  # Upper triangular part of A including the diagonal\n",
    "    \n",
    "    # Perform incomplete Cholesky factorization on the lower triangular part\n",
    "    L_chol = splu(L)\n",
    "    \n",
    "    def M_func(r):\n",
    "        # Solve Lz = r using forward substitution\n",
    "        z = L_chol.solve(r)\n",
    "        # Solve Uz = z using backward substitution\n",
    "        z = L_chol.solve(z)\n",
    "        return z\n",
    "\n",
    "    return M_func"
   ]
  },
  {
   "cell_type": "code",
   "execution_count": 42,
   "id": "5c12ed62-e48a-43b4-a479-8b3ecedff8c8",
   "metadata": {},
   "outputs": [],
   "source": [
    "def sor_preconditioner(A, omega):\n",
    "    \"\"\"\n",
    "    Successive Over-Relaxation (SOR) preconditioner function for sparse matrices.\n",
    "    \n",
    "    Parameters:\n",
    "    A : scipy.sparse.csr_matrix\n",
    "        Sparse, symmetric, positive-definite matrix.\n",
    "    omega : float\n",
    "        Relaxation parameter (0 < omega < 2).\n",
    "        \n",
    "    Returns:\n",
    "    M_func : function\n",
    "        Function that applies the SOR preconditioner.\n",
    "    \"\"\"\n",
    "    D = diags(A.diagonal())  # Diagonal matrix of A\n",
    "    L = tril(A, k=-1)        # Lower triangular part of A\n",
    "    U = triu(A, k=1)         # Upper triangular part of A\n",
    "\n",
    "    # Calculate the inverse of the diagonal matrix plus omega times the lower triangular matrix\n",
    "    M_inv = splu(D + omega * L)\n",
    "    \n",
    "    def M_func(r):\n",
    "        # Solve (D + omega * L)z = r using forward substitution\n",
    "        z = M_inv.solve(r)\n",
    "        return z\n",
    "\n",
    "    return M_func\n"
   ]
  },
  {
   "cell_type": "code",
   "execution_count": 43,
   "id": "e006c452-8181-4e0d-a61c-7b9d4acd07f2",
   "metadata": {},
   "outputs": [],
   "source": [
    "def sor_symmetric_preconditioner(A, omega):\n",
    "    \"\"\"\n",
    "    Symmetric Successive Over-Relaxation (SOR) preconditioner function for sparse matrices.\n",
    "    \n",
    "    Parameters:\n",
    "    A : scipy.sparse.csr_matrix\n",
    "        Sparse, symmetric, positive-definite matrix.\n",
    "    omega : float\n",
    "        Relaxation parameter (0 < omega < 2).\n",
    "        \n",
    "    Returns:\n",
    "    M_func : function\n",
    "        Function that applies the symmetric SOR preconditioner.\n",
    "    \"\"\"\n",
    "    D = diags(A.diagonal())  # Diagonal matrix of A\n",
    "    L = tril(A, k=-1)        # Lower triangular part of A\n",
    "    U = triu(A, k=1)         # Upper triangular part of A\n",
    "\n",
    "    # Calculate the inverse of the symmetric SOR preconditioner\n",
    "    M_inv = splu(D + omega * L + omega * U)\n",
    "    \n",
    "    def M_func(r):\n",
    "        # Solve (D + omega * L + omega * U)z = r\n",
    "        z = M_inv.solve(r)\n",
    "        return z\n",
    "\n",
    "    return M_func\n"
   ]
  },
  {
   "cell_type": "code",
   "execution_count": 74,
   "id": "4930d5c5-b96d-429a-b5a3-ee176115dec4",
   "metadata": {},
   "outputs": [],
   "source": [
    "\n",
    "\n",
    "def incomplete_cholesky_preconditioner(A):\n",
    "    \"\"\"\n",
    "    Incomplete Cholesky preconditioner function for sparse matrices.\n",
    "    \n",
    "    Parameters:\n",
    "    A : scipy.sparse.csr_matrix\n",
    "        Sparse, symmetric, positive-definite matrix.\n",
    "        \n",
    "    Returns:\n",
    "    M_func : function\n",
    "        Function that applies the Incomplete Cholesky preconditioner.\n",
    "    \"\"\"\n",
    "    ILU = sparse_ilu(A)\n",
    "    ILU_solver = spsolve(ILU.T, np.eye(ILU.shape[0]))\n",
    "\n",
    "    def M_func(r):\n",
    "        # Solve Ly = r using forward substitution\n",
    "        y = spsolve(ILU, r)\n",
    "        # Solve U^Tz = y using backward substitution\n",
    "        z = ILU_solver @ y\n",
    "        return z\n",
    "\n",
    "    return M_func\n",
    "\n",
    "def sparse_ilu(A, drop_tol=1e-4):\n",
    "    \"\"\"\n",
    "    Incomplete LU factorization for sparse matrices.\n",
    "    \n",
    "    Parameters:\n",
    "    A : scipy.sparse.csr_matrix\n",
    "        Sparse, symmetric, positive-definite matrix.\n",
    "    drop_tol : float, optional\n",
    "        Threshold to drop elements during factorization. Default is 1e-4.\n",
    "        \n",
    "    Returns:\n",
    "    ILU : scipy.sparse.csr_matrix\n",
    "        Lower triangular matrix from the Incomplete LU factorization.\n",
    "    \"\"\"\n",
    "    ILU = spilu(A, fill_factor=drop_tol)\n",
    "    return ILU.L\n",
    "# def incomplete_cholesky_preconditioner(A):\n",
    "#     \"\"\"\n",
    "#     Incomplete Cholesky preconditioner function for sparse matrices.\n",
    "    \n",
    "#     Parameters:\n",
    "#     A : scipy.sparse.csr_matrix\n",
    "#         Sparse, symmetric, positive-definite matrix.\n",
    "        \n",
    "#     Returns:\n",
    "#     M_func : function\n",
    "#         Function that applies the Incomplete Cholesky preconditioner.\n",
    "#     \"\"\"\n",
    "#     L = sparse_ichol(A)\n",
    "#     L_solver = spsolve(L.T, np.eye(L.shape[0]))\n",
    "\n",
    "#     def M_func(r):\n",
    "#         # Solve Ly = r using forward substitution\n",
    "#         y = spsolve(L, r)\n",
    "#         # Solve L^Tz = y using backward substitution\n",
    "#         z = L_solver @ y\n",
    "#         return z\n",
    "\n",
    "#     return M_func\n",
    "\n",
    "# def sparse_ichol(A, drop_tol=1e-4):\n",
    "#     \"\"\"\n",
    "#     Incomplete Cholesky factorization for sparse matrices.\n",
    "    \n",
    "#     Parameters:\n",
    "#     A : scipy.sparse.csr_matrix\n",
    "#         Sparse, symmetric, positive-definite matrix.\n",
    "#     drop_tol : float, optional\n",
    "#         Threshold to drop elements during factorization. Default is 1e-4.\n",
    "        \n",
    "#     Returns:\n",
    "#     L : scipy.sparse.csr_matrix\n",
    "#         Lower triangular matrix from the Incomplete Cholesky factorization.\n",
    "#     \"\"\"\n",
    "#     n = A.shape[0]\n",
    "#     L = csr_matrix((n, n))\n",
    "\n",
    "#     for i in range(n):\n",
    "#         L[i, i] = np.sqrt(A[i, i])\n",
    "#         for j in range(i+1, n):\n",
    "#             if A[j, i] != 0:\n",
    "#                 L[j, i] = A[j, i] / L[i, i]\n",
    "#                 for k in range(i):\n",
    "#                     if L[j, k] != 0 and L[i, k] != 0:\n",
    "#                         A[j, k] -= L[j, i] * L[i, k]\n",
    "#             if abs(A[j, i]) < drop_tol * L[i, i]:\n",
    "#                 A[j, i] = 0\n",
    "\n",
    "#     return L\n"
   ]
  },
  {
   "cell_type": "code",
   "execution_count": 66,
   "id": "dd3cb64e-a6b4-46c3-9003-92b5d7c05cf7",
   "metadata": {},
   "outputs": [],
   "source": [
    "from scipy.sparse.linalg import spilu, spsolve\n",
    "\n",
    "def incomplete_lu_preconditioner(A):\n",
    "    \"\"\"\n",
    "    Incomplete LU preconditioner function for sparse matrices.\n",
    "    \n",
    "    Parameters:\n",
    "    A : scipy.sparse.csr_matrix\n",
    "        Sparse, symmetric, positive-definite matrix.\n",
    "        \n",
    "    Returns:\n",
    "    M_func : function\n",
    "        Function that applies the Incomplete LU preconditioner.\n",
    "    \"\"\"\n",
    "    ILU = sparse_ilu(A)\n",
    "    ILU_solver = spsolve(ILU.T, np.eye(ILU.shape[0]))\n",
    "\n",
    "    def M_func(r):\n",
    "        # Solve Ly = r using forward substitution\n",
    "        y = spsolve(ILU, r)\n",
    "        # Solve U^Tz = y using backward substitution\n",
    "        z = ILU_solver @ y\n",
    "        return z\n",
    "\n",
    "    return M_func\n",
    "\n",
    "def sparse_ilu(A, fill_factor=10):\n",
    "    \"\"\"\n",
    "    Incomplete LU factorization for sparse matrices.\n",
    "    \n",
    "    Parameters:\n",
    "    A : scipy.sparse.csr_matrix\n",
    "        Sparse, symmetric, positive-definite matrix.\n",
    "    fill_factor : int, optional\n",
    "        Fill factor for the ILU factorization. Default is 10.\n",
    "        \n",
    "    Returns:\n",
    "    ILU : scipy.sparse.csr_matrix\n",
    "        Lower triangular matrix from the Incomplete LU factorization.\n",
    "    \"\"\"\n",
    "    ILU = spilu(A, fill_factor=fill_factor)\n",
    "    return ILU.L\n",
    "\n"
   ]
  },
  {
   "cell_type": "code",
   "execution_count": 68,
   "id": "b8b7ed5b-c04b-42e3-9505-bd8f8035a0ab",
   "metadata": {},
   "outputs": [],
   "source": [
    "import numpy as np\n",
    "from scipy.sparse import kron\n",
    "from scipy.sparse.linalg import spilu\n",
    "\n",
    "def block_diagonal_preconditioner(A):\n",
    "    \"\"\"\n",
    "    Block diagonal preconditioner function for sparse matrices.\n",
    "    \n",
    "    Parameters:\n",
    "    A : scipy.sparse.csr_matrix\n",
    "        Sparse matrix.\n",
    "        \n",
    "    Returns:\n",
    "    M_func : function\n",
    "        Function that applies the block diagonal preconditioner.\n",
    "    \"\"\"\n",
    "    # Perform ILU(0) factorization on the block diagonal part of A\n",
    "    block_size = int(np.sqrt(A.shape[0]))\n",
    "    blocks = [A[i*block_size:(i+1)*block_size, i*block_size:(i+1)*block_size] for i in range(block_size)]\n",
    "    block_ILUs = [spilu(B) for B in blocks]\n",
    "\n",
    "    def M_func(r):\n",
    "        # Apply the preconditioner block by block\n",
    "        z = np.concatenate([block_ILUs[i].solve(r[i*block_size:(i+1)*block_size]) for i in range(block_size)])\n",
    "        return z\n",
    "\n",
    "    return M_func\n"
   ]
  },
  {
   "cell_type": "code",
   "execution_count": 30,
   "id": "aa4a95e0-95fc-4974-bbdf-1ea0a53eb86a",
   "metadata": {},
   "outputs": [
    {
     "name": "stdout",
     "output_type": "stream",
     "text": [
      "Iteration 0: Residual norm = 0.40243495901857923\n",
      "Iteration 1: Residual norm = 0.0\n",
      "Solution: [0.09090909 0.63636364]\n",
      "Number of iterations: 1\n"
     ]
    }
   ],
   "source": [
    "# Example usage:\n",
    "A = np.array([[4, 1], [1, 3]])\n",
    "b = np.array([1, 2])\n",
    "M_func = jacobi_preconditioner(A)\n",
    "x0 = np.zeros(2)\n",
    "x, num_iters = PreconditionedConjugateGradient(A, b, M_func, x0)\n",
    "print(\"Solution:\", x)\n",
    "print(\"Number of iterations:\", num_iters)"
   ]
  },
  {
   "cell_type": "code",
   "execution_count": 31,
   "id": "1dcdb849-7422-468e-b032-dffd96da66d0",
   "metadata": {},
   "outputs": [],
   "source": [
    "def testproblem(num, m):\n",
    "    if num == 1:\n",
    "    # Poisson matrix\n",
    "        a = -1;\n",
    "        b = a;\n",
    "        c = 2;\n",
    "    elif num == 2:\n",
    "    # Averaging problem\n",
    "        a = 1.0/9.0;\n",
    "        b = a;\n",
    "        c = 5.0/18.0;\n",
    "    # end \n",
    "    C1 = c*np.diag(np.ones(m),0)+a*np.diag(np.ones(m-1),-1)+a*np.diag(np.ones(m-1),1);\n",
    "    C2 = c*np.diag(np.ones(m),0)+b*np.diag(np.ones(m-1),-1)+b*np.diag(np.ones(m-1),1)\n",
    "    A = np.kron(np.eye(m),C1) + np.kron(C2, np.eye(m))\n",
    "    bvector = np.random.rand(m*m)\n",
    "    return sp.csr_matrix(A), bvector"
   ]
  },
  {
   "cell_type": "code",
   "execution_count": 75,
   "id": "31a17dab-41cc-4af9-b298-97b42ebba96e",
   "metadata": {},
   "outputs": [],
   "source": [
    "def printCG(iter, res):\n",
    "    print(f\" *** CG iteration {iter}, residual = {res:1.2e}\")   \n",
    "def TestCG_example(examplenumber, mm=5):\n",
    "    kappa = np.zeros(mm)\n",
    "    nn =np.zeros(mm, dtype=np.int64)\n",
    "    M = [5*2**i for i in range(mm)]\n",
    "    for m in range(len(M)):\n",
    "        A, b = testproblem(examplenumber, M[m])\n",
    "        x, nn[m] = ConjugateGradient(A,b, MAXIT=1000, print_iter=False)\n",
    "        kappa[m] = np.linalg.cond(A.todense())\n",
    "    tab = pd.DataFrame({'m':M, 'Matrix dim':np.square(M), 'Condition number':kappa, 'number of CG iterations': nn})\n",
    "    return tab\n",
    "def TestPCG_example(examplenumber, mm=5):\n",
    "    kappa = np.zeros(mm)\n",
    "    nn =np.zeros(mm, dtype=np.int64)\n",
    "    M = [5*2**i for i in range(mm)]\n",
    "    for m in range(len(M)):\n",
    "        A, b = testproblem(examplenumber, M[m])\n",
    "        # M_func = jacobi_preconditioner(A)\n",
    "        # M_func = gauss_seidel_preconditioner(A)\n",
    "        # M_func = gauss_seidel_symmetric_preconditioner(A)\n",
    "        # M_func = sor_preconditioner(A,omega=1.27)\n",
    "        # M_func = sor_symmetric_preconditioner(A,omega=1.65)\n",
    "        M_func = incomplete_cholesky_preconditioner(A)\n",
    "        # M_func = incomplete_lu_preconditioner(A)\n",
    "        # M_func = block_diagonal_preconditioner(A)\n",
    "        x, nn[m] = PreconditionedConjugateGradient(A,b, M_func, MAXIT=1000, print_iter=False)\n",
    "        kappa[m] = 1.0%np.linalg.cond(A.todense())\n",
    "    tab = pd.DataFrame({'m':M, 'Matrix dim':np.square(M), 'Condition number':kappa, 'number of CG iterations': nn})\n",
    "    return tab"
   ]
  },
  {
   "cell_type": "code",
   "execution_count": 33,
   "id": "34af54bf-82a9-43df-a0e1-e8d2c4442d4b",
   "metadata": {},
   "outputs": [
    {
     "data": {
      "text/html": [
       "<style type=\"text/css\">\n",
       "</style>\n",
       "<table id=\"T_28c1c\">\n",
       "  <caption>Example, increasing condition number</caption>\n",
       "  <thead>\n",
       "    <tr>\n",
       "      <th class=\"blank level0\" >&nbsp;</th>\n",
       "      <th id=\"T_28c1c_level0_col0\" class=\"col_heading level0 col0\" >m</th>\n",
       "      <th id=\"T_28c1c_level0_col1\" class=\"col_heading level0 col1\" >Matrix dim</th>\n",
       "      <th id=\"T_28c1c_level0_col2\" class=\"col_heading level0 col2\" >Condition number</th>\n",
       "      <th id=\"T_28c1c_level0_col3\" class=\"col_heading level0 col3\" >number of CG iterations</th>\n",
       "    </tr>\n",
       "  </thead>\n",
       "  <tbody>\n",
       "    <tr>\n",
       "      <th id=\"T_28c1c_level0_row0\" class=\"row_heading level0 row0\" >0</th>\n",
       "      <td id=\"T_28c1c_row0_col0\" class=\"data row0 col0\" >5</td>\n",
       "      <td id=\"T_28c1c_row0_col1\" class=\"data row0 col1\" >25</td>\n",
       "      <td id=\"T_28c1c_row0_col2\" class=\"data row0 col2\" >13.928203</td>\n",
       "      <td id=\"T_28c1c_row0_col3\" class=\"data row0 col3\" >12</td>\n",
       "    </tr>\n",
       "    <tr>\n",
       "      <th id=\"T_28c1c_level0_row1\" class=\"row_heading level0 row1\" >1</th>\n",
       "      <td id=\"T_28c1c_row1_col0\" class=\"data row1 col0\" >10</td>\n",
       "      <td id=\"T_28c1c_row1_col1\" class=\"data row1 col1\" >100</td>\n",
       "      <td id=\"T_28c1c_row1_col2\" class=\"data row1 col2\" >48.374150</td>\n",
       "      <td id=\"T_28c1c_row1_col3\" class=\"data row1 col3\" >33</td>\n",
       "    </tr>\n",
       "    <tr>\n",
       "      <th id=\"T_28c1c_level0_row2\" class=\"row_heading level0 row2\" >2</th>\n",
       "      <td id=\"T_28c1c_row2_col0\" class=\"data row2 col0\" >20</td>\n",
       "      <td id=\"T_28c1c_row2_col1\" class=\"data row2 col1\" >400</td>\n",
       "      <td id=\"T_28c1c_row2_col2\" class=\"data row2 col2\" >178.064275</td>\n",
       "      <td id=\"T_28c1c_row2_col3\" class=\"data row2 col3\" >67</td>\n",
       "    </tr>\n",
       "    <tr>\n",
       "      <th id=\"T_28c1c_level0_row3\" class=\"row_heading level0 row3\" >3</th>\n",
       "      <td id=\"T_28c1c_row3_col0\" class=\"data row3 col0\" >40</td>\n",
       "      <td id=\"T_28c1c_row3_col1\" class=\"data row3 col1\" >1600</td>\n",
       "      <td id=\"T_28c1c_row3_col2\" class=\"data row3 col2\" >680.617070</td>\n",
       "      <td id=\"T_28c1c_row3_col3\" class=\"data row3 col3\" >134</td>\n",
       "    </tr>\n",
       "    <tr>\n",
       "      <th id=\"T_28c1c_level0_row4\" class=\"row_heading level0 row4\" >4</th>\n",
       "      <td id=\"T_28c1c_row4_col0\" class=\"data row4 col0\" >80</td>\n",
       "      <td id=\"T_28c1c_row4_col1\" class=\"data row4 col1\" >6400</td>\n",
       "      <td id=\"T_28c1c_row4_col2\" class=\"data row4 col2\" >2658.406502</td>\n",
       "      <td id=\"T_28c1c_row4_col3\" class=\"data row4 col3\" >271</td>\n",
       "    </tr>\n",
       "  </tbody>\n",
       "</table>\n"
      ],
      "text/plain": [
       "<pandas.io.formats.style.Styler at 0x7ffa727c1610>"
      ]
     },
     "execution_count": 33,
     "metadata": {},
     "output_type": "execute_result"
    }
   ],
   "source": [
    "tab1 = TestCG_example(examplenumber=1, mm=5)\n",
    "tab1 = tab1.style.set_caption('Example, increasing condition number')\n",
    "tab1"
   ]
  },
  {
   "cell_type": "code",
   "execution_count": 29,
   "id": "d0e03113-ed6b-4328-84d2-1ccac01b5b41",
   "metadata": {},
   "outputs": [
    {
     "data": {
      "text/html": [
       "<style type=\"text/css\">\n",
       "</style>\n",
       "<table id=\"T_c8041\">\n",
       "  <caption>Example, bounded condition number</caption>\n",
       "  <thead>\n",
       "    <tr>\n",
       "      <th class=\"blank level0\" >&nbsp;</th>\n",
       "      <th id=\"T_c8041_level0_col0\" class=\"col_heading level0 col0\" >m</th>\n",
       "      <th id=\"T_c8041_level0_col1\" class=\"col_heading level0 col1\" >Matrix dim</th>\n",
       "      <th id=\"T_c8041_level0_col2\" class=\"col_heading level0 col2\" >Condition number</th>\n",
       "      <th id=\"T_c8041_level0_col3\" class=\"col_heading level0 col3\" >number of CG iterations</th>\n",
       "    </tr>\n",
       "  </thead>\n",
       "  <tbody>\n",
       "    <tr>\n",
       "      <th id=\"T_c8041_level0_row0\" class=\"row_heading level0 row0\" >0</th>\n",
       "      <td id=\"T_c8041_row0_col0\" class=\"data row0 col0\" >5</td>\n",
       "      <td id=\"T_c8041_row0_col1\" class=\"data row0 col1\" >25</td>\n",
       "      <td id=\"T_c8041_row0_col2\" class=\"data row0 col2\" >5.510847</td>\n",
       "      <td id=\"T_c8041_row0_col3\" class=\"data row0 col3\" >12</td>\n",
       "    </tr>\n",
       "    <tr>\n",
       "      <th id=\"T_c8041_level0_row1\" class=\"row_heading level0 row1\" >1</th>\n",
       "      <td id=\"T_c8041_row1_col0\" class=\"data row1 col0\" >10</td>\n",
       "      <td id=\"T_c8041_row1_col1\" class=\"data row1 col1\" >100</td>\n",
       "      <td id=\"T_c8041_row1_col2\" class=\"data row1 col2\" >7.605644</td>\n",
       "      <td id=\"T_c8041_row1_col3\" class=\"data row1 col3\" >22</td>\n",
       "    </tr>\n",
       "    <tr>\n",
       "      <th id=\"T_c8041_level0_row2\" class=\"row_heading level0 row2\" >2</th>\n",
       "      <td id=\"T_c8041_row2_col0\" class=\"data row2 col0\" >20</td>\n",
       "      <td id=\"T_c8041_row2_col1\" class=\"data row2 col1\" >400</td>\n",
       "      <td id=\"T_c8041_row2_col2\" class=\"data row2 col2\" >8.572340</td>\n",
       "      <td id=\"T_c8041_row2_col3\" class=\"data row2 col3\" >28</td>\n",
       "    </tr>\n",
       "    <tr>\n",
       "      <th id=\"T_c8041_level0_row3\" class=\"row_heading level0 row3\" >3</th>\n",
       "      <td id=\"T_c8041_row3_col0\" class=\"data row3 col0\" >40</td>\n",
       "      <td id=\"T_c8041_row3_col1\" class=\"data row3 col1\" >1600</td>\n",
       "      <td id=\"T_c8041_row3_col2\" class=\"data row3 col2\" >8.883994</td>\n",
       "      <td id=\"T_c8041_row3_col3\" class=\"data row3 col3\" >29</td>\n",
       "    </tr>\n",
       "    <tr>\n",
       "      <th id=\"T_c8041_level0_row4\" class=\"row_heading level0 row4\" >4</th>\n",
       "      <td id=\"T_c8041_row4_col0\" class=\"data row4 col0\" >80</td>\n",
       "      <td id=\"T_c8041_row4_col1\" class=\"data row4 col1\" >6400</td>\n",
       "      <td id=\"T_c8041_row4_col2\" class=\"data row4 col2\" >8.970008</td>\n",
       "      <td id=\"T_c8041_row4_col3\" class=\"data row4 col3\" >30</td>\n",
       "    </tr>\n",
       "  </tbody>\n",
       "</table>\n"
      ],
      "text/plain": [
       "<pandas.io.formats.style.Styler at 0x7fc69d63c4c0>"
      ]
     },
     "execution_count": 29,
     "metadata": {},
     "output_type": "execute_result"
    }
   ],
   "source": [
    "tab2 = TestCG_example(examplenumber=2, mm=5)\n",
    "tab2 = tab2.style.set_caption('Example, bounded condition number')\n",
    "tab2"
   ]
  },
  {
   "cell_type": "code",
   "execution_count": null,
   "id": "8cad0f59-c6af-44f2-bb2f-2bb1f93c3442",
   "metadata": {},
   "outputs": [],
   "source": [
    "tab3 = TestPCG_example(examplenumber=1, mm=5)\n",
    "tab3 = tab3.style.set_caption('Example, increasing condition number')\n",
    "tab3"
   ]
  },
  {
   "cell_type": "code",
   "execution_count": 5,
   "id": "1407eb3b-79ac-4e72-a079-68a67d1deac6",
   "metadata": {},
   "outputs": [
    {
     "data": {
      "text/plain": [
       "dtype('int64')"
      ]
     },
     "execution_count": 5,
     "metadata": {},
     "output_type": "execute_result"
    }
   ],
   "source": []
  },
  {
   "cell_type": "code",
   "execution_count": 6,
   "id": "20d38b74-adb1-4c59-b942-f23376e78ac1",
   "metadata": {},
   "outputs": [],
   "source": [
    "from scipy.sparse.linalg import cg\n",
    "\n",
    "Afree = Aload[fd,:][:,fd]\n",
    "bfree = bload[fd]\n",
    "xsol = np.zeros(bload.size, dtype=np.float64)\n",
    "xsol[fd], exit_code = cg(Afree, bfree, atol=1e-8)"
   ]
  },
  {
   "cell_type": "code",
   "execution_count": 7,
   "id": "5ae5d136-55c9-41c0-b236-832fec684cbe",
   "metadata": {},
   "outputs": [
    {
     "name": "stdout",
     "output_type": "stream",
     "text": [
      "0\n"
     ]
    }
   ],
   "source": [
    "print(exit_code)"
   ]
  },
  {
   "cell_type": "code",
   "execution_count": 12,
   "id": "8675581c-ef85-4043-a46d-a6f0c9d899fb",
   "metadata": {},
   "outputs": [],
   "source": [
    "\n",
    "from ngsolve import *\n",
    "from ngsolve.webgui import Draw"
   ]
  },
  {
   "cell_type": "code",
   "execution_count": 13,
   "id": "ae2f7f39-9dfa-499d-95c9-edbaf63aab2a",
   "metadata": {},
   "outputs": [
    {
     "data": {
      "application/vnd.jupyter.widget-view+json": {
       "model_id": "205b8c3532d04d669d58eaceee5984f4",
       "version_major": 2,
       "version_minor": 0
      },
      "text/plain": [
       "WebGuiWidget(layout=Layout(height='50vh', width='100%'), value={'gui_settings': {}, 'ngsolve_version': '6.2.22…"
      ]
     },
     "metadata": {},
     "output_type": "display_data"
    }
   ],
   "source": [
    "mesh = Mesh('mesh_elasticity.vol')\n",
    "Draw(mesh);"
   ]
  },
  {
   "cell_type": "code",
   "execution_count": 14,
   "id": "a537f61e-075e-431d-9069-aad7703e9fe4",
   "metadata": {},
   "outputs": [
    {
     "name": "stdout",
     "output_type": "stream",
     "text": [
      "6873 6873\n"
     ]
    }
   ],
   "source": [
    "fes = VectorH1(mesh, order=1, dirichlet=\"fix\")\n",
    "print(xsol.size, fes.ndof)\n",
    "gfu = GridFunction(fes)\n",
    "gfu.vec.FV().NumPy()[:] = xsol"
   ]
  },
  {
   "cell_type": "code",
   "execution_count": 15,
   "id": "0f9347f2-c7df-45cf-ac42-7229672d4235",
   "metadata": {},
   "outputs": [
    {
     "data": {
      "application/vnd.jupyter.widget-view+json": {
       "model_id": "d5f63b5ee75d4a51b28f7920d8719a27",
       "version_major": 2,
       "version_minor": 0
      },
      "text/plain": [
       "WebGuiWidget(layout=Layout(height='50vh', width='100%'), value={'gui_settings': {}, 'ngsolve_version': '6.2.22…"
      ]
     },
     "metadata": {},
     "output_type": "display_data"
    },
    {
     "data": {
      "text/plain": [
       "BaseWebGuiScene"
      ]
     },
     "execution_count": 15,
     "metadata": {},
     "output_type": "execute_result"
    }
   ],
   "source": [
    "Draw(gfu)"
   ]
  },
  {
   "cell_type": "code",
   "execution_count": null,
   "id": "47fd750d-1d30-45c6-b6bd-180b47cd6e45",
   "metadata": {},
   "outputs": [],
   "source": []
  }
 ],
 "metadata": {
  "kernelspec": {
   "display_name": "Python 3",
   "language": "python",
   "name": "python3"
  },
  "language_info": {
   "codemirror_mode": {
    "name": "ipython",
    "version": 3
   },
   "file_extension": ".py",
   "mimetype": "text/x-python",
   "name": "python",
   "nbconvert_exporter": "python",
   "pygments_lexer": "ipython3",
   "version": "3.8.5"
  },
  "varInspector": {
   "cols": {
    "lenName": 16,
    "lenType": 16,
    "lenVar": 40
   },
   "kernels_config": {
    "python": {
     "delete_cmd_postfix": "",
     "delete_cmd_prefix": "del ",
     "library": "var_list.py",
     "varRefreshCmd": "print(var_dic_list())"
    },
    "r": {
     "delete_cmd_postfix": ") ",
     "delete_cmd_prefix": "rm(",
     "library": "var_list.r",
     "varRefreshCmd": "cat(var_dic_list()) "
    }
   },
   "types_to_exclude": [
    "module",
    "function",
    "builtin_function_or_method",
    "instance",
    "_Feature"
   ],
   "window_display": false
  }
 },
 "nbformat": 4,
 "nbformat_minor": 5
}
