{
 "cells": [
  {
   "cell_type": "markdown",
   "id": "2fc42c3e-4c36-479b-8de9-433355c737dd",
   "metadata": {},
   "source": [
    "# Tarea 6 prep"
   ]
  },
  {
   "cell_type": "code",
   "execution_count": 1,
   "id": "12a2ae5c-7a63-4806-99d7-34b9eab08533",
   "metadata": {},
   "outputs": [],
   "source": [
    "import scipy.sparse as sp\n",
    "from scipy.sparse.linalg import cg\n",
    "import numpy as np\n",
    "# !pip install vtk\n",
    "from vtk import *"
   ]
  },
  {
   "cell_type": "code",
   "execution_count": 2,
   "id": "039b865e-6f24-4b99-954e-382e42e4b8fa",
   "metadata": {},
   "outputs": [],
   "source": [
    "# load system\n",
    "Aload = sp.load_npz('elasticity_matrix.npz')\n",
    "bload = np.load('rhs.npy')\n",
    "fd = np.load('freedofs.npy')"
   ]
  },
  {
   "cell_type": "code",
   "execution_count": 4,
   "id": "3ee40e7b-e1c6-4ebc-b95c-b0e8e224643c",
   "metadata": {},
   "outputs": [],
   "source": [
    "# Solve\n",
    "Afree = Aload[fd,:][:,fd]\n",
    "bfree = bload[fd]\n",
    "xsol = np.zeros(bload.size, dtype=np.float64)\n",
    "# Your solver\n",
    "# xsol[fd], exit_code = PCGSOLVER(Afree, bfree, P = Gauss_Sidel, tol=1e-8)"
   ]
  },
  {
   "cell_type": "markdown",
   "id": "903e558c-9528-42ec-b892-2259c202def1",
   "metadata": {},
   "source": [
    "## plotting"
   ]
  },
  {
   "cell_type": "code",
   "execution_count": 5,
   "id": "fe2bdd5a-bfbf-4b75-8c0d-ca2137b702e6",
   "metadata": {},
   "outputs": [],
   "source": [
    "numpy_vertices = np.load('vertices.npy')\n",
    "numpy_elements = np.load('elements.npy')\n",
    "\n",
    "number_of_points = numpy_vertices.shape[0]\n",
    "number_of_elements = numpy_elements.shape[0]"
   ]
  },
  {
   "cell_type": "code",
   "execution_count": 7,
   "id": "1e3be084-aa54-497b-a2e0-d7aa857fc234",
   "metadata": {},
   "outputs": [
    {
     "data": {
      "text/plain": [
       "1"
      ]
     },
     "execution_count": 7,
     "metadata": {},
     "output_type": "execute_result"
    }
   ],
   "source": [
    "my_vtk_dataset = vtkUnstructuredGrid()\n",
    "points = vtkPoints()\n",
    "for id in range(number_of_points):\n",
    "    points.InsertPoint(id, numpy_vertices[id,:])\n",
    "my_vtk_dataset.SetPoints(points)\n",
    "\n",
    "elements_type = VTK_TETRA\n",
    "my_vtk_dataset.Allocate(number_of_elements)\n",
    "for id in range(number_of_elements):\n",
    "    point_ids = numpy_elements[id,:]\n",
    "    my_vtk_dataset.InsertNextCell(elements_type, 4, point_ids)\n",
    "\n",
    "array = vtkDoubleArray()\n",
    "array.SetNumberOfComponents(3)\n",
    "array.SetNumberOfTuples(number_of_points)\n",
    "array.SetName('Displacement')\n",
    "for id in range(number_of_points):\n",
    "    values = [xsol[id], xsol[id+number_of_points], xsol[id+2*number_of_points]]\n",
    "    array.SetTuple(id, values)\n",
    "my_vtk_dataset.GetPointData().AddArray(array)\n",
    "\n",
    "writer = vtkXMLUnstructuredGridWriter()\n",
    "writer.SetFileName(\"tarea6_displacement.vtu\")\n",
    "writer.SetInputData(my_vtk_dataset)\n",
    "writer.Write()"
   ]
  },
  {
   "cell_type": "code",
   "execution_count": 12,
   "id": "36cd1a12-1803-405d-8a2c-fa957a9eba20",
   "metadata": {},
   "outputs": [],
   "source": [
    "import numpy as np\n",
    "A = np.array([[-1,-1,1],[1,-1,0],[0,2,-1]], dtype=np.float64)\n",
    "xsol = np.array([-1,2,3], dtype=np.float64)\n",
    "b = A.dot(xsol )"
   ]
  },
  {
   "cell_type": "code",
   "execution_count": 13,
   "id": "6281f35c",
   "metadata": {},
   "outputs": [
    {
     "name": "stdout",
     "output_type": "stream",
     "text": [
      "[[-0.38888889  0.44444444 -0.05555556]\n",
      " [-0.05555556 -0.22222222  0.27777778]\n",
      " [ 0.22222222 -0.11111111 -0.11111111]]\n"
     ]
    }
   ],
   "source": [
    "Ainv = np.linalg.pinv(A)\n",
    "print(Ainv)"
   ]
  },
  {
   "cell_type": "code",
   "execution_count": 14,
   "id": "541bb4df",
   "metadata": {
    "scrolled": true
   },
   "outputs": [
    {
     "name": "stdout",
     "output_type": "stream",
     "text": [
      "[[ 0.66666667 -0.33333333 -0.33333333]\n",
      " [-0.33333333  0.66666667 -0.33333333]\n",
      " [-0.33333333 -0.33333333  0.66666667]]\n"
     ]
    }
   ],
   "source": [
    "print(A@Ainv)"
   ]
  },
  {
   "cell_type": "code",
   "execution_count": 17,
   "id": "3bd154af",
   "metadata": {},
   "outputs": [
    {
     "name": "stdout",
     "output_type": "stream",
     "text": [
      "[-2.16666667  0.83333333  0.66666667]\n"
     ]
    }
   ],
   "source": [
    "x = Ainv.dot(b)\n",
    "print(x)"
   ]
  },
  {
   "cell_type": "code",
   "execution_count": 16,
   "id": "6ca3ffb5",
   "metadata": {},
   "outputs": [
    {
     "name": "stdout",
     "output_type": "stream",
     "text": [
      "[ 2. -3.  1.] [ 2. -3.  1.]\n"
     ]
    }
   ],
   "source": [
    "print(A.dot(x), b)"
   ]
  },
  {
   "cell_type": "code",
   "execution_count": null,
   "id": "c75150d6",
   "metadata": {},
   "outputs": [],
   "source": []
  }
 ],
 "metadata": {
  "kernelspec": {
   "display_name": "Python 3 (ipykernel)",
   "language": "python",
   "name": "python3"
  },
  "language_info": {
   "codemirror_mode": {
    "name": "ipython",
    "version": 3
   },
   "file_extension": ".py",
   "mimetype": "text/x-python",
   "name": "python",
   "nbconvert_exporter": "python",
   "pygments_lexer": "ipython3",
   "version": "3.7.9"
  },
  "varInspector": {
   "cols": {
    "lenName": 16,
    "lenType": 16,
    "lenVar": 40
   },
   "kernels_config": {
    "python": {
     "delete_cmd_postfix": "",
     "delete_cmd_prefix": "del ",
     "library": "var_list.py",
     "varRefreshCmd": "print(var_dic_list())"
    },
    "r": {
     "delete_cmd_postfix": ") ",
     "delete_cmd_prefix": "rm(",
     "library": "var_list.r",
     "varRefreshCmd": "cat(var_dic_list()) "
    }
   },
   "types_to_exclude": [
    "module",
    "function",
    "builtin_function_or_method",
    "instance",
    "_Feature"
   ],
   "window_display": false
  }
 },
 "nbformat": 4,
 "nbformat_minor": 5
}
