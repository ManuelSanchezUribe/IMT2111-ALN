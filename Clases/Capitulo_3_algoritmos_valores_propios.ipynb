{
 "cells": [
  {
   "cell_type": "markdown",
   "id": "d1d31f37",
   "metadata": {},
   "source": [
    "<center><h1 style=\"color:#173F8A;\"> Algebra Lineal Numerica, IMT2111, 2024-1 </h1></center>\n",
    "<h3 style=\"color:#173F8A;text-align:right;\"> Instituto de Ingenieria Matematica y Computacional<br>  Pontificia Universidad Catolica de Chile <br>  </h3>\n",
    "<h3 style=\"color:#0176DE;text-align:right;\"> Profesor. Manuel A. Sanchez<br> </h3>\n",
    "<hr style=\"border:2px solid #03122E\"> </hr>\n",
    "\n",
    "<!-- Palette colors UC: celeste:#0176DE, azul #173F8A, azul oscuro: #03122E, amarillo: #FEC60D, amarillo oscuro: #E3AE00 -->\n",
    "<!--\n",
    "<figure>\n",
    "<img align =\"right\" src=\"IMClogo.png\" alt=\"logo\" width=\"250\" height=\"400\"><br><br><br><br><br>\n",
    "</figure>\n",
    " -->"
   ]
  },
  {
   "cell_type": "code",
   "execution_count": 1,
   "id": "78f1789e",
   "metadata": {},
   "outputs": [
    {
     "data": {
      "text/html": [
       "<style>.output {display: flex;align-items: center;text-align: center;}</style>"
      ],
      "text/plain": [
       "<IPython.core.display.HTML object>"
      ]
     },
     "metadata": {},
     "output_type": "display_data"
    }
   ],
   "source": [
    "import numpy as np\n",
    "import scipy as scp\n",
    "import matplotlib.pyplot as plt\n",
    "import pandas as pd\n",
    "from IPython.display import display, HTML\n",
    "display(HTML(\"\"\"<style>.output {display: flex;align-items: center;text-align: center;}</style>\"\"\"))"
   ]
  },
  {
   "cell_type": "code",
   "execution_count": 2,
   "id": "f8b93727",
   "metadata": {},
   "outputs": [],
   "source": [
    "global QR_TOL\n",
    "QR_TOL = 10**(-12)"
   ]
  },
  {
   "cell_type": "code",
   "execution_count": 3,
   "id": "139c6b5c",
   "metadata": {},
   "outputs": [],
   "source": [
    "def iteracion_potencia(A, x0 = None, MAXITER=1000, tol=1e-9):\n",
    "    if x0 is None:\n",
    "        x_k = np.random.rand(A.shape[1])\n",
    "    else:\n",
    "        x_k = x0.copy()\n",
    "    lambda_k = np.dot(x_k, np.dot(A, x_k)) / x_k.dot(x_k)\n",
    "\n",
    "    k = 0\n",
    "    while k<MAXITER and np.linalg.norm(A.dot(x_k)-lambda_k*x_k)>tol:\n",
    "        x_k1 = np.dot(A, x_k)\n",
    "        x_k1_norm = np.linalg.norm(x_k1)\n",
    "        x_k = x_k1 / x_k1_norm\n",
    "        \n",
    "        lambda_k = np.dot(x_k, np.dot(A, x_k)) \n",
    "        k +=1\n",
    "    return lambda_k, x_k"
   ]
  },
  {
   "cell_type": "code",
   "execution_count": 4,
   "id": "1b1588a7",
   "metadata": {},
   "outputs": [
    {
     "name": "stdout",
     "output_type": "stream",
     "text": [
      "Valor propio dominante: 4.99999999967897\n",
      "Vector propio correspondiente: [0.70710678 0.70710678]\n"
     ]
    }
   ],
   "source": [
    "A = np.array([[4, 1], [2, 3]])\n",
    "# A = np.array([[4, 0,0], [0, -1,0],[0,0,-5]])\n",
    "eigenvalue, eigenvector = iteracion_potencia(A)\n",
    "print(\"Valor propio dominante:\", eigenvalue)\n",
    "print(\"Vector propio correspondiente:\", eigenvector)"
   ]
  },
  {
   "cell_type": "code",
   "execution_count": 5,
   "id": "83423c9b",
   "metadata": {},
   "outputs": [],
   "source": [
    "from scipy.linalg import lu_factor, lu_solve\n",
    "def iteracion_inversa(A, sigma,x0 = None, MAXITER=10000, tol=1e-9):\n",
    "    n = A.shape[0]\n",
    "    \n",
    "    if x0 is None:\n",
    "        x_k = np.random.rand(A.shape[1])\n",
    "    else:\n",
    "        x_k = x0.copy()\n",
    "    lambda_k = np.dot(x_k, np.dot(A, x_k)) / x_k.dot(x_k)\n",
    "\n",
    "    k = 0\n",
    "    LU, piv = lu_factor(A - sigma * np.eye(n))\n",
    "    while k<MAXITER and np.linalg.norm(A.dot(x_k)-lambda_k*x_k)>tol:\n",
    "        # Resolvemos el sistema lineal usando la factorización LU\n",
    "        \n",
    "        x_k1 = lu_solve((LU, piv), x_k)\n",
    "        x_k1_norm = np.linalg.norm(x_k1)\n",
    "        x_k = x_k1 / x_k1_norm\n",
    "        \n",
    "        lambda_k = np.dot(x_k, np.dot(A, x_k)) \n",
    "        k +=1\n",
    "    return lambda_k, x_k"
   ]
  },
  {
   "cell_type": "code",
   "execution_count": 6,
   "id": "a6584113",
   "metadata": {},
   "outputs": [
    {
     "name": "stdout",
     "output_type": "stream",
     "text": [
      "Valor propio más cercano a 4.0 : 4.99999999981306\n",
      "Vector propio correspondiente: [0.70710678 0.70710678]\n"
     ]
    }
   ],
   "source": [
    "A = np.array([[4, 1], [2, 3]])\n",
    "# A = np.array([[4, 0,0], [0, -1,0],[0,0,5]])\n",
    "sigma = 4.0\n",
    "eigenvalue, eigenvector = iteracion_inversa(A, sigma)\n",
    "print(\"Valor propio más cercano a\", sigma, \":\", eigenvalue)\n",
    "print(\"Vector propio correspondiente:\", eigenvector)"
   ]
  },
  {
   "cell_type": "code",
   "execution_count": 7,
   "id": "a46d2009",
   "metadata": {},
   "outputs": [],
   "source": [
    "def iteracion_ortogonal(A, p, Z0=None, MAXITER=20, tol=1e-9):\n",
    "    n = A.shape[0]\n",
    "    if Z0 is None:\n",
    "#         Z_k, _ = np.linalg.qr(np.random.rand(n, p))\n",
    "        Z_k = np.eye(n)[:,:p]\n",
    "    else:\n",
    "        Z_k = Z0.copy()\n",
    "    \n",
    "    k=0\n",
    "    while k<MAXITER:\n",
    "        Y_k1 = A@Z_k\n",
    "        \n",
    "        # Factorizacion QR\n",
    "        Z_k, R_k = np.linalg.qr(Y_k1)\n",
    "        k+=1\n",
    "    \n",
    "    # Los valores propios se encuentran en la diagonal de R\n",
    "    eigenvalues = np.diag(R_k)\n",
    "    \n",
    "    return eigenvalues, R_k"
   ]
  },
  {
   "cell_type": "code",
   "execution_count": 8,
   "id": "d2c5b782",
   "metadata": {},
   "outputs": [
    {
     "name": "stdout",
     "output_type": "stream",
     "text": [
      "Valores propios: [ 4. -1.  5.]\n",
      "R_k:\n",
      "[[ 4.  0.  0.]\n",
      " [ 0. -1.  0.]\n",
      " [ 0.  0.  5.]]\n"
     ]
    }
   ],
   "source": [
    "\n",
    "# Ejemplo de uso\n",
    "# A = np.array([[4, 1], [2, 3]])\n",
    "A = np.array([[4, 0,0], [0, -1,0],[0,0,5]])\n",
    "# A = np.array([[3.5488, 15.593, 8.5775, -4.0123],\n",
    "#               [2.3595, 24.526, 14.596, -5.8157],\n",
    "#               [8.9953e-2, 27.599, 21.483, -5.8415],\n",
    "#               [1.9227, 55.667, 39.717, -10.558]])\n",
    "eigenvalues, eigenvectors = iteracion_ortogonal(A, p=3, MAXITER=1000)\n",
    "print(\"Valores propios:\", eigenvalues)\n",
    "print(\"R_k:\")\n",
    "print(eigenvectors)"
   ]
  },
  {
   "cell_type": "code",
   "execution_count": 9,
   "id": "4dd6e84c",
   "metadata": {},
   "outputs": [],
   "source": [
    "def Iteracion_QR(A):\n",
    "    T = A.copy()\n",
    "    k = T.shape[0]\n",
    "    lambdas = np.zeros(k)\n",
    "    k -= 1\n",
    "    \n",
    "    while k > 0:\n",
    "        Q, R = np.linalg.qr(T)\n",
    "        T = R@Q\n",
    "        delta = np.abs(T[k,k-1])\n",
    "        if delta < QR_TOL:\n",
    "            lambdas[k] = T[k,k]\n",
    "            T = T[:k,:k]\n",
    "            k -= 1\n",
    "    lambdas[0] = T\n",
    "    return np.array(lambdas), delta"
   ]
  },
  {
   "cell_type": "code",
   "execution_count": 10,
   "id": "75b28797",
   "metadata": {},
   "outputs": [
    {
     "name": "stdout",
     "output_type": "stream",
     "text": [
      "Valores propios: [29.999601    6.0002065   1.99977623  1.00021626]\n",
      "R_k:\n",
      "2.2732529145506414e-30\n"
     ]
    }
   ],
   "source": [
    "\n",
    "# Ejemplo de uso\n",
    "# A = np.array([[4, 1], [2, 3]])\n",
    "# A = np.array([[4, 0,0], [0, -1,0],[0,0,5]])\n",
    "A = np.array([[3.5488, 15.593, 8.5775, -4.0123],\n",
    "              [2.3595, 24.526, 14.596, -5.8157],\n",
    "              [8.9953e-2, 27.599, 21.483, -5.8415],\n",
    "              [1.9227, 55.667, 39.717, -10.558]])\n",
    "eigenvalues, eigenvectors =Iteracion_QR(A)\n",
    "print(\"Valores propios:\", eigenvalues)\n",
    "print(\"R_k:\")\n",
    "print(eigenvectors)"
   ]
  },
  {
   "cell_type": "code",
   "execution_count": 11,
   "id": "07d53115",
   "metadata": {},
   "outputs": [
    {
     "data": {
      "image/png": "[encoded data removed]",
      "text/plain": [
       "<Figure size 640x480 with 1 Axes>"
      ]
     },
     "metadata": {},
     "output_type": "display_data"
    }
   ],
   "source": [
    "A = 2*np.eye(10) - np.diag(np.ones(9),-1) -np.diag(np.ones(9),1)\n",
    "plt.spy(A)\n",
    "plt.show()"
   ]
  },
  {
   "cell_type": "code",
   "execution_count": 12,
   "id": "410d07de",
   "metadata": {},
   "outputs": [
    {
     "name": "stdout",
     "output_type": "stream",
     "text": [
      "[3.91898595 3.68250707 3.30972147 2.83083003 2.28462968 1.71537032\n",
      " 1.16916997 0.69027853 0.31749293 0.08101405]\n",
      "[3.91898595 3.68250707 3.30972147 2.83083003 2.28462968 1.71537032\n",
      " 1.16916997 0.69027853 0.31749293 0.08101405]\n"
     ]
    }
   ],
   "source": [
    "lambdas, delta = Iteracion_QR(A)\n",
    "print(lambdas)\n",
    "print(np.sort(np.linalg.eigh(A)[0])[::-1])"
   ]
  },
  {
   "cell_type": "code",
   "execution_count": 33,
   "id": "ed51cd2d",
   "metadata": {},
   "outputs": [],
   "source": [
    "def my_sign(x):\n",
    "    if x>=0:\n",
    "        return 1.0\n",
    "    else:\n",
    "        return -1.0\n",
    "def Iteracion_QR_shift(A, shift='Rayleigh'):\n",
    "    T = A.copy()\n",
    "    k = T.shape[0]\n",
    "    lambdas = np.zeros(k)\n",
    "    eigenvector = []\n",
    "    k -= 1\n",
    "    while k > 0:\n",
    "        if shift == 'Rayleigh':\n",
    "            mu = T[k,k];\n",
    "            muI = mu*np.eye(k+1)\n",
    "        elif shift =='Wilkinson':\n",
    "            d = (T[k-1,k-1]-T[k,k])/2 \n",
    "            mu = T[k,k] - my_sign(d)*T[k,k-1]**2/(np.abs(d)+np.sqrt(d**2+T[k,k-1]**2));\n",
    "            muI = mu*np.eye(k+1)\n",
    "        else: \n",
    "            mu = 0; muI = np.zeros(k+1)\n",
    "        Q, R = np.linalg.qr(T-muI)\n",
    "        T = R@Q + muI\n",
    "        delta = np.abs(T[k,k-1])\n",
    "        if delta < QR_TOL:\n",
    "            lambdas[k] = T[k,k]\n",
    "            T = T[:k,:k]\n",
    "            k -= 1\n",
    "    lambdas[0] = T\n",
    "    return np.array(lambdas)#, delta"
   ]
  },
  {
   "cell_type": "code",
   "execution_count": 34,
   "id": "48128457",
   "metadata": {},
   "outputs": [
    {
     "ename": "ValueError",
     "evalue": "too many values to unpack (expected 2)",
     "output_type": "error",
     "traceback": [
      "\u001b[1;31m---------------------------------------------------------------------------\u001b[0m",
      "\u001b[1;31mValueError\u001b[0m                                Traceback (most recent call last)",
      "\u001b[1;32m~\\AppData\\Local\\Temp\\ipykernel_12800\\1767761503.py\u001b[0m in \u001b[0;36m<module>\u001b[1;34m\u001b[0m\n\u001b[1;32m----> 1\u001b[1;33m \u001b[0mlambdas\u001b[0m\u001b[1;33m,\u001b[0m \u001b[0mdelta\u001b[0m \u001b[1;33m=\u001b[0m \u001b[0mIteracion_QR_shift\u001b[0m\u001b[1;33m(\u001b[0m\u001b[0mA\u001b[0m\u001b[1;33m,\u001b[0m \u001b[0mshift\u001b[0m\u001b[1;33m=\u001b[0m\u001b[1;34m'Wilkinson'\u001b[0m\u001b[1;33m)\u001b[0m\u001b[1;33m\u001b[0m\u001b[1;33m\u001b[0m\u001b[0m\n\u001b[0m\u001b[0;32m      2\u001b[0m \u001b[1;31m# lambdas, delta = Iteracion_QR_shift(A, shift='Rayleigh')\u001b[0m\u001b[1;33m\u001b[0m\u001b[1;33m\u001b[0m\u001b[1;33m\u001b[0m\u001b[0m\n\u001b[0;32m      3\u001b[0m \u001b[0mprint\u001b[0m\u001b[1;33m(\u001b[0m\u001b[0mlambdas\u001b[0m\u001b[1;33m)\u001b[0m\u001b[1;33m\u001b[0m\u001b[1;33m\u001b[0m\u001b[0m\n",
      "\u001b[1;31mValueError\u001b[0m: too many values to unpack (expected 2)"
     ]
    }
   ],
   "source": [
    "lambdas, delta = Iteracion_QR_shift(A, shift='Wilkinson')\n",
    "# lambdas, delta = Iteracion_QR_shift(A, shift='Rayleigh')\n",
    "print(lambdas)"
   ]
  },
  {
   "cell_type": "code",
   "execution_count": 35,
   "id": "8eb0b162",
   "metadata": {},
   "outputs": [
    {
     "name": "stdout",
     "output_type": "stream",
     "text": [
      "[29.999601  +0.j  6.0002065 +0.j  1.00021626+0.j  1.99977623+0.j]\n"
     ]
    }
   ],
   "source": [
    "from scipy.linalg import eig, eigh\n",
    "l,v = eig(A)\n",
    "print(l)"
   ]
  },
  {
   "cell_type": "code",
   "execution_count": 36,
   "id": "c086db97",
   "metadata": {},
   "outputs": [],
   "source": [
    "from math import sqrt\n",
    "def make_house_vec(x):\n",
    "    n = x.shape[0]\n",
    "    dot_1on = x[1:].dot(x[1:])\n",
    "\n",
    "    # v is our return vector; we hack on v[0]\n",
    "    v = np.copy(x)\n",
    "    v[0] = 1.0\n",
    "    \n",
    "    if dot_1on < np.finfo(float).eps:\n",
    "        beta = 0.0\n",
    "    else:\n",
    "        # apply Parlett's formula (G&vL page 210) for safe v_0 = x_0 - norm(X) \n",
    "        norm_x= sqrt(x[0]**2 + dot_1on)\n",
    "        if x[0] <= 0:\n",
    "            v[0] = x[0] - norm_x\n",
    "        else:\n",
    "            v[0] = -dot_1on / (x[0] + norm_x)\n",
    "        beta = 2 * v[0]**2 / (dot_1on + v[0]**2)\n",
    "        v = v / v[0]\n",
    "    return v, beta"
   ]
  },
  {
   "cell_type": "code",
   "execution_count": 37,
   "id": "123d4c69",
   "metadata": {},
   "outputs": [],
   "source": [
    "def Hessenberg(Adata):\n",
    "    A = Adata.copy()\n",
    "    m,n = A.shape # m ==n\n",
    "    betas = np.empty(n)\n",
    "    for j in range(n-2):\n",
    "        v, betas[j] = make_house_vec(A[(j+1):, j])\n",
    "        A[(j+1):,j:] = (np.eye(m-(j+1)) - betas[j] * np.outer(v,v))@(A[(j+1):,j:])\n",
    "        A[:,(j+1):] = A[:,(j+1):]@(np.eye(m-(j+1)) - betas[j] * np.outer(v,v))\n",
    "    return A\n",
    " "
   ]
  },
  {
   "cell_type": "code",
   "execution_count": 38,
   "id": "1c313f77",
   "metadata": {},
   "outputs": [
    {
     "name": "stdout",
     "output_type": "stream",
     "text": [
      "[[ 3.54880000e+00  9.80252021e+00 -4.10363166e+00 -1.48285033e+01]\n",
      " [ 3.04501348e+00  3.65241518e+01 -8.35566733e+00 -5.58321924e+01]\n",
      " [-9.16621104e-18  2.58345018e+01 -2.56684182e+00 -4.11812184e+01]\n",
      " [-1.32906555e-17  1.01616821e-14  5.15015914e-01  1.49368999e+00]]\n"
     ]
    }
   ],
   "source": [
    "A = np.array([[3.5488, 15.593, 8.5775, -4.0123],\n",
    "              [2.3595, 24.526, 14.596, -5.8157],\n",
    "              [8.9953e-2, 27.599, 21.483, -5.8415],\n",
    "              [1.9227, 55.667, 39.717, -10.558]])\n",
    "\n",
    "H = Hessenberg(A)\n",
    "print(H)"
   ]
  },
  {
   "cell_type": "code",
   "execution_count": 125,
   "id": "0c79582e",
   "metadata": {},
   "outputs": [],
   "source": [
    "def Lanczos_eigenvalue_solver(A, M=100):\n",
    "    TOL=1e-14\n",
    "    n, n = A.shape\n",
    "    q0 = np.zeros(n)\n",
    "    Qlist = []; Qlist.append(q0)\n",
    "    alpha = []; beta  = []; beta.append(1.0)\n",
    "    k = 0\n",
    "    rk = np.random.rand(n)\n",
    "    \n",
    "    rk=np.ones(n)#A[:,1]\n",
    "    rk = rk/np.linalg.norm(rk)\n",
    "    lambda_history = []\n",
    "    while beta[k] >TOL and k < M:\n",
    "        q = rk / beta[k]; Qlist.append(q)\n",
    "        k += 1\n",
    "        alphak = q.dot(A.dot(q)); alpha.append(alphak)\n",
    "        rk = A.dot(q) - alphak*q - beta[k-1]*Qlist[k-1]\n",
    "        betak = np.linalg.norm(rk); beta.append(betak)\n",
    "\n",
    "        # Compute eigenvalues\n",
    "        Tk = np.diag(alpha) + np.diag(beta[1:-1],-1) + np.diag(beta[1:-1],1)\n",
    "        lambdas = Iteracion_QR_shift(Tk, shift='Rayleigh')\n",
    "        lambda_history.append(lambdas)\n",
    "        \n",
    "    return lambda_history\n",
    "    "
   ]
  },
  {
   "cell_type": "markdown",
   "id": "3443e666",
   "metadata": {},
   "source": [
    "## Example: Trefethen and Bau, page 280"
   ]
  },
  {
   "cell_type": "code",
   "execution_count": 126,
   "id": "c4f87d25",
   "metadata": {},
   "outputs": [],
   "source": [
    "atb = np.zeros(203)\n",
    "atb[0:201] = np.linspace(0,2.0, 201, endpoint=True)\n",
    "atb[201] = 2.5\n",
    "atb[202] = 3.0\n",
    "ATB = np.diag(atb)"
   ]
  },
  {
   "cell_type": "code",
   "execution_count": 151,
   "id": "f767c999",
   "metadata": {},
   "outputs": [
    {
     "data": {
      "image/png": "[encoded data removed]",
      "text/plain": [
       "<Figure size 640x480 with 1 Axes>"
      ]
     },
     "metadata": {},
     "output_type": "display_data"
    }
   ],
   "source": [
    "M=100\n",
    "lambda_history = Lanczos_eigenvalue_solver(ATB, M)\n",
    "\n",
    "lambdas1 = np.zeros(M)\n",
    "lambdasN = np.zeros(M)\n",
    "\n",
    "lambdas2 = np.zeros(M-2)\n",
    "lambdasN_1 = np.zeros(M-3)\n",
    "\n",
    "lambdas3 = np.zeros(M-4)\n",
    "lambdasN_2 = np.zeros(M-5)\n",
    "\n",
    "lambdas4 = np.zeros(M-6)\n",
    "lambdasN_3 = np.zeros(M-7)\n",
    "for i, eigenval in enumerate(lambda_history):\n",
    "    eigenval = np.sort(eigenval)\n",
    "    lambdas1[i] = eigenval[0]#np.min(eigenval)\n",
    "    lambdasN[i] = eigenval[-1] #np.max(eigenval)\n",
    "    if i>=2:\n",
    "        lambdas2[i-2] = eigenval[1]\n",
    "    if i>=3:\n",
    "        lambdasN_1[i-3] = eigenval[-2]\n",
    "    if i>=4:\n",
    "        lambdas3[i-4] = eigenval[2]\n",
    "    if i>=5:\n",
    "        lambdasN_2[i-5] = eigenval[-3]\n",
    "    if i>=6:\n",
    "        lambdas4[i-6] = eigenval[3]\n",
    "    if i>=7:\n",
    "        lambdasN_3[i-7] = eigenval[-4]\n",
    "\n",
    "plt.plot(np.arange(1,M+1),lambdas1,'o--', label=r'$\\lambda_1$')\n",
    "plt.plot(np.arange(1,M+1),lambdasN,'o--', label=r'$\\lambda_N$')\n",
    "plt.plot(np.arange(3,M+1),lambdas2,'o--', label=r'$\\lambda_2$')\n",
    "plt.plot(np.arange(4,M+1),lambdasN_1,'o--', label=r'$\\lambda_{N-1}$')\n",
    "plt.plot(np.arange(5,M+1),lambdas3,'o--', label=r'$\\lambda_3$')\n",
    "plt.plot(np.arange(6,M+1),lambdasN_2,'o--', label=r'$\\lambda_{N-2}$')\n",
    "plt.plot(np.arange(7,M+1),lambdas4,'o--', label=r'$\\lambda_4$')\n",
    "plt.plot(np.arange(8,M+1),lambdasN_3,'o--', label=r'$\\lambda_{N-3}$')\n",
    "\n",
    "plt.legend()\n",
    "plt.show()"
   ]
  },
  {
   "cell_type": "code",
   "execution_count": 143,
   "id": "0c7e2630",
   "metadata": {},
   "outputs": [
    {
     "ename": "IndexError",
     "evalue": "too many indices for array: array is 1-dimensional, but 2 were indexed",
     "output_type": "error",
     "traceback": [
      "\u001b[1;31m---------------------------------------------------------------------------\u001b[0m",
      "\u001b[1;31mIndexError\u001b[0m                                Traceback (most recent call last)",
      "\u001b[1;32m~\\AppData\\Local\\Temp\\ipykernel_12800\\1358317382.py\u001b[0m in \u001b[0;36m<module>\u001b[1;34m\u001b[0m\n\u001b[0;32m     46\u001b[0m \u001b[1;31m# ---- approximate solution by Lanczos\u001b[0m\u001b[1;33m\u001b[0m\u001b[1;33m\u001b[0m\u001b[1;33m\u001b[0m\u001b[0m\n\u001b[0;32m     47\u001b[0m \u001b[0mv0\u001b[0m   \u001b[1;33m=\u001b[0m \u001b[0mnp\u001b[0m\u001b[1;33m.\u001b[0m\u001b[0mrandom\u001b[0m\u001b[1;33m.\u001b[0m\u001b[0mrand\u001b[0m\u001b[1;33m(\u001b[0m \u001b[0mn\u001b[0m \u001b[1;33m)\u001b[0m\u001b[1;33m;\u001b[0m \u001b[0mv0\u001b[0m \u001b[1;33m/=\u001b[0m \u001b[0mnp\u001b[0m\u001b[1;33m.\u001b[0m\u001b[0msqrt\u001b[0m\u001b[1;33m(\u001b[0m \u001b[0mnp\u001b[0m\u001b[1;33m.\u001b[0m\u001b[0mdot\u001b[0m\u001b[1;33m(\u001b[0m \u001b[0mv0\u001b[0m\u001b[1;33m,\u001b[0m \u001b[0mv0\u001b[0m \u001b[1;33m)\u001b[0m \u001b[1;33m)\u001b[0m\u001b[1;33m\u001b[0m\u001b[1;33m\u001b[0m\u001b[0m\n\u001b[1;32m---> 48\u001b[1;33m \u001b[0mT\u001b[0m\u001b[1;33m,\u001b[0m \u001b[0mV\u001b[0m \u001b[1;33m=\u001b[0m \u001b[0mLanczos\u001b[0m\u001b[1;33m(\u001b[0m \u001b[0mA\u001b[0m\u001b[1;33m,\u001b[0m \u001b[0mv0\u001b[0m\u001b[1;33m,\u001b[0m \u001b[0mm\u001b[0m\u001b[1;33m=\u001b[0m\u001b[0mm\u001b[0m \u001b[1;33m)\u001b[0m\u001b[1;33m\u001b[0m\u001b[1;33m\u001b[0m\u001b[0m\n\u001b[0m\u001b[0;32m     49\u001b[0m \u001b[0mesT\u001b[0m\u001b[1;33m,\u001b[0m \u001b[0mvsT\u001b[0m \u001b[1;33m=\u001b[0m \u001b[0mnp\u001b[0m\u001b[1;33m.\u001b[0m\u001b[0mlinalg\u001b[0m\u001b[1;33m.\u001b[0m\u001b[0meig\u001b[0m\u001b[1;33m(\u001b[0m \u001b[0mT\u001b[0m \u001b[1;33m)\u001b[0m\u001b[1;33m\u001b[0m\u001b[1;33m\u001b[0m\u001b[0m\n\u001b[0;32m     50\u001b[0m \u001b[0mVV\u001b[0m \u001b[1;33m=\u001b[0m \u001b[0mnp\u001b[0m\u001b[1;33m.\u001b[0m\u001b[0mdot\u001b[0m\u001b[1;33m(\u001b[0m \u001b[0mV\u001b[0m\u001b[1;33m,\u001b[0m \u001b[0mnp\u001b[0m\u001b[1;33m.\u001b[0m\u001b[0mtranspose\u001b[0m\u001b[1;33m(\u001b[0m \u001b[0mV\u001b[0m \u001b[1;33m)\u001b[0m \u001b[1;33m)\u001b[0m \u001b[1;31m# check orthogonality\u001b[0m\u001b[1;33m\u001b[0m\u001b[1;33m\u001b[0m\u001b[0m\n",
      "\u001b[1;32m~\\AppData\\Local\\Temp\\ipykernel_12800\\1358317382.py\u001b[0m in \u001b[0;36mLanczos\u001b[1;34m(A, v, m)\u001b[0m\n\u001b[0;32m      8\u001b[0m \u001b[1;33m\u001b[0m\u001b[0m\n\u001b[0;32m      9\u001b[0m     \u001b[1;31m# step 2.1 - 2.3 in https://en.wikipedia.org/wiki/Lanczos_algorithm\u001b[0m\u001b[1;33m\u001b[0m\u001b[1;33m\u001b[0m\u001b[1;33m\u001b[0m\u001b[0m\n\u001b[1;32m---> 10\u001b[1;33m     \u001b[0mw\u001b[0m \u001b[1;33m=\u001b[0m \u001b[0mnp\u001b[0m\u001b[1;33m.\u001b[0m\u001b[0mdot\u001b[0m\u001b[1;33m(\u001b[0m\u001b[0mA\u001b[0m\u001b[1;33m,\u001b[0m \u001b[0mv\u001b[0m\u001b[1;33m[\u001b[0m\u001b[1;36m0\u001b[0m\u001b[1;33m,\u001b[0m\u001b[1;33m:\u001b[0m\u001b[1;33m]\u001b[0m\u001b[1;33m)\u001b[0m\u001b[1;33m\u001b[0m\u001b[1;33m\u001b[0m\u001b[0m\n\u001b[0m\u001b[0;32m     11\u001b[0m     \u001b[0malfa\u001b[0m \u001b[1;33m=\u001b[0m \u001b[0mnp\u001b[0m\u001b[1;33m.\u001b[0m\u001b[0mdot\u001b[0m\u001b[1;33m(\u001b[0m\u001b[0mw\u001b[0m\u001b[1;33m,\u001b[0m\u001b[0mv\u001b[0m\u001b[1;33m[\u001b[0m\u001b[1;36m0\u001b[0m\u001b[1;33m,\u001b[0m\u001b[1;33m:\u001b[0m\u001b[1;33m]\u001b[0m\u001b[1;33m)\u001b[0m\u001b[1;33m\u001b[0m\u001b[1;33m\u001b[0m\u001b[0m\n\u001b[0;32m     12\u001b[0m     \u001b[0mw\u001b[0m \u001b[1;33m=\u001b[0m \u001b[0mw\u001b[0m \u001b[1;33m-\u001b[0m \u001b[0malfa\u001b[0m\u001b[1;33m*\u001b[0m\u001b[0mV\u001b[0m\u001b[1;33m[\u001b[0m\u001b[1;33m:\u001b[0m\u001b[1;33m,\u001b[0m \u001b[1;36m0\u001b[0m\u001b[1;33m]\u001b[0m\u001b[1;33m\u001b[0m\u001b[1;33m\u001b[0m\u001b[0m\n",
      "\u001b[1;31mIndexError\u001b[0m: too many indices for array: array is 1-dimensional, but 2 were indexed"
     ]
    }
   ],
   "source": [
    "def Lanczos( A, v, m=100 ):\n",
    "    n = len(v)\n",
    "    if m>n: m = n;\n",
    "    # from here https://en.wikipedia.org/wiki/Lanczos_algorithm\n",
    "    V = np.zeros( (m,n) )\n",
    "    T = np.zeros( (m,m) )\n",
    "    V[0, :] = v\n",
    "\n",
    "    # step 2.1 - 2.3 in https://en.wikipedia.org/wiki/Lanczos_algorithm\n",
    "    w = np.dot(A, v[0,:])\n",
    "    alfa = np.dot(w,v[0,:])\n",
    "    w = w - alfa*V[:, 0]\n",
    "    T[0,0] = alfa\n",
    "\n",
    "    # needs to start the iterations from indices 1\n",
    "    for j in range(1, m-1 ):\n",
    "        beta = np.sqrt( np.dot( w, w ) )\n",
    "\n",
    "        V[j,:] = w/beta\n",
    "\n",
    "        # This performs some rediagonalization to make sure all the vectors are orthogonal to eachother\n",
    "        for i in range(j-1):\n",
    "            V[j, :] = V[j,:] - np.dot(np.conj(V[j,:]), V[i, :])*V[i,:]\n",
    "        V[j, :] = V[j, :]/np.linalg.norm(V[j, :])\n",
    "\n",
    "\n",
    "        w = np.dot(A, V[j, :])\n",
    "        alfa = np.dot(w, V[j, :])\n",
    "        w = w - alfa * V[j, :] - beta*V[j-1, :]\n",
    "\n",
    "        T[j,j  ] = alfa\n",
    "        T[j-1 ,j] = beta\n",
    "        T[j,j-1] = beta\n",
    "\n",
    "\n",
    "    return T, V\n",
    "\n",
    "# ---- generate matrix A\n",
    "n = 50; m=10\n",
    "sqrtA = np.random.rand( n,n ) - 0.5\n",
    "A = np.dot( sqrtA, np.transpose(sqrtA) )\n",
    "\n",
    "# ---- full solve for eigenvalues for reference\n",
    "esA, vsA = np.linalg.eig( A )\n",
    "\n",
    "# ---- approximate solution by Lanczos\n",
    "v0   = np.random.rand( n ); v0 /= np.sqrt( np.dot( v0, v0 ) )\n",
    "T, V = Lanczos( A, v0, m=m )\n",
    "esT, vsT = np.linalg.eig( T )\n",
    "VV = np.dot( V, np.transpose( V ) ) # check orthogonality\n",
    "\n",
    "#print \"A : \"; print A\n",
    "print( \"T : \"); print( T)\n",
    "print( \"VV :\"); print( VV)\n",
    "print( \"esA :\"); print(np.sort(esA))\n",
    "print( \"esT : \"); print(np.sort(esT))\n",
    "\n",
    "plt.plot( esA, np.ones(n)*0.2,  '+' )\n",
    "plt.plot( esT, np.ones(m)*0.1,  '+' )\n",
    "plt.ylim(0,1)\n",
    "plt.show( m )"
   ]
  },
  {
   "cell_type": "code",
   "execution_count": null,
   "id": "442f079c",
   "metadata": {},
   "outputs": [],
   "source": []
  }
 ],
 "metadata": {
  "kernelspec": {
   "display_name": "Python 3 (ipykernel)",
   "language": "python",
   "name": "python3"
  },
  "language_info": {
   "codemirror_mode": {
    "name": "ipython",
    "version": 3
   },
   "file_extension": ".py",
   "mimetype": "text/x-python",
   "name": "python",
   "nbconvert_exporter": "python",
   "pygments_lexer": "ipython3",
   "version": "3.7.9"
  },
  "varInspector": {
   "cols": {
    "lenName": 16,
    "lenType": 16,
    "lenVar": 40
   },
   "kernels_config": {
    "python": {
     "delete_cmd_postfix": "",
     "delete_cmd_prefix": "del ",
     "library": "var_list.py",
     "varRefreshCmd": "print(var_dic_list())"
    },
    "r": {
     "delete_cmd_postfix": ") ",
     "delete_cmd_prefix": "rm(",
     "library": "var_list.r",
     "varRefreshCmd": "cat(var_dic_list()) "
    }
   },
   "types_to_exclude": [
    "module",
    "function",
    "builtin_function_or_method",
    "instance",
    "_Feature"
   ],
   "window_display": false
  }
 },
 "nbformat": 4,
 "nbformat_minor": 5
}
