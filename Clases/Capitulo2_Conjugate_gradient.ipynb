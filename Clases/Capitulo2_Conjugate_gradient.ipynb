{
 "cells": [
  {
   "cell_type": "markdown",
   "metadata": {},
   "source": [
    "<hr style=\"border:2px solid #808080\"> </hr>\n",
    "<center><h1 style=\"color:#03122E;\"> Álgebra Lineal Numérica IMT2111</h1></center>\n",
    "<center><h1 style=\"color:#173F8A;\"> Capítulo 2</h3></center>\n",
    "<center><h1 style=\"color:#0176DE;\"> Prof. Manuel A. Sánchez</h3></center>\n",
    "<hr style=\"border:2px solid #808080\"> </hr>"
   ]
  },
  {
   "cell_type": "code",
   "execution_count": 30,
   "metadata": {},
   "outputs": [],
   "source": [
    "import numpy as np\n",
    "from numpy.linalg import norm\n",
    "import matplotlib.pyplot as plt"
   ]
  },
  {
   "cell_type": "markdown",
   "metadata": {},
   "source": [
    "## Iteracion de Lanczos\n",
    "$$ A = Q T Q^\\top $$\n"
   ]
  },
  {
   "cell_type": "code",
   "execution_count": 31,
   "metadata": {},
   "outputs": [],
   "source": [
    "def Lanczos1(A, q1, TOL=1e-14, MAXITER = 100):\n",
    "    '''\n",
    "    Input  : A simetrica, q1, \\|q1\\|=`\n",
    "    Output : Qk = [q1|q2|...|qk] orthonormal, Tk[k,k] = alphak, Tk[k+1,k]=Tk[k,k+1] = betak; A*Qk = Tk*Qk\n",
    "    ''' \n",
    "    n, n = A.shape\n",
    "    q0 = np.zeros(n)\n",
    "    Qlist = []; Qlist.append(q0)\n",
    "    alpha = []; beta  = []; beta.append(1.0)\n",
    "    k = 0\n",
    "    rk = q1.copy()\n",
    "    while beta[k] >TOL and k < n:\n",
    "        q = rk / beta[k]; Qlist.append(q)\n",
    "        k += 1\n",
    "        alphak = q.dot(A.dot(q)); alpha.append(alphak)\n",
    "        rk = A.dot(q) - alphak*q - beta[k-1]*Qlist[k-1]\n",
    "        betak = np.linalg.norm(rk); beta.append(betak)\n",
    "    Q = np.stack(Qlist[1:], axis=1 )\n",
    "    Tk = np.diag(alpha) + np.diag(beta[1:-1],-1) + np.diag(beta[1:-1],1)\n",
    "\n",
    "    return Q, Tk, betak, k"
   ]
  },
  {
   "cell_type": "markdown",
   "metadata": {},
   "source": [
    "### Test 1: \n",
    "\\begin{equation}\n",
    "A = \n",
    "\\begin{bmatrix}\n",
    "2& 1/\\sqrt{2} & -1/\\sqrt{2} \\\\\n",
    "1/\\sqrt{2} & 3 & 0 \\\\\n",
    "-1/\\sqrt{2} & 0 & 1\n",
    "\\end{bmatrix} = \n",
    "\\begin{bmatrix}\n",
    "1 & 0 & 0 \\\\\n",
    "0 & 1/\\sqrt{2} & 1/\\sqrt{2}  \\\\\n",
    "0 & -1/\\sqrt{2} & 1/\\sqrt{2} \n",
    "\\end{bmatrix}\n",
    "\\begin{bmatrix}\n",
    "2 & 1 & 0 \\\\\n",
    "1 & 2 & 1 \\\\\n",
    "0 & 1 & 2\n",
    "\\end{bmatrix}\n",
    "\\begin{bmatrix}\n",
    "1 & 0 & 0 \\\\\n",
    "0 & 1/\\sqrt{2} & 1/\\sqrt{2}  \\\\\n",
    "0 & -1/\\sqrt{2} & 1/\\sqrt{2} \n",
    "\\end{bmatrix}^\\top\n",
    "\\end{equation}"
   ]
  },
  {
   "cell_type": "code",
   "execution_count": 32,
   "metadata": {},
   "outputs": [
    {
     "name": "stdout",
     "output_type": "stream",
     "text": [
      "||Qk.T A Qk - Tk|| = 1.9886408546293493e-16\n",
      " betalast =  4.1540741810552243e-16 ,  niter :  3\n"
     ]
    }
   ],
   "source": [
    "A = np.array([[2.0, 1.0/np.sqrt(2.0), -1/np.sqrt(2.0)],[1.0/np.sqrt(2.0),3.0,0.0],[-1/np.sqrt(2.0), 0,1.0]])\n",
    "Qk, Tk, betalast, niter = Lanczos1(A, np.array([1.0,0,0], dtype=np.float64))\n",
    "print(\"||Qk.T A Qk - Tk|| =\",np.linalg.norm(Qk.T@(A@(Qk))-Tk ))\n",
    "print(\" betalast = \",betalast, \",  niter : \", niter)\n"
   ]
  },
  {
   "cell_type": "markdown",
   "metadata": {},
   "source": [
    "### Test 2: \n",
    "\\begin{equation}\n",
    "A = \n",
    "\\begin{bmatrix}\n",
    "2& \\sqrt{2} & -\\sqrt{2} \\\\\n",
    "\\sqrt{2} & 1 & -3 \\\\\n",
    "-\\sqrt{2} & -3 & -1\n",
    "\\end{bmatrix} = \n",
    "\\begin{bmatrix}\n",
    "1 & 0 & 0 \\\\\n",
    "0 & 1/\\sqrt{2} & 1/\\sqrt{2}  \\\\\n",
    "0 & -1/\\sqrt{2} & 1/\\sqrt{2} \n",
    "\\end{bmatrix}\n",
    "\\begin{bmatrix}\n",
    "2 & 2 & 0 \\\\\n",
    "2 & 3 & 1 \\\\\n",
    "0 & 1 & -3\n",
    "\\end{bmatrix}\n",
    "\\begin{bmatrix}\n",
    "1 & 0 & 0 \\\\\n",
    "0 & 1/\\sqrt{2} & 1/\\sqrt{2}  \\\\\n",
    "0 & -1/\\sqrt{2} & 1/\\sqrt{2} \n",
    "\\end{bmatrix}^\\top\n",
    "\\end{equation}"
   ]
  },
  {
   "cell_type": "code",
   "execution_count": 33,
   "metadata": {},
   "outputs": [
    {
     "name": "stdout",
     "output_type": "stream",
     "text": [
      "||Qk.T A Qk - Tk|| = 1.4160648549979043e-15\n",
      " betalast =  3.4183332427641164e-15 ,  niter :  3\n"
     ]
    }
   ],
   "source": [
    "A = np.array([[2.0, np.sqrt(2.0), -np.sqrt(2.0)],[np.sqrt(2.0),1.0,-3.0],[-np.sqrt(2.0), -3.0,-1.0]])\n",
    "Qk, Tk, betalast, niter = Lanczos1(A, np.array([1.0,0,0], dtype=np.float64))\n",
    "print(\"||Qk.T A Qk - Tk|| =\",np.linalg.norm(Qk.T@(A@(Qk))-Tk ))\n",
    "print(\" betalast = \",betalast, \",  niter : \", niter)"
   ]
  },
  {
   "cell_type": "markdown",
   "metadata": {},
   "source": [
    "### Test 3:\n",
    "#### Random matrix"
   ]
  },
  {
   "cell_type": "code",
   "execution_count": 34,
   "metadata": {},
   "outputs": [
    {
     "name": "stdout",
     "output_type": "stream",
     "text": [
      "||Qk.T A Qk - Tk|| = 1.7906234564829507e-06\n",
      " betalast =  1.2563540286977875e-06 ,  niter :  10\n"
     ]
    }
   ],
   "source": [
    "N = 10\n",
    "B = np.random.rand(N,N)\n",
    "Bsym = 0.5*(B.T + B)\n",
    "Qk, Tk, betalast, niter = Lanczos1(Bsym, np.array(np.eye(N)[:,0], dtype=np.float64))\n",
    "print(\"||Qk.T A Qk - Tk|| =\",np.linalg.norm(Qk.T@(Bsym@(Qk))-Tk ))\n",
    "print(\" betalast = \",betalast, \",  niter : \", niter)"
   ]
  },
  {
   "cell_type": "markdown",
   "metadata": {},
   "source": [
    "## Metodo de Gradientes Conjugados (CG)\n",
    "### version 1 como mejora de steepest descent"
   ]
  },
  {
   "cell_type": "code",
   "execution_count": 35,
   "metadata": {},
   "outputs": [],
   "source": [
    "from numpy.linalg import norm\n",
    "def SteepestDescent(A, b, x0, TOL=1e-8, MAXIT=100, print_iter=False):\n",
    "    x = x0.copy()\n",
    "    g = A.dot(x0) - b \n",
    "    ng = g.dot(g)\n",
    "    Xlist = []\n",
    "    Xlist.append(x.copy())\n",
    "    niter = 0\n",
    "    while np.sqrt(ng)>TOL and niter < MAXIT:\n",
    "        # step length corresponding to exact line search\n",
    "        mu = ng / np.dot(g, np.dot(A,g))\n",
    "        x -= mu*g\n",
    "        g = A.dot(x) - b\n",
    "        \n",
    "        ng = g.dot(g)\n",
    "        #\n",
    "        niter += 1\n",
    "        printSD(niter,ng)\n",
    "        Xlist.append(x.copy())\n",
    "    return x, niter, Xlist\n",
    "\n",
    "def printSD(iter, res):\n",
    "    print(f\" *** SD iteration {iter}, residual = {res:1.2e}\")"
   ]
  },
  {
   "cell_type": "code",
   "execution_count": 40,
   "metadata": {},
   "outputs": [],
   "source": [
    "def printCG(iter, res):\n",
    "    print(f\" *** CG iteration {iter}, residual = {res:1.2e}\")\n",
    "    \n",
    "# Conjugate gradient first version Golub\n",
    "# Algorithm 11.3.1\n",
    "def ConjugateGradient_1(A, b, x0=None, MAXITER = 100, TOL=1e-8, print_iter=True):\n",
    "    '''\n",
    "    Input  : A s.d.p, b, x0\n",
    "    Output : x sol. Ax = b\n",
    "    '''\n",
    "    if x0 is None: x0 = np.zeros(b.size)\n",
    "    n, n = A.shape \n",
    "    xlist = [] ;xlist.append(x0)\n",
    "    \n",
    "    Qlist = []\n",
    "    k = 0\n",
    "    rk = b - A.dot(x0)\n",
    "    beta0 = np.linalg.norm(rk.copy())\n",
    "    alpha = []; beta = []; beta.append(beta0)\n",
    "    q0 = np.zeros(n)\n",
    "    while beta[k] > TOL and k < MAXITER:\n",
    "        q1 = rk/beta[k]; Qlist.append(q1)\n",
    "        k += 1\n",
    "        alphak = q1.dot(A.dot(q1)); alpha.append(alphak)\n",
    "        Tk = create_Tk(alpha, beta[1:])\n",
    "        print(Tk)\n",
    "        yk = np.linalg.solve(Tk, beta0*e1(k))\n",
    "        xk  = x0+np.stack(Qlist, axis=1 ).dot(yk); xlist.append(xk)\n",
    "        rk = (A.dot(q1) - alphak*q1) - beta[k-1]*q0\n",
    "        betak = np.linalg.norm(rk); beta.append(betak)\n",
    "        q0 = q1.copy()\n",
    "        if  print_iter: printCG(k, betak)\n",
    "    return xlist, k\n",
    "    \n",
    "def create_Tk(alpha,beta):\n",
    "    return np.diag(alpha) + np.diag(beta,-1) + np.diag(beta,1)\n",
    "\n",
    "def e1(dim):\n",
    "    e1 = np.zeros(dim); e1[0] = 1.0\n",
    "    return e1"
   ]
  },
  {
   "cell_type": "markdown",
   "metadata": {},
   "source": [
    "## Comparacion grafica CG vs SD"
   ]
  },
  {
   "cell_type": "code",
   "execution_count": 37,
   "metadata": {},
   "outputs": [
    {
     "name": "stdout",
     "output_type": "stream",
     "text": [
      " *** SD iteration 1, residual = 1.34e-02\n",
      " *** SD iteration 2, residual = 8.96e-03\n",
      " *** SD iteration 3, residual = 6.00e-03\n",
      " *** SD iteration 4, residual = 4.02e-03\n",
      " *** SD iteration 5, residual = 2.69e-03\n",
      " *** SD iteration 6, residual = 1.80e-03\n",
      " *** SD iteration 7, residual = 1.20e-03\n",
      " *** SD iteration 8, residual = 8.07e-04\n",
      " *** SD iteration 9, residual = 5.40e-04\n",
      " *** SD iteration 10, residual = 3.61e-04\n",
      " *** SD iteration 11, residual = 2.42e-04\n",
      " *** SD iteration 12, residual = 1.62e-04\n",
      " *** SD iteration 13, residual = 1.08e-04\n",
      " *** SD iteration 14, residual = 7.26e-05\n",
      " *** SD iteration 15, residual = 4.86e-05\n",
      " *** SD iteration 16, residual = 3.25e-05\n",
      " *** SD iteration 17, residual = 2.18e-05\n",
      " *** SD iteration 18, residual = 1.46e-05\n",
      " *** SD iteration 19, residual = 9.76e-06\n",
      " *** SD iteration 20, residual = 6.53e-06\n",
      " *** SD iteration 21, residual = 4.37e-06\n",
      " *** SD iteration 22, residual = 2.93e-06\n",
      " *** SD iteration 23, residual = 1.96e-06\n",
      " *** SD iteration 24, residual = 1.31e-06\n",
      " *** SD iteration 25, residual = 8.78e-07\n",
      " *** SD iteration 26, residual = 5.88e-07\n",
      " *** SD iteration 27, residual = 3.93e-07\n",
      " *** SD iteration 28, residual = 2.63e-07\n",
      " *** SD iteration 29, residual = 1.76e-07\n",
      " *** SD iteration 30, residual = 1.18e-07\n",
      " *** SD iteration 31, residual = 7.90e-08\n",
      " *** SD iteration 32, residual = 5.29e-08\n",
      " *** SD iteration 33, residual = 3.54e-08\n",
      " *** SD iteration 34, residual = 2.37e-08\n",
      " *** SD iteration 35, residual = 1.59e-08\n",
      " *** SD iteration 36, residual = 1.06e-08\n",
      " *** SD iteration 37, residual = 7.11e-09\n",
      " *** SD iteration 38, residual = 4.76e-09\n",
      " *** SD iteration 39, residual = 3.19e-09\n",
      " *** SD iteration 40, residual = 2.13e-09\n",
      " *** SD iteration 41, residual = 1.43e-09\n",
      " *** SD iteration 42, residual = 9.56e-10\n",
      " *** SD iteration 43, residual = 6.40e-10\n",
      " *** SD iteration 44, residual = 4.28e-10\n",
      " *** SD iteration 45, residual = 2.87e-10\n",
      " *** SD iteration 46, residual = 1.92e-10\n",
      " *** SD iteration 47, residual = 1.29e-10\n",
      " *** SD iteration 48, residual = 8.60e-11\n",
      " *** SD iteration 49, residual = 5.76e-11\n",
      " *** SD iteration 50, residual = 3.85e-11\n",
      " *** SD iteration 51, residual = 2.58e-11\n",
      " *** SD iteration 52, residual = 1.73e-11\n",
      " *** SD iteration 53, residual = 1.16e-11\n",
      " *** SD iteration 54, residual = 7.74e-12\n",
      " *** SD iteration 55, residual = 5.18e-12\n",
      " *** SD iteration 56, residual = 3.47e-12\n",
      " *** SD iteration 57, residual = 2.32e-12\n",
      " *** SD iteration 58, residual = 1.55e-12\n",
      " *** SD iteration 59, residual = 1.04e-12\n",
      " *** SD iteration 60, residual = 6.97e-13\n",
      " *** SD iteration 61, residual = 4.66e-13\n",
      " *** SD iteration 62, residual = 3.12e-13\n",
      " *** SD iteration 63, residual = 2.09e-13\n",
      " *** SD iteration 64, residual = 1.40e-13\n",
      " *** SD iteration 65, residual = 9.36e-14\n",
      " *** SD iteration 66, residual = 6.27e-14\n",
      " *** SD iteration 67, residual = 4.20e-14\n",
      " *** SD iteration 68, residual = 2.81e-14\n",
      " *** SD iteration 69, residual = 1.88e-14\n",
      " *** SD iteration 70, residual = 1.26e-14\n",
      " *** SD iteration 71, residual = 8.43e-15\n",
      " *** SD iteration 72, residual = 5.64e-15\n",
      " *** SD iteration 73, residual = 3.78e-15\n",
      " *** SD iteration 74, residual = 2.53e-15\n",
      " *** SD iteration 75, residual = 1.69e-15\n",
      " *** SD iteration 76, residual = 1.13e-15\n",
      " *** SD iteration 77, residual = 7.58e-16\n",
      " *** SD iteration 78, residual = 5.08e-16\n",
      " *** SD iteration 79, residual = 3.40e-16\n",
      " *** SD iteration 80, residual = 2.28e-16\n",
      " *** SD iteration 81, residual = 1.52e-16\n",
      " *** SD iteration 82, residual = 1.02e-16\n",
      " *** SD iteration 83, residual = 6.82e-17\n",
      " *** CG iteration 1, residual = 4.50e-01\n",
      " *** CG iteration 2, residual = 2.29e-16\n",
      "residual \\|Ax-b\\|: 1.3608726004012155e-16\n"
     ]
    }
   ],
   "source": [
    "# Data \n",
    "a11 = 1.0; a22  = 0.1\n",
    "A = np.array([[a11,.0],[.0,a22]]); b = np.array([0.0,.0])\n",
    "\n",
    "# Iteracion Steepest descent\n",
    "x, n, Xlist = SteepestDescent(A,b,x0=np.array([a22,1]), print_iter=False)\n",
    "\n",
    "# Iteracion CG\n",
    "xcg, niter = ConjugateGradient_1(A, b, x0=np.array([a22,1.0]), print_iter=True)\n",
    "print(\"residual \\|Ax-b\\|:\", np.linalg.norm(A.dot(xcg[-1])-b))"
   ]
  },
  {
   "cell_type": "code",
   "execution_count": 38,
   "metadata": {},
   "outputs": [
    {
     "name": "stdout",
     "output_type": "stream",
     "text": [
      "0.0\n"
     ]
    },
    {
     "data": {
      "image/png": "[encoded data removed]",
      "text/plain": [
       "<Figure size 1000x1000 with 1 Axes>"
      ]
     },
     "metadata": {},
     "output_type": "display_data"
    }
   ],
   "source": [
    "\n",
    "# funcion a minimizar\n",
    "phi = lambda x: 0.5*x.dot(A.dot(x)) - x.dot(b)\n",
    "\n",
    "# Make data.\n",
    "x = np.arange(-1.2, 1.2, 0.025)\n",
    "y = np.arange(-1.2, 1.2, 0.025)\n",
    "X, Y = np.meshgrid(x, y)\n",
    "\n",
    "Z = 0.5*(a11*X**2 + a22*Y**2)\n",
    "fig, ax = plt.subplots(1,1, figsize=(10,10))\n",
    "\n",
    "# puntos de Steepest descent\n",
    "print(Xlist[0].dot(b))\n",
    "X0 = Xlist[0]; x0 = X0[0]; y0 = X0[1]; f0 = phi(Xlist[0])\n",
    "X1 = Xlist[1]; x1 = X1[0]; y1 = X1[1]; f1 = phi(Xlist[1])\n",
    "X2 = Xlist[2]; x2 = X2[0]; y2 = X2[1]; f2 = phi(Xlist[2])\n",
    "X3 = Xlist[3]; x3 = X3[0]; y3 = X3[1]; f3 = phi(Xlist[3])\n",
    "X4 = Xlist[4]; x4 = X4[0]; y4 = X4[1]; f4 = phi(Xlist[4])\n",
    "X5 = Xlist[5]; x5 = X5[0]; y5 = X5[1]; f5 = phi(Xlist[5])\n",
    "X6 = Xlist[6]; x6 = X6[0]; y6 = X6[1]; f6 = phi(Xlist[6])\n",
    "X7 = Xlist[7]; x7 = X7[0]; y7 = X7[1]; f7 = phi(Xlist[7])\n",
    "CS = ax.contour(X,Y, Z, levels=[f7,f6,f5,f4,f3,f2,f1,f0])#,colors=['C05', 'C04', 'C03','C02', 'C01', 'C00'])\n",
    "ax.clabel(CS, fontsize=9, inline=True)\n",
    "ax.plot([x0,x1],[y0,y1],'k')\n",
    "ax.plot([x1,x2],[y1,y2],'k')\n",
    "ax.plot([x2,x3],[y2,y3],'k')\n",
    "ax.plot([x3,x4],[y3,y4],'k')\n",
    "ax.plot([x4,x5],[y4,y5],'k')\n",
    "ax.plot([x5,x6],[y5,y6],'k')\n",
    "ax.plot([x6,x7],[y6,y7],'k', label='steepest descent')\n",
    "# puntos de CG\n",
    "C0 = xcg[0]\n",
    "C1 = xcg[1]\n",
    "C2 = xcg[2]\n",
    "ax.plot([C0[0],C1[0]],[C0[1],C1[1]],'r', label='conjugate gradient')\n",
    "ax.plot([C1[0],C2[0]],[C1[1],C2[1]],'r')\n",
    "\n",
    "ax.set_aspect('equal')\n",
    "ax.legend()\n",
    "plt.show()"
   ]
  },
  {
   "cell_type": "markdown",
   "metadata": {},
   "source": [
    "## Test convergencia rapida\n",
    "\n",
    "Sean $I\\in \\mathbb R^{n\\times n}$ la matriz identidad, $D\\in \\mathbb R^{r\\times r}$ una matriz simetrica y $U\\in \\mathbb R^{n\\times r}$ con r<n, tales que\n",
    "\\begin{equation}\n",
    "A = I + U DU^\\top\n",
    "\\end{equation}\n",
    "es simetrica definida positiva"
   ]
  },
  {
   "cell_type": "code",
   "execution_count": 41,
   "metadata": {},
   "outputs": [
    {
     "name": "stdout",
     "output_type": "stream",
     "text": [
      "[[27.23079749]]\n",
      " *** CG iteration 1, residual = 5.15e-01\n",
      "[[27.23079749  0.51519464]\n",
      " [ 0.51519464  1.22769347]]\n",
      " *** CG iteration 2, residual = 4.66e-01\n",
      "[[27.23079749  0.51519464  0.        ]\n",
      " [ 0.51519464  1.22769347  0.46617523]\n",
      " [ 0.          0.46617523  2.00563179]]\n",
      " *** CG iteration 3, residual = 2.11e-02\n",
      "[[2.72307975e+01 5.15194638e-01 0.00000000e+00 0.00000000e+00]\n",
      " [5.15194638e-01 1.22769347e+00 4.66175229e-01 0.00000000e+00]\n",
      " [0.00000000e+00 4.66175229e-01 2.00563179e+00 2.11081413e-02]\n",
      " [0.00000000e+00 0.00000000e+00 2.11081413e-02 1.06547371e+00]]\n",
      " *** CG iteration 4, residual = 8.29e-09\n",
      "residual \\|Ax-b\\|: 6.156252871316792e-11\n",
      "n iter:  4\n"
     ]
    }
   ],
   "source": [
    "N = 15\n",
    "r = 3\n",
    "Ran = np.random.rand(r,r)\n",
    "D = Ran.T + Ran\n",
    "U = np.random.rand(N,r)\n",
    "A = np.eye(N) + U@D@U.T\n",
    "xexact = np.ones(N)\n",
    "b = A.dot(xexact) \n",
    "x, niter = ConjugateGradient_1(A, b, x0 = np.zeros(N))\n",
    "print(\"residual \\|Ax-b\\|:\",np.linalg.norm(A.dot(x[-1])-b))\n",
    "print(\"n iter: \", niter)\n",
    "#eigenval,_  = np.linalg.eig(A)\n",
    "#print(eigenval)"
   ]
  },
  {
   "cell_type": "markdown",
   "metadata": {},
   "source": [
    "## Metodo de Gradientes Conjugados\n",
    "### version 2 , version Lanczos"
   ]
  },
  {
   "cell_type": "code",
   "execution_count": 11,
   "metadata": {},
   "outputs": [],
   "source": [
    "def ConjugateGradient_2(A, b,x0=None, TOL=1e-8, MAXITER = 100, print_iter=True):\n",
    "    '''\n",
    "    Algorithm 11.3.2: Conjugate Gradietns: Lanczos Version\n",
    "    Input  : A s.d.p, b, x0\n",
    "    Output : x sol. Ax = b\n",
    "    '''\n",
    "    if x0 is None: x0 = np.zeros(b.size)\n",
    "    n, n = A.shape \n",
    "    Qlist = []\n",
    "    k = 0\n",
    "    xk = x0.copy()\n",
    "    rk = b - A.dot(x0)\n",
    "    beta0 = np.linalg.norm(rk.copy())\n",
    "    alpha = []; alpha.append(0); beta = []; beta.append(beta0)\n",
    "    q0 = np.zeros(n)\n",
    "    d = []; d.append(0); el = []; nu = []; nu.append(0)\n",
    "    c0 = np.zeros(n); clist = []; clist.append(c0)\n",
    "    while beta[k] > TOL and k < MAXITER:\n",
    "        q1 = rk/beta[k]; Qlist.append(q1)\n",
    "        k += 1\n",
    "        alphak = q1.dot(A.dot(q1)); alpha.append(alphak)\n",
    "        if k == 1:\n",
    "            d1 = alphak; d.append(d1)\n",
    "            nu1 = beta0/d1; nu.append(nu1)\n",
    "            ck = q1; clist.append(ck)\n",
    "        else:\n",
    "            el0 = beta[k-1]/d[k-1]; el.append(el0) \n",
    "            dk = alpha[k]-beta[k-1]*el0; d.append(dk)\n",
    "            nuk = -beta[k-1]*nu[k-1]/d[k]; nu.append(nuk)\n",
    "            ck = q1 - el0*clist[k-1]; clist.append(ck)\n",
    "        xk += nu[k]*clist[k]\n",
    "        rk = A.dot(q1) - alpha[k]*q1 - beta[k-1]*q0\n",
    "        betak = np.linalg.norm(rk); beta.append(betak)\n",
    "        q0 = q1.copy()\n",
    "        if print_iter: printCG(k, betak)\n",
    "    return xk, n"
   ]
  },
  {
   "cell_type": "markdown",
   "metadata": {},
   "source": [
    "## Metodo de Gradientes Conjugados\n",
    "### version 3 , version Hestenes-Stiefel"
   ]
  },
  {
   "cell_type": "code",
   "execution_count": 12,
   "metadata": {},
   "outputs": [],
   "source": [
    "def ConjugateGradient_3(A, b, x0 = None, TOL=1e-8, MAXIT = 100, print_iter=True):\n",
    "    '''\n",
    "    Algorithm 11.3.3. Conjugate Gradients: Hestenes-Stiefel Version\n",
    "    Input  : A s.d.p, b, x0\n",
    "    Output : x sol. Ax = b\n",
    "    '''\n",
    "    if x0 is None: x0 = np.zeros(b.size)\n",
    "    k = 0\n",
    "    r0 = b - A.dot(x0) \n",
    "    # vectors\n",
    "    x = []; r = []\n",
    "    x.append(x0); r.append(r0)\n",
    "    while np.linalg.norm(r[k]) > TOL and k < MAXIT:\n",
    "        k += 1\n",
    "        if k == 1:\n",
    "            pk = r0.copy()\n",
    "        else:\n",
    "            taukm1 = r[k-1].dot(r[k-1])/(r[k-2].dot(r[k-2]))\n",
    "            pk = r[k-1]  + taukm1 * pk\n",
    "        muk = r[k-1].dot(r[k-1])/(pk.dot(A.dot(pk)))\n",
    "        xk = x[k-1] + muk * pk; x.append(xk)\n",
    "        rk = r[k-1] - muk*A.dot(pk); r.append(rk)\n",
    "        if print_iter: printCG(k, np.linalg.norm(rk))\n",
    "    return x[k], k"
   ]
  },
  {
   "cell_type": "code",
   "execution_count": 13,
   "metadata": {},
   "outputs": [],
   "source": [
    "def practicalCG(A, b, x0=None, TOL=1e-8, MAXIT=100, print_iter=True):\n",
    "    '''\n",
    "    Algorithm Practical Conjugate Gradients.  Section 11.3.8\n",
    "    Input  : A s.d.p, b, x0\n",
    "    Output : x sol. Ax = b\n",
    "    '''\n",
    "    if x0 is None: x0 = np.zeros(b.size)\n",
    "    k = 0\n",
    "    x = x0.copy()\n",
    "    r = b - A.dot(x)\n",
    "    rhoc = r.dot(r)\n",
    "    delta = TOL*np.linalg.norm(b)\n",
    "    while np.sqrt(rhoc) > delta:\n",
    "        k += 1 \n",
    "        if k == 1: \n",
    "            p = r.copy()\n",
    "        else: \n",
    "            tau = rhoc/rhom\n",
    "            p = r + tau*p\n",
    "        w = A.dot(p)\n",
    "        mu = rhoc/(p.dot(w))\n",
    "        x += mu*p\n",
    "        r -= mu*w\n",
    "        rhom = rhoc.copy()\n",
    "        rhoc = r.dot(r)\n",
    "        if print_iter: printCG(k, np.sqrt(rhoc))\n",
    "    return x, k"
   ]
  },
  {
   "cell_type": "markdown",
   "metadata": {},
   "source": [
    "## Ejemplo 1:\n",
    "\\begin{equation*} A = \\left(\\begin{array}{cc} 2&-1\\\\-1&2\\end{array}\\right), \\quad b = \\left( \\begin{array}{c} 1\\\\0 \\end{array}\\right) \\end{equation*}"
   ]
  },
  {
   "cell_type": "code",
   "execution_count": 42,
   "metadata": {},
   "outputs": [
    {
     "name": "stdout",
     "output_type": "stream",
     "text": [
      " Conjugate Gradients version 1 \n",
      "\n",
      "[[2.]]\n",
      " *** CG iteration 1, residual = 1.00e+00\n",
      "[[2. 1.]\n",
      " [1. 2.]]\n",
      " *** CG iteration 2, residual = 0.00e+00\n",
      " Conjugate Gradients version 2 \n",
      "\n",
      " *** CG iteration 1, residual = 1.00e+00\n",
      " *** CG iteration 2, residual = 0.00e+00\n",
      " Conjugate Gradients version 3 \n",
      "\n",
      " *** CG iteration 1, residual = 5.00e-01\n",
      " *** CG iteration 2, residual = 0.00e+00\n",
      " Practical Conjugate Gradients\n",
      "\n",
      " *** CG iteration 1, residual = 5.00e-01\n",
      " *** CG iteration 2, residual = 0.00e+00\n"
     ]
    },
    {
     "data": {
      "text/plain": [
       "array([0.66666667, 0.33333333])"
      ]
     },
     "execution_count": 42,
     "metadata": {},
     "output_type": "execute_result"
    }
   ],
   "source": [
    "# Example 1\n",
    "A = np.array([[2.0,-1.0],[-1.0,2.0]], dtype=np.float64) \n",
    "b = np.array([1.0,0.0], dtype=np.float64)\n",
    "\n",
    "print(\" Conjugate Gradients version 1 \\n\")\n",
    "x1,n1 = ConjugateGradient_1(A,b)\n",
    "print(\" Conjugate Gradients version 2 \\n\")\n",
    "x2,n2 = ConjugateGradient_2(A,b)\n",
    "print(\" Conjugate Gradients version 3 \\n\")\n",
    "x3,n3 = ConjugateGradient_3(A,b)\n",
    "print(\" Practical Conjugate Gradients\\n\")\n",
    "x4,n4 = practicalCG(A,b)\n",
    "x4"
   ]
  },
  {
   "cell_type": "markdown",
   "metadata": {},
   "source": [
    "Ejemplo 2:\n",
    "\\begin{equation*} A = \\left(\\begin{array}{ccc} 5&1&1\\\\1&5&-1 \\\\ 1&-1&5\\end{array}\\right), \\quad b = \\left( \\begin{array}{c} 4\\\\2\\\\-4 \\end{array}\\right) \\end{equation*}"
   ]
  },
  {
   "cell_type": "code",
   "execution_count": 43,
   "metadata": {},
   "outputs": [
    {
     "name": "stdout",
     "output_type": "stream",
     "text": [
      " Conjugate Gradients version 1 \n",
      "\n",
      "[[5.]]\n",
      " *** CG iteration 1, residual = 1.41e+00\n",
      "[[5.         1.41421356]\n",
      " [1.41421356 4.        ]]\n",
      " *** CG iteration 2, residual = 8.31e-16\n",
      " Conjugate Gradients version 2 \n",
      "\n",
      " *** CG iteration 1, residual = 1.41e+00\n",
      " *** CG iteration 2, residual = 8.31e-16\n",
      " Conjugate Gradients version 3 \n",
      "\n",
      " *** CG iteration 1, residual = 1.70e+00\n",
      " *** CG iteration 2, residual = 6.96e-16\n",
      " Practical Conjugate Gradients\n",
      "\n",
      " *** CG iteration 1, residual = 1.70e+00\n",
      " *** CG iteration 2, residual = 6.96e-16\n"
     ]
    }
   ],
   "source": [
    "# Example 2\n",
    "A = np.array([[5,1,1],[1,5,-1],[1,-1,5]], dtype=np.float64) \n",
    "b = np.array([4,2,-4], dtype=np.float64)\n",
    "\n",
    "print(\" Conjugate Gradients version 1 \\n\")\n",
    "x1,n1 = ConjugateGradient_1(A,b)\n",
    "print(\" Conjugate Gradients version 2 \\n\")\n",
    "x2,n2 = ConjugateGradient_2(A,b)\n",
    "print(\" Conjugate Gradients version 3 \\n\")\n",
    "x3,n3 = ConjugateGradient_3(A,b)\n",
    "print(\" Practical Conjugate Gradients\\n\")\n",
    "x4,n4 = practicalCG(A,b)\n"
   ]
  },
  {
   "cell_type": "markdown",
   "metadata": {},
   "source": [
    "## Test Gradientes Conjugados\n",
    "\n",
    "$$\n",
    "A = I_{m} \\otimes C_1 + C_2 \\otimes I_{m},\\quad\n",
    "C_{1}\n",
    "=\n",
    "\\begin{bmatrix}\n",
    "c      &     a  &      0 & \\ldots & 0     \\\\\n",
    "a      &     c  &      a & \\ddots & \\vdots\\\\\n",
    "0      & \\ddots & \\ddots & \\ddots & 0     \\\\\n",
    "\\vdots & \\ddots & a      & c      & a     \\\\\n",
    "0      & \\ldots & 0      & a      & c\n",
    "\\end{bmatrix}, \\quad\n",
    "C_{2}\n",
    "=\n",
    "\\begin{bmatrix}\n",
    "c      &     b  &      0 & \\ldots & 0     \\\\\n",
    "b      &     c  &      b & \\ddots & \\vdots\\\\\n",
    "0      & \\ddots & \\ddots & \\ddots & 0     \\\\\n",
    "\\vdots & \\ddots & b      & c      & b     \\\\\n",
    "0      & \\ldots & 0      & b      & c\n",
    "\\end{bmatrix}\n",
    "$$\n",
    "\n",
    "1. Test con numero de condicion acotado (<9): $a= 1/9,\\,b = 1/9,\\, c = 5/18$.\n",
    "\n",
    "2. Test con numero de condicion no acotado : $a= -1,\\,b = -1,\\, c = 2$.\n"
   ]
  },
  {
   "cell_type": "code",
   "execution_count": 44,
   "metadata": {},
   "outputs": [],
   "source": [
    "import pandas as pd\n",
    "import scipy.sparse as sp"
   ]
  },
  {
   "cell_type": "code",
   "execution_count": 45,
   "metadata": {},
   "outputs": [],
   "source": [
    "def testproblem(num, m):\n",
    "    if num == 1:\n",
    "    # Poisson matrix\n",
    "        a = -1;\n",
    "        b = a;\n",
    "        c = 2;\n",
    "    elif num == 2:\n",
    "    # Averaging problem\n",
    "        a = 1.0/9.0;\n",
    "        b = a;\n",
    "        c = 5.0/18.0;\n",
    "    # end \n",
    "    C1 = c*np.diag(np.ones(m),0)+a*np.diag(np.ones(m-1),-1)+a*np.diag(np.ones(m-1),1);\n",
    "    C2 = c*np.diag(np.ones(m),0)+b*np.diag(np.ones(m-1),-1)+b*np.diag(np.ones(m-1),1)\n",
    "    A = np.kron(np.eye(m),C1) + np.kron(C2, np.eye(m))\n",
    "    bvector = np.random.rand(m*m)\n",
    "    return sp.csr_matrix(A), bvector"
   ]
  },
  {
   "cell_type": "code",
   "execution_count": 46,
   "metadata": {},
   "outputs": [
    {
     "name": "stdout",
     "output_type": "stream",
     "text": [
      "  (0, 0)\t4.0\n",
      "  (0, 1)\t-1.0\n",
      "  (0, 2)\t-1.0\n",
      "  (1, 0)\t-1.0\n",
      "  (1, 1)\t4.0\n",
      "  (1, 3)\t-1.0\n",
      "  (2, 0)\t-1.0\n",
      "  (2, 2)\t4.0\n",
      "  (2, 3)\t-1.0\n",
      "  (3, 1)\t-1.0\n",
      "  (3, 2)\t-1.0\n",
      "  (3, 3)\t4.0\n"
     ]
    }
   ],
   "source": [
    "A, b = testproblem(num = 1, m=2)\n",
    "print(A)"
   ]
  },
  {
   "cell_type": "code",
   "execution_count": 47,
   "metadata": {},
   "outputs": [
    {
     "data": {
      "text/plain": [
       "<matplotlib.lines.Line2D at 0x13dad313cc8>"
      ]
     },
     "execution_count": 47,
     "metadata": {},
     "output_type": "execute_result"
    },
    {
     "data": {
      "image/png": "[encoded data removed]",
      "text/plain": [
       "<Figure size 640x480 with 1 Axes>"
      ]
     },
     "metadata": {},
     "output_type": "display_data"
    }
   ],
   "source": [
    "A,_=testproblem(num=2, m=40)\n",
    "plt.spy(A)"
   ]
  },
  {
   "cell_type": "code",
   "execution_count": 48,
   "metadata": {
    "scrolled": true
   },
   "outputs": [],
   "source": [
    "def ConjugateGradient(A, b, x0 = None, TOL=1e-8, MAXIT = 100, print_iter=True):\n",
    "    '''\n",
    "    Algorithm 11.3.3. Conjugate Gradients: Hestenes-Stiefel Version\n",
    "    Input  : A s.d.p, b, x0\n",
    "    Output : x sol. Ax = b\n",
    "    '''\n",
    "    if x0 is None: x0 = np.zeros(b.size)\n",
    "    k = 0\n",
    "    r0 = b - A.dot(x0) \n",
    "    # vectors\n",
    "    x = []; r = []\n",
    "    x.append(x0); r.append(r0); pk=r0.copy()\n",
    "    for k in range(MAXIT):\n",
    "        alphak =  r[k].dot(r[k])/(pk.dot(A.dot(pk)))\n",
    "        xnew = x[k] + alphak * pk; x.append(xnew)\n",
    "        rnew = r[k] - alphak*A.dot(pk); r.append(rnew)\n",
    "        betak = rnew.dot(rnew)/(r[k].dot(r[k]))\n",
    "        pk = rnew + betak*pk\n",
    "        if print_iter: printCG(k, np.linalg.norm(rnew))\n",
    "        if np.linalg.norm(rnew)<TOL:\n",
    "            break\n",
    "    return x, k\n",
    "def printCG(iter, res):\n",
    "    print(f\" *** CG iteration {iter}, residual = {res:1.2e}\")   \n",
    "def TestCG_example(examplenumber, mm=5):\n",
    "    kappa = np.zeros(mm)\n",
    "    nn =np.zeros(mm, dtype=np.int64)\n",
    "    M = [5*2**i for i in range(mm)]\n",
    "    for m in range(len(M)):\n",
    "        A, b = testproblem(examplenumber, M[m])\n",
    "        x, nn[m] = ConjugateGradient(A,b, MAXIT=1000, print_iter=False)\n",
    "        kappa[m] = np.linalg.cond(A.todense())\n",
    "    tab = pd.DataFrame({'m':M, 'Matrix dim':np.square(M), 'Condition number':kappa, 'number of CG iterations': nn})\n",
    "    return tab"
   ]
  },
  {
   "cell_type": "code",
   "execution_count": 49,
   "metadata": {},
   "outputs": [
    {
     "data": {
      "text/html": [
       "<style type=\"text/css\">\n",
       "</style>\n",
       "<table id=\"T_c6b19_\">\n",
       "  <caption>Example, bounded condition number</caption>\n",
       "  <thead>\n",
       "    <tr>\n",
       "      <th class=\"blank level0\" >&nbsp;</th>\n",
       "      <th class=\"col_heading level0 col0\" >m</th>\n",
       "      <th class=\"col_heading level0 col1\" >Matrix dim</th>\n",
       "      <th class=\"col_heading level0 col2\" >Condition number</th>\n",
       "      <th class=\"col_heading level0 col3\" >number of CG iterations</th>\n",
       "    </tr>\n",
       "  </thead>\n",
       "  <tbody>\n",
       "    <tr>\n",
       "      <th id=\"T_c6b19_level0_row0\" class=\"row_heading level0 row0\" >0</th>\n",
       "      <td id=\"T_c6b19_row0_col0\" class=\"data row0 col0\" >5</td>\n",
       "      <td id=\"T_c6b19_row0_col1\" class=\"data row0 col1\" >25</td>\n",
       "      <td id=\"T_c6b19_row0_col2\" class=\"data row0 col2\" >13.928203</td>\n",
       "      <td id=\"T_c6b19_row0_col3\" class=\"data row0 col3\" >12</td>\n",
       "    </tr>\n",
       "    <tr>\n",
       "      <th id=\"T_c6b19_level0_row1\" class=\"row_heading level0 row1\" >1</th>\n",
       "      <td id=\"T_c6b19_row1_col0\" class=\"data row1 col0\" >10</td>\n",
       "      <td id=\"T_c6b19_row1_col1\" class=\"data row1 col1\" >100</td>\n",
       "      <td id=\"T_c6b19_row1_col2\" class=\"data row1 col2\" >48.374150</td>\n",
       "      <td id=\"T_c6b19_row1_col3\" class=\"data row1 col3\" >33</td>\n",
       "    </tr>\n",
       "    <tr>\n",
       "      <th id=\"T_c6b19_level0_row2\" class=\"row_heading level0 row2\" >2</th>\n",
       "      <td id=\"T_c6b19_row2_col0\" class=\"data row2 col0\" >20</td>\n",
       "      <td id=\"T_c6b19_row2_col1\" class=\"data row2 col1\" >400</td>\n",
       "      <td id=\"T_c6b19_row2_col2\" class=\"data row2 col2\" >178.064275</td>\n",
       "      <td id=\"T_c6b19_row2_col3\" class=\"data row2 col3\" >67</td>\n",
       "    </tr>\n",
       "    <tr>\n",
       "      <th id=\"T_c6b19_level0_row3\" class=\"row_heading level0 row3\" >3</th>\n",
       "      <td id=\"T_c6b19_row3_col0\" class=\"data row3 col0\" >40</td>\n",
       "      <td id=\"T_c6b19_row3_col1\" class=\"data row3 col1\" >1600</td>\n",
       "      <td id=\"T_c6b19_row3_col2\" class=\"data row3 col2\" >680.617070</td>\n",
       "      <td id=\"T_c6b19_row3_col3\" class=\"data row3 col3\" >135</td>\n",
       "    </tr>\n",
       "    <tr>\n",
       "      <th id=\"T_c6b19_level0_row4\" class=\"row_heading level0 row4\" >4</th>\n",
       "      <td id=\"T_c6b19_row4_col0\" class=\"data row4 col0\" >80</td>\n",
       "      <td id=\"T_c6b19_row4_col1\" class=\"data row4 col1\" >6400</td>\n",
       "      <td id=\"T_c6b19_row4_col2\" class=\"data row4 col2\" >2658.406502</td>\n",
       "      <td id=\"T_c6b19_row4_col3\" class=\"data row4 col3\" >271</td>\n",
       "    </tr>\n",
       "  </tbody>\n",
       "</table>\n"
      ],
      "text/plain": [
       "<pandas.io.formats.style.Styler at 0x13dad064108>"
      ]
     },
     "execution_count": 49,
     "metadata": {},
     "output_type": "execute_result"
    }
   ],
   "source": [
    "tab1 = TestCG_example(examplenumber=1, mm=5)\n",
    "tab1 = tab1.style.set_caption('Example, bounded condition number')\n",
    "tab1"
   ]
  },
  {
   "cell_type": "code",
   "execution_count": 50,
   "metadata": {},
   "outputs": [
    {
     "data": {
      "text/html": [
       "<style type=\"text/css\">\n",
       "</style>\n",
       "<table id=\"T_7cbc0_\">\n",
       "  <caption>Example, increasing condition number</caption>\n",
       "  <thead>\n",
       "    <tr>\n",
       "      <th class=\"blank level0\" >&nbsp;</th>\n",
       "      <th class=\"col_heading level0 col0\" >m</th>\n",
       "      <th class=\"col_heading level0 col1\" >Matrix dim</th>\n",
       "      <th class=\"col_heading level0 col2\" >Condition number</th>\n",
       "      <th class=\"col_heading level0 col3\" >number of CG iterations</th>\n",
       "    </tr>\n",
       "  </thead>\n",
       "  <tbody>\n",
       "    <tr>\n",
       "      <th id=\"T_7cbc0_level0_row0\" class=\"row_heading level0 row0\" >0</th>\n",
       "      <td id=\"T_7cbc0_row0_col0\" class=\"data row0 col0\" >5</td>\n",
       "      <td id=\"T_7cbc0_row0_col1\" class=\"data row0 col1\" >25</td>\n",
       "      <td id=\"T_7cbc0_row0_col2\" class=\"data row0 col2\" >5.510847</td>\n",
       "      <td id=\"T_7cbc0_row0_col3\" class=\"data row0 col3\" >12</td>\n",
       "    </tr>\n",
       "    <tr>\n",
       "      <th id=\"T_7cbc0_level0_row1\" class=\"row_heading level0 row1\" >1</th>\n",
       "      <td id=\"T_7cbc0_row1_col0\" class=\"data row1 col0\" >10</td>\n",
       "      <td id=\"T_7cbc0_row1_col1\" class=\"data row1 col1\" >100</td>\n",
       "      <td id=\"T_7cbc0_row1_col2\" class=\"data row1 col2\" >7.605644</td>\n",
       "      <td id=\"T_7cbc0_row1_col3\" class=\"data row1 col3\" >23</td>\n",
       "    </tr>\n",
       "    <tr>\n",
       "      <th id=\"T_7cbc0_level0_row2\" class=\"row_heading level0 row2\" >2</th>\n",
       "      <td id=\"T_7cbc0_row2_col0\" class=\"data row2 col0\" >20</td>\n",
       "      <td id=\"T_7cbc0_row2_col1\" class=\"data row2 col1\" >400</td>\n",
       "      <td id=\"T_7cbc0_row2_col2\" class=\"data row2 col2\" >8.572340</td>\n",
       "      <td id=\"T_7cbc0_row2_col3\" class=\"data row2 col3\" >27</td>\n",
       "    </tr>\n",
       "    <tr>\n",
       "      <th id=\"T_7cbc0_level0_row3\" class=\"row_heading level0 row3\" >3</th>\n",
       "      <td id=\"T_7cbc0_row3_col0\" class=\"data row3 col0\" >40</td>\n",
       "      <td id=\"T_7cbc0_row3_col1\" class=\"data row3 col1\" >1600</td>\n",
       "      <td id=\"T_7cbc0_row3_col2\" class=\"data row3 col2\" >8.883994</td>\n",
       "      <td id=\"T_7cbc0_row3_col3\" class=\"data row3 col3\" >29</td>\n",
       "    </tr>\n",
       "    <tr>\n",
       "      <th id=\"T_7cbc0_level0_row4\" class=\"row_heading level0 row4\" >4</th>\n",
       "      <td id=\"T_7cbc0_row4_col0\" class=\"data row4 col0\" >80</td>\n",
       "      <td id=\"T_7cbc0_row4_col1\" class=\"data row4 col1\" >6400</td>\n",
       "      <td id=\"T_7cbc0_row4_col2\" class=\"data row4 col2\" >8.970008</td>\n",
       "      <td id=\"T_7cbc0_row4_col3\" class=\"data row4 col3\" >31</td>\n",
       "    </tr>\n",
       "  </tbody>\n",
       "</table>\n"
      ],
      "text/plain": [
       "<pandas.io.formats.style.Styler at 0x13dad064d08>"
      ]
     },
     "execution_count": 50,
     "metadata": {},
     "output_type": "execute_result"
    }
   ],
   "source": [
    "tab2 = TestCG_example(examplenumber=2, mm=5)\n",
    "tab2 = tab2.style.set_caption('Example, increasing condition number')\n",
    "tab2"
   ]
  },
  {
   "cell_type": "markdown",
   "metadata": {},
   "source": [
    "### Using scipy.sparse.linlg.cg"
   ]
  },
  {
   "cell_type": "code",
   "execution_count": null,
   "metadata": {},
   "outputs": [],
   "source": [
    "class cg_counter(object):\n",
    "    def __init__(self, A, b, disp=True):\n",
    "        self._disp = disp\n",
    "        self.niter = 0\n",
    "        self.A = A\n",
    "        self.b = b\n",
    "        self.rk = []\n",
    "    def __call__(self, xk=None):\n",
    "        self.niter += 1\n",
    "        if self._disp:\n",
    "            rk = self.b-self.A.dot(xk) \n",
    "            rhok = np.linalg.norm(rk)\n",
    "            # print('iter %3i\\trk = %s' % (self.niter, str(rhok)))      \n",
    "            self.rk.append(rk)\n"
   ]
  },
  {
   "cell_type": "code",
   "execution_count": null,
   "metadata": {},
   "outputs": [],
   "source": [
    "A, b = testproblem(1, 80)\n",
    "counter = cg_counter(A, b)\n",
    "x, info = cg(A, b, tol=10**(-8), maxiter=200, callback=counter)\n",
    "counter.niter"
   ]
  },
  {
   "cell_type": "code",
   "execution_count": null,
   "metadata": {},
   "outputs": [],
   "source": [
    "def Test_scipyCG_example(examplenumber, mm=5):\n",
    "    kappa = np.zeros(mm)\n",
    "    nn =np.zeros(mm, dtype=np.int64)\n",
    "    M = [5*2**i for i in range(mm)]\n",
    "    for m in range(len(M)):\n",
    "        A, b = testproblem(examplenumber, M[m])\n",
    "        counter = cg_counter(A, b)\n",
    "        x, info = cg(A,b, tol=10**(-8), maxiter=200, callback=counter)\n",
    "        nn[m] = counter.niter\n",
    "        kappa[m] = np.linalg.cond(A.todense())\n",
    "    tab = pd.DataFrame({'m':M, 'Matrix dim':np.square(M), 'Condition number':kappa, 'number of CG iterations': nn})\n",
    "    return tab"
   ]
  },
  {
   "cell_type": "code",
   "execution_count": null,
   "metadata": {},
   "outputs": [],
   "source": [
    "tab1 = Test_scipyCG_example(examplenumber=1, mm=5)\n",
    "tab1 = tab1.style.set_caption('Example, bounded condition number')\n",
    "tab1"
   ]
  },
  {
   "cell_type": "code",
   "execution_count": 260,
   "metadata": {},
   "outputs": [
    {
     "data": {
      "text/html": [
       "<style type=\"text/css\">\n",
       "</style>\n",
       "<table id=\"T_8175d\">\n",
       "  <caption>Ejemplo con numero de condicion no acotado</caption>\n",
       "  <thead>\n",
       "    <tr>\n",
       "      <th class=\"blank level0\" >&nbsp;</th>\n",
       "      <th id=\"T_8175d_level0_col0\" class=\"col_heading level0 col0\" >m</th>\n",
       "      <th id=\"T_8175d_level0_col1\" class=\"col_heading level0 col1\" >Matrix dim</th>\n",
       "      <th id=\"T_8175d_level0_col2\" class=\"col_heading level0 col2\" >Condition number</th>\n",
       "      <th id=\"T_8175d_level0_col3\" class=\"col_heading level0 col3\" >number of CG iterations</th>\n",
       "    </tr>\n",
       "  </thead>\n",
       "  <tbody>\n",
       "    <tr>\n",
       "      <th id=\"T_8175d_level0_row0\" class=\"row_heading level0 row0\" >0</th>\n",
       "      <td id=\"T_8175d_row0_col0\" class=\"data row0 col0\" >5</td>\n",
       "      <td id=\"T_8175d_row0_col1\" class=\"data row0 col1\" >25</td>\n",
       "      <td id=\"T_8175d_row0_col2\" class=\"data row0 col2\" >13.928203</td>\n",
       "      <td id=\"T_8175d_row0_col3\" class=\"data row0 col3\" >13</td>\n",
       "    </tr>\n",
       "    <tr>\n",
       "      <th id=\"T_8175d_level0_row1\" class=\"row_heading level0 row1\" >1</th>\n",
       "      <td id=\"T_8175d_row1_col0\" class=\"data row1 col0\" >10</td>\n",
       "      <td id=\"T_8175d_row1_col1\" class=\"data row1 col1\" >100</td>\n",
       "      <td id=\"T_8175d_row1_col2\" class=\"data row1 col2\" >48.374150</td>\n",
       "      <td id=\"T_8175d_row1_col3\" class=\"data row1 col3\" >32</td>\n",
       "    </tr>\n",
       "    <tr>\n",
       "      <th id=\"T_8175d_level0_row2\" class=\"row_heading level0 row2\" >2</th>\n",
       "      <td id=\"T_8175d_row2_col0\" class=\"data row2 col0\" >20</td>\n",
       "      <td id=\"T_8175d_row2_col1\" class=\"data row2 col1\" >400</td>\n",
       "      <td id=\"T_8175d_row2_col2\" class=\"data row2 col2\" >178.064275</td>\n",
       "      <td id=\"T_8175d_row2_col3\" class=\"data row2 col3\" >62</td>\n",
       "    </tr>\n",
       "    <tr>\n",
       "      <th id=\"T_8175d_level0_row3\" class=\"row_heading level0 row3\" >3</th>\n",
       "      <td id=\"T_8175d_row3_col0\" class=\"data row3 col0\" >40</td>\n",
       "      <td id=\"T_8175d_row3_col1\" class=\"data row3 col1\" >1600</td>\n",
       "      <td id=\"T_8175d_row3_col2\" class=\"data row3 col2\" >680.617070</td>\n",
       "      <td id=\"T_8175d_row3_col3\" class=\"data row3 col3\" >123</td>\n",
       "    </tr>\n",
       "    <tr>\n",
       "      <th id=\"T_8175d_level0_row4\" class=\"row_heading level0 row4\" >4</th>\n",
       "      <td id=\"T_8175d_row4_col0\" class=\"data row4 col0\" >80</td>\n",
       "      <td id=\"T_8175d_row4_col1\" class=\"data row4 col1\" >6400</td>\n",
       "      <td id=\"T_8175d_row4_col2\" class=\"data row4 col2\" >2658.406502</td>\n",
       "      <td id=\"T_8175d_row4_col3\" class=\"data row4 col3\" >242</td>\n",
       "    </tr>\n",
       "  </tbody>\n",
       "</table>\n"
      ],
      "text/plain": [
       "<pandas.io.formats.style.Styler at 0x1bd1de11d50>"
      ]
     },
     "execution_count": 260,
     "metadata": {},
     "output_type": "execute_result"
    }
   ],
   "source": [
    "tab2 = Test_scipyCG_example(examplenumber=2, mm=5)\n",
    "tab2 = tab2.style.set_caption('Example, increasing condition number')\n",
    "tab2"
   ]
  },
  {
   "cell_type": "markdown",
   "metadata": {},
   "source": [
    "## Example 6.15 Demmel\n",
    "El objetivo de este ejemplo es mostrar que CG puede converger mas rapido que el estimado que obtuvimos:\n",
    "\\begin{equation}\n",
    "\\frac{\\|r_k\\|_2}{\\|r_0\\|_2} \\leq \\frac{1}{T_{k}(1 + \\frac{2}{\\kappa-1})} \n",
    "\\end{equation}\n",
    "\n",
    "Consideramos 8 sistemas lineales de dimensi\\'on $n=10^4$ y el mismo n\\'umero de condici\\'on $\\kappa \\approx 4134$, sin embargo su convergencia es radicalmente diferente.\n",
    "\n",
    "El primer sistema lineal es el sistema asociado a la ecuacion de Poisson usando diferencias finitas\n",
    "\n",
    "Tenemos 7 sistemas lineales diagonales de la forma $D_{i} x = b$, donde cada $D_i$ tiene mismo numero de condicion que la matriz $A$. Cada $D_i$ se construye tal que sus $m_i$ valores propios mas pequenos y sus $m_i$ valores propios mas grandes coinciden con los correspondientes valores propios de la matriz $A$. El resto de los $n-2m_i$ valores propios de $D_i$ se toman como el la media geometrica de los mayores y menores valores propios. Asi cada $D_i$ tiene solo $2m_i+1$ valores propios distintos.\n",
    "\n",
    "Tambien graficamos la cota del error relativo\n",
    "\\begin{equation}\n",
    " \\frac{1}{T_{k}(1 + \\frac{2}{\\kappa-1})} \n",
    "\\end{equation}"
   ]
  },
  {
   "cell_type": "code",
   "execution_count": 58,
   "metadata": {},
   "outputs": [],
   "source": [
    "import numpy as np\n",
    "import matplotlib.pyplot as plt\n",
    "from scipy.sparse import csr_matrix\n",
    "from scipy.sparse.linalg import cg, eigs\n",
    "from scipy.stats.mstats import gmean\n",
    "from scipy.special import eval_chebyt\n",
    "import pandas as pd"
   ]
  },
  {
   "cell_type": "markdown",
   "metadata": {},
   "source": [
    "Calculamos la matriz de diferencias finitas asociada a la ecuacion de Poisson"
   ]
  },
  {
   "cell_type": "code",
   "execution_count": 86,
   "metadata": {},
   "outputs": [],
   "source": [
    "n = 100\n",
    "# one dimensional finite difference matrix\n",
    "A1d = np.diag(2*np.ones(n)) + np.diag(-1*np.ones(n-1),-1)+ np.diag(-1*np.ones(n-1),1)\n",
    "\n",
    "# two dimensional finite difference matrix\n",
    "A2d = np.kron(np.eye(n),A1d) + np.kron(A1d, np.eye(n))\n",
    "\n",
    "A = csr_matrix(A2d)\n",
    "# random vector as right hand side\n",
    "# b = np.random.rand(n**2)\n",
    "b = np.random.normal(0, 1, n**2)"
   ]
  },
  {
   "cell_type": "markdown",
   "metadata": {},
   "source": [
    "Calculamos los valores propios de esta matriz. "
   ]
  },
  {
   "cell_type": "code",
   "execution_count": 33,
   "metadata": {},
   "outputs": [
    {
     "name": "stdout",
     "output_type": "stream",
     "text": [
      "[1.93487083e-03 4.83624115e-03 4.83624115e-03 ... 7.99516376e+00\n",
      " 7.99516376e+00 7.99806513e+00]\n",
      "[0.00193487+0.j 0.00483624+0.j 0.00483624+0.j] [7.99806513+0.j 7.99516376+0.j 7.99516376+0.j]\n"
     ]
    }
   ],
   "source": [
    "# Eigenvalues and condition number\n",
    "lambdas = [2*(1.0-np.cos(np.pi*j/(n+1))) for j in range(1,n+1)]\n",
    "kappa = lambdas[-1]/lambdas[0]\n",
    "\n",
    "l2d = np.zeros(n**2)\n",
    "k = 0\n",
    "for i in range(0,n):\n",
    "    for j in range(0, n):\n",
    "        l2d[k] = lambdas[i]+lambdas[j]\n",
    "        k = k+1\n",
    "l2d = np.sort(l2d)\n",
    "lamSM,_ = eigs(A,k=3,which='SM')\n",
    "lamLM,_ = eigs(A,k=3,which='LM')\n",
    "print(l2d)\n",
    "print(lamSM, lamLM)\n"
   ]
  },
  {
   "cell_type": "code",
   "execution_count": 52,
   "metadata": {},
   "outputs": [
    {
     "name": "stdout",
     "output_type": "stream",
     "text": [
      "[1.93487083e-03 4.83624115e-03 4.83624115e-03 7.73761147e-03\n",
      " 9.66873948e-03 7.99033126e+00 7.99226239e+00 7.99516376e+00\n",
      " 7.99516376e+00 7.99806513e+00]\n"
     ]
    }
   ],
   "source": [
    "class cg_counter(object):\n",
    "    def __init__(self, A, b, disp=True):\n",
    "        self._disp = disp\n",
    "        self.niter = 0\n",
    "        self.A = A\n",
    "        self.b = b\n",
    "        self.rk = []\n",
    "    def __call__(self, xk=None):\n",
    "        self.niter += 1\n",
    "        if self._disp:\n",
    "            rk = self.b-self.A.dot(xk) \n",
    "            rhok = np.linalg.norm(rk)\n",
    "            # print('iter %3i\\trk = %s' % (self.niter, str(rhok)))      \n",
    "            self.rk.append(rk)\n",
    "\n",
    "\n",
    "print( )"
   ]
  },
  {
   "cell_type": "code",
   "execution_count": 90,
   "metadata": {},
   "outputs": [
    {
     "name": "stdout",
     "output_type": "stream",
     "text": [
      "geometric mean for D_1 : 0.12439944907934594\n",
      "geometric mean for D_2 : 0.20153565128422213\n",
      "geometric mean for D_3 : 0.33403981346244566\n",
      "geometric mean for D_4 : 0.4451384688483489\n",
      "geometric mean for D_5 : 0.6637394245148277\n",
      "geometric mean for D_6 : 0.9061185551904\n",
      "geometric mean for D_7 : 2.651597855454122\n"
     ]
    }
   ],
   "source": [
    "m1 = 1; dm1 = 1+2*m1\n",
    "gm1 = gmean(np.concatenate((l2d[:m1],  l2d[-m1:])))\n",
    "D1 = np.diag(np.hstack((l2d[:m1],gm1*np.ones(n**2-2*m1), l2d[-m1:]) ))\n",
    "print(\"geometric mean for D_1 :\", gm1)\n",
    "D1sp = csr_matrix(D1)\n",
    "\n",
    "m2 = 5; dm2 = 1+2*m2\n",
    "gm2 = gmean(np.concatenate((l2d[:m2],  l2d[-m2:])))\n",
    "D2 = np.diag(np.hstack((l2d[:m2],gm2*np.ones(n**2-2*m2), l2d[-m2:]) ))\n",
    "print(\"geometric mean for D_2 :\", gm2)\n",
    "D2sp = csr_matrix(D2)\n",
    "\n",
    "m3 = 20; dm3 = 1+2*m3\n",
    "gm3 = gmean(np.concatenate((l2d[:m3],  l2d[-m3:])))\n",
    "D3 = np.diag(np.hstack((l2d[:m3],gm3*np.ones(n**2-2*m3), l2d[-m3:]) ))\n",
    "print(\"geometric mean for D_3 :\", gm3)\n",
    "D3sp = csr_matrix(D3)\n",
    "\n",
    "m4 = 40; dm4 = 1+2*m4\n",
    "gm4 = gmean(np.concatenate((l2d[:m4],  l2d[-m4:])))\n",
    "D4 = np.diag(np.hstack((l2d[:m4],gm4*np.ones(n**2-2*m4), l2d[-m4:]) ))\n",
    "print(\"geometric mean for D_4 :\", gm4)\n",
    "D4sp = csr_matrix(D4)\n",
    "\n",
    "m5 = 100; dm5 = 1+2*m5\n",
    "gm5 = gmean(np.concatenate((l2d[:m5],  l2d[-m5:])))\n",
    "D5 = np.diag(np.hstack((l2d[:m5],gm5*np.ones(n**2-2*m5), l2d[-m5:]) ))\n",
    "print(\"geometric mean for D_5 :\", gm5)\n",
    "D5sp = csr_matrix(D5)\n",
    "\n",
    "m6 = 200; dm6 = 1+2*m6\n",
    "gm6 = gmean(np.concatenate((l2d[:m6],  l2d[-m6:])))\n",
    "D6 = np.diag(np.hstack((l2d[:m6],gm6*np.ones(n**2-2*m6), l2d[-m6:]) ))\n",
    "print(\"geometric mean for D_6 :\", gm6)\n",
    "D6sp = csr_matrix(D6)\n",
    "\n",
    "m7 = 2500; dm7 = 1+2*m7\n",
    "gm7 = gmean(np.concatenate((l2d[:m7],  l2d[-m7:])))\n",
    "D7 = np.diag(np.hstack((l2d[:m7],gm7*np.ones(n**2-2*m7), l2d[-m7:]) ))\n",
    "print(\"geometric mean for D_7 :\", gm7)\n",
    "D7sp = csr_matrix(D7)"
   ]
  },
  {
   "cell_type": "code",
   "execution_count": 87,
   "metadata": {},
   "outputs": [],
   "source": [
    "counter_A = cg_counter(A, b)\n",
    "x, info = cg(A, b, tol=10**(-13), maxiter=500, callback=counter_A)\n",
    "\n",
    "counter_D1 = cg_counter(D1sp, b)\n",
    "xD1, info = cg(D1sp, b, tol=10**(-13), maxiter=200, callback=counter_D1)\n",
    "\n",
    "counter_D2 = cg_counter(D2sp, b)\n",
    "xD2, info = cg(D2sp, b, tol=10**(-13), maxiter=200, callback=counter_D2)\n",
    "\n",
    "counter_D3 = cg_counter(D3sp, b)\n",
    "xD3, info = cg(D3sp, b, tol=10**(-13), maxiter=200, callback=counter_D3)\n",
    "\n",
    "counter_D4 = cg_counter(D4sp, b)\n",
    "xD4, info = cg(D4sp, b, tol=10**(-13), maxiter=200, callback=counter_D4)\n",
    "\n",
    "counter_D5 = cg_counter(D5sp, b)\n",
    "xD5, info = cg(D5sp, b, tol=10**(-13), maxiter=200, callback=counter_D5)\n",
    "\n",
    "counter_D6 = cg_counter(D6sp, b)\n",
    "xD6, info = cg(D6sp, b, tol=10**(-13), maxiter=200, callback=counter_D6)\n",
    "\n",
    "counter_D7 = cg_counter(D7sp, b)\n",
    "xD7, info = cg(D7sp, b, tol=10**(-13), maxiter=500, callback=counter_D7)"
   ]
  },
  {
   "cell_type": "code",
   "execution_count": 88,
   "metadata": {},
   "outputs": [
    {
     "data": {
      "text/html": [
       "<div>\n",
       "<style scoped>\n",
       "    .dataframe tbody tr th:only-of-type {\n",
       "        vertical-align: middle;\n",
       "    }\n",
       "\n",
       "    .dataframe tbody tr th {\n",
       "        vertical-align: top;\n",
       "    }\n",
       "\n",
       "    .dataframe thead th {\n",
       "        text-align: right;\n",
       "    }\n",
       "</style>\n",
       "<table border=\"1\" class=\"dataframe\">\n",
       "  <thead>\n",
       "    <tr style=\"text-align: right;\">\n",
       "      <th></th>\n",
       "      <th>Matriz</th>\n",
       "      <th>Num. val.p. distintos</th>\n",
       "      <th>num. CG. iteraciones</th>\n",
       "    </tr>\n",
       "  </thead>\n",
       "  <tbody>\n",
       "    <tr>\n",
       "      <th>0</th>\n",
       "      <td>A</td>\n",
       "      <td>10000</td>\n",
       "      <td>405</td>\n",
       "    </tr>\n",
       "    <tr>\n",
       "      <th>1</th>\n",
       "      <td>D1</td>\n",
       "      <td>3</td>\n",
       "      <td>4</td>\n",
       "    </tr>\n",
       "    <tr>\n",
       "      <th>2</th>\n",
       "      <td>D2</td>\n",
       "      <td>11</td>\n",
       "      <td>11</td>\n",
       "    </tr>\n",
       "    <tr>\n",
       "      <th>3</th>\n",
       "      <td>D3</td>\n",
       "      <td>41</td>\n",
       "      <td>26</td>\n",
       "    </tr>\n",
       "    <tr>\n",
       "      <th>4</th>\n",
       "      <td>D4</td>\n",
       "      <td>81</td>\n",
       "      <td>50</td>\n",
       "    </tr>\n",
       "    <tr>\n",
       "      <th>5</th>\n",
       "      <td>D5</td>\n",
       "      <td>201</td>\n",
       "      <td>98</td>\n",
       "    </tr>\n",
       "    <tr>\n",
       "      <th>6</th>\n",
       "      <td>D6</td>\n",
       "      <td>401</td>\n",
       "      <td>142</td>\n",
       "    </tr>\n",
       "    <tr>\n",
       "      <th>7</th>\n",
       "      <td>D7</td>\n",
       "      <td>5001</td>\n",
       "      <td>378</td>\n",
       "    </tr>\n",
       "  </tbody>\n",
       "</table>\n",
       "</div>"
      ],
      "text/plain": [
       "  Matriz  Num. val.p. distintos  num. CG. iteraciones\n",
       "0      A                  10000                   405\n",
       "1     D1                      3                     4\n",
       "2     D2                     11                    11\n",
       "3     D3                     41                    26\n",
       "4     D4                     81                    50\n",
       "5     D5                    201                    98\n",
       "6     D6                    401                   142\n",
       "7     D7                   5001                   378"
      ]
     },
     "execution_count": 88,
     "metadata": {},
     "output_type": "execute_result"
    }
   ],
   "source": [
    "i\n",
    "df = pd.DataFrame({'Matriz': ['A','D1','D2','D3','D4','D5','D6','D7'], \n",
    "                   'Num. val.p. distintos':[n**2, dm1,dm2,dm3,dm4,dm5,dm6,dm7],\n",
    "                   'num. CG. iteraciones': [len(counter_A.rk), len(counter_D1.rk),len(counter_D2.rk),len(counter_D3.rk),len(counter_D4.rk),len(counter_D5.rk),len(counter_D6.rk),len(counter_D7.rk)]})\n",
    "df\n"
   ]
  },
  {
   "cell_type": "code",
   "execution_count": 89,
   "metadata": {},
   "outputs": [
    {
     "data": {
      "image/png": "[encoded data removed]",
      "text/plain": [
       "<Figure size 720x720 with 1 Axes>"
      ]
     },
     "metadata": {
      "needs_background": "light"
     },
     "output_type": "display_data"
    }
   ],
   "source": [
    "def rkoverr0(rk):\n",
    "    return [(np.linalg.norm(rk[i]))/(np.linalg.norm(b)) for i in range(len(rk)) ]\n",
    "fig, ax = plt.subplots(1,1, figsize=(10,10))\n",
    "\n",
    "ax.semilogy(range(min(len(counter_A.rk),200))  , rkoverr0(counter_A.rk)[:200]  , label='A')\n",
    "ax.semilogy(range(len(counter_D1.rk)) , rkoverr0(counter_D1.rk) , label='D1')\n",
    "ax.semilogy(range(len(counter_D2.rk)) , rkoverr0(counter_D2.rk) , label='D2')\n",
    "ax.semilogy(range(len(counter_D3.rk)) , rkoverr0(counter_D3.rk) , label='D3')\n",
    "ax.semilogy(range(len(counter_D4.rk)) , rkoverr0(counter_D4.rk) , label='D4')\n",
    "ax.semilogy(range(len(counter_D5.rk)) , rkoverr0(counter_D5.rk) , label='D5')\n",
    "ax.semilogy(range(len(counter_D6.rk)) , rkoverr0(counter_D6.rk) , label='D6')\n",
    "ax.semilogy(range(min(len(counter_D7.rk),200)) , rkoverr0(counter_D7.rk)[:200] , label='D7')\n",
    "\n",
    "ax.semilogy(range(200), [1.0/eval_chebyt(n, 1+2.0/(kappa-1)) for n in range(200)], label='1/T_k' )\n",
    "ax.legend(loc=4,prop={'size': 18})\n",
    "plt.show()"
   ]
  },
  {
   "cell_type": "markdown",
   "metadata": {},
   "source": [
    "\n",
    "### Observaciones \n",
    "- Si los valores propios mas pequenos y mas grandes de la matriz $A$ son pocos en numero (o estan clusterizados) entonces CG convergera mucho mas rapido que el estimado del analisis, el cual solo se basa en el numero de condicion de la matriz $A$.\n",
    "- El comportamiento de CG en aritmetica de punto flotante puede ser significativamente distinto que su comportamiento en aritmetica exacta. Vemos esto ya que observamos que el numero de iteraciones requeridas para converger difiere del numero de valores propios distintos cuando sabemos que estos deberian ser identicos."
   ]
  },
  {
   "cell_type": "code",
   "execution_count": null,
   "metadata": {},
   "outputs": [],
   "source": []
  }
 ],
 "metadata": {
  "hide_input": false,
  "kernelspec": {
   "display_name": "Python 3",
   "language": "python",
   "name": "python3"
  },
  "language_info": {
   "codemirror_mode": {
    "name": "ipython",
    "version": 3
   },
   "file_extension": ".py",
   "mimetype": "text/x-python",
   "name": "python",
   "nbconvert_exporter": "python",
   "pygments_lexer": "ipython3",
   "version": "3.8.5"
  },
  "toc": {
   "base_numbering": 1,
   "nav_menu": {},
   "number_sections": true,
   "sideBar": true,
   "skip_h1_title": false,
   "title_cell": "Table of Contents",
   "title_sidebar": "Contents",
   "toc_cell": false,
   "toc_position": {},
   "toc_section_display": true,
   "toc_window_display": false
  },
  "varInspector": {
   "cols": {
    "lenName": 16,
    "lenType": 16,
    "lenVar": 40
   },
   "kernels_config": {
    "python": {
     "delete_cmd_postfix": "",
     "delete_cmd_prefix": "del ",
     "library": "var_list.py",
     "varRefreshCmd": "print(var_dic_list())"
    },
    "r": {
     "delete_cmd_postfix": ") ",
     "delete_cmd_prefix": "rm(",
     "library": "var_list.r",
     "varRefreshCmd": "cat(var_dic_list()) "
    }
   },
   "types_to_exclude": [
    "module",
    "function",
    "builtin_function_or_method",
    "instance",
    "_Feature"
   ],
   "window_display": false
  }
 },
 "nbformat": 4,
 "nbformat_minor": 4
}
