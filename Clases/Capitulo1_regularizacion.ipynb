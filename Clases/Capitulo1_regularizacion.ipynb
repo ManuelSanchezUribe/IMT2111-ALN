{
 "cells": [
  {
   "cell_type": "markdown",
   "id": "0c6c1343",
   "metadata": {},
   "source": [
    "<hr style=\"border:2px solid #808080\"> </hr>\n",
    "<center><h1 style=\"color:#03122E;\"> Álgebra Lineal Numérica IMT2111</h1></center>\n",
    "<center><h1 style=\"color:#173F8A;\"> Capítulo 1: Minimos cuadrados de rango deficiente</h3></center>\n",
    "<center><h1 style=\"color:#0176DE;\"> Prof. Manuel A. Sánchez</h3></center>\n",
    "<hr style=\"border:2px solid #808080\"> </hr>"
   ]
  },
  {
   "cell_type": "code",
   "execution_count": 68,
   "id": "5988eff2",
   "metadata": {},
   "outputs": [
    {
     "data": {
      "text/html": [
       "<style>.output {display: flex;align-items: center;text-align: center;}</style>"
      ],
      "text/plain": [
       "<IPython.core.display.HTML object>"
      ]
     },
     "metadata": {},
     "output_type": "display_data"
    }
   ],
   "source": [
    "import numpy as np\n",
    "import scipy as sp\n",
    "import matplotlib.pyplot as plt\n",
    "from mpl_toolkits.mplot3d import Axes3D\n",
    "from numpy.random import rand, randint\n",
    "from IPython.display import display, HTML\n",
    "display(HTML(\"\"\"<style>.output {display: flex;align-items: center;text-align: center;}</style>\"\"\"))"
   ]
  },
  {
   "cell_type": "markdown",
   "id": "48baae0a",
   "metadata": {},
   "source": [
    "## Problema de minimos cuadrados con rango deficiente\n",
    "\n",
    "### Minimos cuadrados de rango deficiente usando SVD\n",
    "\n",
    "Hay veces donde al querer resolver un problema, este está muy mal condicionado dado que la matriz que representa al sistema no tiene rango completo (afirmación necesaria para resolver mínimos cuadrados de manera usual por ejemplo).\n",
    "\n",
    "<b>Proposición 3.1(Demmel):</b> Sea $A\\in \\mathbb{R}^{m\\times n}$ con $m\\geq n$ de rango $A=r<n$. Entonces existe un conjunto de dimensión $n-r$ de vectores que minimiza $\\|Ax-b\\|_2$.\n",
    "\n",
    "Con esto, una forma de regularizar este problema 'mal puesto' es mediante el uso del siguiente teorema:\n",
    "\n",
    "<b>Teorema (Demmel):</b> Cuando $A$ de $m\\times n$ de rango $r<n$ es. singular, el $x$ que minimiza $\\|Ax-b\\|_2$ se puede caracterizar como sigue. Para esto, $A=U\\Sigma V^T$ es su descomposición SVD y la escribimos como:\n",
    "\n",
    "$$A = \\begin{bmatrix}U_1&U_2\\end{bmatrix}\\begin{bmatrix}\\Sigma_1&0\\\\0&0\\end{bmatrix}\\begin{bmatrix}V_1^T\\\\V^T_2\\end{bmatrix}$$\n",
    "\n",
    "donde $\\Sigma_1$ de $r\\times r$ almacena los valores singulares no 0. Sea también $\\sigma = \\sigma_{min}(\\Sigma_1)$. Entonces:\n",
    "\n",
    "- Las soluciones al problema se pueden escribir como siguen, para un $z$ arbitrario:\n",
    "\n",
    "$$x = V_1\\Sigma_1^{-1}U_1^Tb + V_2z$$\n",
    "\n",
    "- El $x$ de norma mínima se obtiene haciendo $z=0$ y en este caso $\\|x\\|_2 \\leq \\|b\\|_2/\\sigma$\n",
    "\n",
    "- Cambiando $b$ a $b+\\delta b$ cambia la norma de la solución en a lo más $\\|\\delta b\\|_2/\\sigma$\n"
   ]
  },
  {
   "cell_type": "markdown",
   "id": "6b08a295",
   "metadata": {},
   "source": [
    "Observamos que una de las principales dificultades de resolver el problema de mínimos cuadrados para $A\\in \\mathbb R^{m\\times n}$ y $b\\in \\mathbb R^{m}$\n",
    "\n",
    "$$\n",
    "\\text{minimizar}\\{\\|Ax-b\\|_2: x\\in \\mathbb R^{n}\\}\n",
    "$$\n",
    "cuando hay rango deficiente es el mal condicionamiento del problema. Por ejemplo, sean $A$ y $b$ dadas por\n",
    "\n",
    "$$A = \\begin{pmatrix}1&0&0\\\\0&0&0\\\\0&0&0\\end{pmatrix},\\quad b=\\begin{pmatrix}1\\\\1\\\\1\\end{pmatrix}$$\n",
    "\n",
    "entonces la soluci\\'on de m\\'inima norma de este problema se calcula usando la SVD\n"
   ]
  },
  {
   "cell_type": "code",
   "execution_count": 4,
   "id": "da157811",
   "metadata": {},
   "outputs": [
    {
     "name": "stdout",
     "output_type": "stream",
     "text": [
      "La solución de mínimos cuadrados es: x = [1. 0. 0.]\n",
      "La norma de la solución es: ||x|| = 1.0\n"
     ]
    }
   ],
   "source": [
    "A = np.array([[1., 0., 0.], [0., 0., 0.], [0., 0., 0.]])\n",
    "b = np.array([1., 1., 1.])\n",
    "\n",
    "U, S, VT = np.linalg.svd(A)\n",
    "\n",
    "U1, U2 = U[:,:1], U[:,1]\n",
    "S1 = S[:1]\n",
    "V1T, V2T = VT[:1,:], VT[1,:]\n",
    "\n",
    "x = V1T.T@np.linalg.inv(np.diag(S1))@U1.T@b\n",
    "\n",
    "print(f\"La solución de mínimos cuadrados es: x = {x}\")\n",
    "print(f\"La norma de la solución es: ||x|| = {np.linalg.norm(x)}\")"
   ]
  },
  {
   "cell_type": "markdown",
   "id": "320cabf5",
   "metadata": {},
   "source": [
    "Consideremos ahora una perturbacion de la matriz $A$ por digamos $\\delta A$:\n",
    "\n",
    "$$A+\\delta A = \\begin{pmatrix}1&0&0\\\\0&\\varepsilon&0\\\\0&0&0\\end{pmatrix}$$\n",
    "\n",
    "Entonces, tenemos como valores singulares $1, \\varepsilon, 0$, y así:"
   ]
  },
  {
   "cell_type": "code",
   "execution_count": 12,
   "id": "87522f38",
   "metadata": {},
   "outputs": [
    {
     "name": "stdout",
     "output_type": "stream",
     "text": [
      "La solución de mínimos cuadrados es: x = [1.00000000e+00 4.50359963e+15 0.00000000e+00]\n",
      "La norma de la solución es: ||x|| = 4503599627370496.0\n"
     ]
    }
   ],
   "source": [
    "eps = np.finfo(float).eps\n",
    "A_tilde = np.array([[1., 0., 0.], [0., eps, 0.], [0., 0., 0.]])\n",
    "\n",
    "U, S, VT = np.linalg.svd(A_tilde)\n",
    "U1, U2 = U[:,:2], U[:,2]\n",
    "S1 = S[:2]\n",
    "V1T, V2T = VT[:2,:], VT[2,:]\n",
    "\n",
    "x = V1T.T@np.linalg.inv(np.diag(S1))@U1.T@b\n",
    "\n",
    "print(f\"La solución de mínimos cuadrados es: x = {x}\")\n",
    "print(f\"La norma de la solución es: ||x|| = {np.linalg.norm(x)}\")"
   ]
  },
  {
   "cell_type": "markdown",
   "id": "7064fb69",
   "metadata": {},
   "source": [
    "¿cómo hacer que ante pequeñas perturbaciones no cambie tanto la solución?\n",
    "\n",
    "En general, cada vez que computamos los valores singulares $\\widehat{\\sigma}_i$ de una matriz $A$, estos son tal que:\n",
    "\n",
    "$$|\\widehat{\\sigma}_i - \\sigma_{i}|\\leq \\mathcal{O}(\\varepsilon)\\|A\\|_2$$\n",
    "\n",
    "Como consecuencia de backward stability del cálculo de SVD. Con esto, cada valor singular computado tal que:\n",
    "\n",
    "$$\\widehat{\\sigma}_i\\leq \\mathcal{O}(\\varepsilon)\\|A\\|_2$$\n",
    "\n",
    "Podemos tratarlo como 0. Así:"
   ]
  },
  {
   "cell_type": "code",
   "execution_count": 11,
   "id": "1fa2d3a0",
   "metadata": {},
   "outputs": [
    {
     "name": "stdout",
     "output_type": "stream",
     "text": [
      "La solución de mínimos cuadrados es: x = [1. 0. 0.]\n",
      "La norma de la solución es: ||x|| = 1.0\n"
     ]
    }
   ],
   "source": [
    "U, S, VT = np.linalg.svd(A_tilde)\n",
    "\n",
    "A_norm = np.linalg.norm(A)\n",
    "\n",
    "index = 0\n",
    "for i in range(len(S)):\n",
    "    if S[i] <= eps*A_norm:\n",
    "        index = i\n",
    "        break\n",
    "\n",
    "\n",
    "U1, U2 = U[:,:index], U[:,index]\n",
    "S1 = S[:index]\n",
    "V1T, V2T = VT[:index,:], VT[index,:]\n",
    "\n",
    "x = V1T.T@np.linalg.inv(np.diag(S1))@U1.T@b\n",
    "\n",
    "print(f\"La solución de mínimos cuadrados es: x = {x}\")\n",
    "print(f\"La norma de la solución es: ||x|| = {np.linalg.norm(x)}\")"
   ]
  },
  {
   "cell_type": "markdown",
   "id": "36064e49",
   "metadata": {},
   "source": [
    "## Problema de minimos cuadrados regularizados, Tikhonov regularization\n",
    "\n",
    "\n",
    "\\begin{equation}\n",
    "\\min_{x\\in \\mathbb R^{n}} \\frac{1}{2} \\|Ax-b\\|_{2}^{2} + \\frac{\\tau}{2}\\|x\\|_{2}^{2}.\n",
    "\\end{equation}\n",
    "Aca $\\lambda>0$ es el parametro de regularizacion, no se conoce a priori y sera determinado basado en los datos del problema.\n",
    "\n",
    "- Descomposicion SVD : $A = U\\Sigma V^{T}$, donde $U\\in \\mathbb R^{m\\times m}$, $ V\\in \\mathbb R^{m\\times n}$ y $\\Sigma \\in \\mathbb{R}^{m\\times n}$\n",
    "\\begin{equation}\n",
    "\\sigma_{1} \\geq \\ldots \\geq \\sigma_{r} > \\sigma_{r+1} = \\ldots = \\sigma_{\\min\\{m,n\\}} = 0.\n",
    "\\end{equation}\n",
    "\n",
    "### Solucion del problema de minimos cuadrados regularizado\n",
    "\\begin{equation}\n",
    "x_{\\tau} = \\sum_{i=1}^{r} \\frac{\\sigma_{i} (u_{i}^{T}b) }{\\sigma_{i}^{2} + \\tau} v_{i}\n",
    "\\end{equation}\n",
    "\n",
    "- Observe que\n",
    "\\begin{equation}\n",
    "\\lim_{\\tau\\rightarrow 0 } x_{\\tau} = \\lim_{\\tau \\rightarrow 0} \\sum_{i=1}^{r} \\frac{\\sigma_{i} (u_{i}^{T}b) }{\\sigma_{i}^{2} + \\tau} v_{i} =   \\sum_{i=1}^{r}\\frac{(u_{i}^{T}b) }{\\sigma_{i}} v_{i} = x,\n",
    "\\end{equation}\n",
    "solucion del problema de minimos cuadrados\n",
    "- Propiedad de Regularizacion:\n",
    "\\begin{equation}\n",
    " \\frac{\\sigma_{i} (u_{i}^{T}b) }{\\sigma_{i}^{2} + \\tau} \\approx \\left\\{\n",
    " \\begin{array}{ll}\n",
    " 0,& \\mbox{if } \\sigma_{i} \\ll \\tau \\\\\n",
    "  \\frac{(u_{i}^{T}b) }{\\sigma_{i}},& \\mbox{if } \\sigma_{i}\\gg \\tau \n",
    " \\end{array} \\right.\n",
    "\\end{equation}\n",
    "\n",
    "### Como escoger $\\tau$?\n",
    "Asuma que $b$ es perturbado por $\\Delta b$, $\\tilde{b} = b + \\Delta b$, y queremos calcular la solucion\n",
    "\\begin{equation}\n",
    "x = \\sum_{i=1}^{r} \\frac{u_i^{T} b}{\\sigma_{i}} v_i\n",
    "\\end{equation}\n",
    "pero colo podemos calcular $\\tilde{b}$.\n",
    "\\begin{equation}\n",
    "x_{\\tau} = \\sum_{i=1}^{r} \\left( \\frac{\\sigma_{i} (u_{i}^{T}b) }{\\sigma_{i}^{2} + \\tau}  + \n",
    " \\frac{\\sigma_{i} (u_{i}^{T}\\Delta b) }{\\sigma_{i}^{2} + \\tau} \\right) v_{i}\n",
    "\\end{equation}\n",
    "Tenemos la misma propiedad que antes:\n",
    "- \\begin{equation}\n",
    "\\lim_{\\tau\\rightarrow 0 } x_{\\tau} = \\lim_{\\tau \\rightarrow 0}  \\sum_{i=1}^{r} \\frac{\\sigma_{i} (u_{i}^{T}b) }{\\sigma_{i}^{2} + \\tau} v_{i} =   \\sum_{i=1}^{r}\\frac{(u_{i}^{T}b) }{\\sigma_{i}} v_{i} = x,\n",
    "\\end{equation}\n",
    "- \\begin{equation}\n",
    " \\frac{\\sigma_{i} (u_{i}^{T}\\Delta b) }{\\sigma_{i}^{2} + \\tau} \\approx \\left\\{\n",
    " \\begin{array}{ll}\n",
    " 0,& \\mbox{if } \\sigma_{i} \\ll \\tau \\\\\n",
    "  \\frac{(u_{i}^{T}\\Delta b) }{\\sigma_{i}},& \\mbox{if } \\sigma_{i}\\gg \\tau \n",
    " \\end{array} \\right.\n",
    "\\end{equation}\n",
    "$\\rightarrow$ escoger $\\tau$ suficientemente grande para asegurar que la perturbacion de $\\Delta b$ en los datos no sea magnificados por los valores singulares mas pequenos."
   ]
  },
  {
   "cell_type": "code",
   "execution_count": 71,
   "id": "e2470a1b",
   "metadata": {},
   "outputs": [
    {
     "name": "stdout",
     "output_type": "stream",
     "text": [
      "Matriz de vandermonde:\n",
      " [[1.e+00 1.e+00 1.e+00 1.e+00 1.e+00 1.e+00]\n",
      " [1.e+00 1.e-01 1.e-02 1.e-03 1.e-04 1.e-05]\n",
      " [1.e+00 1.e-02 1.e-04 1.e-06 1.e-08 1.e-10]\n",
      " [1.e+00 1.e-03 1.e-06 1.e-09 1.e-12 1.e-15]\n",
      " [1.e+00 1.e-04 1.e-08 1.e-12 1.e-16 1.e-20]\n",
      " [1.e+00 1.e-05 1.e-10 1.e-15 1.e-20 1.e-25]\n",
      " [1.e+00 1.e-06 1.e-12 1.e-18 1.e-24 1.e-30]\n",
      " [1.e+00 1.e-07 1.e-14 1.e-21 1.e-28 1.e-35]\n",
      " [1.e+00 1.e-08 1.e-16 1.e-24 1.e-32 1.e-40]\n",
      " [1.e+00 1.e-09 1.e-18 1.e-27 1.e-36 1.e-45]\n",
      " [1.e+00 1.e-10 1.e-20 1.e-30 1.e-40 1.e-50]]\n",
      "[0.33314515 0.08110139 0.40724117 0.23223414 0.13248763 0.05342718\n",
      " 0.72559436 0.01142746 0.77058075 0.14694665 0.07952208]\n",
      "delta b: [8.21401630e-05 9.13463235e-05 1.91765568e-05 5.11830813e-05\n",
      " 2.24339463e-05 9.78454629e-06 8.62192380e-05 9.72919586e-05\n",
      " 9.60834668e-05 9.06555500e-05 7.74047333e-05]\n",
      "|b-b_exact|/|b| =  3.571874758576705e-05\n",
      "|x-x_svd|/|x| =  412528.5714292332\n"
     ]
    }
   ],
   "source": [
    "t = np.zeros(11)\n",
    "\n",
    "for j in range(0,11):\n",
    "    t[j] = 10**(-j)\n",
    "\n",
    "#t = np.linspace(0,1,11)\n",
    "#print(t)\n",
    "\n",
    "Av = np.vander(t, 6, increasing=True)\n",
    "print(\"Matriz de vandermonde:\\n\",Av)\n",
    "x_exact = np.ones(6)\n",
    "b_exact =  Av.dot(x_exact)\n",
    "deltab = np.multiply(0.0001*np.random.rand(b_exact.size), b_exact)#(0.5-np.diag(np.random.rand(b_exact.size)))*b_exact\n",
    "print(np.random.rand(b_exact.size))\n",
    "print(\"delta b:\", deltab)\n",
    "b = b_exact+deltab\n",
    "print(\"|b-b_exact|/|b| = \", np.linalg.norm(b-b_exact)/np.linalg.norm(b))\n",
    "# compute SVD of A\n",
    "U,S,V = np.linalg.svd(Av, full_matrices=False)\n",
    "\n",
    "#U,S,V = np.linalg.svd(Av)\n",
    "#print(S)\n",
    "y1 = np.dot(U.T,b)\n",
    "y2 = y1/S\n",
    "x_svd = np.dot(V.T,y2)\n",
    "print(\"|x-x_svd|/|x| = \", np.linalg.norm(x_exact-x_svd)/np.linalg.norm(x_exact))\n"
   ]
  },
  {
   "cell_type": "code",
   "execution_count": 66,
   "id": "dced640e",
   "metadata": {},
   "outputs": [
    {
     "name": "stdout",
     "output_type": "stream",
     "text": [
      "\\sigma: [3.43155988e+00 2.05616208e+00 8.24366681e-02 7.24430072e-04\n",
      " 6.64057352e-07 5.48049537e-11]\n",
      "sigma approx  [3.39162149e-03 2.04750563e-03 8.24361079e-05 7.24430072e-07\n",
      " 6.64057352e-10 5.48049537e-14]\n",
      "sigma approx  [3.07004371e-02 1.97275778e-02 8.24310662e-04 7.24430068e-06\n",
      " 6.64057352e-09 5.48049537e-13]\n",
      "sigma approx  [1.57587363e-01 1.44517193e-01 8.23806838e-03 7.24430034e-05\n",
      " 6.64057352e-08 5.48049537e-12]\n",
      "sigma approx  [2.68602572e-01 3.93312885e-01 8.18802261e-02 7.24429692e-04\n",
      " 6.64057352e-07 5.48049537e-11]\n",
      "sigma approx  [2.88958785e-01 4.75105341e-01 7.71909240e-01 7.24426270e-03\n",
      " 6.64057352e-06 5.48049537e-10]\n",
      "sigma approx  [2.91165401e-01 4.85195353e-01 4.90817033e+00 7.24392056e-02\n",
      " 6.64057352e-05 5.48049537e-09]\n",
      "sigma approx  [2.91387917e-01 4.86227976e-01 1.05744918e+01 7.24050091e-01\n",
      " 6.64057352e-04 5.48049537e-08]\n",
      "sigma approx  [2.91410188e-01 4.86331480e-01 1.19546126e+01 7.20648118e+00\n",
      " 6.64057349e-03 5.48049537e-07]\n",
      "sigma approx  [2.91412415e-01 4.86341833e-01 1.21127004e+01 6.88307755e+01\n",
      " 6.64057323e-02 5.48049537e-06]\n",
      "sigma approx  [2.91412637e-01 4.86342868e-01 1.21287395e+01 4.75098754e+02\n",
      " 6.64057059e-01 5.48049537e-05]\n",
      "sigma approx  [2.91412660e-01 4.86342972e-01 1.21303457e+01 1.15946113e+03\n",
      " 6.64054424e+00 5.48049537e-04]\n",
      "sigma approx  [2.91412662e-01 4.86342982e-01 1.21305064e+01 1.35458400e+03\n",
      " 6.64028070e+01 5.48049537e-03]\n",
      "sigma approx  [2.91412662e-01 4.86342983e-01 1.21305224e+01 1.37777015e+03\n",
      " 6.63764650e+02 5.48049537e-02]\n",
      "sigma approx  [2.91412662e-01 4.86342983e-01 1.21305241e+01 1.38013250e+03\n",
      " 6.61141900e+03 5.48049537e-01]\n",
      "sigma approx  [2.91412662e-01 4.86342983e-01 1.21305242e+01 1.38036918e+03\n",
      " 6.36011036e+04 5.48049536e+00]\n",
      "sigma approx  [2.91412662e-01 4.86342983e-01 1.21305242e+01 1.38039285e+03\n",
      " 4.60839819e+05 5.48049535e+01]\n",
      "sigma approx  [2.91412662e-01 4.86342983e-01 1.21305242e+01 1.38039522e+03\n",
      " 1.22752591e+06 5.48049520e+02]\n",
      "sigma approx  [2.91412662e-01 4.86342983e-01 1.21305242e+01 1.38039546e+03\n",
      " 1.47250185e+06 5.48049372e+03]\n",
      "sigma approx  [2.91412662e-01 4.86342983e-01 1.21305242e+01 1.38039548e+03\n",
      " 1.50248681e+06 5.48047891e+04]\n",
      "sigma approx  [2.91412662e-01 4.86342983e-01 1.21305242e+01 1.38039548e+03\n",
      " 1.50555261e+06 5.48033076e+05]\n",
      "[9.92369564e-01 9.30106264e-01 6.02794636e-01 1.50045329e-01\n",
      " 1.78134762e-02 1.76768847e-03 8.65847401e-05 1.38398944e-04\n",
      " 5.98973402e-04 4.01719454e-03 9.79892442e-03 1.14926194e-02\n",
      " 1.54965544e-02 1.02528797e-01 9.79982868e-01 7.10025013e+00\n",
      " 1.89127143e+01 2.26872802e+01 2.31668160e+01 2.49037820e+01]\n"
     ]
    }
   ],
   "source": [
    "N= 20\n",
    "error = np.zeros(N, dtype=np.float64)\n",
    "tau   = np.zeros(N, dtype=np.float64)\n",
    "print(\"\\sigma:\", S)\n",
    "for i in range(0,N): # solve regularized LLS for different lambda\n",
    "    tau[i] = 10**(3-i)\n",
    "    y1 = np.dot(U.T,b)\n",
    "\n",
    "    coeff = np.zeros(S.size)\n",
    "    for j in range(S.size):\n",
    "        coeff[j] = S[j]/(S[j]**2+tau[i])\n",
    "    print(\"sigma approx \",coeff)\n",
    "    y2 = np.multiply(y1,coeff) \n",
    "    #print(\"y2\", y2)\n",
    "    x_tau = np.dot(V.T,y2)\n",
    "    #x_tau = V * (sigma.dot((U.T).dot(b)) / (sigma.^2 + lambda(i+1)))\n",
    "    \n",
    "    error[i] = np.linalg.norm(x_tau - x_exact)/np.linalg.norm(x_exact);\n",
    "    #print(\"x_tau\", x_tau)\n",
    "print(error)"
   ]
  },
  {
   "cell_type": "code",
   "execution_count": 67,
   "id": "fce5ff9a",
   "metadata": {},
   "outputs": [
    {
     "data": {
      "image/png": "[encoded data removed]",
      "text/plain": [
       "<Figure size 640x480 with 1 Axes>"
      ]
     },
     "metadata": {},
     "output_type": "display_data"
    }
   ],
   "source": [
    "plt.loglog(tau, error,'o')\n",
    "plt.show()"
   ]
  },
  {
   "cell_type": "markdown",
   "id": "2127d106",
   "metadata": {},
   "source": [
    "$\\tau \\approx 10^{-4}$ seems to be a good choice for the regularization parameter $\\tau$.\n",
    "\n",
    "### Morozov discrepancy principle\n",
    "\n",
    "We do not know the perturbation $\\Delta b$ but we assume its size $\\|\\Delta b\\|$\n",
    "\n",
    "- Observe, for $A x = b$: \n",
    "\\begin{equation}\n",
    "\\| A x - \\tilde{b} \\| = \\| A x - b - \\Delta b \\| = \\|\\Delta b\\| \n",
    "\\end{equation}\n",
    "$\\rightarrow$ we want to find a regularization parameter $\\tau$ such that $x_\\tau$ satisfies\n",
    "\\begin{equation}\n",
    "\\|A x_{\\tau} - \\tilde{b}\\| = \\|\\Delta b\\|\n",
    "\\end{equation}\n",
    "\n",
    "We obtain f the problem of finding $\\tau\\geq 0$ such that \n",
    "\\begin{equation}\n",
    "        \\|A x_{\\tau} - \\tilde{b}\\| = \\|\\Delta b\\| \\Longleftrightarrow f(\\tau) :=  \\|A x_{\\tau} - \\tilde{b}\\| - \\|\\Delta b\\|  = 0\n",
    "\\end{equation}\n",
    "\n",
    "We have a root finding problem. \n"
   ]
  },
  {
   "cell_type": "code",
   "execution_count": null,
   "id": "792e919f",
   "metadata": {},
   "outputs": [],
   "source": []
  }
 ],
 "metadata": {
  "kernelspec": {
   "display_name": "Python 3 (ipykernel)",
   "language": "python",
   "name": "python3"
  },
  "language_info": {
   "codemirror_mode": {
    "name": "ipython",
    "version": 3
   },
   "file_extension": ".py",
   "mimetype": "text/x-python",
   "name": "python",
   "nbconvert_exporter": "python",
   "pygments_lexer": "ipython3",
   "version": "3.7.9"
  },
  "varInspector": {
   "cols": {
    "lenName": 16,
    "lenType": 16,
    "lenVar": 40
   },
   "kernels_config": {
    "python": {
     "delete_cmd_postfix": "",
     "delete_cmd_prefix": "del ",
     "library": "var_list.py",
     "varRefreshCmd": "print(var_dic_list())"
    },
    "r": {
     "delete_cmd_postfix": ") ",
     "delete_cmd_prefix": "rm(",
     "library": "var_list.r",
     "varRefreshCmd": "cat(var_dic_list()) "
    }
   },
   "types_to_exclude": [
    "module",
    "function",
    "builtin_function_or_method",
    "instance",
    "_Feature"
   ],
   "window_display": false
  }
 },
 "nbformat": 4,
 "nbformat_minor": 5
}
