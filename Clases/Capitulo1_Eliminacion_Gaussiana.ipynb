{
 "cells": [
  {
   "cell_type": "markdown",
   "id": "d167f710",
   "metadata": {
    "slideshow": {
     "slide_type": "slide"
    }
   },
   "source": [
    "<hr style=\"border:2px solid #808080\"> </hr>\n",
    "<center><h1 style=\"color:#03122E;\"> Álgebra Lineal Numérica IMT2111</h1></center>\n",
    "<center><h1 style=\"color:#173F8A;\"> Capítulo 1: Eliminacion Gaussiana</h3></center>\n",
    "<center><h1 style=\"color:#0176DE;\"> Prof. Manuel A. Sánchez</h3></center>\n",
    "<hr style=\"border:2px solid #808080\"> </hr>"
   ]
  },
  {
   "cell_type": "markdown",
   "id": "e04d86f1",
   "metadata": {
    "slideshow": {
     "slide_type": "slide"
    }
   },
   "source": [
    "## Tabla de contenidos\n",
    "1. Eliminacion Gaussiana\n",
    "2. Ejemplo Worst-case instability"
   ]
  },
  {
   "cell_type": "code",
   "execution_count": 35,
   "id": "f6638d63",
   "metadata": {
    "slideshow": {
     "slide_type": "slide"
    }
   },
   "outputs": [
    {
     "data": {
      "text/html": [
       "<style>.output {display: flex;align-items: center;text-align: center;}</style>"
      ],
      "text/plain": [
       "<IPython.core.display.HTML object>"
      ]
     },
     "metadata": {},
     "output_type": "display_data"
    }
   ],
   "source": [
    "import numpy as np\n",
    "import scipy as scp\n",
    "import matplotlib.pyplot as plt\n",
    "import pandas as pd\n",
    "from IPython.display import display, HTML\n",
    "display(HTML(\"\"\"<style>.output {display: flex;align-items: center;text-align: center;}</style>\"\"\"))"
   ]
  },
  {
   "cell_type": "code",
   "execution_count": 188,
   "id": "4ad20f8c",
   "metadata": {
    "slideshow": {
     "slide_type": "skip"
    }
   },
   "outputs": [],
   "source": [
    "# Partial pivoting\n",
    "def GEPP(Ainput, binput):\n",
    "    A = Ainput.copy()\n",
    "    b = binput.copy()\n",
    "    print(b)\n",
    "    '''\n",
    "    Gaussian elimination with partial (row) pivoting\n",
    "    input : A nonsingular and square matrix n x n \n",
    "            b vector n x 1\n",
    "    output : x solution of the system A x = b\n",
    "    '''\n",
    "    # 1. Factorize A = PLU\n",
    "    L, U, pT = LUPP(A)\n",
    "    print(\"U:\\n\", U)\n",
    "    # 2. Solve P L U x = b\n",
    "#     Ptb = b[pT]\n",
    "#     Ptb = permb(b, pT)\n",
    "    P = perm(pT)\n",
    "#     print(P)\n",
    "#     print(\"P^T  *b = \", Ptb)\n",
    "#     print(P, b)\n",
    "    rhs  = perm(pT).dot(b)\n",
    "#     print(\"P^T  *b = \", Ptb)\n",
    "#     print(L)\n",
    "\n",
    "    # 3. Solve LUx = Pt b forward substitution\n",
    "    y = forward_substitution(L, rhs)\n",
    "    # 4. Solve Ux = L^{-1} Pt b backward substitution\n",
    "    x = backward_substitution(U,y)\n",
    "    return x\n",
    "\n",
    "def LUPP(Ainput):\n",
    "    '''\n",
    "    LU factorization with partial pivoting\n",
    "    '''\n",
    "    A = Ainput.copy()\n",
    "    n = A.shape[0]\n",
    "    piv = np.arange(0,n-1)\n",
    "    for i in range(n-1):\n",
    "        imax = abs(A[i:,i]).argmax() + i\n",
    "        piv[i] = imax\n",
    "        if A[imax, i] == 0:\n",
    "            raise ValueError(\"Matrix is singular.\")\n",
    "        elif imax != i:\n",
    "            A[[i,imax],:] = A[[imax, i],:][:]\n",
    "        A[(i+1):n,i][:] = (A[(i+1):n,i]/A[i,i])[:]\n",
    "        A[(i+1):n, (i+1):n][:] = A[(i+1):n, (i+1):n]-np.outer(A[(i+1):n,i],A[i, (i+1):n])\n",
    "    \n",
    "    L = np.tril(A,-1)+np.eye(n)\n",
    "    U = np.triu(A)\n",
    "    return L, U, piv\n",
    "\n",
    "# Complete pivoting\n",
    "def GECP(Ainput, binput):\n",
    "    '''\n",
    "    Gaussian elimination with complete pivoting\n",
    "    input : A nonsingular and square matrix n x n \n",
    "            b vector n x 1\n",
    "    output : x solution of the system A x = b\n",
    "    '''\n",
    "    A = Ainput.copy()\n",
    "    b = binput.copy()\n",
    "    # 1. Factorize PAQ^T = LU\n",
    "    L, U, rowpiv, colpiv = LUCP(A)\n",
    "    print(\"U:\\n\", U)\n",
    "    # 2. Solve  L U x = P b Q^T\n",
    "#     for k in range(b.size-1):\n",
    "#         b[[k,rowpiv[k]]] = b[[rowpiv[k], k]][:]\n",
    "    rhs  = perm(rowpiv).dot(b)\n",
    "    # 3. Solve LUx = Pt b forward substitution\n",
    "    y = forward_substitution(L, rhs)\n",
    "    \n",
    "    # 4. Solve Ux = L^{-1} Pt b backward substitution\n",
    "    x = backward_substitution(U,y)\n",
    "    print(\"GECP\", x)\n",
    "#     for k in range(x.size-1):\n",
    "#          x[[colpiv[k], k]] =x[[k,colpiv[k]]]\n",
    "#     print(x)\n",
    "    return (perm(colpiv).T).dot(x)\n",
    "\n",
    "def LUCP(Ainput):\n",
    "    '''\n",
    "    LU factorization with complete pivoting\n",
    "    '''\n",
    "    A = Ainput.copy()\n",
    "    n = A.shape[0]\n",
    "    rowpiv = np.arange(0,n-1)\n",
    "    colpiv = np.arange(0,n-1)\n",
    "    for i in range(n-1):\n",
    "        mu, lam = np.unravel_index(np.argmax(A[i:,i:], axis=None), A[i:,i:].shape)\n",
    "        mu +=i; lam+=i\n",
    "        if A[mu, lam] == 0:\n",
    "            raise ValueError(\"Matrix is singular.\")\n",
    "        else:\n",
    "            #print(\"A before complete pivoting\")\n",
    "            #print(A)\n",
    "            rowpiv[i] = mu\n",
    "            A[[i, mu],:] = A[[mu, i],:][:]\n",
    "            colpiv[i] = lam\n",
    "            A[:,[i, lam]] = A[:,[lam, i]][:]\n",
    "            #print(\"A after complete pivoting\")\n",
    "            #print(A)\n",
    "        #print(A[i+1,i],A[(i+1):n,i])\n",
    "        \n",
    "        A[(i+1):n,i] *= 1.0/A[i,i]\n",
    "        #print(A[(i+1):n,i] ,  (A[(i+1):n,i]/A[i,i]))\n",
    "        \n",
    "        A[(i+1):n, (i+1):n] -=np.outer(A[(i+1):n,i],A[i, (i+1):n])\n",
    "        #print(\"new A\")\n",
    "        #print(A)\n",
    "    L = np.tril(A,-1)+np.eye(n)\n",
    "    U = np.triu(A)\n",
    "    return L, U, rowpiv, colpiv\n",
    "\n",
    "\n",
    "# generate permutation matrix\n",
    "def perm(rowpiv):\n",
    "    n = rowpiv.size+1\n",
    "    print(rowpiv)\n",
    "    P = np.eye(n)\n",
    "    for k in range(n-1):\n",
    "        P[[k,rowpiv[k]],:] = P[[rowpiv[k], k],:]\n",
    "    return P\n",
    "def permb(b, rowpiv):\n",
    "    n = b.size\n",
    "    for k in range(n-1):\n",
    "        b[[k, rowpiv[k]]] = b[[rowpiv[k],k]] \n",
    "    return b\n",
    "# No pivoting\n",
    "def GE(Ainput, binput):\n",
    "    '''\n",
    "    Gaussian elimination without pivoting\n",
    "    input : A nonsingular and square matrix n x n \n",
    "            b vector n x 1\n",
    "    output : x solution of the system A x = b\n",
    "    '''\n",
    "    A = Ainput.copy()\n",
    "    b= binput.copy()\n",
    "    # 1. Factorize A = LU\n",
    "    L, U = LU(A)\n",
    "    # 2. Solve LUx = b forward substitution\n",
    "    y = forward_substitution(L, b)\n",
    "    # 3. Solve Ux = L^{-1} b backward substitution\n",
    "    x = backward_substitution(U,y)\n",
    "    return x\n",
    "\n",
    "\n",
    "def LU(Ainput):\n",
    "    '''\n",
    "    LU factorization without pivoting\n",
    "    '''\n",
    "    A = Ainput.copy()\n",
    "    n = A.shape[0]\n",
    "    for i in range(n-1):\n",
    "        if A[i, i] == 0:\n",
    "            raise ValueError(\"coeficient is zero.\")\n",
    "        A[(i+1):n,i] = (A[(i+1):n,i]/A[i,i])\n",
    "        \n",
    "        A[(i+1):n, (i+1):n][:] = A[(i+1):n, (i+1):n]-np.outer(A[(i+1):n,i],A[i, (i+1):n])\n",
    "    \n",
    "    L = np.tril(A,-1)+np.eye(n)\n",
    "    U = np.triu(A)\n",
    "    return L, U\n",
    "\n",
    "\n",
    "# Forward and Backward substitution\n",
    "def forward_substitution(L,b):\n",
    "    '''\n",
    "    Forward substitution algorithm for system L x = b\n",
    "    input : L lower triangular matrix n x n\n",
    "            b vector n x 1\n",
    "    output: x solution of L x = b\n",
    "    '''\n",
    "    n = L.shape[0]\n",
    "    x = np.zeros(n)\n",
    "    x[0] = b[0]/L[0,0]\n",
    "    for i in range(1,n):\n",
    "        x[i] = (b[i] - L[i,0:i]@x[0:i])/L[i,i]\n",
    "    return x\n",
    "\n",
    "def backward_substitution(U,b):\n",
    "    '''\n",
    "    Backward substitution algorithm for system U x = b\n",
    "    input : U upper tringular matrix n x n\n",
    "            b vector n x 1\n",
    "    output : x solution of U x = b\n",
    "    '''\n",
    "    n = U.shape[0]\n",
    "    x = np.zeros(n)\n",
    "    x[n-1] = b[n-1]/U[n-1,n-1]\n",
    "    for i in range(n-2,-1,-1):\n",
    "        x[i] = (b[i] - U[i,(i+1):n]@(x[(i+1):n]))/U[i,i]\n",
    "    return x\n",
    "\n"
   ]
  },
  {
   "cell_type": "code",
   "execution_count": 189,
   "id": "daa70f23",
   "metadata": {
    "slideshow": {
     "slide_type": "slide"
    }
   },
   "outputs": [],
   "source": [
    "def Eliminacion_Gaussiana(A,b, pivoteo=None):\n",
    "    if pivoteo is None:\n",
    "        x = GE(A,b)\n",
    "    elif pivoteo == 'parcial':\n",
    "        x = GEPP(A,b)\n",
    "    elif pivoteo == 'completo':\n",
    "        x = GECP(A,b)\n",
    "    return x\n",
    "\n",
    "def Factorizacion_LU(A, pivoteo=None):\n",
    "    if pivoteo is None:\n",
    "        L,U = LU(A)\n",
    "        return L,U\n",
    "    elif pivoteo == 'parcial':\n",
    "        L,U,piv = LUPP(A)\n",
    "        return L, U, piv\n",
    "    elif pivoteo == 'completo':\n",
    "        L, U, rowpiv, colpiv = LUCP(A)\n",
    "        return  L, U, rowpiv, colpiv"
   ]
  },
  {
   "cell_type": "markdown",
   "id": "8a4ceb4f",
   "metadata": {
    "slideshow": {
     "slide_type": "slide"
    }
   },
   "source": [
    "## Ejemplo: eliminacion Gaussiana\n",
    "\\begin{equation}\n",
    "Ax = b,\\qquad \n",
    "A = \\begin{bmatrix}\n",
    "1 & 3 & 4 & 1\\\\\n",
    "2 & 1 & 5 & 1 \\\\\n",
    "3 & 1 & 6 & 1 \\\\\n",
    "6 & 2 & 3 & 2\n",
    "\\end{bmatrix},\\quad\n",
    "b = \\begin{bmatrix}\n",
    "-1 \\\\ 2\\\\ 3 \\\\6\n",
    "\\end{bmatrix}\n",
    "\\end{equation}"
   ]
  },
  {
   "cell_type": "code",
   "execution_count": 190,
   "id": "d3e35710",
   "metadata": {
    "slideshow": {
     "slide_type": "slide"
    }
   },
   "outputs": [],
   "source": [
    "A = np.array([[1,3,4,1],[2,1,5,1],[3,1,6,1],[6,2,3,2]],dtype=np.float64)\n",
    "b = np.array([-1,2,3,6],dtype=np.float64)\n"
   ]
  },
  {
   "cell_type": "code",
   "execution_count": 191,
   "id": "ba421b6e",
   "metadata": {
    "slideshow": {
     "slide_type": "slide"
    }
   },
   "outputs": [
    {
     "name": "stdout",
     "output_type": "stream",
     "text": [
      "[ 1. -1. -0.  1.]\n"
     ]
    }
   ],
   "source": [
    "x = Eliminacion_Gaussiana(A,b)\n",
    "# x= np.array([1,-1,0,1])\n",
    "print(x)"
   ]
  },
  {
   "cell_type": "code",
   "execution_count": 192,
   "id": "6896e2f3",
   "metadata": {
    "slideshow": {
     "slide_type": "slide"
    }
   },
   "outputs": [
    {
     "name": "stdout",
     "output_type": "stream",
     "text": [
      "[[1.  0.  0.  0. ]\n",
      " [2.  1.  0.  0. ]\n",
      " [3.  1.6 1.  0. ]\n",
      " [6.  3.2 9.5 1. ]]\n",
      "[[ 1.   3.   4.   1. ]\n",
      " [ 0.  -5.  -3.  -1. ]\n",
      " [ 0.   0.  -1.2 -0.4]\n",
      " [ 0.   0.   0.   3. ]]\n",
      "[[ 0.00000000e+00  0.00000000e+00  0.00000000e+00  0.00000000e+00]\n",
      " [ 0.00000000e+00  0.00000000e+00  0.00000000e+00  0.00000000e+00]\n",
      " [ 0.00000000e+00 -4.44089210e-16  0.00000000e+00  0.00000000e+00]\n",
      " [ 0.00000000e+00 -8.88178420e-16 -8.88178420e-16 -2.22044605e-16]]\n"
     ]
    }
   ],
   "source": [
    "L,U = Factorizacion_LU(A)\n",
    "print(L)\n",
    "print(U)\n",
    "print(L@U-A)"
   ]
  },
  {
   "cell_type": "markdown",
   "id": "3f73c13f",
   "metadata": {
    "slideshow": {
     "slide_type": "slide"
    }
   },
   "source": [
    "## Ejemplo: Factorizacion LU\n",
    "\\begin{equation}\n",
    "LU = A,\\qquad \n",
    "A = \\begin{bmatrix}\n",
    "2 & 1 & 1 & 0\\\\\n",
    "4 & 3 & 3 & 1 \\\\\n",
    "8 & 7 & 9 & 5 \\\\\n",
    "6 & 7 & 9 & 8\n",
    "\\end{bmatrix}\n",
    "\\end{equation}"
   ]
  },
  {
   "cell_type": "code",
   "execution_count": 193,
   "id": "eb937423",
   "metadata": {
    "slideshow": {
     "slide_type": "slide"
    }
   },
   "outputs": [],
   "source": [
    "A2 = np.array([[2,1,1,0],[4,3,3,1],[8,7,9,5],[6,7,9,8]],dtype=np.float64)"
   ]
  },
  {
   "cell_type": "code",
   "execution_count": 194,
   "id": "598b3fa2",
   "metadata": {
    "slideshow": {
     "slide_type": "slide"
    }
   },
   "outputs": [
    {
     "name": "stdout",
     "output_type": "stream",
     "text": [
      "[[1. 0. 0. 0.]\n",
      " [2. 1. 0. 0.]\n",
      " [4. 3. 1. 0.]\n",
      " [3. 4. 1. 1.]]\n",
      "[[2. 1. 1. 0.]\n",
      " [0. 1. 1. 1.]\n",
      " [0. 0. 2. 2.]\n",
      " [0. 0. 0. 2.]]\n",
      "[[ 1. -2. -3. -1.]\n",
      " [ 2.  2. -2.  0.]\n",
      " [ 5.  6.  3.  4.]\n",
      " [ 0.  5.  6.  6.]]\n"
     ]
    }
   ],
   "source": [
    "L,U = Factorizacion_LU(A2)\n",
    "print(L)\n",
    "print(U)\n",
    "print(L@U-A)"
   ]
  },
  {
   "cell_type": "markdown",
   "id": "dfb7c7a6",
   "metadata": {
    "slideshow": {
     "slide_type": "slide"
    }
   },
   "source": [
    "## Ejemplo: inestabilidad sin pivoteo\n",
    "\\begin{equation}\n",
    "A = \\begin{bmatrix}\n",
    "0 & 1 \\\\\n",
    "1 & 1\n",
    "\\end{bmatrix}, \\quad \\text{Eliminacion Gaussiana falla en el primer paso con } \\kappa(A) = (3+\\sqrt{5})/2\n",
    "\\end{equation}\n",
    "\n",
    "\\begin{equation}\n",
    "\\tilde{A} = \\begin{bmatrix}\n",
    "10^{-20} & 1 \\\\\n",
    "1 & 1\n",
    "\\end{bmatrix}\n",
    "=\n",
    "\\begin{bmatrix}\n",
    "1 & 0 \\\\\n",
    "10^{20} & 1\n",
    "\\end{bmatrix}\n",
    "\\begin{bmatrix}\n",
    "10^{-20} & 1 \\\\\n",
    "0 & 1-10^{20}\n",
    "\\end{bmatrix}, \\quad \\text{Eliminacion Gaussiana ahora no falla}\n",
    "\\end{equation}"
   ]
  },
  {
   "cell_type": "code",
   "execution_count": 195,
   "id": "f8ff9ce8",
   "metadata": {
    "slideshow": {
     "slide_type": "slide"
    }
   },
   "outputs": [],
   "source": [
    "Afalla = np.array([[0,1],[1,1]], dtype=np.float64)\n",
    "Atilde = np.array([[10**(-20), 1],[1,1]], dtype=np.float64)"
   ]
  },
  {
   "cell_type": "code",
   "execution_count": 196,
   "id": "41ecc723",
   "metadata": {
    "slideshow": {
     "slide_type": "slide"
    }
   },
   "outputs": [
    {
     "ename": "ValueError",
     "evalue": "coeficient is zero.",
     "output_type": "error",
     "traceback": [
      "\u001b[1;31m---------------------------------------------------------------------------\u001b[0m",
      "\u001b[1;31mValueError\u001b[0m                                Traceback (most recent call last)",
      "\u001b[1;32m~\\AppData\\Local\\Temp\\ipykernel_30084\\3836597542.py\u001b[0m in \u001b[0;36m<module>\u001b[1;34m\u001b[0m\n\u001b[1;32m----> 1\u001b[1;33m \u001b[0mL\u001b[0m\u001b[1;33m,\u001b[0m\u001b[0mU\u001b[0m \u001b[1;33m=\u001b[0m \u001b[0mFactorizacion_LU\u001b[0m\u001b[1;33m(\u001b[0m\u001b[0mAfalla\u001b[0m\u001b[1;33m)\u001b[0m\u001b[1;33m\u001b[0m\u001b[1;33m\u001b[0m\u001b[0m\n\u001b[0m",
      "\u001b[1;32m~\\AppData\\Local\\Temp\\ipykernel_30084\\2147385944.py\u001b[0m in \u001b[0;36mFactorizacion_LU\u001b[1;34m(A, pivoteo)\u001b[0m\n\u001b[0;32m     10\u001b[0m \u001b[1;32mdef\u001b[0m \u001b[0mFactorizacion_LU\u001b[0m\u001b[1;33m(\u001b[0m\u001b[0mA\u001b[0m\u001b[1;33m,\u001b[0m \u001b[0mpivoteo\u001b[0m\u001b[1;33m=\u001b[0m\u001b[1;32mNone\u001b[0m\u001b[1;33m)\u001b[0m\u001b[1;33m:\u001b[0m\u001b[1;33m\u001b[0m\u001b[1;33m\u001b[0m\u001b[0m\n\u001b[0;32m     11\u001b[0m     \u001b[1;32mif\u001b[0m \u001b[0mpivoteo\u001b[0m \u001b[1;32mis\u001b[0m \u001b[1;32mNone\u001b[0m\u001b[1;33m:\u001b[0m\u001b[1;33m\u001b[0m\u001b[1;33m\u001b[0m\u001b[0m\n\u001b[1;32m---> 12\u001b[1;33m         \u001b[0mL\u001b[0m\u001b[1;33m,\u001b[0m\u001b[0mU\u001b[0m \u001b[1;33m=\u001b[0m \u001b[0mLU\u001b[0m\u001b[1;33m(\u001b[0m\u001b[0mA\u001b[0m\u001b[1;33m)\u001b[0m\u001b[1;33m\u001b[0m\u001b[1;33m\u001b[0m\u001b[0m\n\u001b[0m\u001b[0;32m     13\u001b[0m         \u001b[1;32mreturn\u001b[0m \u001b[0mL\u001b[0m\u001b[1;33m,\u001b[0m\u001b[0mU\u001b[0m\u001b[1;33m\u001b[0m\u001b[1;33m\u001b[0m\u001b[0m\n\u001b[0;32m     14\u001b[0m     \u001b[1;32melif\u001b[0m \u001b[0mpivoteo\u001b[0m \u001b[1;33m==\u001b[0m \u001b[1;34m'parcial'\u001b[0m\u001b[1;33m:\u001b[0m\u001b[1;33m\u001b[0m\u001b[1;33m\u001b[0m\u001b[0m\n",
      "\u001b[1;32m~\\AppData\\Local\\Temp\\ipykernel_30084\\1330052313.py\u001b[0m in \u001b[0;36mLU\u001b[1;34m(Ainput)\u001b[0m\n\u001b[0;32m    154\u001b[0m     \u001b[1;32mfor\u001b[0m \u001b[0mi\u001b[0m \u001b[1;32min\u001b[0m \u001b[0mrange\u001b[0m\u001b[1;33m(\u001b[0m\u001b[0mn\u001b[0m\u001b[1;33m-\u001b[0m\u001b[1;36m1\u001b[0m\u001b[1;33m)\u001b[0m\u001b[1;33m:\u001b[0m\u001b[1;33m\u001b[0m\u001b[1;33m\u001b[0m\u001b[0m\n\u001b[0;32m    155\u001b[0m         \u001b[1;32mif\u001b[0m \u001b[0mA\u001b[0m\u001b[1;33m[\u001b[0m\u001b[0mi\u001b[0m\u001b[1;33m,\u001b[0m \u001b[0mi\u001b[0m\u001b[1;33m]\u001b[0m \u001b[1;33m==\u001b[0m \u001b[1;36m0\u001b[0m\u001b[1;33m:\u001b[0m\u001b[1;33m\u001b[0m\u001b[1;33m\u001b[0m\u001b[0m\n\u001b[1;32m--> 156\u001b[1;33m             \u001b[1;32mraise\u001b[0m \u001b[0mValueError\u001b[0m\u001b[1;33m(\u001b[0m\u001b[1;34m\"coeficient is zero.\"\u001b[0m\u001b[1;33m)\u001b[0m\u001b[1;33m\u001b[0m\u001b[1;33m\u001b[0m\u001b[0m\n\u001b[0m\u001b[0;32m    157\u001b[0m         \u001b[0mA\u001b[0m\u001b[1;33m[\u001b[0m\u001b[1;33m(\u001b[0m\u001b[0mi\u001b[0m\u001b[1;33m+\u001b[0m\u001b[1;36m1\u001b[0m\u001b[1;33m)\u001b[0m\u001b[1;33m:\u001b[0m\u001b[0mn\u001b[0m\u001b[1;33m,\u001b[0m\u001b[0mi\u001b[0m\u001b[1;33m]\u001b[0m \u001b[1;33m=\u001b[0m \u001b[1;33m(\u001b[0m\u001b[0mA\u001b[0m\u001b[1;33m[\u001b[0m\u001b[1;33m(\u001b[0m\u001b[0mi\u001b[0m\u001b[1;33m+\u001b[0m\u001b[1;36m1\u001b[0m\u001b[1;33m)\u001b[0m\u001b[1;33m:\u001b[0m\u001b[0mn\u001b[0m\u001b[1;33m,\u001b[0m\u001b[0mi\u001b[0m\u001b[1;33m]\u001b[0m\u001b[1;33m/\u001b[0m\u001b[0mA\u001b[0m\u001b[1;33m[\u001b[0m\u001b[0mi\u001b[0m\u001b[1;33m,\u001b[0m\u001b[0mi\u001b[0m\u001b[1;33m]\u001b[0m\u001b[1;33m)\u001b[0m\u001b[1;33m\u001b[0m\u001b[1;33m\u001b[0m\u001b[0m\n\u001b[0;32m    158\u001b[0m \u001b[1;33m\u001b[0m\u001b[0m\n",
      "\u001b[1;31mValueError\u001b[0m: coeficient is zero."
     ]
    }
   ],
   "source": [
    "L,U = Factorizacion_LU(Afalla)\n"
   ]
  },
  {
   "cell_type": "code",
   "execution_count": 197,
   "id": "eb9f8665",
   "metadata": {
    "slideshow": {
     "slide_type": "slide"
    }
   },
   "outputs": [
    {
     "name": "stdout",
     "output_type": "stream",
     "text": [
      "[[1.e+00 0.e+00]\n",
      " [1.e+20 1.e+00]]\n",
      "[[ 1.e-20  1.e+00]\n",
      " [ 0.e+00 -1.e+20]]\n",
      "[[ 0.  0.]\n",
      " [ 0. -1.]]\n"
     ]
    }
   ],
   "source": [
    "L,U = Factorizacion_LU(Atilde)\n",
    "print(L)\n",
    "print(U)\n",
    "print(L@U- Atilde)"
   ]
  },
  {
   "cell_type": "code",
   "execution_count": 198,
   "id": "bf475051",
   "metadata": {
    "slideshow": {
     "slide_type": "slide"
    }
   },
   "outputs": [
    {
     "name": "stdout",
     "output_type": "stream",
     "text": [
      "solucion calculada: [0. 1.]\n",
      "la solucion exacta es x = [-1,1]!\n"
     ]
    }
   ],
   "source": [
    "b = np.array([1,0])\n",
    "xtilde = Eliminacion_Gaussiana(Atilde,b)\n",
    "print(\"solucion calculada:\", xtilde)\n",
    "print(\"la solucion exacta es x = [-1,1]!\")"
   ]
  },
  {
   "cell_type": "markdown",
   "id": "4c7c1419",
   "metadata": {
    "slideshow": {
     "slide_type": "slide"
    }
   },
   "source": [
    "**Nota** La factorizacion LU es estable, no backward stable. Pero al usar eliminacion Gaussiana sin pivoteo para resolver $Ax=b$ no lo hace estable.\n",
    "\n",
    "En general, si un paso del algoritmo es estable pero backward stable para resolver un subproblema, entonces la estabilidad del algortimo puede estar en peligro.\n",
    "\n",
    "**Nota** Complejidad:  eliminacion Gaussiana sin pivoteo es de $\\approx \\frac{2}{3} m^{3}$ flops."
   ]
  },
  {
   "cell_type": "markdown",
   "id": "13122157",
   "metadata": {
    "slideshow": {
     "slide_type": "slide"
    }
   },
   "source": [
    "## Ejemplo: worst case\n",
    "\n",
    "## Inestabilidad\n",
    "\n",
    "Para ciertas matrices $A$ a pesar de os efectos beneficiosos de pivotear, el factor de crecimiento $\\rho$ se vuelve gigante. Por ejemplo, suponga que la matriz $A$ tiene la siguiente forma:\n",
    "\n",
    "$$\n",
    "A = \\begin{bmatrix}\n",
    "1 & 0 & 0 & 0 & 1 \\\\\n",
    "-1 &1 &0 & 0& 1 \\\\\n",
    "-1& -1 &1 & 0 &1\\\\\n",
    "-1&-1 &-1 & 1 & 1 \\\\\n",
    "-1& -1 &-1 &-1 &1\n",
    "\\end{bmatrix}\n",
    "$$\n",
    "\n",
    "En este caso, la factorization da \n",
    "\n",
    "$$\n",
    "U = \\begin{bmatrix}\n",
    " 1. & 0. & 0. & 0.&  1.\\\\\n",
    " 0. & 1. & 0. & 0.&  2.\\\\\n",
    " 0. & 0. & 1. & 0.&  4.\\\\\n",
    " 0. & 0. & 0. & 1.&  8.\\\\\n",
    " 0. & 0. & 0. & 0.& 16.\n",
    " \\end{bmatrix}\n",
    "$$\n",
    "\n",
    "para esta matriz de $n\\times n$, con $n=5$, el factor de crecimiento es $\\rho = 2^{n-1} = 16$.\n",
    "\n",
    "Un factor de crecimiento de orden $2^{n}$ corresponde a una perdida del orden de $n$ bits de precision, lo cual es catastrofico para computaciones practicas. Como un computador standard representa numeros de punto flotante con solo 64 bits, con matries de dimensiones en cientos y miles en dimension perder m bits de precision es intolerable."
   ]
  },
  {
   "cell_type": "code",
   "execution_count": 199,
   "id": "8b78751d",
   "metadata": {},
   "outputs": [
    {
     "data": {
      "text/plain": [
       "array([[ 1.,  0.,  0.,  0.,  1.],\n",
       "       [-1.,  1.,  0.,  0.,  1.],\n",
       "       [-1., -1.,  1.,  0.,  1.],\n",
       "       [-1., -1., -1.,  1.,  1.],\n",
       "       [-1., -1., -1., -1.,  1.]])"
      ]
     },
     "execution_count": 199,
     "metadata": {},
     "output_type": "execute_result"
    }
   ],
   "source": [
    "n = 5\n",
    "A_wc = -np.tril(np.ones((n,n)),-1)+np.eye(n)\n",
    "A_wc[:,-1] = np.ones(n)\n",
    "A_wc"
   ]
  },
  {
   "cell_type": "code",
   "execution_count": 200,
   "id": "0da9aa70",
   "metadata": {},
   "outputs": [
    {
     "data": {
      "text/plain": [
       "array([[ 1.,  0.,  0.,  0.,  1.],\n",
       "       [ 0.,  1.,  0.,  0.,  2.],\n",
       "       [ 0.,  0.,  1.,  0.,  4.],\n",
       "       [ 0.,  0.,  0.,  1.,  8.],\n",
       "       [ 0.,  0.,  0.,  0., 16.]])"
      ]
     },
     "execution_count": 200,
     "metadata": {},
     "output_type": "execute_result"
    }
   ],
   "source": [
    "L, U, pT = Factorizacion_LU(A_wc, pivoteo='parcial')\n",
    "U"
   ]
  },
  {
   "cell_type": "markdown",
   "id": "19e2e46f",
   "metadata": {},
   "source": [
    "# Example. \n",
    "Consider the system $Ax = b$ with \n",
    "\\begin{equation}\n",
    "A = \n",
    "\\begin{pmatrix}\n",
    "6 & 3 & 4 & 1 \\\\ 2 & 1 & 5 & 1 \\\\ 1 & 1 & 6 & 1 \\\\ 0 & 2 & 3 & 2\n",
    "\\end{pmatrix}\n",
    "\\qquad\n",
    "b = \n",
    "\\begin{pmatrix}\n",
    "3\\\\2\\\\1\\\\3\n",
    "\\end{pmatrix}\n",
    "\\end{equation}\n",
    "\n",
    "The solution of the system is\n",
    "\\begin{equation}\n",
    "x= \n",
    "\\begin{pmatrix}\n",
    "-8/9\\\\0\\\\-1/9\\\\13/3\n",
    "\\end{pmatrix}\n",
    "\\end{equation}"
   ]
  },
  {
   "cell_type": "code",
   "execution_count": 201,
   "id": "3241203f",
   "metadata": {},
   "outputs": [
    {
     "name": "stdout",
     "output_type": "stream",
     "text": [
      "[1. 2. 3.]\n",
      "U:\n",
      " [[6.  2.  3. ]\n",
      " [0.  1.  4.5]\n",
      " [0.  0.  7. ]]\n",
      "[2 2]\n",
      "[2 2]\n"
     ]
    },
    {
     "data": {
      "text/html": [
       "<div>\n",
       "<style scoped>\n",
       "    .dataframe tbody tr th:only-of-type {\n",
       "        vertical-align: middle;\n",
       "    }\n",
       "\n",
       "    .dataframe tbody tr th {\n",
       "        vertical-align: top;\n",
       "    }\n",
       "\n",
       "    .dataframe thead th {\n",
       "        text-align: right;\n",
       "    }\n",
       "</style>\n",
       "<table border=\"1\" class=\"dataframe\">\n",
       "  <thead>\n",
       "    <tr style=\"text-align: right;\">\n",
       "      <th></th>\n",
       "      <th>Errors:</th>\n",
       "      <th>Gaussian Ellimination</th>\n",
       "      <th>Gaussian Ellimination with PP</th>\n",
       "    </tr>\n",
       "  </thead>\n",
       "  <tbody>\n",
       "    <tr>\n",
       "      <th>0</th>\n",
       "      <td>||x-xaprox||</td>\n",
       "      <td>1.387779e-17</td>\n",
       "      <td>0.000000e+00</td>\n",
       "    </tr>\n",
       "    <tr>\n",
       "      <th>1</th>\n",
       "      <td>||b-Axaprox||</td>\n",
       "      <td>4.965068e-16</td>\n",
       "      <td>4.577567e-16</td>\n",
       "    </tr>\n",
       "  </tbody>\n",
       "</table>\n",
       "</div>"
      ],
      "text/plain": [
       "         Errors:  Gaussian Ellimination  Gaussian Ellimination with PP\n",
       "0   ||x-xaprox||           1.387779e-17                   0.000000e+00\n",
       "1  ||b-Axaprox||           4.965068e-16                   4.577567e-16"
      ]
     },
     "execution_count": 201,
     "metadata": {},
     "output_type": "execute_result"
    }
   ],
   "source": [
    "A0 = np.array([[3,2,6],\n",
    "               [2,0,5],\n",
    "               [6,2,3]\n",
    "               ],dtype=np.float64)\n",
    "b0 = np.array([1,2,3], dtype=np.float64)\n",
    "L,U,rowpiv = LUPP(A0)\n",
    "\n",
    "# print(\"LU\", L@U)\n",
    "# print(\"PA\",perm(rowpiv)@A0)\n",
    "x_np = np.linalg.solve(A0,b0)\n",
    "\n",
    "x_GEPP = GEPP(A0,b0)\n",
    "x_GE = GE(A0,b0)\n",
    "\n",
    "dferror = {'Errors:':['||x-xaprox||','||b-Axaprox||'], 'Gaussian Ellimination':[np.linalg.norm(x_np-x_GE), np.linalg.norm(b0-A0.dot(x_GE))], 'Gaussian Ellimination with PP':[np.linalg.norm(x_np-x_GEPP),  np.linalg.norm(b0-A0.dot(x_GEPP))]}\n",
    "df = pd.DataFrame(data=dferror)\n",
    "df\n",
    "# print(\"Soluciones:\\n\")\n",
    "# print(x_np )\n",
    "# print(x_GE )\n",
    "# print(x_GEPP )\n"
   ]
  },
  {
   "cell_type": "markdown",
   "id": "ee7b8ef4",
   "metadata": {},
   "source": [
    "# Example. \n",
    "Consider the system $Ax = b$ with \n",
    "\\begin{equation}\n",
    "A = \n",
    "\\begin{pmatrix}\n",
    "1 & 3 & 4 & 1 \\\\ 2 & 1 & 5 & 1 \\\\ 4 & 1 & 6 & 1 \\\\ 6 & 2 & 3 & 2\n",
    "\\end{pmatrix}\n",
    "\\qquad\n",
    "b = \n",
    "\\begin{pmatrix}\n",
    "3\\\\2\\\\1\\\\3\n",
    "\\end{pmatrix}\n",
    "\\end{equation}\n",
    "\n",
    "The solution of the system is\n",
    "\\begin{equation}\n",
    "x= \n",
    "\\begin{pmatrix}\n",
    "-8/9\\\\0\\\\-1/9\\\\13/3\n",
    "\\end{pmatrix}\n",
    "\\end{equation}"
   ]
  },
  {
   "cell_type": "code",
   "execution_count": 202,
   "id": "e425de73",
   "metadata": {},
   "outputs": [
    {
     "name": "stdout",
     "output_type": "stream",
     "text": [
      "U:\n",
      " [[6.         3.         1.         1.        ]\n",
      " [0.         4.5        1.5        1.5       ]\n",
      " [0.         0.         2.66666667 0.66666667]\n",
      " [0.         0.         0.         0.25      ]]\n",
      "[2 3 2]\n",
      "GECP [-1.11111111e-01 -8.88888889e-01 -3.33066907e-16  4.33333333e+00]\n",
      "[2 2 2]\n",
      "[3. 2. 1. 3.]\n",
      "U:\n",
      " [[6.         2.         3.         2.        ]\n",
      " [0.         2.66666667 3.5        0.66666667]\n",
      " [0.         0.         4.5        0.        ]\n",
      " [0.         0.         0.         0.25      ]]\n",
      "[3 3 2]\n",
      "[3 3 2]\n",
      "Soluciones:\n",
      "\n",
      "[-0.88888889  0.         -0.11111111  4.33333333]\n",
      "[-0.88888889 -0.         -0.11111111  4.33333333]\n",
      "[-0.88888889  0.         -0.11111111  4.33333333]\n",
      "[-8.88888889e-01 -3.33066907e-16 -1.11111111e-01  4.33333333e+00]\n"
     ]
    }
   ],
   "source": [
    "A0 = np.array([[1,3,4,1],[2,1,5,1],[3,1,6,1],[6,2,3,2]],dtype=np.float64)\n",
    "b0 = np.array([3,2,1,3], dtype=np.float64)\n",
    "# L,U,rowpiv, colpiv = LUCP(A0)\n",
    "# print(L@U)\n",
    "# print(perm(rowpiv)@A0@perm(colpiv).T)\n",
    "\n",
    "x_GECP = GECP(A0,b0)\n",
    "x_GEPP = GEPP(A0,b0)\n",
    "x_GE = GE(A0,b0)\n",
    "x_np = np.linalg.solve(A0,b0)\n",
    "\n",
    "print(\"Soluciones:\\n\")\n",
    "print(x_np )\n",
    "print(x_GE )\n",
    "print(x_GEPP )\n",
    "print(x_GECP )"
   ]
  },
  {
   "cell_type": "code",
   "execution_count": 203,
   "id": "2088cb21",
   "metadata": {},
   "outputs": [
    {
     "data": {
      "text/html": [
       "<div>\n",
       "<style scoped>\n",
       "    .dataframe tbody tr th:only-of-type {\n",
       "        vertical-align: middle;\n",
       "    }\n",
       "\n",
       "    .dataframe tbody tr th {\n",
       "        vertical-align: top;\n",
       "    }\n",
       "\n",
       "    .dataframe thead th {\n",
       "        text-align: right;\n",
       "    }\n",
       "</style>\n",
       "<table border=\"1\" class=\"dataframe\">\n",
       "  <thead>\n",
       "    <tr style=\"text-align: right;\">\n",
       "      <th></th>\n",
       "      <th>Errors:</th>\n",
       "      <th>Gaussian Ellimination</th>\n",
       "      <th>Gaussian Ellimination with PP</th>\n",
       "      <th>Gaussian Ellimination with CP</th>\n",
       "    </tr>\n",
       "  </thead>\n",
       "  <tbody>\n",
       "    <tr>\n",
       "      <th>0</th>\n",
       "      <td>||x-xaprox||</td>\n",
       "      <td>4.652682e-16</td>\n",
       "      <td>1.110223e-16</td>\n",
       "      <td>9.501979e-16</td>\n",
       "    </tr>\n",
       "    <tr>\n",
       "      <th>1</th>\n",
       "      <td>||b-Axaprox||</td>\n",
       "      <td>2.843558e-15</td>\n",
       "      <td>9.930137e-16</td>\n",
       "      <td>1.935740e-15</td>\n",
       "    </tr>\n",
       "  </tbody>\n",
       "</table>\n",
       "</div>"
      ],
      "text/plain": [
       "         Errors:  Gaussian Ellimination  Gaussian Ellimination with PP  \\\n",
       "0   ||x-xaprox||           4.652682e-16                   1.110223e-16   \n",
       "1  ||b-Axaprox||           2.843558e-15                   9.930137e-16   \n",
       "\n",
       "   Gaussian Ellimination with CP  \n",
       "0                   9.501979e-16  \n",
       "1                   1.935740e-15  "
      ]
     },
     "execution_count": 203,
     "metadata": {},
     "output_type": "execute_result"
    }
   ],
   "source": [
    "\n",
    "dferror = {'Errors:':['||x-xaprox||','||b-Axaprox||'], \n",
    "           'Gaussian Ellimination':[np.linalg.norm(x_np-x_GE), np.linalg.norm(b0-A0.dot(x_GE))], \n",
    "           'Gaussian Ellimination with PP':[np.linalg.norm(x_np-x_GEPP),  np.linalg.norm(b0-A0.dot(x_GEPP))],\n",
    "           'Gaussian Ellimination with CP':[np.linalg.norm(x_np-x_GECP),  np.linalg.norm(b0-A0.dot(x_GECP))]}\n",
    "df = pd.DataFrame(data=dferror)\n",
    "\n",
    "df"
   ]
  },
  {
   "cell_type": "code",
   "execution_count": 209,
   "id": "fc819f1d",
   "metadata": {},
   "outputs": [
    {
     "name": "stdout",
     "output_type": "stream",
     "text": [
      "[[ 1.  0.  0.  0.  1.]\n",
      " [-1.  1.  0.  0.  1.]\n",
      " [-1. -1.  1.  0.  1.]\n",
      " [-1. -1. -1.  1.  1.]\n",
      " [-1. -1. -1. -1.  1.]]\n",
      "[ 1.05074673 -0.08078724 -0.1339856  -1.54623909 -2.42907134]\n",
      "U:\n",
      " [[ 1.  0.  0.  0.  1.]\n",
      " [ 0.  1.  0.  0.  2.]\n",
      " [ 0.  0.  1.  0.  4.]\n",
      " [ 0.  0.  0.  1.  8.]\n",
      " [ 0.  0.  0.  0. 16.]]\n",
      "[0 1 2 3]\n",
      "[0 1 2 3]\n",
      "x     :\n",
      " [0.81077528 0.49001658 0.92683481 0.44141612 0.23997145]\n",
      "x_gepp:\n",
      " [0.81077528 0.49001658 0.92683481 0.44141612 0.23997145]\n",
      "[[ 1.  0.  0.  0.  0.  0.  0.  0.  0.  1.]\n",
      " [-1.  1.  0.  0.  0.  0.  0.  0.  0.  1.]\n",
      " [-1. -1.  1.  0.  0.  0.  0.  0.  0.  1.]\n",
      " [-1. -1. -1.  1.  0.  0.  0.  0.  0.  1.]\n",
      " [-1. -1. -1. -1.  1.  0.  0.  0.  0.  1.]\n",
      " [-1. -1. -1. -1. -1.  1.  0.  0.  0.  1.]\n",
      " [-1. -1. -1. -1. -1. -1.  1.  0.  0.  1.]\n",
      " [-1. -1. -1. -1. -1. -1. -1.  1.  0.  1.]\n",
      " [-1. -1. -1. -1. -1. -1. -1. -1.  1.  1.]\n",
      " [-1. -1. -1. -1. -1. -1. -1. -1. -1.  1.]]\n",
      "[ 0.22410729  0.418814   -0.72989422 -0.25543559 -1.0281414  -0.88921348\n",
      " -1.65548289 -2.77585946 -3.50178721 -5.1364483 ]\n",
      "U:\n",
      " [[  1.   0.   0.   0.   0.   0.   0.   0.   0.   1.]\n",
      " [  0.   1.   0.   0.   0.   0.   0.   0.   0.   2.]\n",
      " [  0.   0.   1.   0.   0.   0.   0.   0.   0.   4.]\n",
      " [  0.   0.   0.   1.   0.   0.   0.   0.   0.   8.]\n",
      " [  0.   0.   0.   0.   1.   0.   0.   0.   0.  16.]\n",
      " [  0.   0.   0.   0.   0.   1.   0.   0.   0.  32.]\n",
      " [  0.   0.   0.   0.   0.   0.   1.   0.   0.  64.]\n",
      " [  0.   0.   0.   0.   0.   0.   0.   1.   0. 128.]\n",
      " [  0.   0.   0.   0.   0.   0.   0.   0.   1. 256.]\n",
      " [  0.   0.   0.   0.   0.   0.   0.   0.   0. 512.]]\n",
      "[0 1 2 3 4 5 6 7 8]\n",
      "[0 1 2 3 4 5 6 7 8]\n",
      "x     :\n",
      " [0.20122324 0.59715319 0.04559816 0.56565496 0.35860411 0.85613613\n",
      " 0.94600286 0.77162915 0.81733054 0.02288405]\n",
      "x_gepp:\n",
      " [0.20122324 0.59715319 0.04559816 0.56565496 0.35860411 0.85613613\n",
      " 0.94600286 0.77162915 0.81733054 0.02288405]\n"
     ]
    },
    {
     "data": {
      "text/html": [
       "<div>\n",
       "<style scoped>\n",
       "    .dataframe tbody tr th:only-of-type {\n",
       "        vertical-align: middle;\n",
       "    }\n",
       "\n",
       "    .dataframe tbody tr th {\n",
       "        vertical-align: top;\n",
       "    }\n",
       "\n",
       "    .dataframe thead th {\n",
       "        text-align: right;\n",
       "    }\n",
       "</style>\n",
       "<table border=\"1\" class=\"dataframe\">\n",
       "  <thead>\n",
       "    <tr style=\"text-align: right;\">\n",
       "      <th></th>\n",
       "      <th>n</th>\n",
       "      <th>||x-x_gepp||</th>\n",
       "      <th>||b-A*x||</th>\n",
       "    </tr>\n",
       "  </thead>\n",
       "  <tbody>\n",
       "    <tr>\n",
       "      <th>0</th>\n",
       "      <td>5</td>\n",
       "      <td>2.020636e-16</td>\n",
       "      <td>4.980560e-16</td>\n",
       "    </tr>\n",
       "    <tr>\n",
       "      <th>1</th>\n",
       "      <td>10</td>\n",
       "      <td>1.123463e-15</td>\n",
       "      <td>1.727994e-15</td>\n",
       "    </tr>\n",
       "  </tbody>\n",
       "</table>\n",
       "</div>"
      ],
      "text/plain": [
       "    n  ||x-x_gepp||     ||b-A*x||\n",
       "0   5  2.020636e-16  4.980560e-16\n",
       "1  10  1.123463e-15  1.727994e-15"
      ]
     },
     "execution_count": 209,
     "metadata": {},
     "output_type": "execute_result"
    }
   ],
   "source": [
    "e1 = []; e2 = []\n",
    "N = [5*i for i in range(1,3)]\n",
    "for nn in N:\n",
    "    A_wc = -np.tril(np.ones((nn,nn)),-1)+np.eye(nn)\n",
    "    A_wc[:,-1] = np.ones(nn)\n",
    "    print(A_wc)\n",
    "#     stop\n",
    "#     x = np.ones(nn) \n",
    "    \n",
    "    x = np.random.rand(nn); \n",
    "    b = A_wc.dot(x)\n",
    "    \n",
    "    x_gepp = Eliminacion_Gaussiana(A_wc,b, pivoteo='parcial')\n",
    "    print(\"x     :\\n\", x)\n",
    "    print(\"x_gepp:\\n\", x_gepp)\n",
    "    e1.append(np.linalg.norm(x-x_gepp))\n",
    "    e2.append(np.linalg.norm(b-A_wc.dot(x_gepp)))\n",
    "\n",
    "dferror = {'n':N, '||x-x_gepp||':e1, '||b-A*x||':e2}\n",
    "df = pd.DataFrame(data=dferror)\n",
    "df"
   ]
  },
  {
   "cell_type": "code",
   "execution_count": 210,
   "id": "e4ee87d0",
   "metadata": {},
   "outputs": [
    {
     "name": "stdout",
     "output_type": "stream",
     "text": [
      "U:\n",
      " [[ 1.  1.  0.  0.  0.]\n",
      " [ 0.  2.  0.  0.  1.]\n",
      " [ 0.  0.  1.  0. -2.]\n",
      " [ 0.  0.  0.  1. -4.]\n",
      " [ 0.  0.  0.  0. -8.]]\n",
      "[0 1 2 3]\n",
      "GECP [1. 1. 1. 1. 1.]\n",
      "[0 4 2 3]\n",
      "[0. 0. 0. 0. 0.]\n",
      "U:\n",
      " [[   1.    1.    0.    0.    0.    0.    0.    0.    0.    0.]\n",
      " [   0.    2.    0.    0.    0.    0.    0.    0.    0.    1.]\n",
      " [   0.    0.    1.    0.    0.    0.    0.    0.    0.   -2.]\n",
      " [   0.    0.    0.    1.    0.    0.    0.    0.    0.   -4.]\n",
      " [   0.    0.    0.    0.    1.    0.    0.    0.    0.   -8.]\n",
      " [   0.    0.    0.    0.    0.    1.    0.    0.    0.  -16.]\n",
      " [   0.    0.    0.    0.    0.    0.    1.    0.    0.  -32.]\n",
      " [   0.    0.    0.    0.    0.    0.    0.    1.    0.  -64.]\n",
      " [   0.    0.    0.    0.    0.    0.    0.    0.    1. -128.]\n",
      " [   0.    0.    0.    0.    0.    0.    0.    0.    0. -256.]]\n",
      "[0 1 2 3 4 5 6 7 8]\n",
      "GECP [1. 1. 1. 1. 1. 1. 1. 1. 1. 1.]\n",
      "[0 9 2 3 4 5 6 7 8]\n",
      "[0. 0. 0. 0. 0. 0. 0. 0. 0. 0.]\n"
     ]
    },
    {
     "data": {
      "text/html": [
       "<div>\n",
       "<style scoped>\n",
       "    .dataframe tbody tr th:only-of-type {\n",
       "        vertical-align: middle;\n",
       "    }\n",
       "\n",
       "    .dataframe tbody tr th {\n",
       "        vertical-align: top;\n",
       "    }\n",
       "\n",
       "    .dataframe thead th {\n",
       "        text-align: right;\n",
       "    }\n",
       "</style>\n",
       "<table border=\"1\" class=\"dataframe\">\n",
       "  <thead>\n",
       "    <tr style=\"text-align: right;\">\n",
       "      <th></th>\n",
       "      <th>n</th>\n",
       "      <th>||x-x_gecp||</th>\n",
       "      <th>||b-A*x_gecp||</th>\n",
       "    </tr>\n",
       "  </thead>\n",
       "  <tbody>\n",
       "    <tr>\n",
       "      <th>0</th>\n",
       "      <td>5</td>\n",
       "      <td>0.0</td>\n",
       "      <td>0.0</td>\n",
       "    </tr>\n",
       "    <tr>\n",
       "      <th>1</th>\n",
       "      <td>10</td>\n",
       "      <td>0.0</td>\n",
       "      <td>0.0</td>\n",
       "    </tr>\n",
       "  </tbody>\n",
       "</table>\n",
       "</div>"
      ],
      "text/plain": [
       "    n  ||x-x_gecp||  ||b-A*x_gecp||\n",
       "0   5           0.0             0.0\n",
       "1  10           0.0             0.0"
      ]
     },
     "execution_count": 210,
     "metadata": {},
     "output_type": "execute_result"
    }
   ],
   "source": [
    "e1 = []; e2 = []\n",
    "N = [5*i for i in range(1,3)]\n",
    "for nn in N:\n",
    "    A_wc = -np.tril(np.ones((nn,nn)),-1)+np.eye(nn)\n",
    "    A_wc[:,-1] = np.ones(nn)\n",
    "    xsol = np.ones(nn) # np.random.rand(nn); \n",
    "    b = A_wc.dot(xsol)\n",
    "    \n",
    "    x_gecp = Eliminacion_Gaussiana(A_wc,b, pivoteo='completo')\n",
    "    print(A_wc.dot(x_gecp)-b)\n",
    "    e1.append(np.linalg.norm(xsol-x_gecp))\n",
    "    e2.append(np.linalg.norm(b-A_wc.dot(x_gecp)))\n",
    "\n",
    "dferror = {'n':N, '||x-x_gecp||':e1, '||b-A*x_gecp||':e2}\n",
    "df = pd.DataFrame(data=dferror)\n",
    "df"
   ]
  },
  {
   "cell_type": "code",
   "execution_count": null,
   "id": "7423b09b",
   "metadata": {},
   "outputs": [],
   "source": []
  }
 ],
 "metadata": {
  "celltoolbar": "Slideshow",
  "kernelspec": {
   "display_name": "Python 3 (ipykernel)",
   "language": "python",
   "name": "python3"
  },
  "language_info": {
   "codemirror_mode": {
    "name": "ipython",
    "version": 3
   },
   "file_extension": ".py",
   "mimetype": "text/x-python",
   "name": "python",
   "nbconvert_exporter": "python",
   "pygments_lexer": "ipython3",
   "version": "3.7.9"
  },
  "varInspector": {
   "cols": {
    "lenName": 16,
    "lenType": 16,
    "lenVar": 40
   },
   "kernels_config": {
    "python": {
     "delete_cmd_postfix": "",
     "delete_cmd_prefix": "del ",
     "library": "var_list.py",
     "varRefreshCmd": "print(var_dic_list())"
    },
    "r": {
     "delete_cmd_postfix": ") ",
     "delete_cmd_prefix": "rm(",
     "library": "var_list.r",
     "varRefreshCmd": "cat(var_dic_list()) "
    }
   },
   "types_to_exclude": [
    "module",
    "function",
    "builtin_function_or_method",
    "instance",
    "_Feature"
   ],
   "window_display": false
  }
 },
 "nbformat": 4,
 "nbformat_minor": 5
}
