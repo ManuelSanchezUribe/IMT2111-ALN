{
 "cells": [
  {
   "cell_type": "markdown",
   "id": "d167f710",
   "metadata": {
    "slideshow": {
     "slide_type": "slide"
    }
   },
   "source": [
    "<hr style=\"border:2px solid #808080\"> </hr>\n",
    "<center><h1 style=\"color:#03122E;\"> Álgebra Lineal Numérica IMT2111</h1></center>\n",
    "<center><h1 style=\"color:#173F8A;\"> Capítulo 1: Eliminacion Gaussiana</h3></center>\n",
    "<center><h1 style=\"color:#0176DE;\"> Prof. Manuel A. Sánchez</h3></center>\n",
    "<hr style=\"border:2px solid #808080\"> </hr>"
   ]
  },
  {
   "cell_type": "markdown",
   "id": "e04d86f1",
   "metadata": {
    "slideshow": {
     "slide_type": "slide"
    }
   },
   "source": [
    "## Tabla de contenidos\n",
    "\n",
    "1. [Algoritmos de sustitucion regresiva y progresiva](#Algoritmos-sustitucion)\n",
    "2. [Algoritmos de eliminacion Gaussiana](#Eliminacion-Gaussiana)\n",
    "3. [Ejemplo: eliminacion Gaussiana](#Ejemplo:-eliminacion-Gaussiana)\n",
    "4. [Ejemplo: Factorizacion LU](#Ejemplo:-Factorizacion-LU)\n",
    "5. [Ejemplo: inestabilidad sin pivoteo](#Ejemplo:-inestabilidad-sin-pivoteo)\n",
    "6. [Ejemplo: worst case instability](#Ejemplo:-worst-case-instability)"
   ]
  },
  {
   "cell_type": "code",
   "execution_count": 29,
   "id": "f6638d63",
   "metadata": {
    "slideshow": {
     "slide_type": "slide"
    }
   },
   "outputs": [
    {
     "data": {
      "text/html": [
       "<style>.output {display: flex;align-items: center;text-align: center;}</style>"
      ],
      "text/plain": [
       "<IPython.core.display.HTML object>"
      ]
     },
     "metadata": {},
     "output_type": "display_data"
    }
   ],
   "source": [
    "import numpy as np\n",
    "import scipy as scp\n",
    "import matplotlib.pyplot as plt\n",
    "import pandas as pd\n",
    "from IPython.display import display, HTML\n",
    "display(HTML(\"\"\"<style>.output {display: flex;align-items: center;text-align: center;}</style>\"\"\"))"
   ]
  },
  {
   "cell_type": "markdown",
   "id": "827122e4",
   "metadata": {
    "slideshow": {
     "slide_type": "slide"
    }
   },
   "source": [
    "## Algoritmos sustitucion\n",
    "\n",
    "- **Algoritmo de sustitucion progresiva**\n",
    "\n",
    "- **Algoritmo de sustitucion regresiva**"
   ]
  },
  {
   "cell_type": "code",
   "execution_count": 10,
   "id": "acf49722-f0af-4add-b0e4-71ff499b52a4",
   "metadata": {
    "slideshow": {
     "slide_type": "slide"
    }
   },
   "outputs": [],
   "source": [
    "# Forward and Backward substitution\n",
    "def forward_substitution(L,b):\n",
    "    '''\n",
    "    Forward substitution algorithm for system L x = b\n",
    "    input : L lower triangular matrix n x n\n",
    "            b vector n x 1\n",
    "    output: x solution of L x = b\n",
    "    '''\n",
    "    n = L.shape[0]; x = np.zeros(n)\n",
    "    x[0] = b[0]/L[0,0]\n",
    "    for i in range(1,n):\n",
    "        x[i] = (b[i] - L[i,0:i]@x[0:i])/L[i,i]\n",
    "    return x\n",
    "def backward_substitution(U,b):\n",
    "    '''\n",
    "    Backward substitution algorithm for system U x = b\n",
    "    input : U upper tringular matrix n x n\n",
    "            b vector n x 1\n",
    "    output : x solution of U x = b\n",
    "    '''\n",
    "    n = U.shape[0]; x = np.zeros(n)\n",
    "    x[n-1] = b[n-1]/U[n-1,n-1]\n",
    "    for i in range(n-2,-1,-1):\n",
    "        x[i] = (b[i] - U[i,(i+1):n]@(x[(i+1):n]))/U[i,i]\n",
    "    return x\n",
    "# generate permutation matrix\n",
    "def perm(rowpiv):\n",
    "    n = rowpiv.size+1\n",
    "    P = np.eye(n)\n",
    "    for k in range(n-1):\n",
    "        P[[k,rowpiv[k]],:] = P[[rowpiv[k], k],:]\n",
    "    return P\n",
    "def permb(b, rowpiv):\n",
    "    n = b.size\n",
    "    for k in range(n-1):\n",
    "        b[[k, rowpiv[k]]] = b[[rowpiv[k],k]] \n",
    "    return b"
   ]
  },
  {
   "cell_type": "markdown",
   "id": "c32ab553",
   "metadata": {
    "slideshow": {
     "slide_type": "slide"
    }
   },
   "source": [
    "## Eliminacion Gaussiana\n",
    "\n",
    "- **Eliminacion Gaussiana sin pivoteo**  `` GE ``\n",
    "- **Factorizacion A = LU sin pivoteo**  ``LU``\n",
    "\n",
    "- **Eliminacion Gaussiana con pivoteo parcial** ``GEPP``\n",
    "- **Factorizacion LU, PA=LU, sin pivoteo**  ``LUPP``\n",
    "\n",
    "- **Eliminacion Gaussiana con pivoteo completo** ``GECP``\n",
    "- **Factorizacion LU. PAQ = LU, con pivoteo completo**  ``LUCP``"
   ]
  },
  {
   "cell_type": "code",
   "execution_count": 11,
   "id": "4ad20f8c",
   "metadata": {
    "slideshow": {
     "slide_type": "slide"
    }
   },
   "outputs": [],
   "source": [
    "# 1.\n",
    "def GE(Ainput, binput):\n",
    "    '''\n",
    "    Eliminacion Gaussiana sin pivoteo\n",
    "    Input : A nonsingular and square matrix n x n \n",
    "            b vector n x 1\n",
    "    Output: x solution of the system A x = b\n",
    "    '''\n",
    "    A = Ainput.copy() # se va a modificar\n",
    "    b = binput.copy() # se va a modificar\n",
    "    # 1. Factorize A = LU\n",
    "    L, U = LU(A)\n",
    "    # 2. Solve LUx = b forward substitution\n",
    "    y = forward_substitution(L, b)\n",
    "    # 3. Solve Ux = L^{-1} b backward substitution\n",
    "    x = backward_substitution(U,y)\n",
    "    return x\n",
    "def LU(Ainput):\n",
    "    '''\n",
    "    Factorizacion A = LU, sin pivoteo\n",
    "    Input : A nonsingular and square matrix n x n \n",
    "    Output: L triangular inferior, U triangular superior, square matrix n x n\n",
    "    '''\n",
    "    A = Ainput.copy() # se va a modificar\n",
    "    n = A.shape[0]\n",
    "    for i in range(n-1):\n",
    "        if A[i, i] == 0:\n",
    "            raise ValueError(\"coeficient is zero.\")\n",
    "        A[(i+1):n,i] = (A[(i+1):n,i]/A[i,i])\n",
    "        A[(i+1):n, (i+1):n][:] = A[(i+1):n, (i+1):n]-np.outer(A[(i+1):n,i],A[i, (i+1):n])\n",
    "    L = np.tril(A,-1)+np.eye(n)\n",
    "    U = np.triu(A)\n",
    "    return L, U\n",
    "\n",
    "# 2.\n",
    "def GEPP(Ainput, binput):\n",
    "    A = Ainput.copy() # se va a modificar\n",
    "    b = binput.copy() # se va a modificar\n",
    "    '''\n",
    "    Eliminacion Gaussiana con pivoteo de filas o pivoteo parcial\n",
    "    Input : A matriz cuadrada no singular de n x n \n",
    "            b vector de n x 1\n",
    "    Output: x solucion del sistema lineal  A x = b\n",
    "    '''\n",
    "    # 1. Factorize A = PLU\n",
    "    L, U, pT = LUPP(A)\n",
    "    # 2. Solve P L U x = b\n",
    "    P = perm(pT)\n",
    "    rhs  = perm(pT).dot(b)\n",
    "    # 3. Solve LUx = Pt b forward substitution\n",
    "    y = forward_substitution(L, rhs)\n",
    "    # 4. Solve Ux = L^{-1} Pt b backward substitution\n",
    "    x = backward_substitution(U,y)\n",
    "    return x\n",
    "\n",
    "def LUPP(Ainput):\n",
    "    '''\n",
    "    Factorizacion PA = LU, con pivoteo parcial\n",
    "    Input : A matriz cuadrada no singular de n x n\n",
    "    Output: L triangular inferior, matriz cuadrada de n x n\n",
    "            U trangular superior, matriz cuadrada de n x n\n",
    "            p, vector asociado a la matriz de permutacion\n",
    "    '''\n",
    "    A = Ainput.copy() # se va a modificar\n",
    "    n = A.shape[0]\n",
    "    piv = np.arange(0,n-1)\n",
    "    for i in range(n-1):\n",
    "        imax = abs(A[i:,i]).argmax() + i\n",
    "        piv[i] = imax\n",
    "        if A[imax, i] == 0:\n",
    "            raise ValueError(\"Matrix is singular.\")\n",
    "        elif imax != i:\n",
    "            A[[i,imax],:] = A[[imax, i],:][:]\n",
    "        A[(i+1):n,i][:] = (A[(i+1):n,i]/A[i,i])[:]\n",
    "        A[(i+1):n, (i+1):n][:] = A[(i+1):n, (i+1):n]-np.outer(A[(i+1):n,i],A[i, (i+1):n])\n",
    "    \n",
    "    L = np.tril(A,-1)+np.eye(n)\n",
    "    U = np.triu(A)\n",
    "    return L, U, piv\n",
    "\n",
    "# \n",
    "def GECP(Ainput, binput):\n",
    "    '''\n",
    "    Eliminacion Gaussiana con pivoteo de filas y columnas o pivoteo completo\n",
    "    Input : A matriz cuadrada no singular de n x n \n",
    "            b vector de n x 1\n",
    "    Output: x solucion del sistema lineal  A x = b\n",
    "    '''\n",
    "    A = Ainput.copy() # se va a modificar\n",
    "    b = binput.copy() # se va a modificar\n",
    "    # 1. Factorize PAQ^T = LU\n",
    "    L, U, rowpiv, colpiv = LUCP(A)\n",
    "    # 2. Solve  L U x = P b Q^T\n",
    "    rhs  = perm(rowpiv).dot(b)\n",
    "    # 3. Solve LUx = Pt b forward substitution\n",
    "    y = forward_substitution(L, rhs)\n",
    "    # 4. Solve Ux = L^{-1} Pt b backward substitution\n",
    "    x = backward_substitution(U,y)\n",
    "    return (perm(colpiv).T).dot(x)\n",
    "\n",
    "def LUCP(Ainput):\n",
    "    '''\n",
    "    Factorizacion P A Q = L U, con pivoteo completo\n",
    "    Input : A matriz cuadrada no singular de n x n\n",
    "    Output: L triangular inferior, matriz cuadrada de n x n\n",
    "            U trangular superior, matriz cuadrada de n x n\n",
    "            p, vector asociado a la matriz de permutacion por filas\n",
    "            q, vector asociado a la matriz de permutacion por columnas\n",
    "    '''\n",
    "    A = Ainput.copy() # se va a modificar\n",
    "    n = A.shape[0]\n",
    "    rowpiv = np.arange(0,n-1)\n",
    "    colpiv = np.arange(0,n-1)\n",
    "    for i in range(n-1):\n",
    "        mu, lam = np.unravel_index(np.argmax(np.abs(A[i:,i:]), axis=None), A[i:,i:].shape)\n",
    "        mu +=i; lam+=i\n",
    "        if A[mu, lam] == 0:\n",
    "            raise ValueError(\"Matrix is singular.\")\n",
    "        else:\n",
    "            rowpiv[i] = mu\n",
    "            A[[i, mu],:] = A[[mu, i],:][:]\n",
    "            colpiv[i] = lam\n",
    "            A[:,[i, lam]] = A[:,[lam, i]][:]\n",
    "        A[(i+1):n,i] *= 1.0/A[i,i]\n",
    "        A[(i+1):n, (i+1):n] -=np.outer(A[(i+1):n,i],A[i, (i+1):n])\n",
    "    L = np.tril(A,-1)+np.eye(n)\n",
    "    U = np.triu(A)\n",
    "    return L, U, rowpiv, colpiv"
   ]
  },
  {
   "cell_type": "code",
   "execution_count": 12,
   "id": "daa70f23",
   "metadata": {
    "slideshow": {
     "slide_type": "slide"
    }
   },
   "outputs": [],
   "source": [
    "def Eliminacion_Gaussiana(A,b, pivoteo=None):\n",
    "    if pivoteo is None:\n",
    "        x = GE(A,b)\n",
    "    elif pivoteo == 'parcial':\n",
    "        x = GEPP(A,b)\n",
    "    elif pivoteo == 'completo':\n",
    "        x = GECP(A,b)\n",
    "    return x\n",
    "\n",
    "def Factorizacion_LU(A, pivoteo=None):\n",
    "    if pivoteo is None:\n",
    "        L,U = LU(A)\n",
    "        return L,U\n",
    "    elif pivoteo == 'parcial':\n",
    "        L,U,piv = LUPP(A)\n",
    "        return L, U, piv\n",
    "    elif pivoteo == 'completo':\n",
    "        L, U, rowpiv, colpiv = LUCP(A)\n",
    "        return  L, U, rowpiv, colpiv"
   ]
  },
  {
   "cell_type": "markdown",
   "id": "8a4ceb4f",
   "metadata": {
    "slideshow": {
     "slide_type": "slide"
    }
   },
   "source": [
    "## Ejemplo: eliminacion Gaussiana\n",
    "\n",
    "Considere el sistema lineal\n",
    "\\begin{equation}\n",
    "Ax = b,\\qquad \n",
    "A = \\begin{bmatrix}\n",
    "1 & 3 & 4 & 1\\\\\n",
    "2 & 1 & 5 & 1 \\\\\n",
    "3 & 1 & 6 & 1 \\\\\n",
    "6 & 2 & 3 & 2\n",
    "\\end{bmatrix},\\quad\n",
    "b = \\begin{bmatrix}\n",
    "-2 \\\\ -2\\\\ -2 \\\\ 5\n",
    "\\end{bmatrix}\n",
    "\\end{equation}\n",
    "\n",
    "Resuelva usando Eliminacion Gaussiana, i) sin pivoteo, ii) con pivoteo parcial, iii) con pivoteo completo."
   ]
  },
  {
   "cell_type": "code",
   "execution_count": 15,
   "id": "d3e35710",
   "metadata": {
    "slideshow": {
     "slide_type": "slide"
    }
   },
   "outputs": [],
   "source": [
    "A = np.array([[1,3,4,1],[2,1,5,1],[3,1,6,1],[6,2,3,2]],dtype=np.float64)\n",
    "x = np.array([1, 0, -1,1])\n",
    "b = np.array([-2,-2,-2,5],dtype=np.float64)"
   ]
  },
  {
   "cell_type": "code",
   "execution_count": 16,
   "id": "ba421b6e",
   "metadata": {
    "slideshow": {
     "slide_type": "slide"
    }
   },
   "outputs": [
    {
     "name": "stdout",
     "output_type": "stream",
     "text": [
      "x_GE   :  [ 1.00000000e+00  2.66453526e-16 -1.00000000e+00  1.00000000e+00]\n",
      "x_GEPP :  [ 1.  0. -1.  1.]\n",
      "x_GECP :  [ 1.00000000e+00  3.74700271e-16 -1.00000000e+00  1.00000000e+00]\n",
      "x      :  [ 1.  0. -1.  1.]\n"
     ]
    }
   ],
   "source": [
    "x_GE   = Eliminacion_Gaussiana(A,b)\n",
    "x_GEPP = Eliminacion_Gaussiana(A,b, pivoteo='parcial')\n",
    "x_GECP = Eliminacion_Gaussiana(A,b, pivoteo='completo')\n",
    "print(\"x_GE   : \", x_GE)\n",
    "print(\"x_GEPP : \", x_GEPP)\n",
    "print(\"x_GECP : \", x_GECP)\n",
    "print(\"x      : \", np.linalg.solve(A,b))\n"
   ]
  },
  {
   "cell_type": "markdown",
   "id": "3f73c13f",
   "metadata": {
    "slideshow": {
     "slide_type": "slide"
    }
   },
   "source": [
    "## Ejemplo: Factorizacion LU\n",
    "\n",
    "Encuentre la factorizacion LU de la siguiente matriz usando los algoritmos de Eliminacion Gaussiana, i) sin pivoteo, ii) con pivoteo parcial, iii) con pivoteo completo. Compare las matrices:\n",
    "\\begin{equation}\n",
    "LU = A,\\qquad \n",
    "A = \\begin{bmatrix}\n",
    "1 & 3 & 4 & 1\\\\\n",
    "2 & 1 & 5 & 1 \\\\\n",
    "3 & 1 & 6 & 1 \\\\\n",
    "6 & 2 & 3 & 2\n",
    "\\end{bmatrix},\n",
    "\\end{equation}"
   ]
  },
  {
   "cell_type": "code",
   "execution_count": 17,
   "id": "eb937423",
   "metadata": {
    "slideshow": {
     "slide_type": "slide"
    }
   },
   "outputs": [],
   "source": [
    "A = np.array([[1,3,4,1],[2,1,5,1],[3,1,6,1],[6,2,3,2]],dtype=np.float64)"
   ]
  },
  {
   "cell_type": "code",
   "execution_count": 18,
   "id": "598b3fa2",
   "metadata": {
    "slideshow": {
     "slide_type": "slide"
    }
   },
   "outputs": [
    {
     "name": "stdout",
     "output_type": "stream",
     "text": [
      "L :\n",
      " [[1.  0.  0.  0. ]\n",
      " [2.  1.  0.  0. ]\n",
      " [3.  1.6 1.  0. ]\n",
      " [6.  3.2 9.5 1. ]]\n",
      "U :\n",
      " [[ 1.   3.   4.   1. ]\n",
      " [ 0.  -5.  -3.  -1. ]\n",
      " [ 0.   0.  -1.2 -0.4]\n",
      " [ 0.   0.   0.   3. ]]\n"
     ]
    }
   ],
   "source": [
    "L, U = Factorizacion_LU(A, pivoteo=None)\n",
    "print(\"L :\\n\", L)\n",
    "print(\"U :\\n\", U)"
   ]
  },
  {
   "cell_type": "code",
   "execution_count": 19,
   "id": "65864d2c-f5a4-4dca-8566-4aef5c1c5385",
   "metadata": {
    "slideshow": {
     "slide_type": "slide"
    }
   },
   "outputs": [
    {
     "name": "stdout",
     "output_type": "stream",
     "text": [
      "L :\n",
      " [[1.         0.         0.         0.        ]\n",
      " [0.16666667 1.         0.         0.        ]\n",
      " [0.5        0.         1.         0.        ]\n",
      " [0.33333333 0.125      0.79166667 1.        ]]\n",
      "U :\n",
      " [[6.         2.         3.         2.        ]\n",
      " [0.         2.66666667 3.5        0.66666667]\n",
      " [0.         0.         4.5        0.        ]\n",
      " [0.         0.         0.         0.25      ]]\n"
     ]
    }
   ],
   "source": [
    "L, U, p = Factorizacion_LU(A, pivoteo='parcial')\n",
    "print(\"L :\\n\", L)\n",
    "print(\"U :\\n\", U)"
   ]
  },
  {
   "cell_type": "code",
   "execution_count": 20,
   "id": "63bdd055-41f5-4517-ab9c-9455b43b6a4e",
   "metadata": {
    "slideshow": {
     "slide_type": "slide"
    }
   },
   "outputs": [
    {
     "name": "stdout",
     "output_type": "stream",
     "text": [
      "L :\n",
      " [[ 1.          0.          0.          0.        ]\n",
      " [ 0.5         1.          0.          0.        ]\n",
      " [ 0.66666667 -0.22222222  1.          0.        ]\n",
      " [ 0.83333333 -0.11111111  0.125       1.        ]]\n",
      "U :\n",
      " [[6.         3.         1.         1.        ]\n",
      " [0.         4.5        1.5        1.5       ]\n",
      " [0.         0.         2.66666667 0.66666667]\n",
      " [0.         0.         0.         0.25      ]]\n"
     ]
    }
   ],
   "source": [
    "L, U,p,q = Factorizacion_LU(A, pivoteo='completo')\n",
    "print(\"L :\\n\", L)\n",
    "print(\"U :\\n\", U)"
   ]
  },
  {
   "cell_type": "markdown",
   "id": "dfb7c7a6",
   "metadata": {
    "slideshow": {
     "slide_type": "slide"
    }
   },
   "source": [
    "## Ejemplo: inestabilidad sin pivoteo\n",
    "\\begin{equation}\n",
    "A = \\begin{bmatrix}\n",
    "0 & 1 \\\\\n",
    "1 & 1\n",
    "\\end{bmatrix}, \\quad \\text{Eliminacion Gaussiana falla en el primer paso con } \\kappa(A) = (3+\\sqrt{5})/2\n",
    "\\end{equation}\n",
    "\n",
    "\\begin{equation}\n",
    "\\tilde{A} = \\begin{bmatrix}\n",
    "10^{-20} & 1 \\\\\n",
    "1 & 1\n",
    "\\end{bmatrix}\n",
    "=\n",
    "\\begin{bmatrix}\n",
    "1 & 0 \\\\\n",
    "10^{20} & 1\n",
    "\\end{bmatrix}\n",
    "\\begin{bmatrix}\n",
    "10^{-20} & 1 \\\\\n",
    "0 & 1-10^{20}\n",
    "\\end{bmatrix}, \\quad \\text{Eliminacion Gaussiana ahora no falla}\n",
    "\\end{equation}"
   ]
  },
  {
   "cell_type": "code",
   "execution_count": 21,
   "id": "f8ff9ce8",
   "metadata": {
    "slideshow": {
     "slide_type": "slide"
    }
   },
   "outputs": [],
   "source": [
    "Afalla = np.array([[0,1],[1,1]], dtype=np.float64)\n",
    "Atilde = np.array([[10**(-20), 1],[1,1]], dtype=np.float64)"
   ]
  },
  {
   "cell_type": "code",
   "execution_count": 22,
   "id": "41ecc723",
   "metadata": {
    "slideshow": {
     "slide_type": "slide"
    }
   },
   "outputs": [
    {
     "ename": "ValueError",
     "evalue": "coeficient is zero.",
     "output_type": "error",
     "traceback": [
      "\u001b[1;31m---------------------------------------------------------------------------\u001b[0m",
      "\u001b[1;31mValueError\u001b[0m                                Traceback (most recent call last)",
      "\u001b[1;32m~\\AppData\\Local\\Temp\\ipykernel_40212\\3836597542.py\u001b[0m in \u001b[0;36m<module>\u001b[1;34m\u001b[0m\n\u001b[1;32m----> 1\u001b[1;33m \u001b[0mL\u001b[0m\u001b[1;33m,\u001b[0m\u001b[0mU\u001b[0m \u001b[1;33m=\u001b[0m \u001b[0mFactorizacion_LU\u001b[0m\u001b[1;33m(\u001b[0m\u001b[0mAfalla\u001b[0m\u001b[1;33m)\u001b[0m\u001b[1;33m\u001b[0m\u001b[1;33m\u001b[0m\u001b[0m\n\u001b[0m",
      "\u001b[1;32m~\\AppData\\Local\\Temp\\ipykernel_40212\\2147385944.py\u001b[0m in \u001b[0;36mFactorizacion_LU\u001b[1;34m(A, pivoteo)\u001b[0m\n\u001b[0;32m     10\u001b[0m \u001b[1;32mdef\u001b[0m \u001b[0mFactorizacion_LU\u001b[0m\u001b[1;33m(\u001b[0m\u001b[0mA\u001b[0m\u001b[1;33m,\u001b[0m \u001b[0mpivoteo\u001b[0m\u001b[1;33m=\u001b[0m\u001b[1;32mNone\u001b[0m\u001b[1;33m)\u001b[0m\u001b[1;33m:\u001b[0m\u001b[1;33m\u001b[0m\u001b[1;33m\u001b[0m\u001b[0m\n\u001b[0;32m     11\u001b[0m     \u001b[1;32mif\u001b[0m \u001b[0mpivoteo\u001b[0m \u001b[1;32mis\u001b[0m \u001b[1;32mNone\u001b[0m\u001b[1;33m:\u001b[0m\u001b[1;33m\u001b[0m\u001b[1;33m\u001b[0m\u001b[0m\n\u001b[1;32m---> 12\u001b[1;33m         \u001b[0mL\u001b[0m\u001b[1;33m,\u001b[0m\u001b[0mU\u001b[0m \u001b[1;33m=\u001b[0m \u001b[0mLU\u001b[0m\u001b[1;33m(\u001b[0m\u001b[0mA\u001b[0m\u001b[1;33m)\u001b[0m\u001b[1;33m\u001b[0m\u001b[1;33m\u001b[0m\u001b[0m\n\u001b[0m\u001b[0;32m     13\u001b[0m         \u001b[1;32mreturn\u001b[0m \u001b[0mL\u001b[0m\u001b[1;33m,\u001b[0m\u001b[0mU\u001b[0m\u001b[1;33m\u001b[0m\u001b[1;33m\u001b[0m\u001b[0m\n\u001b[0;32m     14\u001b[0m     \u001b[1;32melif\u001b[0m \u001b[0mpivoteo\u001b[0m \u001b[1;33m==\u001b[0m \u001b[1;34m'parcial'\u001b[0m\u001b[1;33m:\u001b[0m\u001b[1;33m\u001b[0m\u001b[1;33m\u001b[0m\u001b[0m\n",
      "\u001b[1;32m~\\AppData\\Local\\Temp\\ipykernel_40212\\3081399320.py\u001b[0m in \u001b[0;36mLU\u001b[1;34m(Ainput)\u001b[0m\n\u001b[0;32m     26\u001b[0m     \u001b[1;32mfor\u001b[0m \u001b[0mi\u001b[0m \u001b[1;32min\u001b[0m \u001b[0mrange\u001b[0m\u001b[1;33m(\u001b[0m\u001b[0mn\u001b[0m\u001b[1;33m-\u001b[0m\u001b[1;36m1\u001b[0m\u001b[1;33m)\u001b[0m\u001b[1;33m:\u001b[0m\u001b[1;33m\u001b[0m\u001b[1;33m\u001b[0m\u001b[0m\n\u001b[0;32m     27\u001b[0m         \u001b[1;32mif\u001b[0m \u001b[0mA\u001b[0m\u001b[1;33m[\u001b[0m\u001b[0mi\u001b[0m\u001b[1;33m,\u001b[0m \u001b[0mi\u001b[0m\u001b[1;33m]\u001b[0m \u001b[1;33m==\u001b[0m \u001b[1;36m0\u001b[0m\u001b[1;33m:\u001b[0m\u001b[1;33m\u001b[0m\u001b[1;33m\u001b[0m\u001b[0m\n\u001b[1;32m---> 28\u001b[1;33m             \u001b[1;32mraise\u001b[0m \u001b[0mValueError\u001b[0m\u001b[1;33m(\u001b[0m\u001b[1;34m\"coeficient is zero.\"\u001b[0m\u001b[1;33m)\u001b[0m\u001b[1;33m\u001b[0m\u001b[1;33m\u001b[0m\u001b[0m\n\u001b[0m\u001b[0;32m     29\u001b[0m         \u001b[0mA\u001b[0m\u001b[1;33m[\u001b[0m\u001b[1;33m(\u001b[0m\u001b[0mi\u001b[0m\u001b[1;33m+\u001b[0m\u001b[1;36m1\u001b[0m\u001b[1;33m)\u001b[0m\u001b[1;33m:\u001b[0m\u001b[0mn\u001b[0m\u001b[1;33m,\u001b[0m\u001b[0mi\u001b[0m\u001b[1;33m]\u001b[0m \u001b[1;33m=\u001b[0m \u001b[1;33m(\u001b[0m\u001b[0mA\u001b[0m\u001b[1;33m[\u001b[0m\u001b[1;33m(\u001b[0m\u001b[0mi\u001b[0m\u001b[1;33m+\u001b[0m\u001b[1;36m1\u001b[0m\u001b[1;33m)\u001b[0m\u001b[1;33m:\u001b[0m\u001b[0mn\u001b[0m\u001b[1;33m,\u001b[0m\u001b[0mi\u001b[0m\u001b[1;33m]\u001b[0m\u001b[1;33m/\u001b[0m\u001b[0mA\u001b[0m\u001b[1;33m[\u001b[0m\u001b[0mi\u001b[0m\u001b[1;33m,\u001b[0m\u001b[0mi\u001b[0m\u001b[1;33m]\u001b[0m\u001b[1;33m)\u001b[0m\u001b[1;33m\u001b[0m\u001b[1;33m\u001b[0m\u001b[0m\n\u001b[0;32m     30\u001b[0m         \u001b[0mA\u001b[0m\u001b[1;33m[\u001b[0m\u001b[1;33m(\u001b[0m\u001b[0mi\u001b[0m\u001b[1;33m+\u001b[0m\u001b[1;36m1\u001b[0m\u001b[1;33m)\u001b[0m\u001b[1;33m:\u001b[0m\u001b[0mn\u001b[0m\u001b[1;33m,\u001b[0m \u001b[1;33m(\u001b[0m\u001b[0mi\u001b[0m\u001b[1;33m+\u001b[0m\u001b[1;36m1\u001b[0m\u001b[1;33m)\u001b[0m\u001b[1;33m:\u001b[0m\u001b[0mn\u001b[0m\u001b[1;33m]\u001b[0m\u001b[1;33m[\u001b[0m\u001b[1;33m:\u001b[0m\u001b[1;33m]\u001b[0m \u001b[1;33m=\u001b[0m \u001b[0mA\u001b[0m\u001b[1;33m[\u001b[0m\u001b[1;33m(\u001b[0m\u001b[0mi\u001b[0m\u001b[1;33m+\u001b[0m\u001b[1;36m1\u001b[0m\u001b[1;33m)\u001b[0m\u001b[1;33m:\u001b[0m\u001b[0mn\u001b[0m\u001b[1;33m,\u001b[0m \u001b[1;33m(\u001b[0m\u001b[0mi\u001b[0m\u001b[1;33m+\u001b[0m\u001b[1;36m1\u001b[0m\u001b[1;33m)\u001b[0m\u001b[1;33m:\u001b[0m\u001b[0mn\u001b[0m\u001b[1;33m]\u001b[0m\u001b[1;33m-\u001b[0m\u001b[0mnp\u001b[0m\u001b[1;33m.\u001b[0m\u001b[0mouter\u001b[0m\u001b[1;33m(\u001b[0m\u001b[0mA\u001b[0m\u001b[1;33m[\u001b[0m\u001b[1;33m(\u001b[0m\u001b[0mi\u001b[0m\u001b[1;33m+\u001b[0m\u001b[1;36m1\u001b[0m\u001b[1;33m)\u001b[0m\u001b[1;33m:\u001b[0m\u001b[0mn\u001b[0m\u001b[1;33m,\u001b[0m\u001b[0mi\u001b[0m\u001b[1;33m]\u001b[0m\u001b[1;33m,\u001b[0m\u001b[0mA\u001b[0m\u001b[1;33m[\u001b[0m\u001b[0mi\u001b[0m\u001b[1;33m,\u001b[0m \u001b[1;33m(\u001b[0m\u001b[0mi\u001b[0m\u001b[1;33m+\u001b[0m\u001b[1;36m1\u001b[0m\u001b[1;33m)\u001b[0m\u001b[1;33m:\u001b[0m\u001b[0mn\u001b[0m\u001b[1;33m]\u001b[0m\u001b[1;33m)\u001b[0m\u001b[1;33m\u001b[0m\u001b[1;33m\u001b[0m\u001b[0m\n",
      "\u001b[1;31mValueError\u001b[0m: coeficient is zero."
     ]
    }
   ],
   "source": [
    "L,U = Factorizacion_LU(Afalla)\n"
   ]
  },
  {
   "cell_type": "code",
   "execution_count": 23,
   "id": "eb9f8665",
   "metadata": {
    "slideshow": {
     "slide_type": "slide"
    }
   },
   "outputs": [
    {
     "name": "stdout",
     "output_type": "stream",
     "text": [
      "[[1.e+00 0.e+00]\n",
      " [1.e+20 1.e+00]]\n",
      "[[ 1.e-20  1.e+00]\n",
      " [ 0.e+00 -1.e+20]]\n",
      "[[ 0.  0.]\n",
      " [ 0. -1.]]\n"
     ]
    }
   ],
   "source": [
    "L,U = Factorizacion_LU(Atilde)\n",
    "print(L)\n",
    "print(U)\n",
    "print(L@U- Atilde)"
   ]
  },
  {
   "cell_type": "code",
   "execution_count": 24,
   "id": "bf475051",
   "metadata": {
    "slideshow": {
     "slide_type": "slide"
    }
   },
   "outputs": [
    {
     "name": "stdout",
     "output_type": "stream",
     "text": [
      "solucion calculada: [0. 1.]\n",
      "la solucion exacta es x = [-1,1]!\n"
     ]
    }
   ],
   "source": [
    "b = np.array([1,0])\n",
    "xtilde = Eliminacion_Gaussiana(Atilde,b)\n",
    "print(\"solucion calculada:\", xtilde)\n",
    "print(\"la solucion exacta es x = [-1,1]!\")"
   ]
  },
  {
   "cell_type": "markdown",
   "id": "4c7c1419",
   "metadata": {
    "slideshow": {
     "slide_type": "slide"
    }
   },
   "source": [
    "**Nota** La factorizacion LU es estable, no backward stable. Pero al usar eliminacion Gaussiana sin pivoteo para resolver $Ax=b$ no lo hace estable.\n",
    "\n",
    "En general, si un paso del algoritmo es estable pero backward stable para resolver un subproblema, entonces la estabilidad del algortimo puede estar en peligro.\n",
    "\n",
    "**Nota** Complejidad:  eliminacion Gaussiana sin pivoteo es de $\\approx \\frac{2}{3} m^{3}$ flops."
   ]
  },
  {
   "cell_type": "markdown",
   "id": "13122157",
   "metadata": {
    "slideshow": {
     "slide_type": "slide"
    }
   },
   "source": [
    "## Ejemplo: worst case instability\n",
    "\n",
    "### Inestabilidad\n",
    "\n",
    "Para ciertas matrices $A$ a pesar de os efectos beneficiosos de pivotear, el factor de crecimiento $\\rho$ se vuelve gigante. Por ejemplo, suponga que la matriz $A$ tiene la siguiente forma:\n",
    "\n",
    "$$\n",
    "A = \\begin{bmatrix}\n",
    "1 & 0 & 0 & 0 & 1 \\\\\n",
    "-1 &1 &0 & 0& 1 \\\\\n",
    "-1& -1 &1 & 0 &1\\\\\n",
    "-1&-1 &-1 & 1 & 1 \\\\\n",
    "-1& -1 &-1 &-1 &1\n",
    "\\end{bmatrix}\n",
    "$$\n",
    "\n",
    "En este caso, la factorization da \n",
    "\n",
    "$$\n",
    "U = \\begin{bmatrix}\n",
    " 1. & 0. & 0. & 0.&  1.\\\\\n",
    " 0. & 1. & 0. & 0.&  2.\\\\\n",
    " 0. & 0. & 1. & 0.&  4.\\\\\n",
    " 0. & 0. & 0. & 1.&  8.\\\\\n",
    " 0. & 0. & 0. & 0.& 16.\n",
    " \\end{bmatrix}\n",
    "$$\n",
    "\n",
    "para esta matriz de $n\\times n$, con $n=5$, el factor de crecimiento es $\\rho = 2^{n-1} = 16$.\n",
    "\n",
    "Un factor de crecimiento de orden $2^{n}$ corresponde a una perdida del orden de $n$ bits de precision, lo cual es catastrofico para computaciones practicas. Como un computador standard representa numeros de punto flotante con solo 64 bits, con matries de dimensiones en cientos y miles en dimension perder m bits de precision es intolerable."
   ]
  },
  {
   "cell_type": "code",
   "execution_count": 31,
   "id": "8b78751d",
   "metadata": {
    "slideshow": {
     "slide_type": "slide"
    }
   },
   "outputs": [
    {
     "data": {
      "text/plain": [
       "array([[ 1.,  0.,  0.,  1.],\n",
       "       [-1.,  1.,  0.,  1.],\n",
       "       [-1., -1.,  1.,  1.],\n",
       "       [-1., -1., -1.,  1.]])"
      ]
     },
     "execution_count": 31,
     "metadata": {},
     "output_type": "execute_result"
    }
   ],
   "source": [
    "n = 4\n",
    "A_wc = -np.tril(np.ones((n,n)),-1)+np.eye(n)\n",
    "A_wc[:,-1] = np.ones(n)\n",
    "A_wc"
   ]
  },
  {
   "cell_type": "code",
   "execution_count": 32,
   "id": "0da9aa70",
   "metadata": {
    "slideshow": {
     "slide_type": "slide"
    }
   },
   "outputs": [
    {
     "data": {
      "text/plain": [
       "array([[1., 0., 0., 1.],\n",
       "       [0., 1., 0., 2.],\n",
       "       [0., 0., 1., 4.],\n",
       "       [0., 0., 0., 8.]])"
      ]
     },
     "execution_count": 32,
     "metadata": {},
     "output_type": "execute_result"
    }
   ],
   "source": [
    "L, U, pT = Factorizacion_LU(A_wc, pivoteo='parcial')\n",
    "U"
   ]
  },
  {
   "cell_type": "code",
   "execution_count": 33,
   "id": "74339c1f-eab9-408d-b2b3-6422ff2c2b8d",
   "metadata": {
    "slideshow": {
     "slide_type": "slide"
    }
   },
   "outputs": [
    {
     "data": {
      "text/plain": [
       "array([[ 1.,  1.,  0.,  0.],\n",
       "       [ 0.,  2.,  1.,  0.],\n",
       "       [ 0.,  0., -2.,  1.],\n",
       "       [ 0.,  0.,  0., -2.]])"
      ]
     },
     "execution_count": 33,
     "metadata": {},
     "output_type": "execute_result"
    }
   ],
   "source": [
    "L, U, pT, q = Factorizacion_LU(A_wc, pivoteo='completo')\n",
    "U"
   ]
  },
  {
   "cell_type": "code",
   "execution_count": 36,
   "id": "fc819f1d",
   "metadata": {
    "slideshow": {
     "slide_type": "slide"
    }
   },
   "outputs": [
    {
     "data": {
      "text/html": [
       "<div>\n",
       "<style scoped>\n",
       "    .dataframe tbody tr th:only-of-type {\n",
       "        vertical-align: middle;\n",
       "    }\n",
       "\n",
       "    .dataframe tbody tr th {\n",
       "        vertical-align: top;\n",
       "    }\n",
       "\n",
       "    .dataframe thead th {\n",
       "        text-align: right;\n",
       "    }\n",
       "</style>\n",
       "<table border=\"1\" class=\"dataframe\">\n",
       "  <thead>\n",
       "    <tr style=\"text-align: right;\">\n",
       "      <th></th>\n",
       "      <th>n</th>\n",
       "      <th>||x-x_gepp||</th>\n",
       "      <th>||x-x_gecp||</th>\n",
       "      <th>||b-A x_gepp||</th>\n",
       "      <th>||b - A x_gecp||</th>\n",
       "    </tr>\n",
       "  </thead>\n",
       "  <tbody>\n",
       "    <tr>\n",
       "      <th>0</th>\n",
       "      <td>5</td>\n",
       "      <td>3.723801e-16</td>\n",
       "      <td>2.220446e-16</td>\n",
       "      <td>6.329245e-16</td>\n",
       "      <td>0.000000e+00</td>\n",
       "    </tr>\n",
       "    <tr>\n",
       "      <th>1</th>\n",
       "      <td>10</td>\n",
       "      <td>2.621725e-14</td>\n",
       "      <td>3.608225e-16</td>\n",
       "      <td>4.794223e-14</td>\n",
       "      <td>6.753223e-16</td>\n",
       "    </tr>\n",
       "    <tr>\n",
       "      <th>2</th>\n",
       "      <td>15</td>\n",
       "      <td>2.328402e-13</td>\n",
       "      <td>9.730299e-16</td>\n",
       "      <td>3.498509e-13</td>\n",
       "      <td>2.175584e-15</td>\n",
       "    </tr>\n",
       "    <tr>\n",
       "      <th>3</th>\n",
       "      <td>20</td>\n",
       "      <td>3.148603e-11</td>\n",
       "      <td>8.400361e-16</td>\n",
       "      <td>5.750045e-11</td>\n",
       "      <td>5.087681e-16</td>\n",
       "    </tr>\n",
       "    <tr>\n",
       "      <th>4</th>\n",
       "      <td>25</td>\n",
       "      <td>5.447583e-10</td>\n",
       "      <td>1.735334e-15</td>\n",
       "      <td>8.676726e-10</td>\n",
       "      <td>8.968101e-16</td>\n",
       "    </tr>\n",
       "    <tr>\n",
       "      <th>5</th>\n",
       "      <td>30</td>\n",
       "      <td>4.397691e-09</td>\n",
       "      <td>2.149938e-15</td>\n",
       "      <td>6.778379e-09</td>\n",
       "      <td>3.244911e-15</td>\n",
       "    </tr>\n",
       "    <tr>\n",
       "      <th>6</th>\n",
       "      <td>35</td>\n",
       "      <td>2.595358e-07</td>\n",
       "      <td>2.950066e-15</td>\n",
       "      <td>4.374213e-07</td>\n",
       "      <td>6.179466e-15</td>\n",
       "    </tr>\n",
       "  </tbody>\n",
       "</table>\n",
       "</div>"
      ],
      "text/plain": [
       "    n  ||x-x_gepp||  ||x-x_gecp||  ||b-A x_gepp||  ||b - A x_gecp||\n",
       "0   5  3.723801e-16  2.220446e-16    6.329245e-16      0.000000e+00\n",
       "1  10  2.621725e-14  3.608225e-16    4.794223e-14      6.753223e-16\n",
       "2  15  2.328402e-13  9.730299e-16    3.498509e-13      2.175584e-15\n",
       "3  20  3.148603e-11  8.400361e-16    5.750045e-11      5.087681e-16\n",
       "4  25  5.447583e-10  1.735334e-15    8.676726e-10      8.968101e-16\n",
       "5  30  4.397691e-09  2.149938e-15    6.778379e-09      3.244911e-15\n",
       "6  35  2.595358e-07  2.950066e-15    4.374213e-07      6.179466e-15"
      ]
     },
     "execution_count": 36,
     "metadata": {},
     "output_type": "execute_result"
    }
   ],
   "source": [
    "e1 = []; e2 = []; e3 = []; e4 = []; N = [5*i for i in range(1,8)]\n",
    "for nn in N:\n",
    "    A_wc = -np.tril(np.ones((nn,nn)),-1)+np.eye(nn); A_wc[:,-1] = np.ones(nn)    \n",
    "    x = np.random.rand(nn); b = A_wc.dot(x)\n",
    "\n",
    "    x_gepp = Eliminacion_Gaussiana(A_wc, b, pivoteo='parcial')\n",
    "    x_gecp = Eliminacion_Gaussiana(A_wc, b, pivoteo='completo')\n",
    "\n",
    "    e1.append(np.linalg.norm(x-x_gepp))\n",
    "    e2.append(np.linalg.norm(x-x_gecp))\n",
    "    e3.append(np.linalg.norm(b-A_wc.dot(x_gepp)))\n",
    "    e4.append(np.linalg.norm(b-A_wc.dot(x_gecp)))\n",
    "\n",
    "dferror = {'n':N, '||x-x_gepp||':e1, '||x-x_gecp||':e2, '||b-A x_gepp||':e3, '||b - A x_gecp||':e4}\n",
    "df = pd.DataFrame(data=dferror)\n",
    "df"
   ]
  }
 ],
 "metadata": {
  "celltoolbar": "Slideshow",
  "kernelspec": {
   "display_name": "Python 3 (ipykernel)",
   "language": "python",
   "name": "python3"
  },
  "language_info": {
   "codemirror_mode": {
    "name": "ipython",
    "version": 3
   },
   "file_extension": ".py",
   "mimetype": "text/x-python",
   "name": "python",
   "nbconvert_exporter": "python",
   "pygments_lexer": "ipython3",
   "version": "3.7.9"
  },
  "varInspector": {
   "cols": {
    "lenName": 16,
    "lenType": 16,
    "lenVar": 40
   },
   "kernels_config": {
    "python": {
     "delete_cmd_postfix": "",
     "delete_cmd_prefix": "del ",
     "library": "var_list.py",
     "varRefreshCmd": "print(var_dic_list())"
    },
    "r": {
     "delete_cmd_postfix": ") ",
     "delete_cmd_prefix": "rm(",
     "library": "var_list.r",
     "varRefreshCmd": "cat(var_dic_list()) "
    }
   },
   "types_to_exclude": [
    "module",
    "function",
    "builtin_function_or_method",
    "instance",
    "_Feature"
   ],
   "window_display": false
  }
 },
 "nbformat": 4,
 "nbformat_minor": 5
}
