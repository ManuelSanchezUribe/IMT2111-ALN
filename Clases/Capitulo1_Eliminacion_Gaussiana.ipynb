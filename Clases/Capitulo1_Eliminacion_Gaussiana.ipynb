{
 "cells": [
  {
   "cell_type": "markdown",
   "id": "d167f710",
   "metadata": {
    "slideshow": {
     "slide_type": "slide"
    }
   },
   "source": [
    "<hr style=\"border:2px solid #808080\"> </hr>\n",
    "<center><h1 style=\"color:#03122E;\"> Álgebra Lineal Numérica IMT2111</h1></center>\n",
    "<center><h1 style=\"color:#173F8A;\"> Capítulo 1: Eliminacion Gaussiana</h3></center>\n",
    "<center><h1 style=\"color:#0176DE;\"> Prof. Manuel A. Sánchez</h3></center>\n",
    "<hr style=\"border:2px solid #808080\"> </hr>"
   ]
  },
  {
   "cell_type": "markdown",
   "id": "e04d86f1",
   "metadata": {
    "slideshow": {
     "slide_type": "slide"
    }
   },
   "source": [
    "## Tabla de contenidos\n",
    "1. Eliminacion Gaussiana\n",
    "2. Ejemplo Worst-case instability"
   ]
  },
  {
   "cell_type": "code",
   "execution_count": 1,
   "id": "f6638d63",
   "metadata": {
    "slideshow": {
     "slide_type": "slide"
    }
   },
   "outputs": [
    {
     "data": {
      "text/html": [
       "<style>.output {display: flex;align-items: center;text-align: center;}</style>"
      ],
      "text/plain": [
       "<IPython.core.display.HTML object>"
      ]
     },
     "metadata": {},
     "output_type": "display_data"
    }
   ],
   "source": [
    "import numpy as np\n",
    "import scipy as scp\n",
    "import matplotlib.pyplot as plt\n",
    "import pandas as pd\n",
    "from IPython.display import display, HTML\n",
    "display(HTML(\"\"\"<style>.output {display: flex;align-items: center;text-align: center;}</style>\"\"\"))"
   ]
  },
  {
   "cell_type": "code",
   "execution_count": 2,
   "id": "acf49722-f0af-4add-b0e4-71ff499b52a4",
   "metadata": {},
   "outputs": [],
   "source": [
    "# Forward and Backward substitution\n",
    "def forward_substitution(L,b):\n",
    "    '''\n",
    "    Forward substitution algorithm for system L x = b\n",
    "    input : L lower triangular matrix n x n\n",
    "            b vector n x 1\n",
    "    output: x solution of L x = b\n",
    "    '''\n",
    "    n = L.shape[0]; x = np.zeros(n)\n",
    "    x[0] = b[0]/L[0,0]\n",
    "    for i in range(1,n):\n",
    "        x[i] = (b[i] - L[i,0:i]@x[0:i])/L[i,i]\n",
    "    return x\n",
    "def backward_substitution(U,b):\n",
    "    '''\n",
    "    Backward substitution algorithm for system U x = b\n",
    "    input : U upper tringular matrix n x n\n",
    "            b vector n x 1\n",
    "    output : x solution of U x = b\n",
    "    '''\n",
    "    n = U.shape[0]; x = np.zeros(n)\n",
    "    x[n-1] = b[n-1]/U[n-1,n-1]\n",
    "    for i in range(n-2,-1,-1):\n",
    "        x[i] = (b[i] - U[i,(i+1):n]@(x[(i+1):n]))/U[i,i]\n",
    "    return x\n",
    "# generate permutation matrix\n",
    "def perm(rowpiv):\n",
    "    n = rowpiv.size+1\n",
    "    P = np.eye(n)\n",
    "    for k in range(n-1):\n",
    "        P[[k,rowpiv[k]],:] = P[[rowpiv[k], k],:]\n",
    "    return P\n",
    "def permb(b, rowpiv):\n",
    "    n = b.size\n",
    "    for k in range(n-1):\n",
    "        b[[k, rowpiv[k]]] = b[[rowpiv[k],k]] \n",
    "    return b"
   ]
  },
  {
   "cell_type": "code",
   "execution_count": 6,
   "id": "4ad20f8c",
   "metadata": {
    "slideshow": {
     "slide_type": "skip"
    }
   },
   "outputs": [],
   "source": [
    "# 1.\n",
    "def GE(Ainput, binput):\n",
    "    '''\n",
    "    Eliminacion Gaussiana sin pivoteo\n",
    "    Input : A nonsingular and square matrix n x n \n",
    "            b vector n x 1\n",
    "    Output: x solution of the system A x = b\n",
    "    '''\n",
    "    A = Ainput.copy() # se va a modificar\n",
    "    b = binput.copy() # se va a modificar\n",
    "    # 1. Factorize A = LU\n",
    "    L, U = LU(A)\n",
    "    # 2. Solve LUx = b forward substitution\n",
    "    y = forward_substitution(L, b)\n",
    "    # 3. Solve Ux = L^{-1} b backward substitution\n",
    "    x = backward_substitution(U,y)\n",
    "    return x\n",
    "def LU(Ainput):\n",
    "    '''\n",
    "    Factorizacion A = LU, sin pivoteo\n",
    "    Input : A nonsingular and square matrix n x n \n",
    "    Output: L triangular inferior, U triangular superior, square matrix n x n\n",
    "    '''\n",
    "    A = Ainput.copy() # se va a modificar\n",
    "    n = A.shape[0]\n",
    "    for i in range(n-1):\n",
    "        if A[i, i] == 0:\n",
    "            raise ValueError(\"coeficient is zero.\")\n",
    "        A[(i+1):n,i] = (A[(i+1):n,i]/A[i,i])\n",
    "        A[(i+1):n, (i+1):n][:] = A[(i+1):n, (i+1):n]-np.outer(A[(i+1):n,i],A[i, (i+1):n])\n",
    "    L = np.tril(A,-1)+np.eye(n)\n",
    "    U = np.triu(A)\n",
    "    return L, U\n",
    "\n",
    "# 2.\n",
    "def GEPP(Ainput, binput):\n",
    "    A = Ainput.copy() # se va a modificar\n",
    "    b = binput.copy() # se va a modificar\n",
    "    '''\n",
    "    Eliminacion Gaussiana con pivoteo de filas o pivoteo parcial\n",
    "    Input : A matriz cuadrada no singular de n x n \n",
    "            b vector de n x 1\n",
    "    Output: x solucion del sistema lineal  A x = b\n",
    "    '''\n",
    "    # 1. Factorize A = PLU\n",
    "    L, U, pT = LUPP(A)\n",
    "    # 2. Solve P L U x = b\n",
    "    P = perm(pT)\n",
    "    rhs  = perm(pT).dot(b)\n",
    "    # 3. Solve LUx = Pt b forward substitution\n",
    "    y = forward_substitution(L, rhs)\n",
    "    # 4. Solve Ux = L^{-1} Pt b backward substitution\n",
    "    x = backward_substitution(U,y)\n",
    "    return x\n",
    "\n",
    "def LUPP(Ainput):\n",
    "    '''\n",
    "    Factorizacion PA = LU, con pivoteo parcial\n",
    "    Input : A matriz cuadrada no singular de n x n\n",
    "    Output: L triangular inferior, matriz cuadrada de n x n\n",
    "            U trangular superior, matriz cuadrada de n x n\n",
    "            p, vector asociado a la matriz de permutacion\n",
    "    '''\n",
    "    A = Ainput.copy() # se va a modificar\n",
    "    n = A.shape[0]\n",
    "    piv = np.arange(0,n-1)\n",
    "    for i in range(n-1):\n",
    "        imax = abs(A[i:,i]).argmax() + i\n",
    "        piv[i] = imax\n",
    "        if A[imax, i] == 0:\n",
    "            raise ValueError(\"Matrix is singular.\")\n",
    "        elif imax != i:\n",
    "            A[[i,imax],:] = A[[imax, i],:][:]\n",
    "        A[(i+1):n,i][:] = (A[(i+1):n,i]/A[i,i])[:]\n",
    "        A[(i+1):n, (i+1):n][:] = A[(i+1):n, (i+1):n]-np.outer(A[(i+1):n,i],A[i, (i+1):n])\n",
    "    \n",
    "    L = np.tril(A,-1)+np.eye(n)\n",
    "    U = np.triu(A)\n",
    "    return L, U, piv\n",
    "\n",
    "# \n",
    "def GECP(Ainput, binput):\n",
    "    '''\n",
    "    Eliminacion Gaussiana con pivoteo de filas y columnas o pivoteo completo\n",
    "    Input : A matriz cuadrada no singular de n x n \n",
    "            b vector de n x 1\n",
    "    Output: x solucion del sistema lineal  A x = b\n",
    "    '''\n",
    "    A = Ainput.copy() # se va a modificar\n",
    "    b = binput.copy() # se va a modificar\n",
    "    # 1. Factorize PAQ^T = LU\n",
    "    L, U, rowpiv, colpiv = LUCP(A)\n",
    "    # 2. Solve  L U x = P b Q^T\n",
    "    rhs  = perm(rowpiv).dot(b)\n",
    "    # 3. Solve LUx = Pt b forward substitution\n",
    "    y = forward_substitution(L, rhs)\n",
    "    # 4. Solve Ux = L^{-1} Pt b backward substitution\n",
    "    x = backward_substitution(U,y)\n",
    "    return (perm(colpiv).T).dot(x)\n",
    "\n",
    "def LUCP(Ainput):\n",
    "    '''\n",
    "    Factorizacion P A Q = L U, con pivoteo completo\n",
    "    Input : A matriz cuadrada no singular de n x n\n",
    "    Output: L triangular inferior, matriz cuadrada de n x n\n",
    "            U trangular superior, matriz cuadrada de n x n\n",
    "            p, vector asociado a la matriz de permutacion por filas\n",
    "            q, vector asociado a la matriz de permutacion por columnas\n",
    "    '''\n",
    "    A = Ainput.copy() # se va a modificar\n",
    "    n = A.shape[0]\n",
    "    rowpiv = np.arange(0,n-1)\n",
    "    colpiv = np.arange(0,n-1)\n",
    "    for i in range(n-1):\n",
    "        mu, lam = np.unravel_index(np.argmax(np.abs(A[i:,i:]), axis=None), A[i:,i:].shape)\n",
    "        mu +=i; lam+=i\n",
    "        if A[mu, lam] == 0:\n",
    "            raise ValueError(\"Matrix is singular.\")\n",
    "        else:\n",
    "            rowpiv[i] = mu\n",
    "            A[[i, mu],:] = A[[mu, i],:][:]\n",
    "            colpiv[i] = lam\n",
    "            A[:,[i, lam]] = A[:,[lam, i]][:]\n",
    "        A[(i+1):n,i] *= 1.0/A[i,i]\n",
    "        A[(i+1):n, (i+1):n] -=np.outer(A[(i+1):n,i],A[i, (i+1):n])\n",
    "    L = np.tril(A,-1)+np.eye(n)\n",
    "    U = np.triu(A)\n",
    "    return L, U, rowpiv, colpiv"
   ]
  },
  {
   "cell_type": "code",
   "execution_count": 3,
   "id": "daa70f23",
   "metadata": {
    "slideshow": {
     "slide_type": "slide"
    }
   },
   "outputs": [],
   "source": [
    "def Eliminacion_Gaussiana(A,b, pivoteo=None):\n",
    "    if pivoteo is None:\n",
    "        x = GE(A,b)\n",
    "    elif pivoteo == 'parcial':\n",
    "        x = GEPP(A,b)\n",
    "    elif pivoteo == 'completo':\n",
    "        x = GECP(A,b)\n",
    "    return x\n",
    "\n",
    "def Factorizacion_LU(A, pivoteo=None):\n",
    "    if pivoteo is None:\n",
    "        L,U = LU(A)\n",
    "        return L,U\n",
    "    elif pivoteo == 'parcial':\n",
    "        L,U,piv = LUPP(A)\n",
    "        return L, U, piv\n",
    "    elif pivoteo == 'completo':\n",
    "        L, U, rowpiv, colpiv = LUCP(A)\n",
    "        return  L, U, rowpiv, colpiv"
   ]
  },
  {
   "cell_type": "markdown",
   "id": "8a4ceb4f",
   "metadata": {
    "slideshow": {
     "slide_type": "slide"
    }
   },
   "source": [
    "## Ejemplo: eliminacion Gaussiana\n",
    "\n",
    "Considere el sistema lineal\n",
    "\\begin{equation}\n",
    "Ax = b,\\qquad \n",
    "A = \\begin{bmatrix}\n",
    "1 & 3 & 4 & 1\\\\\n",
    "2 & 1 & 5 & 1 \\\\\n",
    "3 & 1 & 6 & 1 \\\\\n",
    "6 & 2 & 3 & 2\n",
    "\\end{bmatrix},\\quad\n",
    "b = \\begin{bmatrix}\n",
    "-2 \\\\ -2\\\\ -2 \\\\ 5\n",
    "\\end{bmatrix}\n",
    "\\end{equation}\n",
    "Resuelva usando Eliminacion Gaussiana, i) sin pivoteo, ii) con pivoteo parcial, iii) con pivoteo completo."
   ]
  },
  {
   "cell_type": "code",
   "execution_count": 7,
   "id": "d3e35710",
   "metadata": {
    "slideshow": {
     "slide_type": "slide"
    }
   },
   "outputs": [],
   "source": [
    "A = np.array([[1,3,4,1],[2,1,5,1],[3,1,6,1],[6,2,3,2]],dtype=np.float64)\n",
    "x = np.array([1, 0, -1,1])\n",
    "b = np.array([-2,-2,-2,5],dtype=np.float64)"
   ]
  },
  {
   "cell_type": "code",
   "execution_count": 11,
   "id": "ba421b6e",
   "metadata": {
    "slideshow": {
     "slide_type": "slide"
    }
   },
   "outputs": [
    {
     "name": "stdout",
     "output_type": "stream",
     "text": [
      "x_GE   :  [ 1.00000000e+00  2.66453526e-16 -1.00000000e+00  1.00000000e+00]\n",
      "x_GEPP :  [ 1.  0. -1.  1.]\n",
      "x_GECP :  [ 1.00000000e+00  3.74700271e-16 -1.00000000e+00  1.00000000e+00]\n",
      "x      :  [ 1.  0. -1.  1.]\n"
     ]
    }
   ],
   "source": [
    "x_GE   = Eliminacion_Gaussiana(A,b)\n",
    "x_GEPP = Eliminacion_Gaussiana(A,b, pivoteo='parcial')\n",
    "x_GECP = Eliminacion_Gaussiana(A,b, pivoteo='completo')\n",
    "print(\"x_GE   : \", x_GE)\n",
    "print(\"x_GEPP : \", x_GEPP)\n",
    "print(\"x_GECP : \", x_GECP)\n",
    "print(\"x      : \", np.linalg.solve(A,b))\n"
   ]
  },
  {
   "cell_type": "markdown",
   "id": "3f73c13f",
   "metadata": {
    "slideshow": {
     "slide_type": "slide"
    }
   },
   "source": [
    "## Ejemplo: Factorizacion LU\n",
    "\n",
    "Encuentre la factorizacion LU de la siguiente matriz usando los algoritmos de Eliminacion Gaussiana, i) sin pivoteo, ii) con pivoteo parcial, iii) con pivoteo completo. Compare las matrices:\n",
    "\\begin{equation}\n",
    "LU = A,\\qquad \n",
    "A = \\begin{bmatrix}\n",
    "1 & 3 & 4 & 1\\\\\n",
    "2 & 1 & 5 & 1 \\\\\n",
    "3 & 1 & 6 & 1 \\\\\n",
    "6 & 2 & 3 & 2\n",
    "\\end{bmatrix},\n",
    "\\end{equation}"
   ]
  },
  {
   "cell_type": "code",
   "execution_count": 9,
   "id": "eb937423",
   "metadata": {
    "slideshow": {
     "slide_type": "slide"
    }
   },
   "outputs": [],
   "source": [
    "A = np.array([[1,3,4,1],[2,1,5,1],[3,1,6,1],[6,2,3,2]],dtype=np.float64)"
   ]
  },
  {
   "cell_type": "code",
   "execution_count": 10,
   "id": "598b3fa2",
   "metadata": {
    "slideshow": {
     "slide_type": "slide"
    }
   },
   "outputs": [
    {
     "name": "stdout",
     "output_type": "stream",
     "text": [
      "L :\n",
      " [[1.  0.  0.  0. ]\n",
      " [2.  1.  0.  0. ]\n",
      " [3.  1.6 1.  0. ]\n",
      " [6.  3.2 9.5 1. ]]\n",
      "U :\n",
      " [[ 1.   3.   4.   1. ]\n",
      " [ 0.  -5.  -3.  -1. ]\n",
      " [ 0.   0.  -1.2 -0.4]\n",
      " [ 0.   0.   0.   3. ]]\n"
     ]
    }
   ],
   "source": [
    "L, U = Factorizacion_LU(A, pivoteo=None)\n",
    "print(\"L :\\n\", L)\n",
    "print(\"U :\\n\", U)"
   ]
  },
  {
   "cell_type": "code",
   "execution_count": 118,
   "id": "65864d2c-f5a4-4dca-8566-4aef5c1c5385",
   "metadata": {},
   "outputs": [
    {
     "name": "stdout",
     "output_type": "stream",
     "text": [
      "L :\n",
      " [[1.         0.         0.         0.        ]\n",
      " [0.16666667 1.         0.         0.        ]\n",
      " [0.5        0.         1.         0.        ]\n",
      " [0.33333333 0.125      0.79166667 1.        ]]\n",
      "U :\n",
      " [[6.         2.         3.         2.        ]\n",
      " [0.         2.66666667 3.5        0.66666667]\n",
      " [0.         0.         4.5        0.        ]\n",
      " [0.         0.         0.         0.25      ]]\n"
     ]
    }
   ],
   "source": [
    "L, U, p = Factorizacion_LU(A, pivoteo='parcial')\n",
    "print(\"L :\\n\", L)\n",
    "print(\"U :\\n\", U)"
   ]
  },
  {
   "cell_type": "code",
   "execution_count": 119,
   "id": "63bdd055-41f5-4517-ab9c-9455b43b6a4e",
   "metadata": {},
   "outputs": [
    {
     "name": "stdout",
     "output_type": "stream",
     "text": [
      "L :\n",
      " [[ 1.          0.          0.          0.        ]\n",
      " [ 0.5         1.          0.          0.        ]\n",
      " [ 0.66666667 -0.22222222  1.          0.        ]\n",
      " [ 0.83333333 -0.11111111  0.125       1.        ]]\n",
      "U :\n",
      " [[6.         3.         1.         1.        ]\n",
      " [0.         4.5        1.5        1.5       ]\n",
      " [0.         0.         2.66666667 0.66666667]\n",
      " [0.         0.         0.         0.25      ]]\n"
     ]
    }
   ],
   "source": [
    "L, U,p,q = Factorizacion_LU(A, pivoteo='completo')\n",
    "print(\"L :\\n\", L)\n",
    "print(\"U :\\n\", U)"
   ]
  },
  {
   "cell_type": "markdown",
   "id": "dfb7c7a6",
   "metadata": {
    "slideshow": {
     "slide_type": "slide"
    }
   },
   "source": [
    "## Ejemplo: inestabilidad sin pivoteo\n",
    "\\begin{equation}\n",
    "A = \\begin{bmatrix}\n",
    "0 & 1 \\\\\n",
    "1 & 1\n",
    "\\end{bmatrix}, \\quad \\text{Eliminacion Gaussiana falla en el primer paso con } \\kappa(A) = (3+\\sqrt{5})/2\n",
    "\\end{equation}\n",
    "\n",
    "\\begin{equation}\n",
    "\\tilde{A} = \\begin{bmatrix}\n",
    "10^{-20} & 1 \\\\\n",
    "1 & 1\n",
    "\\end{bmatrix}\n",
    "=\n",
    "\\begin{bmatrix}\n",
    "1 & 0 \\\\\n",
    "10^{20} & 1\n",
    "\\end{bmatrix}\n",
    "\\begin{bmatrix}\n",
    "10^{-20} & 1 \\\\\n",
    "0 & 1-10^{20}\n",
    "\\end{bmatrix}, \\quad \\text{Eliminacion Gaussiana ahora no falla}\n",
    "\\end{equation}"
   ]
  },
  {
   "cell_type": "code",
   "execution_count": 195,
   "id": "f8ff9ce8",
   "metadata": {
    "slideshow": {
     "slide_type": "slide"
    }
   },
   "outputs": [],
   "source": [
    "Afalla = np.array([[0,1],[1,1]], dtype=np.float64)\n",
    "Atilde = np.array([[10**(-20), 1],[1,1]], dtype=np.float64)"
   ]
  },
  {
   "cell_type": "code",
   "execution_count": 196,
   "id": "41ecc723",
   "metadata": {
    "slideshow": {
     "slide_type": "slide"
    }
   },
   "outputs": [
    {
     "ename": "ValueError",
     "evalue": "coeficient is zero.",
     "output_type": "error",
     "traceback": [
      "\u001b[1;31m---------------------------------------------------------------------------\u001b[0m",
      "\u001b[1;31mValueError\u001b[0m                                Traceback (most recent call last)",
      "\u001b[1;32m~\\AppData\\Local\\Temp\\ipykernel_30084\\3836597542.py\u001b[0m in \u001b[0;36m<module>\u001b[1;34m\u001b[0m\n\u001b[1;32m----> 1\u001b[1;33m \u001b[0mL\u001b[0m\u001b[1;33m,\u001b[0m\u001b[0mU\u001b[0m \u001b[1;33m=\u001b[0m \u001b[0mFactorizacion_LU\u001b[0m\u001b[1;33m(\u001b[0m\u001b[0mAfalla\u001b[0m\u001b[1;33m)\u001b[0m\u001b[1;33m\u001b[0m\u001b[1;33m\u001b[0m\u001b[0m\n\u001b[0m",
      "\u001b[1;32m~\\AppData\\Local\\Temp\\ipykernel_30084\\2147385944.py\u001b[0m in \u001b[0;36mFactorizacion_LU\u001b[1;34m(A, pivoteo)\u001b[0m\n\u001b[0;32m     10\u001b[0m \u001b[1;32mdef\u001b[0m \u001b[0mFactorizacion_LU\u001b[0m\u001b[1;33m(\u001b[0m\u001b[0mA\u001b[0m\u001b[1;33m,\u001b[0m \u001b[0mpivoteo\u001b[0m\u001b[1;33m=\u001b[0m\u001b[1;32mNone\u001b[0m\u001b[1;33m)\u001b[0m\u001b[1;33m:\u001b[0m\u001b[1;33m\u001b[0m\u001b[1;33m\u001b[0m\u001b[0m\n\u001b[0;32m     11\u001b[0m     \u001b[1;32mif\u001b[0m \u001b[0mpivoteo\u001b[0m \u001b[1;32mis\u001b[0m \u001b[1;32mNone\u001b[0m\u001b[1;33m:\u001b[0m\u001b[1;33m\u001b[0m\u001b[1;33m\u001b[0m\u001b[0m\n\u001b[1;32m---> 12\u001b[1;33m         \u001b[0mL\u001b[0m\u001b[1;33m,\u001b[0m\u001b[0mU\u001b[0m \u001b[1;33m=\u001b[0m \u001b[0mLU\u001b[0m\u001b[1;33m(\u001b[0m\u001b[0mA\u001b[0m\u001b[1;33m)\u001b[0m\u001b[1;33m\u001b[0m\u001b[1;33m\u001b[0m\u001b[0m\n\u001b[0m\u001b[0;32m     13\u001b[0m         \u001b[1;32mreturn\u001b[0m \u001b[0mL\u001b[0m\u001b[1;33m,\u001b[0m\u001b[0mU\u001b[0m\u001b[1;33m\u001b[0m\u001b[1;33m\u001b[0m\u001b[0m\n\u001b[0;32m     14\u001b[0m     \u001b[1;32melif\u001b[0m \u001b[0mpivoteo\u001b[0m \u001b[1;33m==\u001b[0m \u001b[1;34m'parcial'\u001b[0m\u001b[1;33m:\u001b[0m\u001b[1;33m\u001b[0m\u001b[1;33m\u001b[0m\u001b[0m\n",
      "\u001b[1;32m~\\AppData\\Local\\Temp\\ipykernel_30084\\1330052313.py\u001b[0m in \u001b[0;36mLU\u001b[1;34m(Ainput)\u001b[0m\n\u001b[0;32m    154\u001b[0m     \u001b[1;32mfor\u001b[0m \u001b[0mi\u001b[0m \u001b[1;32min\u001b[0m \u001b[0mrange\u001b[0m\u001b[1;33m(\u001b[0m\u001b[0mn\u001b[0m\u001b[1;33m-\u001b[0m\u001b[1;36m1\u001b[0m\u001b[1;33m)\u001b[0m\u001b[1;33m:\u001b[0m\u001b[1;33m\u001b[0m\u001b[1;33m\u001b[0m\u001b[0m\n\u001b[0;32m    155\u001b[0m         \u001b[1;32mif\u001b[0m \u001b[0mA\u001b[0m\u001b[1;33m[\u001b[0m\u001b[0mi\u001b[0m\u001b[1;33m,\u001b[0m \u001b[0mi\u001b[0m\u001b[1;33m]\u001b[0m \u001b[1;33m==\u001b[0m \u001b[1;36m0\u001b[0m\u001b[1;33m:\u001b[0m\u001b[1;33m\u001b[0m\u001b[1;33m\u001b[0m\u001b[0m\n\u001b[1;32m--> 156\u001b[1;33m             \u001b[1;32mraise\u001b[0m \u001b[0mValueError\u001b[0m\u001b[1;33m(\u001b[0m\u001b[1;34m\"coeficient is zero.\"\u001b[0m\u001b[1;33m)\u001b[0m\u001b[1;33m\u001b[0m\u001b[1;33m\u001b[0m\u001b[0m\n\u001b[0m\u001b[0;32m    157\u001b[0m         \u001b[0mA\u001b[0m\u001b[1;33m[\u001b[0m\u001b[1;33m(\u001b[0m\u001b[0mi\u001b[0m\u001b[1;33m+\u001b[0m\u001b[1;36m1\u001b[0m\u001b[1;33m)\u001b[0m\u001b[1;33m:\u001b[0m\u001b[0mn\u001b[0m\u001b[1;33m,\u001b[0m\u001b[0mi\u001b[0m\u001b[1;33m]\u001b[0m \u001b[1;33m=\u001b[0m \u001b[1;33m(\u001b[0m\u001b[0mA\u001b[0m\u001b[1;33m[\u001b[0m\u001b[1;33m(\u001b[0m\u001b[0mi\u001b[0m\u001b[1;33m+\u001b[0m\u001b[1;36m1\u001b[0m\u001b[1;33m)\u001b[0m\u001b[1;33m:\u001b[0m\u001b[0mn\u001b[0m\u001b[1;33m,\u001b[0m\u001b[0mi\u001b[0m\u001b[1;33m]\u001b[0m\u001b[1;33m/\u001b[0m\u001b[0mA\u001b[0m\u001b[1;33m[\u001b[0m\u001b[0mi\u001b[0m\u001b[1;33m,\u001b[0m\u001b[0mi\u001b[0m\u001b[1;33m]\u001b[0m\u001b[1;33m)\u001b[0m\u001b[1;33m\u001b[0m\u001b[1;33m\u001b[0m\u001b[0m\n\u001b[0;32m    158\u001b[0m \u001b[1;33m\u001b[0m\u001b[0m\n",
      "\u001b[1;31mValueError\u001b[0m: coeficient is zero."
     ]
    }
   ],
   "source": [
    "L,U = Factorizacion_LU(Afalla)\n"
   ]
  },
  {
   "cell_type": "code",
   "execution_count": 197,
   "id": "eb9f8665",
   "metadata": {
    "slideshow": {
     "slide_type": "slide"
    }
   },
   "outputs": [
    {
     "name": "stdout",
     "output_type": "stream",
     "text": [
      "[[1.e+00 0.e+00]\n",
      " [1.e+20 1.e+00]]\n",
      "[[ 1.e-20  1.e+00]\n",
      " [ 0.e+00 -1.e+20]]\n",
      "[[ 0.  0.]\n",
      " [ 0. -1.]]\n"
     ]
    }
   ],
   "source": [
    "L,U = Factorizacion_LU(Atilde)\n",
    "print(L)\n",
    "print(U)\n",
    "print(L@U- Atilde)"
   ]
  },
  {
   "cell_type": "code",
   "execution_count": 198,
   "id": "bf475051",
   "metadata": {
    "slideshow": {
     "slide_type": "slide"
    }
   },
   "outputs": [
    {
     "name": "stdout",
     "output_type": "stream",
     "text": [
      "solucion calculada: [0. 1.]\n",
      "la solucion exacta es x = [-1,1]!\n"
     ]
    }
   ],
   "source": [
    "b = np.array([1,0])\n",
    "xtilde = Eliminacion_Gaussiana(Atilde,b)\n",
    "print(\"solucion calculada:\", xtilde)\n",
    "print(\"la solucion exacta es x = [-1,1]!\")"
   ]
  },
  {
   "cell_type": "markdown",
   "id": "4c7c1419",
   "metadata": {
    "slideshow": {
     "slide_type": "slide"
    }
   },
   "source": [
    "**Nota** La factorizacion LU es estable, no backward stable. Pero al usar eliminacion Gaussiana sin pivoteo para resolver $Ax=b$ no lo hace estable.\n",
    "\n",
    "En general, si un paso del algoritmo es estable pero backward stable para resolver un subproblema, entonces la estabilidad del algortimo puede estar en peligro.\n",
    "\n",
    "**Nota** Complejidad:  eliminacion Gaussiana sin pivoteo es de $\\approx \\frac{2}{3} m^{3}$ flops."
   ]
  },
  {
   "cell_type": "markdown",
   "id": "13122157",
   "metadata": {
    "slideshow": {
     "slide_type": "slide"
    }
   },
   "source": [
    "## Ejemplo: worst case\n",
    "\n",
    "## Inestabilidad\n",
    "\n",
    "Para ciertas matrices $A$ a pesar de os efectos beneficiosos de pivotear, el factor de crecimiento $\\rho$ se vuelve gigante. Por ejemplo, suponga que la matriz $A$ tiene la siguiente forma:\n",
    "\n",
    "$$\n",
    "A = \\begin{bmatrix}\n",
    "1 & 0 & 0 & 0 & 1 \\\\\n",
    "-1 &1 &0 & 0& 1 \\\\\n",
    "-1& -1 &1 & 0 &1\\\\\n",
    "-1&-1 &-1 & 1 & 1 \\\\\n",
    "-1& -1 &-1 &-1 &1\n",
    "\\end{bmatrix}\n",
    "$$\n",
    "\n",
    "En este caso, la factorization da \n",
    "\n",
    "$$\n",
    "U = \\begin{bmatrix}\n",
    " 1. & 0. & 0. & 0.&  1.\\\\\n",
    " 0. & 1. & 0. & 0.&  2.\\\\\n",
    " 0. & 0. & 1. & 0.&  4.\\\\\n",
    " 0. & 0. & 0. & 1.&  8.\\\\\n",
    " 0. & 0. & 0. & 0.& 16.\n",
    " \\end{bmatrix}\n",
    "$$\n",
    "\n",
    "para esta matriz de $n\\times n$, con $n=5$, el factor de crecimiento es $\\rho = 2^{n-1} = 16$.\n",
    "\n",
    "Un factor de crecimiento de orden $2^{n}$ corresponde a una perdida del orden de $n$ bits de precision, lo cual es catastrofico para computaciones practicas. Como un computador standard representa numeros de punto flotante con solo 64 bits, con matries de dimensiones en cientos y miles en dimension perder m bits de precision es intolerable."
   ]
  },
  {
   "cell_type": "code",
   "execution_count": 102,
   "id": "8b78751d",
   "metadata": {},
   "outputs": [
    {
     "data": {
      "text/plain": [
       "array([[ 1.,  0.,  0.,  1.],\n",
       "       [-1.,  1.,  0.,  1.],\n",
       "       [-1., -1.,  1.,  1.],\n",
       "       [-1., -1., -1.,  1.]])"
      ]
     },
     "execution_count": 102,
     "metadata": {},
     "output_type": "execute_result"
    }
   ],
   "source": [
    "n = 4\n",
    "A_wc = -np.tril(np.ones((n,n)),-1)+np.eye(n)\n",
    "A_wc[:,-1] = np.ones(n)\n",
    "A_wc"
   ]
  },
  {
   "cell_type": "code",
   "execution_count": 103,
   "id": "0da9aa70",
   "metadata": {},
   "outputs": [
    {
     "data": {
      "text/plain": [
       "array([[1., 0., 0., 1.],\n",
       "       [0., 1., 0., 2.],\n",
       "       [0., 0., 1., 4.],\n",
       "       [0., 0., 0., 8.]])"
      ]
     },
     "execution_count": 103,
     "metadata": {},
     "output_type": "execute_result"
    }
   ],
   "source": [
    "L, U, pT = Factorizacion_LU(A_wc, pivoteo='parcial')\n",
    "U"
   ]
  },
  {
   "cell_type": "code",
   "execution_count": 104,
   "id": "74339c1f-eab9-408d-b2b3-6422ff2c2b8d",
   "metadata": {},
   "outputs": [
    {
     "data": {
      "text/plain": [
       "array([[ 1.,  1.,  0.,  0.],\n",
       "       [ 0.,  2.,  1.,  0.],\n",
       "       [ 0.,  0., -2.,  1.],\n",
       "       [ 0.,  0.,  0., -2.]])"
      ]
     },
     "execution_count": 104,
     "metadata": {},
     "output_type": "execute_result"
    }
   ],
   "source": [
    "L, U, pT, q = Factorizacion_LU(A_wc, pivoteo='completo')\n",
    "U"
   ]
  },
  {
   "cell_type": "markdown",
   "id": "19e2e46f",
   "metadata": {},
   "source": [
    "# Example. \n",
    "Consider the system $Ax = b$ with \n",
    "\\begin{equation}\n",
    "A = \n",
    "\\begin{pmatrix}\n",
    "6 & 3 & 4 & 1 \\\\ 2 & 1 & 5 & 1 \\\\ 1 & 1 & 6 & 1 \\\\ 0 & 2 & 3 & 2\n",
    "\\end{pmatrix}\n",
    "\\qquad\n",
    "b = \n",
    "\\begin{pmatrix}\n",
    "3\\\\2\\\\1\\\\3\n",
    "\\end{pmatrix}\n",
    "\\end{equation}\n",
    "\n",
    "The solution of the system is\n",
    "\\begin{equation}\n",
    "x= \n",
    "\\begin{pmatrix}\n",
    "-8/9\\\\0\\\\-1/9\\\\13/3\n",
    "\\end{pmatrix}\n",
    "\\end{equation}"
   ]
  },
  {
   "cell_type": "code",
   "execution_count": 105,
   "id": "3241203f",
   "metadata": {},
   "outputs": [
    {
     "name": "stdout",
     "output_type": "stream",
     "text": [
      "[2 2]\n",
      "[2 2]\n"
     ]
    },
    {
     "data": {
      "text/html": [
       "<div>\n",
       "<style scoped>\n",
       "    .dataframe tbody tr th:only-of-type {\n",
       "        vertical-align: middle;\n",
       "    }\n",
       "\n",
       "    .dataframe tbody tr th {\n",
       "        vertical-align: top;\n",
       "    }\n",
       "\n",
       "    .dataframe thead th {\n",
       "        text-align: right;\n",
       "    }\n",
       "</style>\n",
       "<table border=\"1\" class=\"dataframe\">\n",
       "  <thead>\n",
       "    <tr style=\"text-align: right;\">\n",
       "      <th></th>\n",
       "      <th>Errors:</th>\n",
       "      <th>Gaussian Ellimination</th>\n",
       "      <th>Gaussian Ellimination with PP</th>\n",
       "    </tr>\n",
       "  </thead>\n",
       "  <tbody>\n",
       "    <tr>\n",
       "      <th>0</th>\n",
       "      <td>||x-xaprox||</td>\n",
       "      <td>1.387779e-17</td>\n",
       "      <td>0.000000e+00</td>\n",
       "    </tr>\n",
       "    <tr>\n",
       "      <th>1</th>\n",
       "      <td>||b-Axaprox||</td>\n",
       "      <td>4.965068e-16</td>\n",
       "      <td>4.577567e-16</td>\n",
       "    </tr>\n",
       "  </tbody>\n",
       "</table>\n",
       "</div>"
      ],
      "text/plain": [
       "         Errors:  Gaussian Ellimination  Gaussian Ellimination with PP\n",
       "0   ||x-xaprox||           1.387779e-17                   0.000000e+00\n",
       "1  ||b-Axaprox||           4.965068e-16                   4.577567e-16"
      ]
     },
     "execution_count": 105,
     "metadata": {},
     "output_type": "execute_result"
    }
   ],
   "source": [
    "A0 = np.array([[3,2,6],\n",
    "               [2,0,5],\n",
    "               [6,2,3]\n",
    "               ],dtype=np.float64)\n",
    "b0 = np.array([1,2,3], dtype=np.float64)\n",
    "L,U,rowpiv = LUPP(A0)\n",
    "\n",
    "# print(\"LU\", L@U)\n",
    "# print(\"PA\",perm(rowpiv)@A0)\n",
    "x_np = np.linalg.solve(A0,b0)\n",
    "\n",
    "x_GEPP = GEPP(A0,b0)\n",
    "x_GE = GE(A0,b0)\n",
    "\n",
    "dferror = {'Errors:':['||x-xaprox||','||b-Axaprox||'], 'Gaussian Ellimination':[np.linalg.norm(x_np-x_GE), np.linalg.norm(b0-A0.dot(x_GE))], 'Gaussian Ellimination with PP':[np.linalg.norm(x_np-x_GEPP),  np.linalg.norm(b0-A0.dot(x_GEPP))]}\n",
    "df = pd.DataFrame(data=dferror)\n",
    "df\n",
    "# print(\"Soluciones:\\n\")\n",
    "# print(x_np )\n",
    "# print(x_GE )\n",
    "# print(x_GEPP )\n"
   ]
  },
  {
   "cell_type": "markdown",
   "id": "ee7b8ef4",
   "metadata": {},
   "source": [
    "# Example. \n",
    "Consider the system $Ax = b$ with \n",
    "\\begin{equation}\n",
    "A = \n",
    "\\begin{pmatrix}\n",
    "1 & 3 & 4 & 1 \\\\ 2 & 1 & 5 & 1 \\\\ 4 & 1 & 6 & 1 \\\\ 6 & 2 & 3 & 2\n",
    "\\end{pmatrix}\n",
    "\\qquad\n",
    "b = \n",
    "\\begin{pmatrix}\n",
    "3\\\\2\\\\1\\\\3\n",
    "\\end{pmatrix}\n",
    "\\end{equation}\n",
    "\n",
    "The solution of the system is\n",
    "\\begin{equation}\n",
    "x= \n",
    "\\begin{pmatrix}\n",
    "-8/9\\\\0\\\\-1/9\\\\13/3\n",
    "\\end{pmatrix}\n",
    "\\end{equation}"
   ]
  },
  {
   "cell_type": "code",
   "execution_count": 202,
   "id": "e425de73",
   "metadata": {},
   "outputs": [
    {
     "name": "stdout",
     "output_type": "stream",
     "text": [
      "U:\n",
      " [[6.         3.         1.         1.        ]\n",
      " [0.         4.5        1.5        1.5       ]\n",
      " [0.         0.         2.66666667 0.66666667]\n",
      " [0.         0.         0.         0.25      ]]\n",
      "[2 3 2]\n",
      "GECP [-1.11111111e-01 -8.88888889e-01 -3.33066907e-16  4.33333333e+00]\n",
      "[2 2 2]\n",
      "[3. 2. 1. 3.]\n",
      "U:\n",
      " [[6.         2.         3.         2.        ]\n",
      " [0.         2.66666667 3.5        0.66666667]\n",
      " [0.         0.         4.5        0.        ]\n",
      " [0.         0.         0.         0.25      ]]\n",
      "[3 3 2]\n",
      "[3 3 2]\n",
      "Soluciones:\n",
      "\n",
      "[-0.88888889  0.         -0.11111111  4.33333333]\n",
      "[-0.88888889 -0.         -0.11111111  4.33333333]\n",
      "[-0.88888889  0.         -0.11111111  4.33333333]\n",
      "[-8.88888889e-01 -3.33066907e-16 -1.11111111e-01  4.33333333e+00]\n"
     ]
    }
   ],
   "source": [
    "A0 = np.array([[1,3,4,1],[2,1,5,1],[3,1,6,1],[6,2,3,2]],dtype=np.float64)\n",
    "b0 = np.array([3,2,1,3], dtype=np.float64)\n",
    "# L,U,rowpiv, colpiv = LUCP(A0)\n",
    "# print(L@U)\n",
    "# print(perm(rowpiv)@A0@perm(colpiv).T)\n",
    "\n",
    "x_GECP = GECP(A0,b0)\n",
    "x_GEPP = GEPP(A0,b0)\n",
    "x_GE = GE(A0,b0)\n",
    "x_np = np.linalg.solve(A0,b0)\n",
    "\n",
    "print(\"Soluciones:\\n\")\n",
    "print(x_np )\n",
    "print(x_GE )\n",
    "print(x_GEPP )\n",
    "print(x_GECP )"
   ]
  },
  {
   "cell_type": "code",
   "execution_count": 203,
   "id": "2088cb21",
   "metadata": {},
   "outputs": [
    {
     "data": {
      "text/html": [
       "<div>\n",
       "<style scoped>\n",
       "    .dataframe tbody tr th:only-of-type {\n",
       "        vertical-align: middle;\n",
       "    }\n",
       "\n",
       "    .dataframe tbody tr th {\n",
       "        vertical-align: top;\n",
       "    }\n",
       "\n",
       "    .dataframe thead th {\n",
       "        text-align: right;\n",
       "    }\n",
       "</style>\n",
       "<table border=\"1\" class=\"dataframe\">\n",
       "  <thead>\n",
       "    <tr style=\"text-align: right;\">\n",
       "      <th></th>\n",
       "      <th>Errors:</th>\n",
       "      <th>Gaussian Ellimination</th>\n",
       "      <th>Gaussian Ellimination with PP</th>\n",
       "      <th>Gaussian Ellimination with CP</th>\n",
       "    </tr>\n",
       "  </thead>\n",
       "  <tbody>\n",
       "    <tr>\n",
       "      <th>0</th>\n",
       "      <td>||x-xaprox||</td>\n",
       "      <td>4.652682e-16</td>\n",
       "      <td>1.110223e-16</td>\n",
       "      <td>9.501979e-16</td>\n",
       "    </tr>\n",
       "    <tr>\n",
       "      <th>1</th>\n",
       "      <td>||b-Axaprox||</td>\n",
       "      <td>2.843558e-15</td>\n",
       "      <td>9.930137e-16</td>\n",
       "      <td>1.935740e-15</td>\n",
       "    </tr>\n",
       "  </tbody>\n",
       "</table>\n",
       "</div>"
      ],
      "text/plain": [
       "         Errors:  Gaussian Ellimination  Gaussian Ellimination with PP  \\\n",
       "0   ||x-xaprox||           4.652682e-16                   1.110223e-16   \n",
       "1  ||b-Axaprox||           2.843558e-15                   9.930137e-16   \n",
       "\n",
       "   Gaussian Ellimination with CP  \n",
       "0                   9.501979e-16  \n",
       "1                   1.935740e-15  "
      ]
     },
     "execution_count": 203,
     "metadata": {},
     "output_type": "execute_result"
    }
   ],
   "source": [
    "\n",
    "dferror = {'Errors:':['||x-xaprox||','||b-Axaprox||'], \n",
    "           'Gaussian Ellimination':[np.linalg.norm(x_np-x_GE), np.linalg.norm(b0-A0.dot(x_GE))], \n",
    "           'Gaussian Ellimination with PP':[np.linalg.norm(x_np-x_GEPP),  np.linalg.norm(b0-A0.dot(x_GEPP))],\n",
    "           'Gaussian Ellimination with CP':[np.linalg.norm(x_np-x_GECP),  np.linalg.norm(b0-A0.dot(x_GECP))]}\n",
    "df = pd.DataFrame(data=dferror)\n",
    "\n",
    "df"
   ]
  },
  {
   "cell_type": "code",
   "execution_count": 108,
   "id": "fc819f1d",
   "metadata": {},
   "outputs": [
    {
     "name": "stdout",
     "output_type": "stream",
     "text": [
      "[0 1 2 3]\n",
      "[0 1 2 3]\n",
      "[0 1 2 3]\n",
      "[0 4 4 4]\n",
      "[0 1 2 3 4 5 6 7 8]\n",
      "[0 1 2 3 4 5 6 7 8]\n",
      "[0 1 2 3 4 5 6 7 8]\n",
      "[0 9 9 9 9 9 9 9 9]\n",
      "[ 0  1  2  3  4  5  6  7  8  9 10 11 12 13]\n",
      "[ 0  1  2  3  4  5  6  7  8  9 10 11 12 13]\n",
      "[ 0  1  2  3  4  5  6  7  8  9 10 11 12 13]\n",
      "[ 0 14 14 14 14 14 14 14 14 14 14 14 14 14]\n",
      "[ 0  1  2  3  4  5  6  7  8  9 10 11 12 13 14 15 16 17 18]\n",
      "[ 0  1  2  3  4  5  6  7  8  9 10 11 12 13 14 15 16 17 18]\n",
      "[ 0  1  2  3  4  5  6  7  8  9 10 11 12 13 14 15 16 17 18]\n",
      "[ 0 19 19 19 19 19 19 19 19 19 19 19 19 19 19 19 19 19 19]\n",
      "[ 0  1  2  3  4  5  6  7  8  9 10 11 12 13 14 15 16 17 18 19 20 21 22 23]\n",
      "[ 0  1  2  3  4  5  6  7  8  9 10 11 12 13 14 15 16 17 18 19 20 21 22 23]\n",
      "[ 0  1  2  3  4  5  6  7  8  9 10 11 12 13 14 15 16 17 18 19 20 21 22 23]\n",
      "[ 0 24 24 24 24 24 24 24 24 24 24 24 24 24 24 24 24 24 24 24 24 24 24 24]\n",
      "[ 0  1  2  3  4  5  6  7  8  9 10 11 12 13 14 15 16 17 18 19 20 21 22 23\n",
      " 24 25 26 27 28]\n",
      "[ 0  1  2  3  4  5  6  7  8  9 10 11 12 13 14 15 16 17 18 19 20 21 22 23\n",
      " 24 25 26 27 28]\n",
      "[ 0  1  2  3  4  5  6  7  8  9 10 11 12 13 14 15 16 17 18 19 20 21 22 23\n",
      " 24 25 26 27 28]\n",
      "[ 0 29 29 29 29 29 29 29 29 29 29 29 29 29 29 29 29 29 29 29 29 29 29 29\n",
      " 29 29 29 29 29]\n",
      "[ 0  1  2  3  4  5  6  7  8  9 10 11 12 13 14 15 16 17 18 19 20 21 22 23\n",
      " 24 25 26 27 28 29 30 31 32 33]\n",
      "[ 0  1  2  3  4  5  6  7  8  9 10 11 12 13 14 15 16 17 18 19 20 21 22 23\n",
      " 24 25 26 27 28 29 30 31 32 33]\n",
      "[ 0  1  2  3  4  5  6  7  8  9 10 11 12 13 14 15 16 17 18 19 20 21 22 23\n",
      " 24 25 26 27 28 29 30 31 32 33]\n",
      "[ 0 34 34 34 34 34 34 34 34 34 34 34 34 34 34 34 34 34 34 34 34 34 34 34\n",
      " 34 34 34 34 34 34 34 34 34 34]\n"
     ]
    },
    {
     "data": {
      "text/html": [
       "<div>\n",
       "<style scoped>\n",
       "    .dataframe tbody tr th:only-of-type {\n",
       "        vertical-align: middle;\n",
       "    }\n",
       "\n",
       "    .dataframe tbody tr th {\n",
       "        vertical-align: top;\n",
       "    }\n",
       "\n",
       "    .dataframe thead th {\n",
       "        text-align: right;\n",
       "    }\n",
       "</style>\n",
       "<table border=\"1\" class=\"dataframe\">\n",
       "  <thead>\n",
       "    <tr style=\"text-align: right;\">\n",
       "      <th></th>\n",
       "      <th>n</th>\n",
       "      <th>||x-x_gepp||</th>\n",
       "      <th>||x-x_gecp||</th>\n",
       "      <th>||b-A x_gepp||</th>\n",
       "      <th>||b - A x_gecp||</th>\n",
       "    </tr>\n",
       "  </thead>\n",
       "  <tbody>\n",
       "    <tr>\n",
       "      <th>0</th>\n",
       "      <td>5</td>\n",
       "      <td>3.682193e-16</td>\n",
       "      <td>1.922963e-16</td>\n",
       "      <td>4.440892e-16</td>\n",
       "      <td>0.000000e+00</td>\n",
       "    </tr>\n",
       "    <tr>\n",
       "      <th>1</th>\n",
       "      <td>10</td>\n",
       "      <td>3.158521e-14</td>\n",
       "      <td>4.440892e-16</td>\n",
       "      <td>4.998150e-14</td>\n",
       "      <td>1.110223e-16</td>\n",
       "    </tr>\n",
       "    <tr>\n",
       "      <th>2</th>\n",
       "      <td>15</td>\n",
       "      <td>2.136576e-13</td>\n",
       "      <td>6.106227e-16</td>\n",
       "      <td>3.662814e-13</td>\n",
       "      <td>2.220446e-16</td>\n",
       "    </tr>\n",
       "    <tr>\n",
       "      <th>3</th>\n",
       "      <td>20</td>\n",
       "      <td>7.711734e-12</td>\n",
       "      <td>7.152112e-16</td>\n",
       "      <td>1.359018e-11</td>\n",
       "      <td>2.195324e-15</td>\n",
       "    </tr>\n",
       "    <tr>\n",
       "      <th>4</th>\n",
       "      <td>25</td>\n",
       "      <td>3.695089e-10</td>\n",
       "      <td>1.420695e-15</td>\n",
       "      <td>8.300233e-10</td>\n",
       "      <td>3.463113e-15</td>\n",
       "    </tr>\n",
       "    <tr>\n",
       "      <th>5</th>\n",
       "      <td>30</td>\n",
       "      <td>4.840548e-10</td>\n",
       "      <td>1.633399e-15</td>\n",
       "      <td>8.045072e-10</td>\n",
       "      <td>2.189746e-15</td>\n",
       "    </tr>\n",
       "    <tr>\n",
       "      <th>6</th>\n",
       "      <td>35</td>\n",
       "      <td>2.466247e-07</td>\n",
       "      <td>3.202373e-15</td>\n",
       "      <td>5.058859e-07</td>\n",
       "      <td>7.794525e-15</td>\n",
       "    </tr>\n",
       "  </tbody>\n",
       "</table>\n",
       "</div>"
      ],
      "text/plain": [
       "    n  ||x-x_gepp||  ||x-x_gecp||  ||b-A x_gepp||  ||b - A x_gecp||\n",
       "0   5  3.682193e-16  1.922963e-16    4.440892e-16      0.000000e+00\n",
       "1  10  3.158521e-14  4.440892e-16    4.998150e-14      1.110223e-16\n",
       "2  15  2.136576e-13  6.106227e-16    3.662814e-13      2.220446e-16\n",
       "3  20  7.711734e-12  7.152112e-16    1.359018e-11      2.195324e-15\n",
       "4  25  3.695089e-10  1.420695e-15    8.300233e-10      3.463113e-15\n",
       "5  30  4.840548e-10  1.633399e-15    8.045072e-10      2.189746e-15\n",
       "6  35  2.466247e-07  3.202373e-15    5.058859e-07      7.794525e-15"
      ]
     },
     "execution_count": 108,
     "metadata": {},
     "output_type": "execute_result"
    }
   ],
   "source": [
    "e1 = []; e2 = []; e3 = []; e4 = []\n",
    "N = [5*i for i in range(1,8)]\n",
    "for nn in N:\n",
    "    A_wc = -np.tril(np.ones((nn,nn)),-1)+np.eye(nn)\n",
    "    A_wc[:,-1] = np.ones(nn)    \n",
    "    x = np.random.rand(nn); \n",
    "    b = A_wc.dot(x)\n",
    "\n",
    "    x_gepp = Eliminacion_Gaussiana(A_wc, b, pivoteo='parcial')\n",
    "    x_gecp = Eliminacion_Gaussiana(A_wc, b, pivoteo='completo')\n",
    "\n",
    "    e1.append(np.linalg.norm(x-x_gepp))\n",
    "    e2.append(np.linalg.norm(x-x_gecp))\n",
    "    e3.append(np.linalg.norm(b-A_wc.dot(x_gepp)))\n",
    "    e4.append(np.linalg.norm(b-A_wc.dot(x_gecp)))\n",
    "\n",
    "dferror = {'n':N, '||x-x_gepp||':e1, '||x-x_gecp||':e2, '||b-A x_gepp||':e3, '||b - A x_gecp||':e4}\n",
    "df = pd.DataFrame(data=dferror)\n",
    "df"
   ]
  },
  {
   "cell_type": "code",
   "execution_count": 64,
   "id": "e4ee87d0",
   "metadata": {},
   "outputs": [
    {
     "name": "stdout",
     "output_type": "stream",
     "text": [
      "[0 1 2 3]\n",
      "[0 4 2 3]\n",
      "[0. 0. 0. 0. 0.]\n",
      "[0 1 2 3 4 5 6 7 8]\n",
      "[0 9 2 3 4 5 6 7 8]\n",
      "[0. 0. 0. 0. 0. 0. 0. 0. 0. 0.]\n"
     ]
    },
    {
     "data": {
      "text/html": [
       "<div>\n",
       "<style scoped>\n",
       "    .dataframe tbody tr th:only-of-type {\n",
       "        vertical-align: middle;\n",
       "    }\n",
       "\n",
       "    .dataframe tbody tr th {\n",
       "        vertical-align: top;\n",
       "    }\n",
       "\n",
       "    .dataframe thead th {\n",
       "        text-align: right;\n",
       "    }\n",
       "</style>\n",
       "<table border=\"1\" class=\"dataframe\">\n",
       "  <thead>\n",
       "    <tr style=\"text-align: right;\">\n",
       "      <th></th>\n",
       "      <th>n</th>\n",
       "      <th>||x-x_gecp||</th>\n",
       "      <th>||b-A*x_gecp||</th>\n",
       "    </tr>\n",
       "  </thead>\n",
       "  <tbody>\n",
       "    <tr>\n",
       "      <th>0</th>\n",
       "      <td>5</td>\n",
       "      <td>0.0</td>\n",
       "      <td>0.0</td>\n",
       "    </tr>\n",
       "    <tr>\n",
       "      <th>1</th>\n",
       "      <td>10</td>\n",
       "      <td>0.0</td>\n",
       "      <td>0.0</td>\n",
       "    </tr>\n",
       "  </tbody>\n",
       "</table>\n",
       "</div>"
      ],
      "text/plain": [
       "    n  ||x-x_gecp||  ||b-A*x_gecp||\n",
       "0   5           0.0             0.0\n",
       "1  10           0.0             0.0"
      ]
     },
     "execution_count": 64,
     "metadata": {},
     "output_type": "execute_result"
    }
   ],
   "source": [
    "e1 = []; e2 = []\n",
    "N = [5*i for i in range(1,3)]\n",
    "for nn in N:\n",
    "    A_wc = -np.tril(np.ones((nn,nn)),-1)+np.eye(nn)\n",
    "    A_wc[:,-1] = np.ones(nn)\n",
    "    xsol = np.ones(nn) # np.random.rand(nn); \n",
    "    b = A_wc.dot(xsol)\n",
    "    \n",
    "    x_gecp = Eliminacion_Gaussiana(A_wc,b, pivoteo='completo')\n",
    "    # x_gecp = gaussian_elimination(A_wc, b)\n",
    "    print(A_wc.dot(x_gecp)-b)\n",
    "    e1.append(np.linalg.norm(xsol-x_gecp))\n",
    "    e2.append(np.linalg.norm(b-A_wc.dot(x_gecp)))\n",
    "\n",
    "dferror = {'n':N, '||x-x_gecp||':e1, '||b-A*x_gecp||':e2}\n",
    "df = pd.DataFrame(data=dferror)\n",
    "df"
   ]
  },
  {
   "cell_type": "code",
   "execution_count": 1,
   "id": "7423b09b",
   "metadata": {},
   "outputs": [
    {
     "name": "stdout",
     "output_type": "stream",
     "text": [
      "Solution: [2.0, 3.0, -0.9999999999999999]\n"
     ]
    }
   ],
   "source": [
    "def gaussian_elimination_complete_pivoting(A, b):\n",
    "    \"\"\"\n",
    "    Perform Gaussian elimination with complete pivoting on the augmented matrix [A | b].\n",
    "    Returns the solution if it exists, or None if no solution exists.\n",
    "    \"\"\"\n",
    "    n = len(A)\n",
    "    \n",
    "    # Augment the matrix A with the vector b\n",
    "    M = [row + [bi] for row, bi in zip(A, b)]\n",
    "\n",
    "    # Forward elimination\n",
    "    for i in range(n):\n",
    "        # Complete pivoting: Find the pivot element\n",
    "        max_val = -1\n",
    "        pivot_row, pivot_col = None, None\n",
    "        for row in range(i, n):\n",
    "            for col in range(i, n):\n",
    "                if abs(M[row][col]) > max_val:\n",
    "                    max_val = abs(M[row][col])\n",
    "                    pivot_row, pivot_col = row, col\n",
    "        \n",
    "        if pivot_row is None or pivot_col is None:\n",
    "            return None  # No unique solution exists\n",
    "        \n",
    "        M[i], M[pivot_row] = M[pivot_row], M[i]\n",
    "        for row in range(n):\n",
    "            M[row][i], M[row][pivot_col] = M[row][pivot_col], M[row][i]\n",
    "\n",
    "        # Make the diagonal element 1\n",
    "        divisor = M[i][i]\n",
    "        if divisor == 0:\n",
    "            return None  # No unique solution exists\n",
    "        M[i] = [elem / divisor for elem in M[i]]\n",
    "\n",
    "        # Eliminate the ith variable from the lower rows\n",
    "        for j in range(i + 1, n):\n",
    "            multiplier = M[j][i]\n",
    "            M[j] = [elem_j - elem_i * multiplier for elem_i, elem_j in zip(M[i], M[j])]\n",
    "\n",
    "    # Back substitution\n",
    "    x = [0] * n\n",
    "    for i in range(n - 1, -1, -1):\n",
    "        x[i] = M[i][-1]\n",
    "        for j in range(i + 1, n):\n",
    "            x[i] -= M[i][j] * x[j]\n",
    "\n",
    "    return x\n",
    "\n",
    "# Example usage:\n",
    "A = [[2, 1, -1], [-3, -1, 2], [-2, 1, 2]]\n",
    "b = [8, -11, -3]\n",
    "solution = gaussian_elimination_complete_pivoting(A, b)\n",
    "if solution is None:\n",
    "    print(\"No unique solution exists.\")\n",
    "else:\n",
    "    print(\"Solution:\", solution)\n"
   ]
  },
  {
   "cell_type": "code",
   "execution_count": 57,
   "id": "290800b0-b355-444f-89f1-71cb37b7cf1e",
   "metadata": {},
   "outputs": [
    {
     "name": "stdout",
     "output_type": "stream",
     "text": [
      "Solution: [2.0, 3.0, -0.9999999999999999]\n"
     ]
    }
   ],
   "source": [
    "def gaussian_elimination(A, b):\n",
    "    \"\"\"\n",
    "    Perform Gaussian elimination on the augmented matrix [A | b].\n",
    "    Returns the solution if it exists, or None if no solution exists.\n",
    "    \"\"\"\n",
    "    n = len(A)\n",
    "    \n",
    "    # Augment the matrix A with the vector b\n",
    "    M = [row + [bi] for row, bi in zip(A, b)]\n",
    "\n",
    "    # Forward elimination\n",
    "    for i in range(n):\n",
    "        # Partial pivoting\n",
    "        max_row = max(range(i, n), key=lambda k: abs(M[k][i]))\n",
    "        M[i], M[max_row] = M[max_row], M[i]\n",
    "\n",
    "        # Make the diagonal element 1\n",
    "        divisor = M[i][i]\n",
    "        if divisor == 0:\n",
    "            return None  # No unique solution exists\n",
    "        M[i] = [elem / divisor for elem in M[i]]\n",
    "\n",
    "        # Eliminate the ith variable from the lower rows\n",
    "        for j in range(i + 1, n):\n",
    "            multiplier = M[j][i]\n",
    "            M[j] = [elem_j - elem_i * multiplier for elem_i, elem_j in zip(M[i], M[j])]\n",
    "\n",
    "    # Back substitution\n",
    "    x = [0] * n\n",
    "    for i in range(n - 1, -1, -1):\n",
    "        x[i] = M[i][-1]\n",
    "        for j in range(i + 1, n):\n",
    "            x[i] -= M[i][j] * x[j]\n",
    "\n",
    "    return x\n",
    "\n",
    "# Example usage:\n",
    "A = [[2, 1, -1], [-3, -1, 2], [-2, 1, 2]]\n",
    "b = [8, -11, -3]\n",
    "solution = gaussian_elimination(A, b)\n",
    "if solution is None:\n",
    "    print(\"No unique solution exists.\")\n",
    "else:\n",
    "    print(\"Solution:\", solution)\n"
   ]
  },
  {
   "cell_type": "code",
   "execution_count": 3,
   "id": "ef5a3498-be5a-4d1f-a234-6156378a9e91",
   "metadata": {},
   "outputs": [
    {
     "name": "stdout",
     "output_type": "stream",
     "text": [
      "Solution with partial pivoting: [-6.0000000000000036, 7.000000000000003, -6.000000000000004]\n"
     ]
    }
   ],
   "source": [
    "A_partial = [[2, 1, -1], [-3, -1, 2], [-2, 1, 2]]\n",
    "b_partial = [1, -1, 7]\n",
    "\n",
    "solution_partial = gaussian_elimination(A_partial, b_partial)\n",
    "print(\"Solution with partial pivoting:\", solution_partial)\n"
   ]
  },
  {
   "cell_type": "code",
   "execution_count": 57,
   "id": "9c2790d5-8af2-4c35-a1d9-629477b59276",
   "metadata": {},
   "outputs": [
    {
     "name": "stdout",
     "output_type": "stream",
     "text": [
      "Solution using Cramer's Rule: [1. 1. 1.]\n",
      "Solution using GE: [1. 1. 1.] [0.0000000e+00 4.4408921e-16 4.4408921e-16]\n",
      "Solution using np: [1. 1. 1.]\n"
     ]
    }
   ],
   "source": [
    "import numpy as np\n",
    "\n",
    "def cramer_rule(Ainput, binput):\n",
    "    A = Ainput.copy()\n",
    "    b = binput.copy()\n",
    "    \"\"\"\n",
    "    Solve the system of linear equations Ax = b using Cramer's Rule.\n",
    "    Returns the solution vector x.\n",
    "    \"\"\"\n",
    "    n = len(A)\n",
    "    det_A = np.linalg.det(A)\n",
    "    if np.isclose(det_A, 0, atol = 10**(-20)):\n",
    "        raise ValueError(\"Matrix A is singular, Cramer's Rule cannot be applied.\")\n",
    "\n",
    "    x = np.zeros(n)\n",
    "    for i in range(n):\n",
    "        Ai = A.copy()\n",
    "        Ai[:, i] = b\n",
    "        det_Ai = np.linalg.det(Ai)\n",
    "        x[i] = det_Ai / det_A\n",
    "\n",
    "    return x\n",
    "\n",
    "# Example usage:\n",
    "A = np.array([[2, 1, -1], [-3, -1, 2], [-2, 1, 2]], dtype=np.float64)\n",
    "x = np.array([1,1,1], dtype=np.float64)\n",
    "b = A.dot(x)\n",
    "# b = np.array([8, -11, -3])\n",
    "\n",
    "x_cr = cramer_rule(A, b)\n",
    "x_gepp = Eliminacion_Gaussiana(A,b, pivoteo='parcial')\n",
    "print(\"Solution using Cramer's Rule:\", x_cr)\n",
    "print(\"Solution using GE:\", x_gepp, b - A.dot(x_gepp))\n",
    "print(\"Solution using np:\", np.linalg.solve(A,b))"
   ]
  },
  {
   "cell_type": "code",
   "execution_count": 63,
   "id": "1c5d5b89-e937-40cc-8229-704e0fec2162",
   "metadata": {},
   "outputs": [
    {
     "name": "stdout",
     "output_type": "stream",
     "text": [
      "-1.5010215292930597e-13\n",
      "[7.5  3.75]\n",
      " cond(A) =  83363865151024.78\n",
      "0.00041873634397408236 8.241633834635454e-11\n"
     ]
    }
   ],
   "source": [
    "A = np.array([[0.9999999999999, 3],[0.5, 1.5]], dtype=np.float64)\n",
    "print(np.linalg.det(A))\n",
    "x = np.array([3,1.5], dtype=np.float64)\n",
    "b = A.dot(x)\n",
    "# b = np.array([10**4,-10**(-4)], dtype=np.float64)\n",
    "print(b)\n",
    "print(\" cond(A) = \", np.linalg.cond(A))\n",
    "x_gepp = Eliminacion_Gaussiana(A,b)\n",
    "x_cr = cramer_rule(A, b)\n",
    "\n",
    "\n",
    "e_cr   = np.linalg.norm(b-A.dot(x_cr  ))/(np.linalg.norm(x_cr  )*np.linalg.norm(A))\n",
    "e_cepp = np.linalg.norm(b-A.dot(x_gepp))/(np.linalg.norm(x_gepp)*np.linalg.norm(A))\n",
    "print(e_cr, e_gepp)"
   ]
  },
  {
   "cell_type": "code",
   "execution_count": null,
   "id": "587deb62-b2d9-4fed-8691-fd2aec89ba46",
   "metadata": {},
   "outputs": [],
   "source": []
  }
 ],
 "metadata": {
  "celltoolbar": "Slideshow",
  "kernelspec": {
   "display_name": "Python 3",
   "language": "python",
   "name": "python3"
  },
  "language_info": {
   "codemirror_mode": {
    "name": "ipython",
    "version": 3
   },
   "file_extension": ".py",
   "mimetype": "text/x-python",
   "name": "python",
   "nbconvert_exporter": "python",
   "pygments_lexer": "ipython3",
   "version": "3.8.5"
  },
  "varInspector": {
   "cols": {
    "lenName": 16,
    "lenType": 16,
    "lenVar": 40
   },
   "kernels_config": {
    "python": {
     "delete_cmd_postfix": "",
     "delete_cmd_prefix": "del ",
     "library": "var_list.py",
     "varRefreshCmd": "print(var_dic_list())"
    },
    "r": {
     "delete_cmd_postfix": ") ",
     "delete_cmd_prefix": "rm(",
     "library": "var_list.r",
     "varRefreshCmd": "cat(var_dic_list()) "
    }
   },
   "types_to_exclude": [
    "module",
    "function",
    "builtin_function_or_method",
    "instance",
    "_Feature"
   ],
   "window_display": false
  }
 },
 "nbformat": 4,
 "nbformat_minor": 5
}
