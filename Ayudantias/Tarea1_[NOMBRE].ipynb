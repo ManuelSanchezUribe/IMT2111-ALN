{
 "cells": [
  {
   "cell_type": "markdown",
   "metadata": {},
   "source": [
    "\n",
    "\n",
    "---\n",
    "\n",
    "\n",
    "# IMT2111 Tarea 1\n",
    "\n",
    "# Nombre: NOMBRE APELLIDO, Fecha: 13/3/2024\n",
    "\n",
    "# Pontificia Universidad Catolica de Chile\n",
    "\n",
    "\n",
    "\n",
    "---\n",
    "\n"
   ]
  },
  {
   "cell_type": "markdown",
   "metadata": {},
   "source": [
    "NOTA: El código puede ser comentado en inglés o español pero las respuestas en MD deben ser en español."
   ]
  },
  {
   "cell_type": "markdown",
   "metadata": {},
   "source": [
    "<h1>Tabla de Contenidos<span class=\"tocSkip\"></span></h1>\n",
    "<div class=\"toc\"><ul class=\"toc\"><li><span><a href=\"#Pregunta-1\" data-toc-modified-id=\"Pregunta-1-1\">Pregunta 1</a></span></li></ul></li><li><span><a href=\"#Pregunta-2\" data-toc-modified-id=\"Pregunta-2-2\">Pregunta 2</a></span>\n",
    "\n",
    "Se entiende la idea, esto no funciona así que queda como parte de la tarea, no se evalúa pero se agradece agregar siempre tabla de contenidos con href"
   ]
  },
  {
   "cell_type": "markdown",
   "metadata": {},
   "source": [
    "# "
   ]
  },
  {
   "cell_type": "code",
   "execution_count": 34,
   "metadata": {},
   "outputs": [],
   "source": [
    "# Import libraries \n",
    "import numpy as np\n",
    "import matplotlib.pyplot as plt"
   ]
  },
  {
   "cell_type": "markdown",
   "metadata": {},
   "source": [
    "## Pregunta 1"
   ]
  },
  {
   "cell_type": "code",
   "execution_count": 35,
   "metadata": {},
   "outputs": [],
   "source": [
    "def gaussian_elimination(A, b):\n",
    "    '''\n",
    "    Gaussian elimination to solve the system Ax=b\n",
    "    '''\n",
    "    ### YOUR CODE HERE\n",
    "    x = 'NotImplemented' # Store solution in x \n",
    "    return x\n",
    "\n",
    "\n",
    "# Test case\n",
    "A = np.array([[16, 2, 3, 4], [5, 6, 7, 8], [9, 10, 11, 12], [13, 14, 15, 1]])\n",
    "b = np.array([5, 13, 21, 29])\n",
    "\n",
    "#print(np.linalg.solve(A, b)) ## Only for test use\n",
    "#print(gaussian_elimination(A, b)) "
   ]
  },
  {
   "cell_type": "markdown",
   "metadata": {},
   "source": [
    "## Pregunta 2\n",
    "\n",
    "a)"
   ]
  },
  {
   "cell_type": "code",
   "execution_count": 36,
   "metadata": {},
   "outputs": [],
   "source": [
    "def finite_differences(n, f):\n",
    "    \"\"\"\n",
    "    Assembly the A finite difference matrix (n-1)x(n-1)\n",
    "    \"\"\"\n",
    "\n",
    "    ### YOUR CODE HERE\n",
    "    \n",
    "    A = 'NotImplemented'\n",
    "    b = 'NotImplemented'\n",
    "    return A, b"
   ]
  },
  {
   "cell_type": "markdown",
   "metadata": {},
   "source": [
    "b)"
   ]
  },
  {
   "cell_type": "code",
   "execution_count": 37,
   "metadata": {},
   "outputs": [],
   "source": [
    "u_True = None # Find de analytical solution (use ambda functions)\n",
    "\n",
    "f = None # f function given by the problem\n",
    "n = None # number of points in discretization\n",
    "A, b = None, None # Get FD matrix and vector\n",
    "a,b = None, None # Problem interval\n",
    "xj = None # generate discretization Google np.linspace/np.arange\n",
    "uj_fd = None # Solve system\n",
    "uj_fd = None # Assembly final vector with boundary condition\n",
    "\n",
    "fig, ax = None,None #plot result\n",
    "## Add plot of the aproximated function in the problem interval\n",
    "\n",
    "## Add a plot of the analytical function IN THE SAME INTERVAL!"
   ]
  },
  {
   "cell_type": "markdown",
   "metadata": {},
   "source": [
    "c)"
   ]
  },
  {
   "cell_type": "code",
   "execution_count": 38,
   "metadata": {},
   "outputs": [],
   "source": [
    "ll = None # l list\n",
    "errs = None # error list [1,1,1,1]\n",
    "eoc = None # eoc list (first component should be '-' or NaN) ['-',1,1,1]\n",
    "\n",
    "# Generate and store errors\n",
    "\n",
    "### YOUR CODE HERE\n",
    "\n",
    "\n",
    "# plot errors in log scale (google plt.loglog())\n"
   ]
  },
  {
   "cell_type": "markdown",
   "metadata": {},
   "source": [
    "d) Encontrar un valor límite (esto es que se demore mucho o no tengan memoria para calcularlo), justifiquen su elección de umbral. "
   ]
  },
  {
   "cell_type": "markdown",
   "metadata": {},
   "source": [
    "Pregunta 3"
   ]
  },
  {
   "cell_type": "markdown",
   "metadata": {},
   "source": [
    "a) "
   ]
  },
  {
   "cell_type": "code",
   "execution_count": 39,
   "metadata": {},
   "outputs": [],
   "source": [
    "def gauss_quad(f, a, b):\n",
    "    \"\"\"\n",
    "    Approximate integral over (a,b) of f using gaussina quadrature\n",
    "    \"\"\"\n",
    "    res = None # store integral value in res\n",
    "    ### YOUR CODE HERE\n",
    "    return res\n",
    "\n",
    "def finite_elements_Laplacian(n, f):\n",
    "    \"\"\"\n",
    "    Generate A,b matrix and vector for the finite element method \n",
    "    n: discretization points\n",
    "    f: LHF fun\n",
    "    \"\"\"\n",
    "    ### YOUR CODE HERE\n",
    "\n",
    "    A,b = None, None\n",
    "    return A, b"
   ]
  },
  {
   "cell_type": "markdown",
   "metadata": {},
   "source": [
    "b)"
   ]
  },
  {
   "cell_type": "code",
   "execution_count": 40,
   "metadata": {},
   "outputs": [],
   "source": [
    "# Use the same structre as 2)\n"
   ]
  },
  {
   "cell_type": "markdown",
   "metadata": {},
   "source": [
    "c)"
   ]
  },
  {
   "cell_type": "code",
   "execution_count": 41,
   "metadata": {},
   "outputs": [],
   "source": [
    "def error_aprox(uh, u, xj):\n",
    "    \"\"\" \n",
    "    Estimate L2 error over the discretization\n",
    "    Quad: Gauss (Can be changed if desired)\n",
    "    \"\"\"\n",
    "    error = None\n",
    "    ### YOUR CODE HERE\n",
    "    \n",
    "    return np.sqrt(error)\n",
    "\n",
    "# Use same structure as 2)"
   ]
  },
  {
   "cell_type": "markdown",
   "metadata": {},
   "source": [
    "d) Misma insctrucción que en 2)"
   ]
  },
  {
   "cell_type": "markdown",
   "metadata": {},
   "source": [
    "Pregunta 4"
   ]
  },
  {
   "cell_type": "markdown",
   "metadata": {},
   "source": [
    "a)"
   ]
  },
  {
   "cell_type": "code",
   "execution_count": 42,
   "metadata": {},
   "outputs": [],
   "source": [
    "def gauss_quad_2D(f, a, b, c, d):\n",
    "    \"\"\"\n",
    "    2D integral aproximation of f over the rectangle (a,b)x(c,d)\n",
    "    You can google all this...\n",
    "    \"\"\"\n",
    "\n",
    "    res = None \n",
    "    return res\n",
    "\n",
    "def integral_equation(n, f):\n",
    "    \"\"\"\n",
    "    Generate A,b using the Galerkin method with the constant basis\n",
    "    \"\"\"\n",
    "    ### YOUR CODE HERE\n",
    "    return A, b"
   ]
  },
  {
   "cell_type": "markdown",
   "metadata": {},
   "source": [
    "b)"
   ]
  },
  {
   "cell_type": "code",
   "execution_count": 43,
   "metadata": {},
   "outputs": [],
   "source": [
    "## Use same structure as 3)"
   ]
  },
  {
   "cell_type": "markdown",
   "metadata": {},
   "source": [
    "c)"
   ]
  },
  {
   "cell_type": "code",
   "execution_count": 44,
   "metadata": {},
   "outputs": [],
   "source": [
    "## Use same structure as 3)"
   ]
  },
  {
   "cell_type": "markdown",
   "metadata": {},
   "source": [
    "d) Espiritualmente lo mismo que 3d)\n"
   ]
  }
 ],
 "metadata": {
  "kernelspec": {
   "display_name": "Python 3 (ipykernel)",
   "language": "python",
   "name": "python3"
  },
  "language_info": {
   "codemirror_mode": {
    "name": "ipython",
    "version": 3
   },
   "file_extension": ".py",
   "mimetype": "text/x-python",
   "name": "python",
   "nbconvert_exporter": "python",
   "pygments_lexer": "ipython3",
   "version": "3.11.5"
  },
  "varInspector": {
   "cols": {
    "lenName": 16,
    "lenType": 16,
    "lenVar": 40
   },
   "kernels_config": {
    "python": {
     "delete_cmd_postfix": "",
     "delete_cmd_prefix": "del ",
     "library": "var_list.py",
     "varRefreshCmd": "print(var_dic_list())"
    },
    "r": {
     "delete_cmd_postfix": ") ",
     "delete_cmd_prefix": "rm(",
     "library": "var_list.r",
     "varRefreshCmd": "cat(var_dic_list()) "
    }
   },
   "types_to_exclude": [
    "module",
    "function",
    "builtin_function_or_method",
    "instance",
    "_Feature"
   ],
   "window_display": false
  }
 },
 "nbformat": 4,
 "nbformat_minor": 2
}
