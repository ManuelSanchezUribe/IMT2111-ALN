{
 "cells": [
  {
   "cell_type": "markdown",
   "metadata": {
    "vscode": {
     "languageId": "latex"
    }
   },
   "source": [
    "# 1. FEM con solución conocida y gráfico de la solución.\n",
    "\n",
    "Resolvemos el problema:\n",
    "\n",
    "$$\n",
    "-\\Delta u = f, \\quad \\text{en } \\Omega = (0, 1)\\times (0, 1)\\\\\n",
    "u = 0, \\quad \\text{sobre } \\partial \\Omega\n",
    "$$\n",
    "\n",
    "con una discretización de elementos finitos con funciones continuas y lineales \n",
    "a trozos. Primero, discretizamos el dominio con triángulos de la siguiente \n",
    "forma:"
   ]
  },
  {
   "cell_type": "code",
   "execution_count": 1,
   "metadata": {},
   "outputs": [
    {
     "ename": "ModuleNotFoundError",
     "evalue": "No module named 'vmesh'",
     "output_type": "error",
     "traceback": [
      "\u001b[1;31m---------------------------------------------------------------------------\u001b[0m",
      "\u001b[1;31mModuleNotFoundError\u001b[0m                       Traceback (most recent call last)",
      "Cell \u001b[1;32mIn[1], line 3\u001b[0m\n\u001b[0;32m      1\u001b[0m get_ipython()\u001b[38;5;241m.\u001b[39mrun_line_magic(\u001b[38;5;124m'\u001b[39m\u001b[38;5;124mmatplotlib\u001b[39m\u001b[38;5;124m'\u001b[39m, \u001b[38;5;124m'\u001b[39m\u001b[38;5;124minline\u001b[39m\u001b[38;5;124m'\u001b[39m)\n\u001b[0;32m      2\u001b[0m \u001b[38;5;28;01mimport\u001b[39;00m \u001b[38;5;21;01mnumpy\u001b[39;00m \u001b[38;5;28;01mas\u001b[39;00m \u001b[38;5;21;01mnp\u001b[39;00m\n\u001b[1;32m----> 3\u001b[0m \u001b[38;5;28;01mfrom\u001b[39;00m \u001b[38;5;21;01mvmesh\u001b[39;00m \u001b[38;5;28;01mimport\u001b[39;00m from_coords\n\u001b[0;32m      5\u001b[0m \u001b[38;5;124;03m\"\"\"\u001b[39;00m\n\u001b[0;32m      6\u001b[0m \u001b[38;5;124;03mAllowed element types:\u001b[39;00m\n\u001b[0;32m      7\u001b[0m \u001b[38;5;124;03m- crisscross\u001b[39;00m\n\u001b[1;32m   (...)\u001b[0m\n\u001b[0;32m     11\u001b[0m \u001b[38;5;124;03m- rectangle\u001b[39;00m\n\u001b[0;32m     12\u001b[0m \u001b[38;5;124;03m\"\"\"\u001b[39;00m\n\u001b[0;32m     14\u001b[0m coords \u001b[38;5;241m=\u001b[39m (\u001b[38;5;241m0\u001b[39m, \u001b[38;5;241m1\u001b[39m, \u001b[38;5;241m0\u001b[39m, \u001b[38;5;241m1\u001b[39m)\n",
      "\u001b[1;31mModuleNotFoundError\u001b[0m: No module named 'vmesh'"
     ]
    }
   ],
   "source": [
    "%matplotlib inline\n",
    "import numpy as np\n",
    "from vmesh import from_coords\n",
    "\n",
    "\"\"\"\n",
    "Allowed element types:\n",
    "- crisscross\n",
    "- unionjack\n",
    "- triangle_left\n",
    "- triangle_right\n",
    "- rectangle\n",
    "\"\"\"\n",
    "\n",
    "coords = (0, 1, 0, 1)\n",
    "ndx, ndy = 10, 10\n",
    "mesh = from_coords(ndx, ndy, coords, el_type=\"triangle_right\")\n",
    "fig, ax = mesh.plot_mesh(fp=500)\n",
    "fig.show()"
   ]
  },
  {
   "cell_type": "markdown",
   "metadata": {},
   "source": [
    "Continuamos instanciando el modelo y generando la solución. Utilizamos \n",
    "\n",
    "$$\n",
    "f(x, y) = 2\\pi^2\\sin(\\pi x)\\sin(\\pi y)\n",
    "$$\n",
    "\n",
    "De esta forma la solución es conocida $u(x, y) = \\sin(\\pi x)\\sin(\\pi y)$"
   ]
  },
  {
   "cell_type": "code",
   "execution_count": 2,
   "metadata": {},
   "outputs": [
    {
     "ename": "ModuleNotFoundError",
     "evalue": "No module named 'meshio'",
     "output_type": "error",
     "traceback": [
      "\u001b[1;31m---------------------------------------------------------------------------\u001b[0m",
      "\u001b[1;31mModuleNotFoundError\u001b[0m                       Traceback (most recent call last)",
      "Cell \u001b[1;32mIn[2], line 1\u001b[0m\n\u001b[1;32m----> 1\u001b[0m \u001b[38;5;28;01mfrom\u001b[39;00m \u001b[38;5;21;01mmeshio\u001b[39;00m \u001b[38;5;28;01mimport\u001b[39;00m write_points_cells\n\u001b[0;32m      3\u001b[0m \u001b[38;5;28;01mdef\u001b[39;00m \u001b[38;5;21msave_plot\u001b[39m(path, mesh, u):\n\u001b[0;32m      4\u001b[0m     el_dict \u001b[38;5;241m=\u001b[39m {}\n",
      "\u001b[1;31mModuleNotFoundError\u001b[0m: No module named 'meshio'"
     ]
    }
   ],
   "source": [
    "from meshio import write_points_cells\n",
    "\n",
    "def save_plot(path, mesh, u):\n",
    "    el_dict = {}\n",
    "    for key in mesh.IEN.keys():\n",
    "        if key == \"rectangle\":\n",
    "            el_dict[\"quad\"] = mesh.IEN[\"rectangle\"]\n",
    "        elif key in mesh.triangle_el_types:\n",
    "            if \"triangle\" in el_dict.keys():\n",
    "                nIEN = np.concatenate(\n",
    "                    (el_dict[\"triangle\"], mesh.IEN[key]), \n",
    "                    axis=0\n",
    "                )\n",
    "                el_dict[\"triangle\"] = nIEN\n",
    "            else:\n",
    "                el_dict[\"triangle\"] = mesh.IEN[key]\n",
    "    write_points_cells(f\"{path}.vtk\", mesh.xyz, el_dict, {\"disp\": u})"
   ]
  },
  {
   "cell_type": "code",
   "execution_count": null,
   "metadata": {},
   "outputs": [],
   "source": [
    "import numpy as np\n",
    "from problems import PoissonProblem\n",
    "from solvers import LinearFEMSolver\n",
    "import scipy.sparse.linalg as spsl\n",
    "\n",
    "# problem generation\n",
    "ndx, ndy = 100, 100\n",
    "coords = (0, 1, 0, 1)\n",
    "f = lambda x, y: (2*np.pi**2)*np.sin(np.pi*x)*np.sin(np.pi*y)\n",
    "problem = PoissonProblem(f=f, k=0, coords=coords)\n",
    "mesh = from_coords(ndx, ndy, coords)\n",
    "solver = LinearFEMSolver(problem, mesh)\n",
    "\n",
    "# mass and stifness matrices\n",
    "M, S, b = solver.model()\n",
    "m, n = S.shape\n",
    "x = spsl.spsolve(M-S, b)\n",
    "x = solver.extended_sol(x)\n",
    "save_plot(\"poisson_sol_exact\", mesh, x)"
   ]
  },
  {
   "cell_type": "markdown",
   "metadata": {},
   "source": [
    "# Precondicionadores\n",
    "\n",
    "Veremos cómo se comportan los métodos de Gradientes Conjugados y GMRES \n",
    "precondicionados. Recordar que para precondicionar Gradientes Conjugados, el \n",
    "precondicionador también debe ser simétrico y definido positivo. Primero, para \n",
    "el caso de CG implementamos directamente el algoritmo precondicionado."
   ]
  },
  {
   "cell_type": "code",
   "execution_count": null,
   "metadata": {},
   "outputs": [],
   "source": [
    "def PCG(A, M_inv, b, x0, j_max=1000, tol=1e-10):\n",
    "    # why not... try scipy's implementation as well!!\n",
    "    \"\"\"\n",
    "    Implementation of preconditioned conjugate gradients.\n",
    "    https://www.cse.psu.edu/~b58/cse456/lecture20.pdf\n",
    "    \"\"\"\n",
    "    # :P \n",
    "    return xj, errs"
   ]
  },
  {
   "cell_type": "code",
   "execution_count": null,
   "metadata": {},
   "outputs": [],
   "source": [
    "import scipy.sparse.linalg as spsl\n",
    "import scipy.sparse as sps\n",
    "# return matrix or function????????!?!?!?\n",
    "def Jacobi_pre(A):\n",
    "    return M_inv\n",
    "\n",
    "def null_pre(A):\n",
    "    return M_inv\n",
    "\n",
    "def SSOR(A, w):\n",
    "    return M_inv"
   ]
  },
  {
   "cell_type": "markdown",
   "metadata": {},
   "source": [
    "# Tests problema 1:"
   ]
  },
  {
   "cell_type": "code",
   "execution_count": null,
   "metadata": {},
   "outputs": [],
   "source": [
    "import numpy as np\n",
    "import scipy.sparse.linalg as spsl\n",
    "from problems import PoissonProblem\n",
    "from vmesh import from_coords\n",
    "from solvers import LinearFEMSolver\n",
    "\n",
    "# problem generation\n",
    "ndx, ndy = 100, 100\n",
    "coords = (0, 1, 0, 1)\n",
    "f = lambda x, y: (2*np.pi**2)*np.sin(np.pi*x)*np.sin(np.pi*y)\n",
    "problem = None\n",
    "mesh = None\n",
    "solver = None\n",
    "\n",
    "# mass and stifness matrices\n",
    "M, S, b = solver.model()\n",
    "m, n = S.shape\n",
    "\n",
    "A = -M+S\n",
    "b = -b\n",
    "M_inv = None\n",
    "# rellenar\n",
    "\n",
    "import matplotlib.pyplot as plt\n",
    "\n",
    "fig, ax = plt.subplots(figsize=(10, 10))\n",
    "\n",
    "ax.plot(errsJ, label=\"Jacobi\")\n",
    "ax.plot(errs, label=\"none\")\n",
    "ax.plot(errsSGS, label=\"SGS\")\n",
    "ax.plot(errsSSOR, label=\"SSOR\")\n",
    "\n",
    "ax.set_yscale(\"log\")\n",
    "ax.legend()"
   ]
  },
  {
   "cell_type": "markdown",
   "metadata": {},
   "source": [
    "Cuánto demora en alcanzar una tolerancia fija?"
   ]
  },
  {
   "cell_type": "code",
   "execution_count": null,
   "metadata": {},
   "outputs": [],
   "source": [
    "import numpy as np\n",
    "import scipy.sparse.linalg as spsl\n",
    "from problems import PoissonProblem\n",
    "from vmesh import from_coords\n",
    "from solvers import LinearFEMSolver\n",
    "from tqdm import tqdm\n",
    "\n",
    "NN = None\n",
    "tol = None\n",
    "niters_none = []\n",
    "niters_jacobi = []\n",
    "niters_sgs = []\n",
    "niters_ssor = []\n",
    "# rellenar"
   ]
  },
  {
   "cell_type": "markdown",
   "metadata": {},
   "source": [
    "# Y cómo usamos gmres?"
   ]
  },
  {
   "cell_type": "code",
   "execution_count": null,
   "metadata": {},
   "outputs": [],
   "source": [
    "from scipy.sparse.linalg import LinearOperator\n",
    "\n",
    "class gmres_counter:\n",
    "    \n",
    "    def __init__(self, disp=True):\n",
    "        self.niter = 0\n",
    "        self.callbacks = [1]\n",
    "        self._disp = disp\n",
    "        \n",
    "    \n",
    "    def __call__(self, value):\n",
    "        self.niter += 1\n",
    "        self.callbacks.append(value)\n",
    "        if self._disp:\n",
    "            print(value)\n",
    "\n",
    "class SGSPrecond(LinearOperator):\n",
    "\n",
    "    def __init__(self, A):\n",
    "        pass\n",
    "\n",
    "    def _matvec(self, x):\n",
    "        # regalito porque necesitan esto para que funcione\n",
    "        I = sps.eye(self.D.shape[0])\n",
    "        z = spsl.spsolve_triangular(I-self.E.dot(self.Dm1), x, lower=True)\n",
    "        w = spsl.spsolve_triangular(self.D - self.F, z, lower=False)\n",
    "        return w\n",
    "\n",
    "    @property\n",
    "    def shape(self):\n",
    "        return self.D.shape\n",
    "\n",
    "    @property\n",
    "    def dtype(self):\n",
    "        return self.D.dtype"
   ]
  },
  {
   "cell_type": "code",
   "execution_count": null,
   "metadata": {},
   "outputs": [],
   "source": [
    "import numpy as np\n",
    "import scipy.sparse.linalg as spsl\n",
    "from problems import PoissonProblem\n",
    "from vmesh import from_coords\n",
    "from solvers import LinearFEMSolver\n",
    "\n",
    "# problem generation\n",
    "ndx, ndy = 100, 100\n",
    "coords = (0, 1, 0, 1)\n",
    "f = lambda x, y: (2*np.pi**2)*np.sin(np.pi*x)*np.sin(np.pi*y)\n",
    "problem = None\n",
    "mesh = None\n",
    "solver = None\n",
    "\n",
    "# mass and stifness matrices\n",
    "M, S, b = None, None, None\n",
    "m, n = None\n",
    "\n",
    "A = M-S\n",
    "\n",
    "# generate counters and plots for none en preconditioned\n"
   ]
  }
 ],
 "metadata": {
  "kernelspec": {
   "display_name": "Python 3",
   "language": "python",
   "name": "python3"
  },
  "language_info": {
   "codemirror_mode": {
    "name": "ipython",
    "version": 3
   },
   "file_extension": ".py",
   "mimetype": "text/x-python",
   "name": "python",
   "nbconvert_exporter": "python",
   "pygments_lexer": "ipython3",
   "version": "3.10.11"
  }
 },
 "nbformat": 4,
 "nbformat_minor": 2
}
