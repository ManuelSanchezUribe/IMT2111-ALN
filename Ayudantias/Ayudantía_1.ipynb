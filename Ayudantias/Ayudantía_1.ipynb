{
 "cells": [
  {
   "cell_type": "markdown",
   "metadata": {},
   "source": [
    "# Ayudantía 1"
   ]
  },
  {
   "cell_type": "code",
   "execution_count": 1,
   "metadata": {},
   "outputs": [],
   "source": [
    "import numpy as np\n",
    "import scipy.linalg as LA\n",
    "import matplotlib.pyplot as plt"
   ]
  },
  {
   "cell_type": "markdown",
   "metadata": {},
   "source": [
    "## Problema 1: Cómo evitar perdida de información por cancelación.\n",
    "\n",
    "Queremos calcular las raíces del polinomio:\n",
    "\n",
    "$$p(x)=x^{2}-56x + 1$$\n",
    "\n",
    "Podemos calcular que sus raíces son:\n",
    "\n",
    "$$x_{1,2}=28 \\pm \\sqrt{783}$$\n",
    "\n",
    "Esta solución es la que se conoce como solución exacta. En particular, para calcularlas habrá que aproximar $\\sqrt{783}$ por algún valor numérico. Tomaremos la siguiente aproximación como demostración:\n",
    "\n",
    "$$\\sqrt{783}\\approx 27.982 (\\pm 0.0001)$$"
   ]
  },
  {
   "cell_type": "markdown",
   "metadata": {
    "solution2": "shown",
    "solution2_first": true
   },
   "source": [
    "### Calcule los errores relativos que se obtienen con esta aproximación"
   ]
  },
  {
   "cell_type": "code",
   "execution_count": 2,
   "metadata": {
    "solution2": "shown"
   },
   "outputs": [
    {
     "data": {
      "text/plain": [
       "(55.98213715926644, 0.017862840733556595)"
      ]
     },
     "execution_count": 2,
     "metadata": {},
     "output_type": "execute_result"
    }
   ],
   "source": [
    "raiz_1 = 28 + np.sqrt(783)\n",
    "raiz_2 = 28 - np.sqrt(783) #Asumiremos estas raíces calculadas como las más certeras\n",
    "raiz_1, raiz_2"
   ]
  },
  {
   "cell_type": "code",
   "execution_count": 3,
   "metadata": {
    "scrolled": true,
    "solution2": "shown"
   },
   "outputs": [
    {
     "name": "stdout",
     "output_type": "stream",
     "text": [
      "Error absoluto raíz 1: \n",
      "0.0001\n",
      "Error absoluto raíz 2:\n",
      "0.0001\n"
     ]
    }
   ],
   "source": [
    "x1 = 28 + 27.982\n",
    "x2 = 28 - 27.982\n",
    "\n",
    "print(\"Error absoluto raíz 1: \")\n",
    "print(f\"{abs(raiz_1-x1):.4f}\")\n",
    "\n",
    "print(\"Error absoluto raíz 2:\")\n",
    "print(f\"{abs(raiz_2-x2):.4f}\")"
   ]
  },
  {
   "cell_type": "code",
   "execution_count": 4,
   "metadata": {
    "solution2": "shown"
   },
   "outputs": [
    {
     "name": "stdout",
     "output_type": "stream",
     "text": [
      "Error relativo raíz 1: \n",
      "2.45e-06\n",
      "\n",
      "Error relativo raíz 2: \n",
      "7.68e-03\n"
     ]
    }
   ],
   "source": [
    "print(\"Error relativo raíz 1: \")\n",
    "print(f\"{abs(raiz_1-x1)/abs(raiz_1):.2e}\")\n",
    "\n",
    "print(\"\\nError relativo raíz 2: \")\n",
    "print(f\"{abs(raiz_2-x2)/abs(raiz_2):.2e}\")"
   ]
  },
  {
   "cell_type": "markdown",
   "metadata": {
    "solution2": "shown"
   },
   "source": [
    "Notamos inmediatamente que el error relativo difiere en un orden de $10^{3}$ entre ambas soluciones. Nos gustaría que esto no fuera así. Para esto revisaremos formas de cómo evitar esto."
   ]
  },
  {
   "cell_type": "markdown",
   "metadata": {
    "solution2": "shown",
    "solution2_first": true
   },
   "source": [
    "### Utilice su conocimiento sobre polinomios de grado 2 para encontrar otra fórmula para calcular $x_2$, la raíz que tiene mayor error relativo."
   ]
  },
  {
   "cell_type": "markdown",
   "metadata": {
    "solution2": "shown"
   },
   "source": [
    "Tenemos que para polinomios de grado 2 se cumple la siguiente relación:\n",
    "\n",
    "$$x_1x_2=c$$\n",
    "\n",
    "Con esto, tenemos lo siguiente:\n",
    "\n",
    "$$x_2=\\frac{c}{x_1}$$\n",
    "\n",
    "Que para el caso que estudiamos significa que:\n",
    "\n",
    "$$x_2 = \\frac{1}{x_1}$$\n",
    "\n",
    "El cálculo de $x_2$ por este método es ventajoso ya que el error relativo se acota en términos del error relativo en $x_1$. Veamos esto:"
   ]
  },
  {
   "cell_type": "code",
   "execution_count": 5,
   "metadata": {
    "solution2": "shown"
   },
   "outputs": [
    {
     "name": "stdout",
     "output_type": "stream",
     "text": [
      "Error absoluto raíz 2: \n",
      "4.38e-08\n",
      "\n",
      "Error relativo raíz 2: \n",
      "2.45e-06\n"
     ]
    }
   ],
   "source": [
    "x21 = 1/x1\n",
    "print(\"Error absoluto raíz 2: \")\n",
    "print(f\"{abs(raiz_2-x21):.2e}\")\n",
    "\n",
    "print(\"\\nError relativo raíz 2: \")\n",
    "print(f\"{abs(raiz_2-x21)/abs(raiz_2):.2e}\")"
   ]
  },
  {
   "cell_type": "markdown",
   "metadata": {
    "solution2": "shown",
    "solution2_first": true
   },
   "source": [
    "### Revise el valor de $x_2$ y encuentre una forma de representarlo sin usar restas."
   ]
  },
  {
   "cell_type": "markdown",
   "metadata": {
    "solution2": "shown"
   },
   "source": [
    "Vemos que:\n",
    "\n",
    "$$\\begin{align*}\n",
    "x_2=\n",
    "28-\\sqrt{783} \n",
    "&= \\sqrt{784}-\\sqrt{783}\\\\\n",
    "&=\\frac{\\sqrt{784}-\\sqrt{783}}{\\sqrt{784}+\\sqrt{783}}(\\sqrt{784}+\\sqrt{783})\\\\\n",
    "&=\\frac{784-783}{\\sqrt{784}+\\sqrt{783}}\\\\\n",
    "&=\\frac{1}{28+\\sqrt{783}} = \\frac{1}{x_1}\n",
    "\\end{align*}$$\n",
    "\n",
    "Es decir, obtenemos la misma formula revisada anteriormente, y ya sabemos como mejora el error relativo obtenido."
   ]
  },
  {
   "cell_type": "markdown",
   "metadata": {
    "solution2": "shown",
    "solution2_first": true
   },
   "source": [
    "### Utilice series de Taylor para aproximar la raíz problemática."
   ]
  },
  {
   "cell_type": "markdown",
   "metadata": {
    "solution2": "shown"
   },
   "source": [
    "Vemos la función $f(x)=\\sqrt{x}$ y su serie de Taylor:\n",
    "\n",
    "$$f(x+h) = f(x) + f'(x)h + \\frac{1}{2}f''(x)h^2+\\dots$$\n",
    "\n",
    "Entonces, tomando la aproximación de primer orden:\n",
    "\n",
    "$$f(x+h)-f(x) \\approx f'(x)h$$\n",
    "\n",
    "Lo cual, reemplazando con $x=783$ y $h=1$:\n",
    "\n",
    "$$28-\\sqrt{783} \\approx \\frac{1}{2\\sqrt{783}}$$\n",
    "\n",
    "Para una aproximación de segundo orden:\n",
    "\n",
    "$$f(x+h)-f(x) \\approx f'(x)h + \\frac{1}{2}f''(x)h^2$$\n",
    "\n",
    "Entonces:\n",
    "\n",
    "$$28-\\sqrt{783} \\approx \\frac{1}{2\\sqrt{783}} - \\frac{1}{4\\cdot783^{3/2}}$$\n",
    "\n",
    "Veremos como cambia el error relativo con ambas aproximaciones. Notemos que con esta última aproximación hay una resta!"
   ]
  },
  {
   "cell_type": "code",
   "execution_count": 6,
   "metadata": {
    "solution2": "shown"
   },
   "outputs": [
    {
     "name": "stdout",
     "output_type": "stream",
     "text": [
      "Error absoluto raíz 2: \n",
      "5.79e-06\n",
      "\n",
      "Error relativo raíz 2: \n",
      "3.24e-04\n"
     ]
    }
   ],
   "source": [
    "x22 = 0.5/27.982\n",
    "print(\"Error absoluto raíz 2: \")\n",
    "print(f\"{abs(raiz_2-x22):.2e}\")\n",
    "\n",
    "print(\"\\nError relativo raíz 2: \")\n",
    "print(f\"{abs(raiz_2-x22)/abs(raiz_2):.2e}\")"
   ]
  },
  {
   "cell_type": "code",
   "execution_count": 7,
   "metadata": {
    "solution2": "shown"
   },
   "outputs": [
    {
     "name": "stdout",
     "output_type": "stream",
     "text": [
      "Error absoluto raíz 2: \n",
      "5.62e-06\n",
      "\n",
      "Error relativo raíz 2: \n",
      "3.15e-04\n"
     ]
    }
   ],
   "source": [
    "x23 = (0.5/27.982) - (0.25)/(27.982**3)\n",
    "\n",
    "print(\"Error absoluto raíz 2: \")\n",
    "print(f\"{abs(raiz_2-x23):.2e}\")\n",
    "\n",
    "print(\"\\nError relativo raíz 2: \")\n",
    "print(f\"{abs(raiz_2-x23)/abs(raiz_2):.2e}\")"
   ]
  },
  {
   "cell_type": "markdown",
   "metadata": {
    "solution2": "shown",
    "solution2_first": true
   },
   "source": [
    "### Escriba una rutina que calcule las raíces de un polinomio de grado 2 con menor error relativo"
   ]
  },
  {
   "cell_type": "code",
   "execution_count": 8,
   "metadata": {
    "solution2": "shown"
   },
   "outputs": [],
   "source": [
    "def calculator(a, b, c, dec=3):\n",
    "    \"\"\"\n",
    "    input:  coeficientes a, b y c de un polinomio\n",
    "            p(x) = ax^2 + bx + c\n",
    "    output: raíces x1, x2\n",
    "    \"\"\"\n",
    "    delta = np.around(np.sqrt(b**2 - 4*a*c), decimals=dec)\n",
    "    x1 = (-b + delta)/(2*a)\n",
    "    x2 = c/x1\n",
    "    return x1, x2"
   ]
  },
  {
   "cell_type": "code",
   "execution_count": 9,
   "metadata": {
    "solution2": "shown"
   },
   "outputs": [
    {
     "name": "stdout",
     "output_type": "stream",
     "text": [
      "Error absoluto raíz 1: \n",
      "2.14e-03\n",
      "\n",
      "Error relativo raíz 1: \n",
      "3.82e-05\n",
      "\n",
      "Error absoluto raíz 2:\n",
      "6.82e-07\n",
      "\n",
      "Error relativo raíz 2: \n",
      "3.82e-05\n"
     ]
    }
   ],
   "source": [
    "x1, x2 = calculator(1, -56, 1, dec=2)\n",
    "\n",
    "print(\"Error absoluto raíz 1: \")\n",
    "print(f\"{abs(raiz_1-x1):.2e}\")\n",
    "\n",
    "print(\"\\nError relativo raíz 1: \")\n",
    "print(f\"{abs(raiz_1-x1)/abs(raiz_1):.2e}\")\n",
    "\n",
    "print(\"\\nError absoluto raíz 2:\")\n",
    "print(f\"{abs(raiz_2-x2):.2e}\")\n",
    "\n",
    "print(\"\\nError relativo raíz 2: \")\n",
    "print(f\"{abs(raiz_2-x2)/abs(raiz_2):.2e}\")"
   ]
  },
  {
   "cell_type": "markdown",
   "metadata": {},
   "source": [
    "## Problema2"
   ]
  },
  {
   "cell_type": "markdown",
   "metadata": {},
   "source": [
    "Integral equation visto en pizarra."
   ]
  },
  {
   "cell_type": "markdown",
   "metadata": {},
   "source": [
    "## Problema 4\n",
    "\n",
    "$$\\left(\\begin{array}{cccccc} \n",
    "    a_{11} & a_{12} & a_{13} &0&0&0\\\\\n",
    "     a_{21} & a_{22} & a_{23} &a_{24}&0&0\\\\\n",
    "    0&a_{32}&a_{33}&a_{34}&a_{35}&0\\\\\n",
    "    0&0&a_{43}&a_{44}&a_{45}&a_{46}\\\\\n",
    "    0&0&0&a_{54}&a_{55}&a_{56}\\\\\n",
    "    0&0&0&0&a_{65}&a_{66}\n",
    "\\end{array}\\right) \\mapsto \\left(\\begin{array}{cccccc}\n",
    "*&*&a_{13}&a_{24}&a_{35}&a_{46}\\\\\n",
    "*&a_{12}&a_{23}&a_{34}&a_{45}&a_{56}\\\\\n",
    "a_{11}&a_{22}&a_{33}&a_{44}&a_{55}&a_{66}\\\\\n",
    "a_{21}&a_{32}&a_{43}&a_{54}&a_{65}&*\\\\\n",
    "\n",
    "\\end{array}\\right)$$\n",
    "\n"
   ]
  },
  {
   "cell_type": "code",
   "execution_count": 10,
   "metadata": {},
   "outputs": [
    {
     "name": "stdout",
     "output_type": "stream",
     "text": [
      "[[ 0  0  3  7 12 16]\n",
      " [ 0  2  6 11 15 20]\n",
      " [ 1  5 10 14 19 24]\n",
      " [ 4  9 13 18 23  0]]\n",
      "[ 6. 22. 42. 58. 57. 47.]\n",
      "[ 6. 22. 42. 58. 57. 47.]\n"
     ]
    }
   ],
   "source": [
    "def BandStorage_Gaxpy(ABand,p,q,y,x):\n",
    "    \"\"\"\n",
    "    input:  ABand = matriz de almacenamiento en band form\n",
    "            p = número de subdiagonales\n",
    "            q = número de superdiagonales\n",
    "            y = vector y\n",
    "            x = vector x\n",
    "    output: y overwritten with A*x + y\n",
    "    \"\"\"\n",
    "    \n",
    "    # arreglar con estudiantes :D \n",
    "    n = len(y)\n",
    "    for j in range(1,n+1):\n",
    "        alpha1 = max(1, j - q) \n",
    "        alpha2 = min(n, j + p) \n",
    "        beta1 = max(1, q - j + 2) \n",
    "        beta2 = max(1, q - j + 2) + min(n, j + p) - max(1, j - q) \n",
    "\n",
    "        alpha1 = alpha1 -1\n",
    "        beta1 = beta1 - 1\n",
    "        alpha2 = alpha2 \n",
    "        beta2 = beta2\n",
    "        y[alpha1:alpha2] += ABand[beta1:beta2, j-1] * x[j-1]\n",
    "\n",
    "    return y\n",
    "\n",
    "y = np.zeros(6)\n",
    "x = np.ones(6)\n",
    "A = np.array([[1,2,3,0,0,0],[4,5,6,7,0,0],[0,9,10,11,12,0],[0,0,13,14,15,16],[0,0,0,18,19,20],[0,0,0,0,23,24]])\n",
    "# print(A)\n",
    "ABand = np.array([[0,0,3,7,12,16],[0,2,6,11,15,20],[1,5,10,14,19,24],[4,9,13,18,23,0]])\n",
    "print(ABand)\n",
    "print(y+np.dot(A,x))\n",
    "print(BandStorage_Gaxpy(ABand,1,2,y,x))"
   ]
  }
 ],
 "metadata": {
  "kernelspec": {
   "display_name": "Python 3 (ipykernel)",
   "language": "python",
   "name": "python3"
  },
  "language_info": {
   "codemirror_mode": {
    "name": "ipython",
    "version": 3
   },
   "file_extension": ".py",
   "mimetype": "text/x-python",
   "name": "python",
   "nbconvert_exporter": "python",
   "pygments_lexer": "ipython3",
   "version": "3.11.5"
  },
  "varInspector": {
   "cols": {
    "lenName": 16,
    "lenType": 16,
    "lenVar": 40
   },
   "kernels_config": {
    "python": {
     "delete_cmd_postfix": "",
     "delete_cmd_prefix": "del ",
     "library": "var_list.py",
     "varRefreshCmd": "print(var_dic_list())"
    },
    "r": {
     "delete_cmd_postfix": ") ",
     "delete_cmd_prefix": "rm(",
     "library": "var_list.r",
     "varRefreshCmd": "cat(var_dic_list()) "
    }
   },
   "types_to_exclude": [
    "module",
    "function",
    "builtin_function_or_method",
    "instance",
    "_Feature"
   ],
   "window_display": false
  }
 },
 "nbformat": 4,
 "nbformat_minor": 4
}
