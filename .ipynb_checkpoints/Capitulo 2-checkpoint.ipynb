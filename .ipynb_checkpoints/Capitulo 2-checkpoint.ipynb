{
 "cells": [
  {
   "cell_type": "markdown",
   "metadata": {},
   "source": [
    "<center><h1 style=\"color:#173F8A;\"> Algebra Lineal Numerica, IMT2111, 2022-1 </h1></center>\n",
    "<h3 style=\"color:#173F8A;text-align:right;\"> Instituto de Ingenieria Matematica y Computacional<br>  Pontificia Universidad Catolica de Chile <br>  </h3>\n",
    "<h3 style=\"color:#0176DE;text-align:right;\"> Profesor. Manuel A. Sanchez<br> </h3>\n",
    "<hr style=\"border:2px solid #03122E\"> </hr>\n",
    "\n",
    "<!-- Palette colors UC: celeste:#0176DE, azul #173F8A, azul oscuro: #03122E, amarillo: #FEC60D, amarillo oscuro: #E3AE00 -->\n",
    "<!--\n",
    "<figure>\n",
    "<img align =\"right\" src=\"IMClogo.png\" alt=\"logo\" width=\"250\" height=\"400\"><br><br><br><br><br>\n",
    "</figure>\n",
    " -->\n"
   ]
  },
  {
   "cell_type": "markdown",
   "metadata": {},
   "source": [
    "<h2 style=\"color:#03122E;text-align:center;\"> Capitulo 2. Sistemas lineales<br> </h2>\n",
    "<hr style=\"border:3px solid #E3AE00 \"> </hr>"
   ]
  },
  {
   "cell_type": "code",
   "execution_count": 1,
   "metadata": {},
   "outputs": [],
   "source": [
    "import numpy as np # numerical linear algebra library\n",
    "import scipy as sp # scientific computing library\n",
    "import matplotlib.pyplot as plt # visualization library\n",
    "np.set_printoptions(precision=5)"
   ]
  },
  {
   "cell_type": "markdown",
   "metadata": {},
   "source": [
    "## Roundoff errors: compute root $x^{2}-2px - q = 0$"
   ]
  },
  {
   "cell_type": "code",
   "execution_count": 5,
   "metadata": {},
   "outputs": [],
   "source": [
    "m1_rmin = lambda p,q: p - np.sqrt(p**2+q)\n",
    "m2_rmin = lambda p,q: -q/(p+np.sqrt(p**2+q))"
   ]
  },
  {
   "cell_type": "code",
   "execution_count": 6,
   "metadata": {},
   "outputs": [
    {
     "name": "stdout",
     "output_type": "stream",
     "text": [
      "method 1 r_min:  -4.0978193283081055e-08\n",
      "method 2 r_min:  -4.0500003321000205e-08\n"
     ]
    }
   ],
   "source": [
    "p = 12345678; q = 1\n",
    "print(\"method 1 r_min: \", m1_rmin(p,q))\n",
    "print(\"method 2 r_min: \", m2_rmin(p,q))"
   ]
  },
  {
   "cell_type": "markdown",
   "metadata": {},
   "source": [
    "## Eliminacion Gaussiana"
   ]
  },
  {
   "cell_type": "markdown",
   "metadata": {},
   "source": [
    "### Una ilustracion de la precision de punto flotante de numpy"
   ]
  },
  {
   "cell_type": "code",
   "execution_count": 7,
   "metadata": {},
   "outputs": [
    {
     "name": "stdout",
     "output_type": "stream",
     "text": [
      " pi numpy.float16: 3.14 \n",
      " pi numpy.float32: 3.1415927 \n",
      " pi numpy.float64: 3.141592653589793 \n",
      " numpy.pi        : 3.141592653589793\n"
     ]
    }
   ],
   "source": [
    "pi16 = np.array([np.pi], dtype=np.float16)\n",
    "pi32 = np.array([np.pi], dtype=np.float32)\n",
    "pi64 = np.array([np.pi], dtype=np.float64)\n",
    "print(' pi numpy.float16:',pi16[0],'\\n pi numpy.float32:',pi32[0],'\\n pi numpy.float64:',pi64[0],'\\n numpy.pi        :', np.pi)"
   ]
  },
  {
   "cell_type": "markdown",
   "metadata": {},
   "source": [
    "# Algoritmo de factorizacion LU sin pivoteo (usando outer product)"
   ]
  },
  {
   "cell_type": "code",
   "execution_count": 2,
   "metadata": {},
   "outputs": [],
   "source": [
    "def LU_outer(A_input, return_LU=False):\n",
    "    A = A_input.copy()\n",
    "    n = A.shape[0]\n",
    "    for k in range(0,n-1):\n",
    "        A[(k+1):n, k] = A[(k+1):n,k]/A[k,k]\n",
    "        A[(k+1):n,(k+1):n] -= np.outer(A[(k+1):n,k], A[k,(k+1):n]) \n",
    "    if return_LU:\n",
    "        L = np.tril(LU,-1)+np.eye(n)\n",
    "        U = np.triu(LU)\n",
    "        return L, U\n",
    "    else:\n",
    "        return A"
   ]
  },
  {
   "cell_type": "markdown",
   "metadata": {},
   "source": [
    "# Algortimos de sustitucion progresiva y regresiva"
   ]
  },
  {
   "cell_type": "code",
   "execution_count": 16,
   "metadata": {},
   "outputs": [],
   "source": [
    "def sus_prog(L_input,b_input):\n",
    "    L = L_input.copy()\n",
    "    b = b_input.copy()\n",
    "    n = L.shape[0]\n",
    "    b[0] = b[0]/L[0,0]\n",
    "    for i in range(1,n):\n",
    "        b[i] = (b[i] - L[i,0:(i)].dot(b[0:(i)]))/L[i,i]\n",
    "    return b\n",
    "\n",
    "def sus_reg(U_input,b_input):\n",
    "    U = U_input.copy()\n",
    "    b = b_input.copy()\n",
    "    n = U.shape[0]\n",
    "    b[n-1] = b[n-1]/U[n-1,n-1]\n",
    "    for i in range(n-2,-1,-1):\n",
    "        b[i] = (b[i] - U[i,(i+1):n].dot(b[(i+1):n]))/U[i,i]\n",
    "    return b"
   ]
  },
  {
   "cell_type": "markdown",
   "metadata": {},
   "source": [
    "# algortimo de factorizacion PA = LU con pivoteo parcial"
   ]
  },
  {
   "cell_type": "code",
   "execution_count": 85,
   "metadata": {},
   "outputs": [],
   "source": [
    "def PLU_outer(A_input, return_LU=False):\n",
    "    A = A_input.copy()\n",
    "    n = A.shape[0]\n",
    "    piv = []\n",
    "    for k in range(0,n-1):\n",
    "        mu = np.argmax(A[k:n,k])+k\n",
    "        piv.append(mu)\n",
    "        # swap rows\n",
    "        #print(A)\n",
    "        #print(mu)\n",
    "        A[[k,mu]] = A[[mu,k]]\n",
    "        #print(A)\n",
    "        \n",
    "        if A[k,k] == 0:\n",
    "            break\n",
    "        else:\n",
    "            #print(A[(k+1):n,k]/A[k,k])\n",
    "            A[(k+1):n, k] = A[(k+1):n,k]/A[k,k]\n",
    "            #print(A)\n",
    "            \n",
    "            A[(k+1):n,(k+1):n] -= np.outer(A[(k+1):n,k], A[k,(k+1):n]) \n",
    "    if return_LU:\n",
    "        L = np.tril(A,-1)+np.eye(n)\n",
    "        U = np.triu(A)\n",
    "        P = np.eye(L.shape[0])\n",
    "        for i,k in enumerate(piv):\n",
    "            P[[i,k]] = P[[k,i]]\n",
    "        return L, U, P\n",
    "    else:\n",
    "        return A, piv"
   ]
  },
  {
   "cell_type": "code",
   "execution_count": 86,
   "metadata": {},
   "outputs": [],
   "source": [
    "def solve_LU(L,U, b):\n",
    "    y = sus_prog(L,b)\n",
    "    x = sus_reg(U,y)\n",
    "    return x"
   ]
  },
  {
   "cell_type": "markdown",
   "metadata": {},
   "source": [
    "## Ejemplo: Resolver los sistemas triangulares $Lx = b$ y $Ux = b$\n",
    "\\begin{equation}\n",
    "L = \n",
    "\\begin{pmatrix}\n",
    "1 & 0 & 0\\\\\n",
    "2 & 3 & 0\\\\\n",
    "4 & 5 & 6 \n",
    "\\end{pmatrix}\n",
    "\\qquad \n",
    "U = \n",
    "\\begin{pmatrix}\n",
    "6 & 5 & 4\\\\\n",
    "0 & 3 & 2\\\\\n",
    "0 & 0 & 1 \n",
    "\\end{pmatrix}\n",
    "\\qquad\n",
    "b =\n",
    "\\begin{pmatrix}\n",
    "1 \\\\\n",
    "-1 \\\\\n",
    "1\n",
    "\\end{pmatrix}\n",
    "\\end{equation}"
   ]
  },
  {
   "cell_type": "code",
   "execution_count": 87,
   "metadata": {},
   "outputs": [
    {
     "name": "stdout",
     "output_type": "stream",
     "text": [
      "Lx = b, x: [ 1.      -1.       0.33333]\n",
      "Ux = b, x: [ 0.33333 -1.       1.     ]\n"
     ]
    }
   ],
   "source": [
    "L = np.array([[1,0,0],[2,3,0],[4,5,6]], dtype=np.float64)\n",
    "U = np.array([[6,5,4],[0,3,2],[0,0,1]], dtype=np.float64)\n",
    "b = np.array([1,-1,1], dtype=np.float64)\n",
    "\n",
    "xL = sus_prog(L,b)\n",
    "xU = sus_reg(U,b)\n",
    "print(\"Lx = b, x:\", xL)\n",
    "print(\"Ux = b, x:\", xU)"
   ]
  },
  {
   "cell_type": "markdown",
   "metadata": {},
   "source": [
    "## Ejemplo: Resolver $Ax = b$\n",
    "\\begin{equation}\n",
    "A = \n",
    "\\begin{pmatrix}\n",
    "0.0001 & 1.00 \\\\\n",
    "1.00  & 2.00 \n",
    "\\end{pmatrix}\n",
    "\\qquad \n",
    "b =\n",
    "\\begin{pmatrix}\n",
    "1.00 \\\\\n",
    "3.00\n",
    "\\end{pmatrix}\n",
    "\\end{equation}"
   ]
  },
  {
   "cell_type": "code",
   "execution_count": 88,
   "metadata": {},
   "outputs": [],
   "source": [
    "A = np.array([[0.0001, 1.00],[1.00, 2.00]], dtype=np.float16)"
   ]
  },
  {
   "cell_type": "markdown",
   "metadata": {},
   "source": [
    "### LU sin pivoteo"
   ]
  },
  {
   "cell_type": "code",
   "execution_count": 89,
   "metadata": {},
   "outputs": [
    {
     "name": "stdout",
     "output_type": "stream",
     "text": [
      "(2, 2)\n",
      "L:\n",
      " [[1.e+00 0.e+00]\n",
      " [1.e+04 1.e+00]]\n",
      "U:\n",
      " [[ 1.e-04  1.e+00]\n",
      " [ 0.e+00 -1.e+04]]\n",
      "A - LU:\n",
      " [[ 0.00000e+00  0.00000e+00]\n",
      " [-1.65939e-04  2.00000e+00]]\n"
     ]
    }
   ],
   "source": [
    "LU = LU_outer(A)\n",
    "print(LU.shape)\n",
    "L = np.tril(LU,-1)+np.eye(2)\n",
    "U = np.triu(LU)\n",
    "print(\"L:\\n\", L)\n",
    "print(\"U:\\n\", U)\n",
    "print(\"A - LU:\\n\", A-L@U)"
   ]
  },
  {
   "cell_type": "code",
   "execution_count": 90,
   "metadata": {},
   "outputs": [
    {
     "name": "stdout",
     "output_type": "stream",
     "text": [
      "L:\n",
      " [[1.00000e+00 0.00000e+00]\n",
      " [1.00017e-04 1.00000e+00]]\n",
      "U:\n",
      " [[1. 2.]\n",
      " [0. 1.]]\n",
      "P:\n",
      " [[0. 1.]\n",
      " [1. 0.]]\n",
      "PA - LU:\n",
      " [[ 0.      0.    ]\n",
      " [ 0.     -0.0002]]\n"
     ]
    }
   ],
   "source": [
    "LU,p = PLU_outer(A, return_LU=False)\n",
    "L = np.tril(LU,-1)+np.eye(2)\n",
    "U = np.triu(LU)\n",
    "P = np.eye(L.shape[0])\n",
    "for i,k in enumerate(p):\n",
    "    P[[i,k]] = P[[k,i]]\n",
    "print(\"L:\\n\", L)\n",
    "print(\"U:\\n\", U)\n",
    "print(\"P:\\n\", P)\n",
    "print(\"PA - LU:\\n\", P@A-L@U)"
   ]
  },
  {
   "cell_type": "markdown",
   "metadata": {},
   "source": [
    "# Ejemplo\n",
    "\\begin{equation}\n",
    "A =\n",
    "\\begin{pmatrix}\n",
    "0.986 & 0.579 \\\\\n",
    "0.409 & 0.237\n",
    "\\end{pmatrix}\n",
    "\\qquad\n",
    "b=\n",
    "\\begin{pmatrix}\n",
    "0.235\\\\\n",
    "0.107\n",
    "\\end{pmatrix}\n",
    "\\end{equation}"
   ]
  },
  {
   "cell_type": "code",
   "execution_count": 91,
   "metadata": {},
   "outputs": [],
   "source": [
    "A = np.array([[0.986, 0.579],[0.409,0.237]], dtype=np.float16)\n",
    "b = np.array([0.235, 0.107], dtype=np.float16)"
   ]
  },
  {
   "cell_type": "code",
   "execution_count": 92,
   "metadata": {},
   "outputs": [
    {
     "name": "stdout",
     "output_type": "stream",
     "text": [
      "[ 2.002 -3.   ]\n"
     ]
    }
   ],
   "source": [
    "LU1 = LU_outer(A, return_LU=False)\n",
    "L1 = np.tril(LU1,-1)+np.eye(2)\n",
    "U1 = np.triu(LU1)\n",
    "x = solve_LU(L1, U1, b)\n",
    "print(x)\n"
   ]
  },
  {
   "cell_type": "code",
   "execution_count": 93,
   "metadata": {},
   "outputs": [
    {
     "name": "stdout",
     "output_type": "stream",
     "text": [
      "[ 2.00107 -3.00076]\n"
     ]
    }
   ],
   "source": [
    "LU2, p = PLU_outer(A, return_LU=False)\n",
    "L2 = np.tril(LU2,-1)+np.eye(2)\n",
    "U2 = np.triu(LU2)\n",
    "P = np.eye(L.shape[0])\n",
    "for i,k in enumerate(p):\n",
    "    P[[i,k]] = P[[k,i]]\n",
    "x = solve_LU(L2, U2, P.T.dot(b))\n",
    "print(x)"
   ]
  },
  {
   "cell_type": "code",
   "execution_count": 94,
   "metadata": {},
   "outputs": [
    {
     "name": "stdout",
     "output_type": "stream",
     "text": [
      "[[ 2.      -1.       0.       0.     ]\n",
      " [-0.5      1.5     -1.       0.     ]\n",
      " [ 0.      -0.66667  1.33333 -1.     ]\n",
      " [ 0.       0.      -0.75     1.25   ]]\n",
      "L2:\n",
      " [[ 1.       0.       0.       0.     ]\n",
      " [-0.5      1.       0.       0.     ]\n",
      " [ 0.      -0.66667  1.       0.     ]\n",
      " [ 0.       0.      -0.75     1.     ]]\n",
      "[[ 2.      -1.       0.       0.     ]\n",
      " [ 0.       1.5     -1.       0.     ]\n",
      " [ 0.       0.       1.33333 -1.     ]\n",
      " [ 0.       0.       0.       1.25   ]]\n",
      "[[ 2. -1.  0.  0.]\n",
      " [-1.  2. -1.  0.]\n",
      " [ 0. -1.  2. -1.]\n",
      " [ 0.  0. -1.  2.]]\n",
      "[[1. 0. 0. 0.]\n",
      " [0. 1. 0. 0.]\n",
      " [0. 0. 1. 0.]\n",
      " [0. 0. 0. 1.]]\n",
      "[[ 2. -1.  0.  0.]\n",
      " [-1.  2. -1.  0.]\n",
      " [ 0. -1.  2. -1.]\n",
      " [ 0.  0. -1.  2.]]\n",
      "[2. 3. 3. 2.] [2. 3. 3. 2.]\n"
     ]
    }
   ],
   "source": [
    "S = np.array([[2, -1,0,0],[-1,2,-1,0],[0,-1,2,-1],[0,0,-1,2]], dtype=np.float64)\n",
    "LU2, p = PLU_outer(S, return_LU=False)\n",
    "print(LU2)\n",
    "L2 = np.tril(LU2,-1)+np.eye(4)\n",
    "U2 = np.triu(LU2)\n",
    "P = np.eye(L2.shape[0])\n",
    "for i,k in enumerate(p):\n",
    "    P[[i,k]] = P[[k,i]]\n",
    "print(\"L2:\\n\", L2)\n",
    "print(U2)\n",
    "print(L2@U2)\n",
    "print(P)\n",
    "print(S)\n",
    "b = np.array([1,1,1,1])\n",
    "xsol = np.linalg.solve(S,b)\n",
    "y = sus_prog(L2, P.T.dot(b))\n",
    "x = sus_reg(U2,y)\n",
    "print(xsol, x)"
   ]
  },
  {
   "cell_type": "code",
   "execution_count": 95,
   "metadata": {},
   "outputs": [
    {
     "name": "stdout",
     "output_type": "stream",
     "text": [
      "[[1. 0. 0. 0.]\n",
      " [0. 1. 0. 0.]\n",
      " [0. 0. 1. 0.]\n",
      " [0. 0. 0. 1.]]\n",
      "[[ 1.       0.       0.       0.     ]\n",
      " [-0.5      1.       0.       0.     ]\n",
      " [ 0.      -0.66667  1.       0.     ]\n",
      " [ 0.       0.      -0.75     1.     ]]\n",
      "[[ 2.      -1.       0.       0.     ]\n",
      " [ 0.       1.5     -1.       0.     ]\n",
      " [ 0.       0.       1.33333 -1.     ]\n",
      " [ 0.       0.       0.       1.25   ]]\n"
     ]
    }
   ],
   "source": [
    "from scipy.linalg import lu\n",
    "np.set_printoptions(precision=5)\n",
    "L,U,p = lu(S)\n",
    "print(L)\n",
    "print(U)\n",
    "print(p)"
   ]
  },
  {
   "cell_type": "code",
   "execution_count": null,
   "metadata": {},
   "outputs": [],
   "source": []
  }
 ],
 "metadata": {
  "hide_input": false,
  "kernelspec": {
   "display_name": "Python 3 (ipykernel)",
   "language": "python",
   "name": "python3"
  },
  "language_info": {
   "codemirror_mode": {
    "name": "ipython",
    "version": 3
   },
   "file_extension": ".py",
   "mimetype": "text/x-python",
   "name": "python",
   "nbconvert_exporter": "python",
   "pygments_lexer": "ipython3",
   "version": "3.7.9"
  },
  "varInspector": {
   "cols": {
    "lenName": 16,
    "lenType": 16,
    "lenVar": 40
   },
   "kernels_config": {
    "python": {
     "delete_cmd_postfix": "",
     "delete_cmd_prefix": "del ",
     "library": "var_list.py",
     "varRefreshCmd": "print(var_dic_list())"
    },
    "r": {
     "delete_cmd_postfix": ") ",
     "delete_cmd_prefix": "rm(",
     "library": "var_list.r",
     "varRefreshCmd": "cat(var_dic_list()) "
    }
   },
   "types_to_exclude": [
    "module",
    "function",
    "builtin_function_or_method",
    "instance",
    "_Feature"
   ],
   "window_display": false
  }
 },
 "nbformat": 4,
 "nbformat_minor": 4
}
